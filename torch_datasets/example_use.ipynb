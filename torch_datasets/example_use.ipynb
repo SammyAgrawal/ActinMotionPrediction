{
 "cells": [
  {
   "cell_type": "code",
   "execution_count": 1,
   "metadata": {},
   "outputs": [],
   "source": [
    "# activate cvenv as kernel"
   ]
  },
  {
   "cell_type": "code",
   "execution_count": 2,
   "metadata": {},
   "outputs": [],
   "source": [
    "# if you are outside of the package you would run: \"import ProjectDatasets.CZIDataset\"\n",
    "import czi\n",
    "import matplotlib.pyplot as plt\n",
    "import skimage\n",
    "import numpy as np"
   ]
  },
  {
   "cell_type": "code",
   "execution_count": 3,
   "metadata": {},
   "outputs": [
    {
     "data": {
      "text/plain": [
       "'0.22.0'"
      ]
     },
     "execution_count": 3,
     "metadata": {},
     "output_type": "execute_result"
    }
   ],
   "source": [
    "skimage.__version__"
   ]
  },
  {
   "cell_type": "code",
   "execution_count": 4,
   "metadata": {},
   "outputs": [],
   "source": [
    "folder = \"/mnt/datadisk/FactinProcessed\""
   ]
  },
  {
   "cell_type": "code",
   "execution_count": 5,
   "metadata": {},
   "outputs": [
    {
     "name": "stdout",
     "output_type": "stream",
     "text": [
      "(2, 2048, 475)\n"
     ]
    }
   ],
   "source": [
    "dataset = czi.CZIDataset(folder=folder,twod_vid_channel=0)\n",
    "MIP_video, shape, dims = dataset[2]\n",
    "print(MIP_video.shape)"
   ]
  },
  {
   "cell_type": "code",
   "execution_count": 6,
   "metadata": {},
   "outputs": [],
   "source": [
    "def display_video(video, cmap = 'gray', cell_idx=None, num_frames_to_display=3, num_cols=3):\n",
    "    \n",
    "    # Calculate number of rows needed\n",
    "    num_rows = (num_frames_to_display + num_cols - 1) // num_cols  \n",
    "    # Create subplots\n",
    "    fig, axes = plt.subplots(num_rows, num_cols, figsize=(15, 15))\n",
    "    axes = axes.flatten()\n",
    "\n",
    "    # Loop through the first few frames\n",
    "    for i in range(min(num_frames_to_display, len(video))):\n",
    "        ax = axes[i]\n",
    "        if (cell_idx != None and type(cell_idx) == int):\n",
    "            ax.imshow(video[i][cell_idx], cmap=cmap)  # Use cmap='gray' for grayscale images\n",
    "            ax.set_title(f'Frame {i}')\n",
    "            ax.axis('off')  # Hide axes\n",
    "        else: \n",
    "            ax.imshow(video[i], cmap=cmap)  # Use cmap='gray' for grayscale images\n",
    "            ax.set_title(f'Frame {i}')\n",
    "            ax.axis('off')  # Hide axes\n",
    "\n",
    "    # Turn off unused subplots\n",
    "    for j in range(i + 1, len(axes)):\n",
    "        axes[j].axis('off')\n",
    "\n",
    "    plt.tight_layout()\n",
    "    plt.show()"
   ]
  },
  {
   "cell_type": "code",
   "execution_count": 8,
   "metadata": {},
   "outputs": [
    {
     "ename": "ValueError",
     "evalue": "autodetected range of [nan, nan] is not finite",
     "output_type": "error",
     "traceback": [
      "\u001b[0;31m---------------------------------------------------------------------------\u001b[0m",
      "\u001b[0;31mRemoteTraceback\u001b[0m                           Traceback (most recent call last)",
      "\u001b[0;31mRemoteTraceback\u001b[0m: \n\"\"\"\nTraceback (most recent call last):\n  File \"/opt/conda/envs/cvenv/lib/python3.9/multiprocessing/pool.py\", line 125, in worker\n    result = (True, func(*args, **kwds))\n  File \"/opt/conda/envs/cvenv/lib/python3.9/multiprocessing/pool.py\", line 48, in mapstar\n    return list(map(*args))\n  File \"/home/johannes/CVProject/torch_datasets/czi.py\", line 87, in frame_otsu_thresholding\n    return (frame >= threshold_otsu(frame))\n  File \"/opt/conda/envs/cvenv/lib/python3.9/site-packages/skimage/filters/thresholding.py\", line 364, in threshold_otsu\n    counts, bin_centers = _validate_image_histogram(image, hist, nbins)\n  File \"/opt/conda/envs/cvenv/lib/python3.9/site-packages/skimage/filters/thresholding.py\", line 306, in _validate_image_histogram\n    counts, bin_centers = histogram(\n  File \"/opt/conda/envs/cvenv/lib/python3.9/site-packages/skimage/_shared/utils.py\", line 316, in fixed_func\n    return func(*args, **kwargs)\n  File \"/opt/conda/envs/cvenv/lib/python3.9/site-packages/skimage/exposure/exposure.py\", line 266, in histogram\n    hist, bin_centers = _histogram(image, nbins, source_range, normalize)\n  File \"/opt/conda/envs/cvenv/lib/python3.9/site-packages/skimage/exposure/exposure.py\", line 300, in _histogram\n    hist, bin_edges = np.histogram(image, bins=bins, range=hist_range)\n  File \"/opt/conda/envs/cvenv/lib/python3.9/site-packages/numpy/lib/histograms.py\", line 780, in histogram\n    bin_edges, uniform_bins = _get_bin_edges(a, bins, range, weights)\n  File \"/opt/conda/envs/cvenv/lib/python3.9/site-packages/numpy/lib/histograms.py\", line 426, in _get_bin_edges\n    first_edge, last_edge = _get_outer_edges(a, range)\n  File \"/opt/conda/envs/cvenv/lib/python3.9/site-packages/numpy/lib/histograms.py\", line 323, in _get_outer_edges\n    raise ValueError(\nValueError: autodetected range of [nan, nan] is not finite\n\"\"\"",
      "\nThe above exception was the direct cause of the following exception:\n",
      "\u001b[0;31mValueError\u001b[0m                                Traceback (most recent call last)",
      "Cell \u001b[0;32mIn[8], line 2\u001b[0m\n\u001b[1;32m      1\u001b[0m video_normalized \u001b[38;5;241m=\u001b[39m czi\u001b[38;5;241m.\u001b[39mTransforms2D\u001b[38;5;241m.\u001b[39mclip_intensities(MIP_video)\n\u001b[0;32m----> 2\u001b[0m video_threshed \u001b[38;5;241m=\u001b[39m \u001b[43mczi\u001b[49m\u001b[38;5;241;43m.\u001b[39;49m\u001b[43mTransforms2D\u001b[49m\u001b[38;5;241;43m.\u001b[39;49m\u001b[43mvideo_otsu_thresholding_parallel\u001b[49m\u001b[43m(\u001b[49m\u001b[43mvideo_normalized\u001b[49m\u001b[43m)\u001b[49m\n\u001b[1;32m      3\u001b[0m video_connected_components \u001b[38;5;241m=\u001b[39m czi\u001b[38;5;241m.\u001b[39mTransforms2D\u001b[38;5;241m.\u001b[39mvideo_connected_components_parallel(video_threshed)\n\u001b[1;32m      4\u001b[0m video_bboxes \u001b[38;5;241m=\u001b[39m czi\u001b[38;5;241m.\u001b[39mTransforms2D\u001b[38;5;241m.\u001b[39mvideo_bounding_boxes_parallel(video_connected_components)\n",
      "File \u001b[0;32m~/CVProject/torch_datasets/czi.py:94\u001b[0m, in \u001b[0;36mTransforms2D.video_otsu_thresholding_parallel\u001b[0;34m(video)\u001b[0m\n\u001b[1;32m     90\u001b[0m \u001b[38;5;129m@staticmethod\u001b[39m\n\u001b[1;32m     91\u001b[0m \u001b[38;5;28;01mdef\u001b[39;00m \u001b[38;5;21mvideo_otsu_thresholding_parallel\u001b[39m(video):\n\u001b[1;32m     92\u001b[0m     \u001b[38;5;28;01mwith\u001b[39;00m Pool(processes\u001b[38;5;241m=\u001b[39mos\u001b[38;5;241m.\u001b[39mcpu_count()) \u001b[38;5;28;01mas\u001b[39;00m pool:\n\u001b[1;32m     93\u001b[0m         \u001b[38;5;66;03m# Map apply_otsu_threshold to each frame\u001b[39;00m\n\u001b[0;32m---> 94\u001b[0m         video_threshed \u001b[38;5;241m=\u001b[39m \u001b[43mpool\u001b[49m\u001b[38;5;241;43m.\u001b[39;49m\u001b[43mmap\u001b[49m\u001b[43m(\u001b[49m\u001b[43mTransforms2D\u001b[49m\u001b[38;5;241;43m.\u001b[39;49m\u001b[43mframe_otsu_thresholding\u001b[49m\u001b[43m,\u001b[49m\u001b[43m \u001b[49m\u001b[43mvideo\u001b[49m\u001b[43m)\u001b[49m\n\u001b[1;32m     95\u001b[0m     \u001b[38;5;28;01mreturn\u001b[39;00m video_threshed\n",
      "File \u001b[0;32m/opt/conda/envs/cvenv/lib/python3.9/multiprocessing/pool.py:364\u001b[0m, in \u001b[0;36mPool.map\u001b[0;34m(self, func, iterable, chunksize)\u001b[0m\n\u001b[1;32m    359\u001b[0m \u001b[38;5;28;01mdef\u001b[39;00m \u001b[38;5;21mmap\u001b[39m(\u001b[38;5;28mself\u001b[39m, func, iterable, chunksize\u001b[38;5;241m=\u001b[39m\u001b[38;5;28;01mNone\u001b[39;00m):\n\u001b[1;32m    360\u001b[0m \u001b[38;5;250m    \u001b[39m\u001b[38;5;124;03m'''\u001b[39;00m\n\u001b[1;32m    361\u001b[0m \u001b[38;5;124;03m    Apply `func` to each element in `iterable`, collecting the results\u001b[39;00m\n\u001b[1;32m    362\u001b[0m \u001b[38;5;124;03m    in a list that is returned.\u001b[39;00m\n\u001b[1;32m    363\u001b[0m \u001b[38;5;124;03m    '''\u001b[39;00m\n\u001b[0;32m--> 364\u001b[0m     \u001b[38;5;28;01mreturn\u001b[39;00m \u001b[38;5;28;43mself\u001b[39;49m\u001b[38;5;241;43m.\u001b[39;49m\u001b[43m_map_async\u001b[49m\u001b[43m(\u001b[49m\u001b[43mfunc\u001b[49m\u001b[43m,\u001b[49m\u001b[43m \u001b[49m\u001b[43miterable\u001b[49m\u001b[43m,\u001b[49m\u001b[43m \u001b[49m\u001b[43mmapstar\u001b[49m\u001b[43m,\u001b[49m\u001b[43m \u001b[49m\u001b[43mchunksize\u001b[49m\u001b[43m)\u001b[49m\u001b[38;5;241;43m.\u001b[39;49m\u001b[43mget\u001b[49m\u001b[43m(\u001b[49m\u001b[43m)\u001b[49m\n",
      "File \u001b[0;32m/opt/conda/envs/cvenv/lib/python3.9/multiprocessing/pool.py:771\u001b[0m, in \u001b[0;36mApplyResult.get\u001b[0;34m(self, timeout)\u001b[0m\n\u001b[1;32m    769\u001b[0m     \u001b[38;5;28;01mreturn\u001b[39;00m \u001b[38;5;28mself\u001b[39m\u001b[38;5;241m.\u001b[39m_value\n\u001b[1;32m    770\u001b[0m \u001b[38;5;28;01melse\u001b[39;00m:\n\u001b[0;32m--> 771\u001b[0m     \u001b[38;5;28;01mraise\u001b[39;00m \u001b[38;5;28mself\u001b[39m\u001b[38;5;241m.\u001b[39m_value\n",
      "\u001b[0;31mValueError\u001b[0m: autodetected range of [nan, nan] is not finite"
     ]
    }
   ],
   "source": [
    "video_normalized = czi.Transforms2D.clip_intensities(MIP_video)\n",
    "video_threshed = czi.Transforms2D.video_otsu_thresholding_parallel(video_normalized)\n",
    "video_connected_components = czi.Transforms2D.video_connected_components_parallel(video_threshed)\n",
    "video_bboxes = czi.Transforms2D.video_bounding_boxes_parallel(video_connected_components)\n",
    "boxes_video = czi.Transforms2D.apply_bounding_boxes(MIP_video[0], video_bboxes[0][0])\n",
    "display_video(video_connected_components,cmap=\"magma\")"
   ]
  },
  {
   "cell_type": "code",
   "execution_count": null,
   "metadata": {},
   "outputs": [
    {
     "ename": "NameError",
     "evalue": "name 'video_slices' is not defined",
     "output_type": "error",
     "traceback": [
      "\u001b[0;31m---------------------------------------------------------------------------\u001b[0m",
      "\u001b[0;31mNameError\u001b[0m                                 Traceback (most recent call last)",
      "Cell \u001b[0;32mIn[9], line 3\u001b[0m\n\u001b[1;32m      1\u001b[0m plt\u001b[38;5;241m.\u001b[39mfigure()\n\u001b[1;32m      2\u001b[0m plt\u001b[38;5;241m.\u001b[39mtitle(\u001b[38;5;124m\"\u001b[39m\u001b[38;5;124mPixel intensity values over time for one cell in the video\u001b[39m\u001b[38;5;124m\"\u001b[39m)\n\u001b[0;32m----> 3\u001b[0m plt\u001b[38;5;241m.\u001b[39mplot(\u001b[38;5;28mrange\u001b[39m(\u001b[38;5;28mlen\u001b[39m(\u001b[43mvideo_slices\u001b[49m)), [np\u001b[38;5;241m.\u001b[39mmean(frame_bound_box[\u001b[38;5;241m0\u001b[39m]) \u001b[38;5;28;01mfor\u001b[39;00m frame_bound_box \u001b[38;5;129;01min\u001b[39;00m video_slices])\n\u001b[1;32m      4\u001b[0m plt\u001b[38;5;241m.\u001b[39mxlabel(\u001b[38;5;124m\"\u001b[39m\u001b[38;5;124mframe\u001b[39m\u001b[38;5;124m\"\u001b[39m)\n\u001b[1;32m      5\u001b[0m plt\u001b[38;5;241m.\u001b[39mylabel(\u001b[38;5;124m\"\u001b[39m\u001b[38;5;124mintensity over time\u001b[39m\u001b[38;5;124m\"\u001b[39m)\n",
      "\u001b[0;31mNameError\u001b[0m: name 'video_slices' is not defined"
     ]
    },
    {
     "data": {
      "image/png": "[encoded data removed]",
      "text/plain": [
       "<Figure size 640x480 with 1 Axes>"
      ]
     },
     "metadata": {},
     "output_type": "display_data"
    }
   ],
   "source": [
    "plt.figure()\n",
    "plt.title(\"Pixel intensity values over time for one cell in the video\")\n",
    "plt.plot(range(len(video_slices)), [np.mean(frame_bound_box[0]) for frame_bound_box in video_slices])\n",
    "plt.xlabel(\"frame\")\n",
    "plt.ylabel(\"intensity over time\")"
   ]
  },
  {
   "cell_type": "code",
   "execution_count": null,
   "metadata": {},
   "outputs": [],
   "source": []
  }
 ],
 "metadata": {
  "kernelspec": {
   "display_name": "cvenv",
   "language": "python",
   "name": "python3"
  },
  "language_info": {
   "codemirror_mode": {
    "name": "ipython",
    "version": 3
   },
   "file_extension": ".py",
   "mimetype": "text/x-python",
   "name": "python",
   "nbconvert_exporter": "python",
   "pygments_lexer": "ipython3",
   "version": "3.9.19"
  }
 },
 "nbformat": 4,
 "nbformat_minor": 2
}
