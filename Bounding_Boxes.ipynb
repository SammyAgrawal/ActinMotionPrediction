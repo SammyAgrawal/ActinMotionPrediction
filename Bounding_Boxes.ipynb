{
  "nbformat": 4,
  "nbformat_minor": 0,
  "metadata": {
    "colab": {
      "provenance": []
    },
    "kernelspec": {
      "name": "python3",
      "display_name": "Python 3"
    },
    "language_info": {
      "name": "python"
    }
  },
  "cells": [
    {
      "cell_type": "code",
      "execution_count": 1,
      "metadata": {
        "id": "k68PH_R4EPL0"
      },
      "outputs": [],
      "source": [
        "import torch\n",
        "import torch.nn as nn\n",
        "import torch.optim as optim\n",
        "from torch.optim import lr_scheduler\n",
        "from torchvision import transforms\n",
        "#import czifile\n",
        "import numpy as np\n",
        "import matplotlib.pyplot as plt\n",
        "import cv2\n",
        "import time\n",
        "import os\n",
        "import sys\n",
        "import torchvision\n",
        "from torch.utils.data import Dataset, DataLoader\n",
        "from aicspylibczi import CziFile\n",
        "import czifile\n",
        "import numpy as np\n",
        "import matplotlib.pyplot as plt\n",
        "import cv2\n",
        "import imageio\n",
        "import time\n",
        "#from cellpose import io, models"
      ]
    },
    {
      "cell_type": "code",
      "source": [
        "from google.cloud import storage\n",
        "\n",
        "# Create a storage client.\n",
        "storage_client = storage.Client(project='jal2340-applied-cv-s24')\n",
        "\n",
        "# Specify the name of your GCS bucket and the object (file) to download.\n",
        "bucket_name = '3d-dicty-data'\n",
        "\n",
        "bucket = storage_client.bucket(bucket_name)"
      ],
      "metadata": {
        "id": "LqtYvFz7SVr3"
      },
      "execution_count": null,
      "outputs": []
    },
    {
      "cell_type": "code",
      "source": [
        "# exp is experiment/ collection dates\n",
        "exp_dates = ['2023-01-30', '2023-10-25']\n",
        "blobs = {\n",
        "    exp_dates[0] : {\"MIP\" : [], \"raw\": [], \"processed\":[]},\n",
        "    exp_dates[1] : dict(raw=[], MIP=[], smiley=[]),\n",
        "}\n",
        "for blob in bucket.list_blobs():\n",
        "  if(exp_dates[0] in blob.name):\n",
        "    if('MIP.czi' in blob.name):\n",
        "      blobs[exp_dates[0]][\"MIP\"].append(blob)\n",
        "    elif(\"processed.czi\" in blob.name):\n",
        "      blobs[exp_dates[0]][\"processed\"].append(blob)\n",
        "    else:\n",
        "      blobs[exp_dates[0]][\"raw\"].append(blob)\n",
        "  elif(exp_dates[1] in blob.name):\n",
        "    if('MIP.czi' in blob.name):\n",
        "      blobs[exp_dates[1]][\"MIP\"].append(blob)\n",
        "    elif(\"smiley.czi\" in blob.name):\n",
        "      blobs[exp_dates[1]][\"smiley\"].append(blob)\n",
        "    else:\n",
        "      blobs[exp_dates[1]][\"raw\"].append(blob)"
      ],
      "metadata": {
        "id": "kjecifFHSX6V"
      },
      "execution_count": null,
      "outputs": []
    },
    {
      "cell_type": "code",
      "source": [
        "blob = blobs[exp_dates[0]]['processed'][5]\n",
        "blob.size / (1024 * 1024 * 1024) # size in GB"
      ],
      "metadata": {
        "id": "683ESJoLSbgB"
      },
      "execution_count": null,
      "outputs": []
    },
    {
      "cell_type": "code",
      "source": [
        "chunk_size=10*1024*1024"
      ],
      "metadata": {
        "id": "_untjFW0Shdd"
      },
      "execution_count": null,
      "outputs": []
    },
    {
      "cell_type": "code",
      "source": [
        "def get_image(vid_index, date=0, group='processed', blobs=blobs):\n",
        "  blob = blobs[exp_dates[date]][group][vid_index]\n",
        "  fname = blob.name.split('/')[-1] # ignore date/fname\n",
        "  print(f\"Loading {fname}\")\n",
        "  blob.download_to_filename(fname)\n",
        "  return(CziFile(fname))"
      ],
      "metadata": {
        "id": "UQcVLZdaSLr5"
      },
      "execution_count": null,
      "outputs": []
    },
    {
      "cell_type": "code",
      "source": [
        "img = get_image(5, 0, 'processed')\n",
        "# TODO: Understand each dimension in the shape\n",
        "# shape is Channels x num_slices x H x W.\n",
        "# S is \"Scene\" - different POV or regions\n",
        "# not a video ??\n",
        "img.get_dims_shape()"
      ],
      "metadata": {
        "id": "CCTM7zuIR-xD"
      },
      "execution_count": null,
      "outputs": []
    },
    {
      "cell_type": "code",
      "source": [
        "a = [[1, 1, 1, 1, 0, 0, 0, 0, 0, 0, 0, 0, 0, 0, 0, 2, 2, 2, 2, 2, 2, 2],\n",
        "     [1, 1, 1, 1, 0, 0, 0, 0, 0, 0, 0, 3, 3, 0, 0, 0, 2, 2, 2, 2, 2, 2],\n",
        "     [1, 1, 1, 1, 0, 0, 0, 5, 0, 0, 0, 3, 3, 0, 0, 0, 2, 2, 2, 2, 2, 2],\n",
        "     [1, 1, 1, 1, 0, 0, 0, 0, 0, 0, 0, 0, 0, 0, 0, 0, 2, 2, 2, 2, 2, 2],\n",
        "     [1, 1, 1, 1, 0, 0, 0, 4, 4, 4, 4, 4, 0, 0, 0, 0, 0, 0, 0, 0, 0, 0],\n",
        "     [0, 0, 0, 0, 0, 0, 0, 4, 4, 4, 4, 4, 0, 0, 0, 0, 0, 0, 0, 0, 0, 0]]\n",
        "\n",
        "a = np.array(a)"
      ],
      "metadata": {
        "id": "EC1hrjwvEaoS"
      },
      "execution_count": null,
      "outputs": []
    },
    {
      "cell_type": "code",
      "source": [
        "img_input = img[0, 50, :, :]"
      ],
      "metadata": {
        "id": "RPlteyBHQ1_X"
      },
      "execution_count": null,
      "outputs": []
    },
    {
      "cell_type": "code",
      "source": [
        "masks, flows, styles = models.CellposeModel(model_type='cyto3').eval(img_input,\n",
        "                            diameter=None, channels=[0,0])"
      ],
      "metadata": {
        "id": "kt7QKk5EQ2di"
      },
      "execution_count": null,
      "outputs": []
    },
    {
      "cell_type": "code",
      "source": [
        "plt.imshow(img[0, 50, :, :])"
      ],
      "metadata": {
        "id": "sl0xAGjER3_S"
      },
      "execution_count": null,
      "outputs": []
    },
    {
      "cell_type": "code",
      "source": [
        "masks.unique()"
      ],
      "metadata": {
        "id": "Nsnxh4XVR0PA"
      },
      "execution_count": null,
      "outputs": []
    },
    {
      "cell_type": "code",
      "source": [
        "def get_zslice(img, z, channel=0):\n",
        "  return(img[channel, z, :, :])"
      ],
      "metadata": {
        "id": "CelKpvi6R590"
      },
      "execution_count": null,
      "outputs": []
    },
    {
      "cell_type": "code",
      "source": [
        "plt.imshow(get_zslice(img, 50))"
      ],
      "metadata": {
        "id": "omDWZAU7R9mk"
      },
      "execution_count": null,
      "outputs": []
    },
    {
      "cell_type": "code",
      "source": [
        "def get_bounding_boxes(a, padding = 0, box = -1):\n",
        "    end = a.shape[1] - 1\n",
        "    print(end)\n",
        "    if (box == -1):\n",
        "      num_rectangles = np.max(a)\n",
        "      rectangle_coords = []\n",
        "      for i in np.arange(num_rectangles) + 1:\n",
        "        values = np.where(a == i)\n",
        "        x = values[0][0]\n",
        "        y = values[1][0]\n",
        "        if (x!=0):\n",
        "          if (padding < x):\n",
        "            x = x - padding\n",
        "          else:\n",
        "            x = 0\n",
        "            width = np.abs(values[0][-1] - x) +1  + padding*2\n",
        "        else:\n",
        "          width = np.abs(values[0][-1] - x) +1  + padding\n",
        "\n",
        "\n",
        "        if (y!=0):\n",
        "          if (padding < y):\n",
        "            y = y - padding\n",
        "          else:\n",
        "            y = 0\n",
        "            height = np.abs(values[1][-1] - y) +1  + padding*2\n",
        "        else:\n",
        "          height = np.abs(values[1][-1] - y) +1  + padding\n",
        "\n",
        "\n",
        "        rectangle_coords.append((x, y, width, height))\n",
        "\n",
        "      return rectangle_coords\n",
        "    else:\n",
        "      values = np.where(a == box)\n",
        "      x = values[0][0] - padding\n",
        "      y = values[1][0] - padding\n",
        "      height = np.abs(values[0][-1] - x) +1  + padding\n",
        "      width  = np.abs(values[1][-1]-y ) +1 + padding\n",
        "      return [(x, y, height, width)]\n",
        "\n",
        "\n",
        "\n",
        "\n",
        "\n",
        "#x,y,w,h"
      ],
      "metadata": {
        "id": "k8jTAGIuGEIs"
      },
      "execution_count": null,
      "outputs": []
    },
    {
      "cell_type": "code",
      "source": [
        "get_bounding_boxes(a, padding = 2)[1]"
      ],
      "metadata": {
        "colab": {
          "base_uri": "https://localhost:8080/"
        },
        "id": "F3VimVrOICrb",
        "outputId": "f1467515-ccfd-4962-9517-b95c08db0043"
      },
      "execution_count": null,
      "outputs": [
        {
          "output_type": "stream",
          "name": "stdout",
          "text": [
            "22\n"
          ]
        },
        {
          "output_type": "execute_result",
          "data": {
            "text/plain": [
              "(0, 13, 6, 6)"
            ]
          },
          "metadata": {},
          "execution_count": 82
        }
      ]
    },
    {
      "cell_type": "code",
      "source": [
        "values[0][-1]"
      ],
      "metadata": {
        "colab": {
          "base_uri": "https://localhost:8080/"
        },
        "id": "KPn0BalLJ15q",
        "outputId": "2c771ca1-7b9a-43c0-d445-67ba0b7a3294"
      },
      "execution_count": null,
      "outputs": [
        {
          "output_type": "execute_result",
          "data": {
            "text/plain": [
              "5"
            ]
          },
          "metadata": {},
          "execution_count": 42
        }
      ]
    },
    {
      "cell_type": "code",
      "source": [],
      "metadata": {
        "id": "KKYkEV3iLZTc"
      },
      "execution_count": null,
      "outputs": []
    }
  ]
}