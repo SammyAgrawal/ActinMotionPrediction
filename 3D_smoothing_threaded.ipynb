{
 "cells": [
  {
   "cell_type": "markdown",
   "id": "7911487c",
   "metadata": {},
   "source": [
    "## Script used to generate 'processed' 3d video files by smoothing (averaging) the pixel intensities across z consecutive z slices"
   ]
  },
  {
   "cell_type": "code",
   "execution_count": 1,
   "id": "0cd75d96",
   "metadata": {},
   "outputs": [],
   "source": [
    "## Importing the necessary modules\n",
    "\n",
    "import numpy as np\n",
    "import os\n",
    "import skimage.io as io\n",
    "from tqdm import tqdm\n",
    "import scipy as sp\n",
    "import time\n",
    "import scipy.io as sio\n",
    "import hdf5storage\n",
    "from multiprocessing import TimeoutError\n",
    "from multiprocessing.pool import ThreadPool as Pool\n",
    "from functools import partial\n",
    "import matplotlib.pyplot as plt\n",
    "from aicspylibczi import CziFile\n",
    "import warnings\n",
    "warnings.filterwarnings(\"ignore\")"
   ]
  },
  {
   "cell_type": "code",
   "execution_count": 2,
   "id": "95233724",
   "metadata": {},
   "outputs": [
    {
     "name": "stdout",
     "output_type": "stream",
     "text": [
      "(1, 241, 2, 114, 2048, 475)\n",
      "STCZYX\n"
     ]
    }
   ],
   "source": [
    "## Load Data\n",
    "\n",
    "# Folder address where the raw 3D movie is\n",
    "data_folder = 'E:\\\\Spandan\\\\3D_Lattice_Lightsheet\\\\Shen 1-30-23\\\\dicty_factin_pip3-06_processed'\n",
    "czi_path = data_folder +'\\\\dicty_factin_pip3-06_processed.czi'\n",
    "\n",
    "input_img = CziFile(czi_path)\n",
    "shape = input_img.size; dims = input_img.dims;  # Check shape of the data\n",
    "print(shape), print(dims)\n",
    "\n",
    "num_timepoints, num_stacks, height, width = shape[1], shape[3], shape[4], shape[5]"
   ]
  },
  {
   "cell_type": "code",
   "execution_count": 3,
   "id": "4e8ad684",
   "metadata": {},
   "outputs": [],
   "source": [
    "def smoothing(k, img):\n",
    "    \n",
    "    def pre_processing(frm_id, image, ch_id):\n",
    "        img_temp = image.read_image(T=frm_id, C=ch_id)\n",
    "        imge = np.squeeze(img_temp[0])\n",
    "        return imge\n",
    "\n",
    "    current_frame = pre_processing(k, img, channel)\n",
    "\n",
    "    if k == start_frame or k == end_frame - jump:\n",
    "        result = current_frame\n",
    "    else:\n",
    "        previous_frame = pre_processing(k - jump, img, channel)\n",
    "        next_frame = pre_processing(k + jump, img, channel)\n",
    "        \n",
    "        if k == start_frame + jump or k == end_frame - 2*jump:\n",
    "            result = np.average([previous_frame, current_frame, next_frame], weights=kernel1, axis=0)\n",
    "        \n",
    "        else:\n",
    "            frame_minus_2_jump = pre_processing(k - 2 * jump, img, channel)\n",
    "            frame_plus_2_jump = pre_processing(k + 2 * jump, img, channel)\n",
    "            result = np.average([frame_minus_2_jump, previous_frame, current_frame, next_frame, frame_plus_2_jump], weights=kernel2, axis=0)\n",
    "\n",
    "    result = result.astype(np.float32)\n",
    "    np.save(os.path.join(data_folder, 'smoothed_frames', f'{k}'), result)\n",
    "\n",
    "# Example usage:\n",
    "jump = 1\n",
    "start_frame = 0\n",
    "end_frame = num_timepoints\n",
    "channel = 0\n",
    "# Create a local folder for storing smoothed frames\n",
    "os.makedirs(os.path.join(data_folder, 'smoothed_frames'), exist_ok=True)"
   ]
  },
  {
   "cell_type": "code",
   "execution_count": null,
   "id": "566ad780",
   "metadata": {},
   "outputs": [
    {
     "name": "stdout",
     "output_type": "stream",
     "text": [
      "Post-processing in parallel with 16 processors\n"
     ]
    }
   ],
   "source": [
    "kernel1 = np.array([0.225,0.55,0.225]);\n",
    "kernel2 = np.array([0.036,0.249,0.431,0.249,0.036])\n",
    "\n",
    "numProcessors = 16   # maybe change it to 8 (but that's it!)\n",
    "pool = Pool(processes=numProcessors)\n",
    "    \n",
    "print('Post-processing in parallel with '+str(numProcessors)+' processors')\n",
    "\n",
    "#store start time\n",
    "stopwatchStart = time.time()\n",
    "[temp] =zip(*pool.map(partial(smoothing, img = input_img), range(num_timepoints-1)))\n",
    "  \n",
    "print('Wall time = '+str(np.round(time.time() - stopwatchStart,2))+' s')\n",
    "\n",
    "print('Parallel post processing complete, switching to serial')\n",
    "pool.close()"
   ]
  },
  {
   "cell_type": "code",
   "execution_count": null,
   "id": "f6196f3f",
   "metadata": {},
   "outputs": [],
   "source": []
  }
 ],
 "metadata": {
  "kernelspec": {
   "display_name": "Python 3 (ipykernel)",
   "language": "python",
   "name": "python3"
  },
  "language_info": {
   "codemirror_mode": {
    "name": "ipython",
    "version": 3
   },
   "file_extension": ".py",
   "mimetype": "text/x-python",
   "name": "python",
   "nbconvert_exporter": "python",
   "pygments_lexer": "ipython3",
   "version": "3.9.18"
  }
 },
 "nbformat": 4,
 "nbformat_minor": 5
}
