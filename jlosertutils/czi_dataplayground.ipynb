{
 "cells": [
  {
   "cell_type": "code",
   "execution_count": 1,
   "metadata": {},
   "outputs": [],
   "source": [
    "from czi_bucket_interface import CZIBucketInterface"
   ]
  },
  {
   "cell_type": "code",
   "execution_count": 2,
   "metadata": {},
   "outputs": [],
   "source": [
    "# Demo 1: Loading in all MIP files using multiprocessing!\n",
    "interface = None\n",
    "interface = CZIBucketInterface()"
   ]
  },
  {
   "cell_type": "code",
   "execution_count": 2,
   "metadata": {},
   "outputs": [
    {
     "ename": "NameError",
     "evalue": "name 'interface' is not defined",
     "output_type": "error",
     "traceback": [
      "\u001b[0;31m---------------------------------------------------------------------------\u001b[0m",
      "\u001b[0;31mNameError\u001b[0m                                 Traceback (most recent call last)",
      "Cell \u001b[0;32mIn[2], line 1\u001b[0m\n\u001b[0;32m----> 1\u001b[0m \u001b[43minterface\u001b[49m\u001b[38;5;241m.\u001b[39mget_files(\u001b[38;5;124m\"\u001b[39m\u001b[38;5;124msmiley\u001b[39m\u001b[38;5;124m\"\u001b[39m, \u001b[38;5;124m\"\u001b[39m\u001b[38;5;124mSmiley\u001b[39m\u001b[38;5;124m\"\u001b[39m, workers\u001b[38;5;241m=\u001b[39m\u001b[38;5;241m16\u001b[39m, random_order\u001b[38;5;241m=\u001b[39m\u001b[38;5;28;01mTrue\u001b[39;00m, num\u001b[38;5;241m=\u001b[39m\u001b[38;5;241m10\u001b[39m)\n",
      "\u001b[0;31mNameError\u001b[0m: name 'interface' is not defined"
     ]
    }
   ],
   "source": [
    "interface.get_files(\"smiley\", \"Smiley\", workers=16, random_order=True, num=1)"
   ]
  },
  {
   "cell_type": "code",
   "execution_count": 3,
   "metadata": {},
   "outputs": [],
   "source": [
    "interface.get_czi_list(\"Smiley\")"
   ]
  },
  {
   "cell_type": "code",
   "execution_count": 4,
   "metadata": {},
   "outputs": [
    {
     "name": "stdout",
     "output_type": "stream",
     "text": [
      "[{'X': (0, 613), 'Y': (0, 2048), 'Z': (0, 114), 'C': (0, 1), 'T': (0, 61), 'S': (0, 1)}]\n",
      "[{'X': (0, 0), 'Y': (0, 0)}]\n",
      "[{'X': (0, 850), 'Y': (0, 2048), 'Z': (0, 114), 'C': (0, 1), 'T': (0, 141), 'S': (0, 1)}]\n",
      "[{'X': (0, 931), 'Y': (0, 2048), 'Z': (0, 114), 'C': (0, 1), 'T': (0, 80), 'S': (0, 1)}]\n"
     ]
    }
   ],
   "source": [
    "interface.print_czi_list_shape()"
   ]
  },
  {
   "cell_type": "code",
   "execution_count": null,
   "metadata": {},
   "outputs": [],
   "source": []
  }
 ],
 "metadata": {
  "kernelspec": {
   "display_name": "cvenv",
   "language": "python",
   "name": "python3"
  },
  "language_info": {
   "codemirror_mode": {
    "name": "ipython",
    "version": 3
   },
   "file_extension": ".py",
   "mimetype": "text/x-python",
   "name": "python",
   "nbconvert_exporter": "python",
   "pygments_lexer": "ipython3",
   "version": "3.9.19"
  }
 },
 "nbformat": 4,
 "nbformat_minor": 2
}
