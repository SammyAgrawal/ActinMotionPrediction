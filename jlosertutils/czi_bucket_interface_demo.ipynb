{
 "cells": [
  {
   "cell_type": "code",
   "execution_count": 4,
   "metadata": {},
   "outputs": [],
   "source": [
    "from czi_bucket_interface import CZIBucketInterface"
   ]
  },
  {
   "cell_type": "code",
   "execution_count": 5,
   "metadata": {},
   "outputs": [],
   "source": [
    "# Demo 1: Loading in all MIP files using multiprocessing!\n",
    "interface = None\n",
    "interface = CZIBucketInterface()"
   ]
  },
  {
   "cell_type": "code",
   "execution_count": 6,
   "metadata": {},
   "outputs": [
    {
     "name": "stdout",
     "output_type": "stream",
     "text": [
      "Downloaded 2023-01-30/dicty_factin_pip3-01_MIP.czi to MIPDownloaded/dicty_factin_pip3-01_MIP.czi\n",
      "Downloaded 2023-01-30/dicty_factin_pip3-02_MIP.czi to MIPDownloaded/dicty_factin_pip3-02_MIP.czi\n",
      "Downloaded 2023-01-30/dicty_factin_pip3-03_MIP.czi to MIPDownloaded/dicty_factin_pip3-03_MIP.czi\n",
      "Downloaded 2023-01-30/dicty_factin_pip3-04_MIP.czi to MIPDownloaded/dicty_factin_pip3-04_MIP.czi\n",
      "Downloaded 2023-01-30/dicty_factin_pip3-05_MIP.czi to MIPDownloaded/dicty_factin_pip3-05_MIP.czi\n",
      "Downloaded 2023-01-30/dicty_factin_pip3-06_MIP.czi to MIPDownloaded/dicty_factin_pip3-06_MIP.czi\n",
      "Downloaded 2023-01-30/dicty_factin_pip3-07_MIP.czi to MIPDownloaded/dicty_factin_pip3-07_MIP.czi\n",
      "Downloaded 2023-01-30/dicty_factin_pip3-08_MIP.czi to MIPDownloaded/dicty_factin_pip3-08_MIP.czi\n",
      "Downloaded 2023-01-30/dicty_factin_pip3-09_MIP.czi to MIPDownloaded/dicty_factin_pip3-09_MIP.czi\n",
      "Downloaded 2023-10-25/New-01_MIP.czi to MIPDownloaded/New-01_MIP.czi\n",
      "Downloaded 2023-10-25/New-02_MIP.czi to MIPDownloaded/New-02_MIP.czi\n",
      "Downloaded 2023-10-25/New-03_MIP.czi to MIPDownloaded/New-03_MIP.czi\n",
      "Downloaded 2023-10-25/New-04_MIP.czi to MIPDownloaded/New-04_MIP.czi\n"
     ]
    }
   ],
   "source": [
    "interface.get_all(\"MIP\")"
   ]
  },
  {
   "cell_type": "code",
   "execution_count": 10,
   "metadata": {},
   "outputs": [
    {
     "name": "stdout",
     "output_type": "stream",
     "text": [
      "MIPDownloaded/New-01_MIP.czi\n",
      "MIPDownloaded/New-02_MIP.czi\n",
      "MIPDownloaded/New-03_MIP.czi\n",
      "MIPDownloaded/New-04_MIP.czi\n",
      "MIPDownloaded/dicty_factin_pip3-01_MIP.czi\n",
      "MIPDownloaded/dicty_factin_pip3-02_MIP.czi\n",
      "MIPDownloaded/dicty_factin_pip3-03_MIP.czi\n",
      "MIPDownloaded/dicty_factin_pip3-04_MIP.czi\n",
      "MIPDownloaded/dicty_factin_pip3-05_MIP.czi\n",
      "MIPDownloaded/dicty_factin_pip3-06_MIP.czi\n",
      "MIPDownloaded/dicty_factin_pip3-07_MIP.czi\n",
      "MIPDownloaded/dicty_factin_pip3-08_MIP.czi\n",
      "MIPDownloaded/dicty_factin_pip3-09_MIP.czi\n"
     ]
    }
   ],
   "source": [
    "!ls MIPDownloaded/*"
   ]
  },
  {
   "cell_type": "code",
   "execution_count": null,
   "metadata": {},
   "outputs": [],
   "source": []
  }
 ],
 "metadata": {
  "kernelspec": {
   "display_name": "cvenv",
   "language": "python",
   "name": "python3"
  },
  "language_info": {
   "codemirror_mode": {
    "name": "ipython",
    "version": 3
   },
   "file_extension": ".py",
   "mimetype": "text/x-python",
   "name": "python",
   "nbconvert_exporter": "python",
   "pygments_lexer": "ipython3",
   "version": "3.9.19"
  }
 },
 "nbformat": 4,
 "nbformat_minor": 2
}
