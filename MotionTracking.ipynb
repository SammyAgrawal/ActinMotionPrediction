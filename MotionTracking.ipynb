{
 "cells": [
  {
   "cell_type": "code",
   "execution_count": 1,
   "id": "0fd3bd40-529d-4a82-b356-cc1a3a92bb57",
   "metadata": {},
   "outputs": [],
   "source": [
    "from aicspylibczi import CziFile\n",
    "import czifile\n",
    "import numpy as np\n",
    "import matplotlib.pyplot as plt\n",
    "from matplotlib.pyplot import imshow\n",
    "import cv2\n",
    "import os\n",
    "import ffmpeg\n",
    "import time\n",
    "import pandas as pd\n",
    "from cellpose import io, models"
   ]
  },
  {
   "cell_type": "code",
   "execution_count": 34,
   "id": "1660c3e1-ad82-4316-b2a4-587c3553133b",
   "metadata": {},
   "outputs": [],
   "source": [
    "def get_file(vid_type, num):\n",
    "    root_dir = \"/mnt/datadisk/\"\n",
    "    vid_type = vid_type.lower()\n",
    "    if(vid_type == \"processed\"):\n",
    "        folder = 'FactinProcessed'\n",
    "        fname = f'dicty_factin_pip3-0{num}_processed.czi'\n",
    "    elif(vid_type == 'mip'):\n",
    "        folder = 'FactinMIP'\n",
    "        fname = f'dicty_factin_pip3-0{num}_MIP.czi'\n",
    "    elif(vid_type == 'new'):\n",
    "        folder = 'FactinMIP'\n",
    "        fname = f'New-0{num}_MIP.czi'\n",
    "    else:\n",
    "        print(f\"invalid type, try again from {['processed', 'mip', 'new']}\")\n",
    "        return(-1)\n",
    "    fpath = os.path.join(root_dir, folder, fname)\n",
    "    video = CziFile(fpath)\n",
    "    print(f\"Loading {fname} with dims {video.get_dims_shape()}\")\n",
    "    return(video)"
   ]
  },
  {
   "cell_type": "code",
   "execution_count": 30,
   "id": "74c4e7a3-0832-4424-987c-6e797c0001e8",
   "metadata": {},
   "outputs": [
    {
     "name": "stdout",
     "output_type": "stream",
     "text": [
      "Loading dicty_factin_pip3-03_MIP.czi with dims [{'X': (0, 474), 'Y': (0, 2048), 'C': (0, 2), 'T': (0, 90)}]\n"
     ]
    }
   ],
   "source": [
    "video = get_file('mip', 3)"
   ]
  },
  {
   "cell_type": "markdown",
   "id": "7ac00466-bd24-4373-b40b-f4d8d0d81aaa",
   "metadata": {},
   "source": [
    "## Helper funcs"
   ]
  },
  {
   "cell_type": "code",
   "execution_count": 35,
   "id": "638e84ae-dca9-442f-9f99-1d6a7c456d1f",
   "metadata": {},
   "outputs": [],
   "source": [
    "def get_image(timestep=-1, z_plane=50, video=video, channel=0):\n",
    "    dims = video.get_dims_shape()[0]\n",
    "    \n",
    "    timestep = timestep % dims['T'][-1]\n",
    "    z_plane = z_plane % dims['Z'][-1]\n",
    "    img, shp = video.read_image(S=0, Z=z_plane, T=timestep, C=channel)\n",
    "    #print(shp)\n",
    "    return(img.squeeze()) # returns (channels, Y, X)"
   ]
  },
  {
   "cell_type": "code",
   "execution_count": 36,
   "id": "458af12d-ad93-4144-80cf-301e9b283537",
   "metadata": {},
   "outputs": [],
   "source": [
    "def scale_img(img):\n",
    "        lower_bound = np.percentile(img, 1)\n",
    "        upper_bound = np.percentile(img, 99.9)\n",
    "        I = (img - lower_bound) / (upper_bound - lower_bound)\n",
    "        I = np.clip(I, 0, 1)\n",
    "        return(I)\n",
    "\n",
    "def get_plane(z_plane, video, apply_scaling=True, channel=0):\n",
    "    plane, shp = video.read_image(S=0, Z=z_plane, C=channel)\n",
    "    if(apply_scaling):\n",
    "        plane = scale_img(plane)\n",
    "\n",
    "    return(plane.squeeze())"
   ]
  },
  {
   "cell_type": "code",
   "execution_count": 5,
   "id": "b10dfc60-44e8-4361-8e1f-5fb5060d56c8",
   "metadata": {},
   "outputs": [],
   "source": [
    "def get_bounding_box(mask, cellID, padding=3):\n",
    "    binary_array = (mask == cellID)\n",
    "    # Convert binary array to binary image\n",
    "    binary_image = np.uint8(binary_array * 255)\n",
    "    \n",
    "    # Find contours\n",
    "    contours, _ = cv2.findContours(binary_image, cv2.RETR_EXTERNAL, cv2.CHAIN_APPROX_SIMPLE)\n",
    "    if(len(contours) == 0):\n",
    "        print(\"Contour not found\")\n",
    "        return(-1)\n",
    "    # Get the bounding rectangle\n",
    "    x, y, w, h = cv2.boundingRect(contours[0])\n",
    "    \n",
    "    # Apply padding\n",
    "    x -= padding\n",
    "    y -= padding\n",
    "    w += 2 * padding\n",
    "    h += 2 * padding\n",
    "\n",
    "    return(x, y, w, h)"
   ]
  },
  {
   "cell_type": "code",
   "execution_count": 6,
   "id": "91a02da1-c863-4567-b807-7a1e8bf41c90",
   "metadata": {},
   "outputs": [
    {
     "ename": "NameError",
     "evalue": "name 'frames' is not defined",
     "output_type": "error",
     "traceback": [
      "\u001b[0;31m---------------------------------------------------------------------------\u001b[0m",
      "\u001b[0;31mNameError\u001b[0m                                 Traceback (most recent call last)",
      "Cell \u001b[0;32mIn[6], line 1\u001b[0m\n\u001b[0;32m----> 1\u001b[0m \u001b[38;5;28;01mdef\u001b[39;00m \u001b[38;5;21mtrack_cell\u001b[39m(cell_id, frames\u001b[38;5;241m=\u001b[39m\u001b[43mframes\u001b[49m, masks\u001b[38;5;241m=\u001b[39mmasks, padding\u001b[38;5;241m=\u001b[39m\u001b[38;5;241m2\u001b[39m):\n\u001b[1;32m      2\u001b[0m     data \u001b[38;5;241m=\u001b[39m {\u001b[38;5;124m\"\u001b[39m\u001b[38;5;124mpatches\u001b[39m\u001b[38;5;124m\"\u001b[39m : [], \u001b[38;5;124m'\u001b[39m\u001b[38;5;124mboxes\u001b[39m\u001b[38;5;124m'\u001b[39m : [], \u001b[38;5;124m\"\u001b[39m\u001b[38;5;124mmasks\u001b[39m\u001b[38;5;124m\"\u001b[39m : []}\n\u001b[1;32m      3\u001b[0m     num_frames \u001b[38;5;241m=\u001b[39m frames\u001b[38;5;241m.\u001b[39mshape[\u001b[38;5;241m0\u001b[39m]\n",
      "\u001b[0;31mNameError\u001b[0m: name 'frames' is not defined"
     ]
    }
   ],
   "source": [
    "def track_cell(cell_id, frames=frames, masks=masks, padding=2):\n",
    "    data = {\"patches\" : [], 'boxes' : [], \"masks\" : []}\n",
    "    num_frames = frames.shape[0]\n",
    "    h_max, w_max = 0, 0\n",
    "    skip_frames = []\n",
    "    for i in range(num_frames):\n",
    "        box = get_bounding_box(masks[i], cell_id, padding)\n",
    "        if(box != -1): # valid box\n",
    "            x, y, w, h = box\n",
    "            if(h > h_max):\n",
    "                h_max = h\n",
    "            if(w > w_max):\n",
    "                w_max = w\n",
    "            data['boxes'].append((x, y, w, h))\n",
    "        else:\n",
    "            skip_frames.append(i)\n",
    "    print(f\"Skipped frames {skip_frames}\")\n",
    "    for i, box in enumerate(data['boxes']):\n",
    "        if i not in skip_frames: \n",
    "            x, y, w, h = box\n",
    "            patch = frames[i, y:y+h_max, x:x+w_max]\n",
    "            mask_patch = masks[i, y:y+h_max, x:x+w_max]\n",
    "            data['patches'].append(patch)\n",
    "            data['masks'].append(mask_patch)\n",
    "\n",
    "    return(data)"
   ]
  },
  {
   "cell_type": "markdown",
   "id": "e5d4b7dd-fb9a-45da-9eab-b8e67311461b",
   "metadata": {},
   "source": [
    "### Trying Johannes Method"
   ]
  },
  {
   "cell_type": "code",
   "execution_count": 17,
   "id": "2e5999b6-f62d-4dbf-a11d-5950241c90f3",
   "metadata": {},
   "outputs": [],
   "source": [
    "frames = get_plane(50, video)"
   ]
  },
  {
   "cell_type": "code",
   "execution_count": null,
   "id": "40fdb75e-c207-4701-9422-6912295c4b00",
   "metadata": {},
   "outputs": [],
   "source": []
  }
 ],
 "metadata": {
  "kernelspec": {
   "display_name": "sammykernel",
   "language": "python",
   "name": "sammykernel"
  },
  "language_info": {
   "codemirror_mode": {
    "name": "ipython",
    "version": 3
   },
   "file_extension": ".py",
   "mimetype": "text/x-python",
   "name": "python",
   "nbconvert_exporter": "python",
   "pygments_lexer": "ipython3",
   "version": "3.9.19"
  }
 },
 "nbformat": 4,
 "nbformat_minor": 5
}
