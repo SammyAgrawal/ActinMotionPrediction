{
  "nbformat": 4,
  "nbformat_minor": 0,
  "metadata": {
    "colab": {
      "provenance": []
    },
    "kernelspec": {
      "name": "python3",
      "display_name": "Python 3"
    },
    "language_info": {
      "name": "python"
    }
  },
  "cells": [
    {
      "cell_type": "code",
      "execution_count": 1,
      "metadata": {
        "id": "k68PH_R4EPL0"
      },
      "outputs": [],
      "source": [
        "import torch\n",
        "import torch.nn as nn\n",
        "import torch.optim as optim\n",
        "from torch.optim import lr_scheduler\n",
        "from torchvision import transforms\n",
        "#import czifile\n",
        "import numpy as np\n",
        "import matplotlib.pyplot as plt\n",
        "import cv2\n",
        "import time\n",
        "import os\n",
        "import sys\n",
        "import torchvision\n",
        "from torch.utils.data import Dataset, DataLoader\n",
        "# from aicspylibczi import CziFile\n",
        "# import czifile\n",
        "import numpy as np\n",
        "import matplotlib.pyplot as plt\n",
        "import cv2\n",
        "import imageio\n",
        "import time\n",
        "#from cellpose import io, models"
      ]
    },
    {
      "cell_type": "code",
      "source": [
        "from google.cloud import storage\n",
        "\n",
        "# Create a storage client.\n",
        "storage_client = storage.Client(project='jal2340-applied-cv-s24')\n",
        "\n",
        "# Specify the name of your GCS bucket and the object (file) to download.\n",
        "bucket_name = '3d-dicty-data'\n",
        "\n",
        "bucket = storage_client.bucket(bucket_name)"
      ],
      "metadata": {
        "id": "LqtYvFz7SVr3"
      },
      "execution_count": null,
      "outputs": []
    },
    {
      "cell_type": "code",
      "source": [
        "# exp is experiment/ collection dates\n",
        "exp_dates = ['2023-01-30', '2023-10-25']\n",
        "blobs = {\n",
        "    exp_dates[0] : {\"MIP\" : [], \"raw\": [], \"processed\":[]},\n",
        "    exp_dates[1] : dict(raw=[], MIP=[], smiley=[]),\n",
        "}\n",
        "for blob in bucket.list_blobs():\n",
        "  if(exp_dates[0] in blob.name):\n",
        "    if('MIP.czi' in blob.name):\n",
        "      blobs[exp_dates[0]][\"MIP\"].append(blob)\n",
        "    elif(\"processed.czi\" in blob.name):\n",
        "      blobs[exp_dates[0]][\"processed\"].append(blob)\n",
        "    else:\n",
        "      blobs[exp_dates[0]][\"raw\"].append(blob)\n",
        "  elif(exp_dates[1] in blob.name):\n",
        "    if('MIP.czi' in blob.name):\n",
        "      blobs[exp_dates[1]][\"MIP\"].append(blob)\n",
        "    elif(\"smiley.czi\" in blob.name):\n",
        "      blobs[exp_dates[1]][\"smiley\"].append(blob)\n",
        "    else:\n",
        "      blobs[exp_dates[1]][\"raw\"].append(blob)"
      ],
      "metadata": {
        "id": "kjecifFHSX6V"
      },
      "execution_count": null,
      "outputs": []
    },
    {
      "cell_type": "code",
      "source": [
        "blob = blobs[exp_dates[0]]['processed'][5]\n",
        "blob.size / (1024 * 1024 * 1024) # size in GB"
      ],
      "metadata": {
        "id": "683ESJoLSbgB"
      },
      "execution_count": null,
      "outputs": []
    },
    {
      "cell_type": "code",
      "source": [
        "chunk_size=10*1024*1024"
      ],
      "metadata": {
        "id": "_untjFW0Shdd"
      },
      "execution_count": null,
      "outputs": []
    },
    {
      "cell_type": "code",
      "source": [
        "def get_image(vid_index, date=0, group='processed', blobs=blobs):\n",
        "  blob = blobs[exp_dates[date]][group][vid_index]\n",
        "  fname = blob.name.split('/')[-1] # ignore date/fname\n",
        "  print(f\"Loading {fname}\")\n",
        "  blob.download_to_filename(fname)\n",
        "  return(CziFile(fname))"
      ],
      "metadata": {
        "id": "UQcVLZdaSLr5"
      },
      "execution_count": null,
      "outputs": []
    },
    {
      "cell_type": "code",
      "source": [
        "img = get_image(5, 0, 'processed')\n",
        "# TODO: Understand each dimension in the shape\n",
        "# shape is Channels x num_slices x H x W.\n",
        "# S is \"Scene\" - different POV or regions\n",
        "# not a video ??\n",
        "img.get_dims_shape()"
      ],
      "metadata": {
        "id": "CCTM7zuIR-xD"
      },
      "execution_count": null,
      "outputs": []
    },
    {
      "cell_type": "code",
      "source": [
        "img_input = img[0, 50, :, :]"
      ],
      "metadata": {
        "id": "RPlteyBHQ1_X"
      },
      "execution_count": null,
      "outputs": []
    },
    {
      "cell_type": "code",
      "source": [
        "masks, flows, styles = models.CellposeModel(model_type='cyto3').eval(img_input,\n",
        "                            diameter=None, channels=[0,0])"
      ],
      "metadata": {
        "id": "kt7QKk5EQ2di"
      },
      "execution_count": null,
      "outputs": []
    },
    {
      "cell_type": "code",
      "source": [
        "plt.imshow(img[0, 50, :, :])"
      ],
      "metadata": {
        "id": "sl0xAGjER3_S"
      },
      "execution_count": null,
      "outputs": []
    },
    {
      "cell_type": "code",
      "source": [
        "masks.unique()"
      ],
      "metadata": {
        "id": "Nsnxh4XVR0PA"
      },
      "execution_count": null,
      "outputs": []
    },
    {
      "cell_type": "code",
      "source": [
        "def get_zslice(img, z, channel=0):\n",
        "  return(img[channel, z, :, :])"
      ],
      "metadata": {
        "id": "CelKpvi6R590"
      },
      "execution_count": null,
      "outputs": []
    },
    {
      "cell_type": "code",
      "source": [
        "plt.imshow(get_zslice(img, 50))"
      ],
      "metadata": {
        "id": "omDWZAU7R9mk",
        "colab": {
          "base_uri": "https://localhost:8080/",
          "height": 141
        },
        "outputId": "5d0b813f-e759-4865-cbe6-0e1fddfdc698"
      },
      "execution_count": null,
      "outputs": [
        {
          "output_type": "error",
          "ename": "NameError",
          "evalue": "name 'img' is not defined",
          "traceback": [
            "\u001b[0;31m---------------------------------------------------------------------------\u001b[0m",
            "\u001b[0;31mNameError\u001b[0m                                 Traceback (most recent call last)",
            "\u001b[0;32m<ipython-input-6-0f95432b26f8>\u001b[0m in \u001b[0;36m<cell line: 1>\u001b[0;34m()\u001b[0m\n\u001b[0;32m----> 1\u001b[0;31m \u001b[0mplt\u001b[0m\u001b[0;34m.\u001b[0m\u001b[0mimshow\u001b[0m\u001b[0;34m(\u001b[0m\u001b[0mget_zslice\u001b[0m\u001b[0;34m(\u001b[0m\u001b[0mimg\u001b[0m\u001b[0;34m,\u001b[0m \u001b[0;36m50\u001b[0m\u001b[0;34m)\u001b[0m\u001b[0;34m)\u001b[0m\u001b[0;34m\u001b[0m\u001b[0;34m\u001b[0m\u001b[0m\n\u001b[0m",
            "\u001b[0;31mNameError\u001b[0m: name 'img' is not defined"
          ]
        }
      ]
    },
    {
      "cell_type": "code",
      "source": [
        "def get_bounding_boxes(a, padding = 0):\n",
        "      num_rectangles = np.max(a)\n",
        "      rectangle_coords = []\n",
        "      for i in np.arange(num_rectangles) + 1:\n",
        "        values = np.where(a == i)\n",
        "        x = values[0][0]\n",
        "        y = values[1][0]\n",
        "        if (x!=0):\n",
        "          if (padding > x):\n",
        "            x = padding - x\n",
        "          else:\n",
        "            width = np.abs(values[0][-1] - x) + padding*2 + 1\n",
        "\n",
        "        else:\n",
        "          x = 0\n",
        "          width = np.abs(values[0][-1] - x) + padding + 1\n",
        "\n",
        "\n",
        "\n",
        "        if (y!=0):\n",
        "          print(padding, \"y is\", y)\n",
        "          if (padding > y):\n",
        "            y = padding - y\n",
        "          else:\n",
        "            height = np.abs(values[1][-1] - y) + padding*2 +1\n",
        "        else:\n",
        "          y=0\n",
        "          height = np.abs(values[1][-1] - y)  + padding +1\n",
        "\n",
        "        #check that height doesnt go over the page\n",
        "        if (a.shape[1]+1 < height+y):\n",
        "          height  = height - (((height+y)-a.shape[1])-1)\n",
        "\n",
        "\n",
        "        rectangle_coords.append((x,  width))\n",
        "\n",
        "      return rectangle_coords\n",
        "\n",
        "\n",
        "\n",
        "\n",
        "\n",
        "#x,y,w,h"
      ],
      "metadata": {
        "id": "k8jTAGIuGEIs"
      },
      "execution_count": 118,
      "outputs": []
    },
    {
      "cell_type": "code",
      "source": [
        "def get_bounding_boxes(a, padding = 0):\n",
        "  num_rectangles = np.max(a)\n",
        "  rectangle_coords = []\n",
        "  for i in np.arange(num_rectangles) + 1:\n",
        "        values = np.where(a == i)\n",
        "        x = values[0][0]\n",
        "        y = values[1][0]\n",
        "\n",
        "        #first we pick the right x value b y subtarcting padding. If the new x value is smaller than 0 then x is just 0\n",
        "        x = x - padding\n",
        "        width = np.abs(values[0][-1] - x) + padding + 1\n",
        "        if (x < 0):\n",
        "          #subtract the amounts we are removing from\n",
        "          width = width - abs(x)\n",
        "          x = 0\n",
        "\n",
        "        #now we want to cut off the width if we go over\n",
        "        if (x+width > a.shape[0]):\n",
        "          width = width - ((x+width)-a.shape[0] )\n",
        "\n",
        "\n",
        "        #repeat for y\n",
        "\n",
        "        y = y - padding\n",
        "        height = np.abs(values[1][-1] - y) + padding + 1\n",
        "        if (y < 0):\n",
        "          height = height - abs(y)\n",
        "          y = 0\n",
        "        if (y+height > a.shape[1]):\n",
        "          height = height - ((y+height)-a.shape[1] )\n",
        "\n",
        "        rectangle_coords.append((x,  width, y, height))\n",
        "\n",
        "  return rectangle_coords\n",
        "\n",
        "\n",
        "\n",
        "\n",
        "\n",
        "\n"
      ],
      "metadata": {
        "id": "5RtS_ImU0Nwp"
      },
      "execution_count": 158,
      "outputs": []
    },
    {
      "cell_type": "code",
      "source": [
        "a = [[1, 1, 1, 1, 0, 0, 0, 0, 0, 0, 0, 0, 0, 0, 0, 2, 2, 2, 2, 2, 2, 2],\n",
        "     [1, 1, 1, 1, 0, 0, 0, 0, 0, 0, 0, 3, 3, 0, 0, 0, 2, 2, 2, 2, 2, 2],\n",
        "     [1, 1, 1, 1, 0, 0, 0, 5, 0, 0, 0, 3, 3, 0, 0, 0, 2, 2, 2, 2, 2, 2],\n",
        "     [1, 1, 1, 1, 0, 0, 0, 0, 0, 0, 0, 0, 0, 0, 0, 0, 2, 2, 2, 2, 2, 2],\n",
        "     [1, 1, 1, 1, 0, 0, 0, 4, 4, 4, 4, 4, 0, 0, 0, 0, 0, 0, 0, 0, 0, 0],\n",
        "     [0, 0, 0, 0, 0, 0, 0, 4, 4, 4, 4, 4, 0, 0, 0, 0, 0, 0, 0, 0, 6, 0]]\n",
        "\n",
        "a = np.array(a)\n",
        "get_bounding_boxes(a, padding = 15)"
      ],
      "metadata": {
        "id": "EC1hrjwvEaoS",
        "colab": {
          "base_uri": "https://localhost:8080/"
        },
        "outputId": "3d5c4f84-e120-4066-a782-4acd366668dc"
      },
      "execution_count": 167,
      "outputs": [
        {
          "output_type": "execute_result",
          "data": {
            "text/plain": [
              "[(0, 6, 0, 19),\n",
              " (0, 6, 0, 22),\n",
              " (0, 6, 0, 22),\n",
              " (0, 6, 0, 22),\n",
              " (0, 6, 0, 22),\n",
              " (0, 6, 5, 17)]"
            ]
          },
          "metadata": {},
          "execution_count": 167
        }
      ]
    },
    {
      "cell_type": "code",
      "source": [
        "def get_bounding_cube(list_of_a, padding=0):\n",
        "  for a in list_of_a:\n",
        "    index_coords = get_bounding_boxes(a)\n",
        "    #this returns a list of [(x,y,width,height),....] for each index\n",
        "\n",
        "\n"
      ],
      "metadata": {
        "id": "KKYkEV3iLZTc"
      },
      "execution_count": null,
      "outputs": []
    }
  ]
}