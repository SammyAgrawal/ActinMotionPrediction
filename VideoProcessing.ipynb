{
 "cells": [
  {
   "cell_type": "code",
   "execution_count": 1,
   "id": "4KOOTjSakkQS",
   "metadata": {
    "colab": {
     "base_uri": "https://localhost:8080/"
    },
    "executionInfo": {
     "elapsed": 10865,
     "status": "ok",
     "timestamp": 1712703635934,
     "user": {
      "displayName": "",
      "userId": ""
     },
     "user_tz": 240
    },
    "id": "4KOOTjSakkQS",
    "outputId": "a6357700-abd8-448c-8b67-3dbc9545c833"
   },
   "outputs": [],
   "source": [
    "#!pip install aicspylibczi"
   ]
  },
  {
   "cell_type": "code",
   "execution_count": 2,
   "id": "lStwqpMqhDH0",
   "metadata": {
    "colab": {
     "base_uri": "https://localhost:8080/"
    },
    "executionInfo": {
     "elapsed": 10325,
     "status": "ok",
     "timestamp": 1712703646255,
     "user": {
      "displayName": "",
      "userId": ""
     },
     "user_tz": 240
    },
    "id": "lStwqpMqhDH0",
    "outputId": "1724bb2f-bd60-4be8-d5e7-3ded6bf16d93"
   },
   "outputs": [],
   "source": [
    "#!pip install czifile"
   ]
  },
  {
   "cell_type": "code",
   "execution_count": 3,
   "id": "SrBZk6_XgRRp",
   "metadata": {
    "colab": {
     "base_uri": "https://localhost:8080/"
    },
    "executionInfo": {
     "elapsed": 209506,
     "status": "ok",
     "timestamp": 1712695826304,
     "user": {
      "displayName": "",
      "userId": ""
     },
     "user_tz": 240
    },
    "id": "SrBZk6_XgRRp",
    "outputId": "21fdefc1-e4f0-474c-eca4-3b9e841b76dc"
   },
   "outputs": [],
   "source": [
    "#!pip install cellpose[gui]"
   ]
  },
  {
   "cell_type": "code",
   "execution_count": null,
   "id": "70c4904b-db88-48d6-93d0-77801ce0272e",
   "metadata": {},
   "outputs": [],
   "source": [
    "#!pip install ffmpeg-python"
   ]
  },
  {
   "cell_type": "code",
   "execution_count": 17,
   "id": "f8e01d73-3330-4aba-9c41-142cdd39cacb",
   "metadata": {
    "executionInfo": {
     "elapsed": 164,
     "status": "ok",
     "timestamp": 1712710355206,
     "user": {
      "displayName": "",
      "userId": ""
     },
     "user_tz": 240
    },
    "id": "f8e01d73-3330-4aba-9c41-142cdd39cacb"
   },
   "outputs": [],
   "source": [
    "from aicspylibczi import CziFile\n",
    "import czifile\n",
    "import numpy as np\n",
    "import matplotlib.pyplot as plt\n",
    "from matplotlib.pyplot import imshow\n",
    "import cv2\n",
    "import os\n",
    "import imageio\n",
    "import time\n",
    "import pandas as pd\n",
    "from cellpose import io, models"
   ]
  },
  {
   "cell_type": "code",
   "execution_count": 10,
   "id": "d3fe9407-506d-4524-9f6a-5694d596e4e2",
   "metadata": {},
   "outputs": [],
   "source": [
    "%matplotlib inline"
   ]
  },
  {
   "cell_type": "code",
   "execution_count": 3,
   "id": "DKrnxGNPu4Ny",
   "metadata": {
    "colab": {
     "base_uri": "https://localhost:8080/"
    },
    "executionInfo": {
     "elapsed": 175,
     "status": "ok",
     "timestamp": 1712698380765,
     "user": {
      "displayName": "",
      "userId": ""
     },
     "user_tz": 240
    },
    "id": "DKrnxGNPu4Ny",
    "outputId": "66f09c34-4d71-4274-bf7d-b7995cc59903"
   },
   "outputs": [
    {
     "name": "stdout",
     "output_type": "stream",
     "text": [
      "Python 3.9.19\n"
     ]
    }
   ],
   "source": [
    "!python --version"
   ]
  },
  {
   "cell_type": "markdown",
   "id": "978ac315-8bab-450a-9172-2141964c43bb",
   "metadata": {
    "jp-MarkdownHeadingCollapsed": true
   },
   "source": [
    "## If loading from bucket"
   ]
  },
  {
   "cell_type": "code",
   "execution_count": 3,
   "id": "o1kjLF7VWMxs",
   "metadata": {
    "executionInfo": {
     "elapsed": 204,
     "status": "ok",
     "timestamp": 1712703748342,
     "user": {
      "displayName": "",
      "userId": ""
     },
     "user_tz": 240
    },
    "id": "o1kjLF7VWMxs"
   },
   "outputs": [],
   "source": [
    "from google.cloud import storage\n",
    "\n",
    "# Create a storage client.\n",
    "storage_client = storage.Client(project='jal2340-applied-cv-s24')\n",
    "\n",
    "# Specify the name of your GCS bucket and the object (file) to download.\n",
    "bucket_name = '3d-dicty-data'\n",
    "\n",
    "bucket = storage_client.bucket(bucket_name)"
   ]
  },
  {
   "cell_type": "code",
   "execution_count": 4,
   "id": "4jfdB81zgxEH",
   "metadata": {
    "executionInfo": {
     "elapsed": 379,
     "status": "ok",
     "timestamp": 1712703755134,
     "user": {
      "displayName": "",
      "userId": ""
     },
     "user_tz": 240
    },
    "id": "4jfdB81zgxEH"
   },
   "outputs": [],
   "source": [
    "# exp is experiment/ collection dates\n",
    "exp_dates = ['2023-01-30', '2023-10-25']\n",
    "blobs = {\n",
    "    exp_dates[0] : {\"MIP\" : [], \"raw\": [], \"processed\":[]},\n",
    "    exp_dates[1] : dict(raw=[], MIP=[], smiley=[]),\n",
    "}\n",
    "for blob in bucket.list_blobs():\n",
    "  if(exp_dates[0] in blob.name):\n",
    "    if('MIP.czi' in blob.name):\n",
    "      blobs[exp_dates[0]][\"MIP\"].append(blob)\n",
    "    elif(\"processed.czi\" in blob.name):\n",
    "      blobs[exp_dates[0]][\"processed\"].append(blob)\n",
    "    else:\n",
    "      blobs[exp_dates[0]][\"raw\"].append(blob)\n",
    "  elif(exp_dates[1] in blob.name):\n",
    "    if('MIP.czi' in blob.name):\n",
    "      blobs[exp_dates[1]][\"MIP\"].append(blob)\n",
    "    elif(\"smiley.czi\" in blob.name):\n",
    "      blobs[exp_dates[1]][\"smiley\"].append(blob)\n",
    "    else:\n",
    "      blobs[exp_dates[1]][\"raw\"].append(blob)"
   ]
  },
  {
   "cell_type": "code",
   "execution_count": 6,
   "id": "k9urn3-nP0Jh",
   "metadata": {
    "colab": {
     "base_uri": "https://localhost:8080/"
    },
    "executionInfo": {
     "elapsed": 165,
     "status": "ok",
     "timestamp": 1712703758377,
     "user": {
      "displayName": "",
      "userId": ""
     },
     "user_tz": 240
    },
    "id": "k9urn3-nP0Jh",
    "outputId": "268ef542-5eae-4448-a4d6-c3c527e51372"
   },
   "outputs": [
    {
     "data": {
      "text/plain": [
       "{'2023-01-30': {'MIP': [<Blob: 3d-dicty-data, 2023-01-30/dicty_factin_pip3-01_MIP.czi, 1710358500008774>,\n",
       "   <Blob: 3d-dicty-data, 2023-01-30/dicty_factin_pip3-02_MIP.czi, 1710358537771887>,\n",
       "   <Blob: 3d-dicty-data, 2023-01-30/dicty_factin_pip3-03_MIP.czi, 1710358751673597>,\n",
       "   <Blob: 3d-dicty-data, 2023-01-30/dicty_factin_pip3-04_MIP.czi, 1710358795150245>,\n",
       "   <Blob: 3d-dicty-data, 2023-01-30/dicty_factin_pip3-05_MIP.czi, 1710358946480650>,\n",
       "   <Blob: 3d-dicty-data, 2023-01-30/dicty_factin_pip3-06_MIP.czi, 1710361694382886>,\n",
       "   <Blob: 3d-dicty-data, 2023-01-30/dicty_factin_pip3-07_MIP.czi, 1710366852425136>,\n",
       "   <Blob: 3d-dicty-data, 2023-01-30/dicty_factin_pip3-08_MIP.czi, 1710367004956447>,\n",
       "   <Blob: 3d-dicty-data, 2023-01-30/dicty_factin_pip3-09_MIP.czi, 1710369513010511>],\n",
       "  'raw': [<Blob: 3d-dicty-data, 2023-01-30/dicty_factin_pip3-01.czi, 1710358579678619>,\n",
       "   <Blob: 3d-dicty-data, 2023-01-30/dicty_factin_pip3-02.czi, 1710358536343239>,\n",
       "   <Blob: 3d-dicty-data, 2023-01-30/dicty_factin_pip3-03.czi, 1710361447534733>,\n",
       "   <Blob: 3d-dicty-data, 2023-01-30/dicty_factin_pip3-04.czi, 1710358793612427>,\n",
       "   <Blob: 3d-dicty-data, 2023-01-30/dicty_factin_pip3-05.czi, 1710358944946188>,\n",
       "   <Blob: 3d-dicty-data, 2023-01-30/dicty_factin_pip3-06.czi, 1710366817083150>,\n",
       "   <Blob: 3d-dicty-data, 2023-01-30/dicty_factin_pip3-07.czi, 1710366850913412>,\n",
       "   <Blob: 3d-dicty-data, 2023-01-30/dicty_factin_pip3-08.czi, 1710367003436256>,\n",
       "   <Blob: 3d-dicty-data, 2023-01-30/dicty_factin_pip3-09.czi, 1710374618524208>],\n",
       "  'processed': [<Blob: 3d-dicty-data, 2023-01-30/dicty_factin_pip3-01_processed.czi, 1710358720969715>,\n",
       "   <Blob: 3d-dicty-data, 2023-01-30/dicty_factin_pip3-02_processed.czi, 1710358659274715>,\n",
       "   <Blob: 3d-dicty-data, 2023-01-30/dicty_factin_pip3-03_processed.czi, 1710369260579896>,\n",
       "   <Blob: 3d-dicty-data, 2023-01-30/dicty_factin_pip3-04_processed.czi, 1710358912010824>,\n",
       "   <Blob: 3d-dicty-data, 2023-01-30/dicty_factin_pip3-05_processed.czi, 1710359065331241>,\n",
       "   <Blob: 3d-dicty-data, 2023-01-30/dicty_factin_pip3-06_processed.czi, 1710389916565644>,\n",
       "   <Blob: 3d-dicty-data, 2023-01-30/dicty_factin_pip3-07_processed.czi, 1710366970864457>,\n",
       "   <Blob: 3d-dicty-data, 2023-01-30/dicty_factin_pip3-08_processed.czi, 1710367122027015>,\n",
       "   <Blob: 3d-dicty-data, 2023-01-30/dicty_factin_pip3-09_processed.czi, 1710397207160459>]},\n",
       " '2023-10-25': {'raw': [<Blob: 3d-dicty-data, 2023-10-25/Continuous-41420.czi, 1710374621150353>,\n",
       "   <Blob: 3d-dicty-data, 2023-10-25/New-01.czi, 1710374624473442>,\n",
       "   <Blob: 3d-dicty-data, 2023-10-25/New-02.czi, 1710379183077372>,\n",
       "   <Blob: 3d-dicty-data, 2023-10-25/New-03.czi, 1710390729120837>,\n",
       "   <Blob: 3d-dicty-data, 2023-10-25/New-04.czi, 1710400992908401>],\n",
       "  'MIP': [<Blob: 3d-dicty-data, 2023-10-25/New-01_MIP.czi, 1710374627956821>,\n",
       "   <Blob: 3d-dicty-data, 2023-10-25/New-02_MIP.czi, 1710380136686847>,\n",
       "   <Blob: 3d-dicty-data, 2023-10-25/New-03_MIP.czi, 1710390811087376>,\n",
       "   <Blob: 3d-dicty-data, 2023-10-25/New-04_MIP.czi, 1710395949773281>],\n",
       "  'smiley': [<Blob: 3d-dicty-data, 2023-10-25/New-01_dicty_smiley.czi, 1710374626666056>,\n",
       "   <Blob: 3d-dicty-data, 2023-10-25/New-02_dicty_smiley.czi, 1710380095303637>,\n",
       "   <Blob: 3d-dicty-data, 2023-10-25/New-03_dicty_smiley.czi, 1710392064995281>,\n",
       "   <Blob: 3d-dicty-data, 2023-10-25/New-04_dicty_smiley.czi, 1710395819911632>]}}"
      ]
     },
     "execution_count": 6,
     "metadata": {},
     "output_type": "execute_result"
    }
   ],
   "source": [
    "blobs"
   ]
  },
  {
   "cell_type": "code",
   "execution_count": 7,
   "id": "s1UtMG3Jlmes",
   "metadata": {
    "id": "s1UtMG3Jlmes"
   },
   "outputs": [],
   "source": [
    "# index is which video choosing (6th one, etc)\n",
    "\n",
    "def get_image(vid_index, date=0, group='processed', blobs=blobs):\n",
    "  blob = blobs[exp_dates[date]][group][vid_index]\n",
    "  fname = blob.name.split('/')[-1] # ignore date/fname\n",
    "  print(f\"Loading {fname}\")\n",
    "  blob.download_to_filename(fname)\n",
    "  return(CziFile(fname))"
   ]
  },
  {
   "cell_type": "code",
   "execution_count": 13,
   "id": "-gveCIGaC1WD",
   "metadata": {
    "colab": {
     "base_uri": "https://localhost:8080/"
    },
    "executionInfo": {
     "elapsed": 136,
     "status": "ok",
     "timestamp": 1712703762932,
     "user": {
      "displayName": "",
      "userId": ""
     },
     "user_tz": 240
    },
    "id": "-gveCIGaC1WD",
    "outputId": "cccc8d04-f56d-475e-81f7-28384c1d0c46"
   },
   "outputs": [
    {
     "data": {
      "text/plain": [
       "99.62492406368256"
      ]
     },
     "execution_count": 13,
     "metadata": {},
     "output_type": "execute_result"
    }
   ],
   "source": [
    "blob = blobs[exp_dates[0]]['processed'][5]\n",
    "blob.size / (1024 * 1024 * 1024) # size in GB"
   ]
  },
  {
   "cell_type": "code",
   "execution_count": 14,
   "id": "18H_HtblDpAv",
   "metadata": {
    "executionInfo": {
     "elapsed": 205,
     "status": "ok",
     "timestamp": 1712703768550,
     "user": {
      "displayName": "",
      "userId": ""
     },
     "user_tz": 240
    },
    "id": "18H_HtblDpAv"
   },
   "outputs": [],
   "source": [
    "chunk_size=10*1024*1024"
   ]
  },
  {
   "cell_type": "code",
   "execution_count": 13,
   "id": "tfBq5V3PEEyH",
   "metadata": {
    "colab": {
     "base_uri": "https://localhost:8080/"
    },
    "executionInfo": {
     "elapsed": 2992,
     "status": "ok",
     "timestamp": 1712703782491,
     "user": {
      "displayName": "",
      "userId": ""
     },
     "user_tz": 240
    },
    "id": "tfBq5V3PEEyH",
    "outputId": "69221f53-2791-4ebc-a23e-1517d371f003"
   },
   "outputs": [],
   "source": [
    "#start = 0\n",
    "#end = min(start + chunk_size, blob.size)\n",
    "#print(f\"Loading {start} to {end}\")\n",
    "#blob.download_as_string(start=start, end=end)"
   ]
  },
  {
   "cell_type": "code",
   "execution_count": 14,
   "id": "E1VEwYtgDZpS",
   "metadata": {
    "id": "E1VEwYtgDZpS"
   },
   "outputs": [],
   "source": [
    "# Read the blob in chunks\n",
    "\n",
    "#start = 0\n",
    "#while start < blob_size:\n",
    "#    end = min(start + chunk_size, blob_size)\n",
    "#    chunk = blob.download_as_string(start=start, end=end)\n",
    "#    process_czi_chunk(chunk)\n",
    "#    start = end"
   ]
  },
  {
   "cell_type": "code",
   "execution_count": 15,
   "id": "ROS-sqYjDAFd",
   "metadata": {
    "id": "ROS-sqYjDAFd"
   },
   "outputs": [],
   "source": [
    "def process_czi_chunk(chunk):\n",
    "    # Process the chunk as needed\n",
    "    pass\n",
    "\n",
    "def load_czi_from_gcs(bucket_name, blob_name, chunk_size=10*1024*1024):  # Chunk size: 10 MB\n",
    "    storage_client = storage.Client()\n",
    "    bucket = storage_client.bucket(bucket_name)\n",
    "    blob = bucket.blob(blob_name)\n",
    "\n",
    "    # Get the total size of the blob\n",
    "    blob_size = blob.size\n",
    "\n",
    "    # Read the blob in chunks\n",
    "    start = 0\n",
    "    while start < blob_size:\n",
    "        end = min(start + chunk_size, blob_size)\n",
    "        chunk = blob.download_as_string(start=start, end=end)\n",
    "        process_czi_chunk(chunk)\n",
    "        start = end\n",
    "\n",
    "# Example usage:\n",
    "#bucket_name = 'your_bucket_name'\n",
    "#blob_name = 'path/to/your/czi/video/file.czi'\n",
    "#load_czi_from_gcs(bucket_name, blob_name)"
   ]
  },
  {
   "cell_type": "code",
   "execution_count": null,
   "id": "3dGnb2teDDRf",
   "metadata": {
    "id": "3dGnb2teDDRf"
   },
   "outputs": [],
   "source": []
  },
  {
   "cell_type": "code",
   "execution_count": 17,
   "id": "c839a1f2-8682-45c1-af7e-70027afa8c45",
   "metadata": {
    "colab": {
     "base_uri": "https://localhost:8080/",
     "height": 435
    },
    "executionInfo": {
     "elapsed": 949584,
     "status": "error",
     "timestamp": 1712701882122,
     "user": {
      "displayName": "",
      "userId": ""
     },
     "user_tz": 240
    },
    "id": "c839a1f2-8682-45c1-af7e-70027afa8c45",
    "outputId": "e78ff91b-36ad-47cd-d028-746fa14bf887"
   },
   "outputs": [
    {
     "name": "stdout",
     "output_type": "stream",
     "text": [
      "Loading dicty_factin_pip3-06_processed.czi\n"
     ]
    },
    {
     "ename": "KeyboardInterrupt",
     "evalue": "",
     "output_type": "error",
     "traceback": [
      "\u001b[0;31m---------------------------------------------------------------------------\u001b[0m",
      "\u001b[0;31mKeyboardInterrupt\u001b[0m                         Traceback (most recent call last)",
      "Cell \u001b[0;32mIn[17], line 1\u001b[0m\n\u001b[0;32m----> 1\u001b[0m img \u001b[38;5;241m=\u001b[39m \u001b[43mget_image\u001b[49m\u001b[43m(\u001b[49m\u001b[38;5;241;43m5\u001b[39;49m\u001b[43m,\u001b[49m\u001b[43m \u001b[49m\u001b[38;5;241;43m0\u001b[39;49m\u001b[43m,\u001b[49m\u001b[43m \u001b[49m\u001b[38;5;124;43m'\u001b[39;49m\u001b[38;5;124;43mprocessed\u001b[39;49m\u001b[38;5;124;43m'\u001b[39;49m\u001b[43m)\u001b[49m\n\u001b[1;32m      2\u001b[0m \u001b[38;5;66;03m# TODO: Understand each dimension in the shape\u001b[39;00m\n\u001b[1;32m      3\u001b[0m \u001b[38;5;66;03m# shape is Channels x num_slices x H x W.\u001b[39;00m\n\u001b[1;32m      4\u001b[0m \u001b[38;5;66;03m# S is \"Scene\" - different POV or regions\u001b[39;00m\n\u001b[1;32m      5\u001b[0m \u001b[38;5;66;03m# not a video ??\u001b[39;00m\n\u001b[1;32m      6\u001b[0m img\u001b[38;5;241m.\u001b[39mget_dims_shape()\n",
      "Cell \u001b[0;32mIn[7], line 7\u001b[0m, in \u001b[0;36mget_image\u001b[0;34m(vid_index, date, group, blobs)\u001b[0m\n\u001b[1;32m      5\u001b[0m fname \u001b[38;5;241m=\u001b[39m blob\u001b[38;5;241m.\u001b[39mname\u001b[38;5;241m.\u001b[39msplit(\u001b[38;5;124m'\u001b[39m\u001b[38;5;124m/\u001b[39m\u001b[38;5;124m'\u001b[39m)[\u001b[38;5;241m-\u001b[39m\u001b[38;5;241m1\u001b[39m] \u001b[38;5;66;03m# ignore date/fname\u001b[39;00m\n\u001b[1;32m      6\u001b[0m \u001b[38;5;28mprint\u001b[39m(\u001b[38;5;124mf\u001b[39m\u001b[38;5;124m\"\u001b[39m\u001b[38;5;124mLoading \u001b[39m\u001b[38;5;132;01m{\u001b[39;00mfname\u001b[38;5;132;01m}\u001b[39;00m\u001b[38;5;124m\"\u001b[39m)\n\u001b[0;32m----> 7\u001b[0m \u001b[43mblob\u001b[49m\u001b[38;5;241;43m.\u001b[39;49m\u001b[43mdownload_to_filename\u001b[49m\u001b[43m(\u001b[49m\u001b[43mfname\u001b[49m\u001b[43m)\u001b[49m\n\u001b[1;32m      8\u001b[0m \u001b[38;5;28;01mreturn\u001b[39;00m(CziFile(fname))\n",
      "File \u001b[0;32m~/anaconda3/envs/sammy/lib/python3.9/site-packages/google/cloud/storage/blob.py:1312\u001b[0m, in \u001b[0;36mBlob.download_to_filename\u001b[0;34m(self, filename, client, start, end, raw_download, if_etag_match, if_etag_not_match, if_generation_match, if_generation_not_match, if_metageneration_match, if_metageneration_not_match, timeout, checksum, retry)\u001b[0m\n\u001b[1;32m   1204\u001b[0m \u001b[38;5;28;01mdef\u001b[39;00m \u001b[38;5;21mdownload_to_filename\u001b[39m(\n\u001b[1;32m   1205\u001b[0m     \u001b[38;5;28mself\u001b[39m,\n\u001b[1;32m   1206\u001b[0m     filename,\n\u001b[0;32m   (...)\u001b[0m\n\u001b[1;32m   1219\u001b[0m     retry\u001b[38;5;241m=\u001b[39mDEFAULT_RETRY,\n\u001b[1;32m   1220\u001b[0m ):\n\u001b[1;32m   1221\u001b[0m \u001b[38;5;250m    \u001b[39m\u001b[38;5;124;03m\"\"\"Download the contents of this blob into a named file.\u001b[39;00m\n\u001b[1;32m   1222\u001b[0m \n\u001b[1;32m   1223\u001b[0m \u001b[38;5;124;03m    If :attr:`user_project` is set on the bucket, bills the API request\u001b[39;00m\n\u001b[0;32m   (...)\u001b[0m\n\u001b[1;32m   1309\u001b[0m \u001b[38;5;124;03m    :raises: :class:`google.cloud.exceptions.NotFound`\u001b[39;00m\n\u001b[1;32m   1310\u001b[0m \u001b[38;5;124;03m    \"\"\"\u001b[39;00m\n\u001b[0;32m-> 1312\u001b[0m     \u001b[38;5;28;43mself\u001b[39;49m\u001b[38;5;241;43m.\u001b[39;49m\u001b[43m_handle_filename_and_download\u001b[49m\u001b[43m(\u001b[49m\n\u001b[1;32m   1313\u001b[0m \u001b[43m        \u001b[49m\u001b[43mfilename\u001b[49m\u001b[43m,\u001b[49m\n\u001b[1;32m   1314\u001b[0m \u001b[43m        \u001b[49m\u001b[43mclient\u001b[49m\u001b[38;5;241;43m=\u001b[39;49m\u001b[43mclient\u001b[49m\u001b[43m,\u001b[49m\n\u001b[1;32m   1315\u001b[0m \u001b[43m        \u001b[49m\u001b[43mstart\u001b[49m\u001b[38;5;241;43m=\u001b[39;49m\u001b[43mstart\u001b[49m\u001b[43m,\u001b[49m\n\u001b[1;32m   1316\u001b[0m \u001b[43m        \u001b[49m\u001b[43mend\u001b[49m\u001b[38;5;241;43m=\u001b[39;49m\u001b[43mend\u001b[49m\u001b[43m,\u001b[49m\n\u001b[1;32m   1317\u001b[0m \u001b[43m        \u001b[49m\u001b[43mraw_download\u001b[49m\u001b[38;5;241;43m=\u001b[39;49m\u001b[43mraw_download\u001b[49m\u001b[43m,\u001b[49m\n\u001b[1;32m   1318\u001b[0m \u001b[43m        \u001b[49m\u001b[43mif_etag_match\u001b[49m\u001b[38;5;241;43m=\u001b[39;49m\u001b[43mif_etag_match\u001b[49m\u001b[43m,\u001b[49m\n\u001b[1;32m   1319\u001b[0m \u001b[43m        \u001b[49m\u001b[43mif_etag_not_match\u001b[49m\u001b[38;5;241;43m=\u001b[39;49m\u001b[43mif_etag_not_match\u001b[49m\u001b[43m,\u001b[49m\n\u001b[1;32m   1320\u001b[0m \u001b[43m        \u001b[49m\u001b[43mif_generation_match\u001b[49m\u001b[38;5;241;43m=\u001b[39;49m\u001b[43mif_generation_match\u001b[49m\u001b[43m,\u001b[49m\n\u001b[1;32m   1321\u001b[0m \u001b[43m        \u001b[49m\u001b[43mif_generation_not_match\u001b[49m\u001b[38;5;241;43m=\u001b[39;49m\u001b[43mif_generation_not_match\u001b[49m\u001b[43m,\u001b[49m\n\u001b[1;32m   1322\u001b[0m \u001b[43m        \u001b[49m\u001b[43mif_metageneration_match\u001b[49m\u001b[38;5;241;43m=\u001b[39;49m\u001b[43mif_metageneration_match\u001b[49m\u001b[43m,\u001b[49m\n\u001b[1;32m   1323\u001b[0m \u001b[43m        \u001b[49m\u001b[43mif_metageneration_not_match\u001b[49m\u001b[38;5;241;43m=\u001b[39;49m\u001b[43mif_metageneration_not_match\u001b[49m\u001b[43m,\u001b[49m\n\u001b[1;32m   1324\u001b[0m \u001b[43m        \u001b[49m\u001b[43mtimeout\u001b[49m\u001b[38;5;241;43m=\u001b[39;49m\u001b[43mtimeout\u001b[49m\u001b[43m,\u001b[49m\n\u001b[1;32m   1325\u001b[0m \u001b[43m        \u001b[49m\u001b[43mchecksum\u001b[49m\u001b[38;5;241;43m=\u001b[39;49m\u001b[43mchecksum\u001b[49m\u001b[43m,\u001b[49m\n\u001b[1;32m   1326\u001b[0m \u001b[43m        \u001b[49m\u001b[43mretry\u001b[49m\u001b[38;5;241;43m=\u001b[39;49m\u001b[43mretry\u001b[49m\u001b[43m,\u001b[49m\n\u001b[1;32m   1327\u001b[0m \u001b[43m    \u001b[49m\u001b[43m)\u001b[49m\n",
      "File \u001b[0;32m~/anaconda3/envs/sammy/lib/python3.9/site-packages/google/cloud/storage/blob.py:1188\u001b[0m, in \u001b[0;36mBlob._handle_filename_and_download\u001b[0;34m(self, filename, *args, **kwargs)\u001b[0m\n\u001b[1;32m   1186\u001b[0m \u001b[38;5;28;01mtry\u001b[39;00m:\n\u001b[1;32m   1187\u001b[0m     \u001b[38;5;28;01mwith\u001b[39;00m \u001b[38;5;28mopen\u001b[39m(filename, \u001b[38;5;124m\"\u001b[39m\u001b[38;5;124mwb\u001b[39m\u001b[38;5;124m\"\u001b[39m) \u001b[38;5;28;01mas\u001b[39;00m file_obj:\n\u001b[0;32m-> 1188\u001b[0m         \u001b[38;5;28;43mself\u001b[39;49m\u001b[38;5;241;43m.\u001b[39;49m\u001b[43m_prep_and_do_download\u001b[49m\u001b[43m(\u001b[49m\n\u001b[1;32m   1189\u001b[0m \u001b[43m            \u001b[49m\u001b[43mfile_obj\u001b[49m\u001b[43m,\u001b[49m\n\u001b[1;32m   1190\u001b[0m \u001b[43m            \u001b[49m\u001b[38;5;241;43m*\u001b[39;49m\u001b[43margs\u001b[49m\u001b[43m,\u001b[49m\n\u001b[1;32m   1191\u001b[0m \u001b[43m            \u001b[49m\u001b[38;5;241;43m*\u001b[39;49m\u001b[38;5;241;43m*\u001b[39;49m\u001b[43mkwargs\u001b[49m\u001b[43m,\u001b[49m\n\u001b[1;32m   1192\u001b[0m \u001b[43m        \u001b[49m\u001b[43m)\u001b[49m\n\u001b[1;32m   1194\u001b[0m \u001b[38;5;28;01mexcept\u001b[39;00m resumable_media\u001b[38;5;241m.\u001b[39mDataCorruption:\n\u001b[1;32m   1195\u001b[0m     \u001b[38;5;66;03m# Delete the corrupt downloaded file.\u001b[39;00m\n\u001b[1;32m   1196\u001b[0m     os\u001b[38;5;241m.\u001b[39mremove(filename)\n",
      "File \u001b[0;32m~/anaconda3/envs/sammy/lib/python3.9/site-packages/google/cloud/storage/blob.py:4362\u001b[0m, in \u001b[0;36mBlob._prep_and_do_download\u001b[0;34m(self, file_obj, client, start, end, raw_download, if_etag_match, if_etag_not_match, if_generation_match, if_generation_not_match, if_metageneration_match, if_metageneration_not_match, timeout, checksum, retry, command)\u001b[0m\n\u001b[1;32m   4359\u001b[0m transport \u001b[38;5;241m=\u001b[39m client\u001b[38;5;241m.\u001b[39m_http\n\u001b[1;32m   4361\u001b[0m \u001b[38;5;28;01mtry\u001b[39;00m:\n\u001b[0;32m-> 4362\u001b[0m     \u001b[38;5;28;43mself\u001b[39;49m\u001b[38;5;241;43m.\u001b[39;49m\u001b[43m_do_download\u001b[49m\u001b[43m(\u001b[49m\n\u001b[1;32m   4363\u001b[0m \u001b[43m        \u001b[49m\u001b[43mtransport\u001b[49m\u001b[43m,\u001b[49m\n\u001b[1;32m   4364\u001b[0m \u001b[43m        \u001b[49m\u001b[43mfile_obj\u001b[49m\u001b[43m,\u001b[49m\n\u001b[1;32m   4365\u001b[0m \u001b[43m        \u001b[49m\u001b[43mdownload_url\u001b[49m\u001b[43m,\u001b[49m\n\u001b[1;32m   4366\u001b[0m \u001b[43m        \u001b[49m\u001b[43mheaders\u001b[49m\u001b[43m,\u001b[49m\n\u001b[1;32m   4367\u001b[0m \u001b[43m        \u001b[49m\u001b[43mstart\u001b[49m\u001b[43m,\u001b[49m\n\u001b[1;32m   4368\u001b[0m \u001b[43m        \u001b[49m\u001b[43mend\u001b[49m\u001b[43m,\u001b[49m\n\u001b[1;32m   4369\u001b[0m \u001b[43m        \u001b[49m\u001b[43mraw_download\u001b[49m\u001b[43m,\u001b[49m\n\u001b[1;32m   4370\u001b[0m \u001b[43m        \u001b[49m\u001b[43mtimeout\u001b[49m\u001b[38;5;241;43m=\u001b[39;49m\u001b[43mtimeout\u001b[49m\u001b[43m,\u001b[49m\n\u001b[1;32m   4371\u001b[0m \u001b[43m        \u001b[49m\u001b[43mchecksum\u001b[49m\u001b[38;5;241;43m=\u001b[39;49m\u001b[43mchecksum\u001b[49m\u001b[43m,\u001b[49m\n\u001b[1;32m   4372\u001b[0m \u001b[43m        \u001b[49m\u001b[43mretry\u001b[49m\u001b[38;5;241;43m=\u001b[39;49m\u001b[43mretry\u001b[49m\u001b[43m,\u001b[49m\n\u001b[1;32m   4373\u001b[0m \u001b[43m    \u001b[49m\u001b[43m)\u001b[49m\n\u001b[1;32m   4374\u001b[0m \u001b[38;5;28;01mexcept\u001b[39;00m resumable_media\u001b[38;5;241m.\u001b[39mInvalidResponse \u001b[38;5;28;01mas\u001b[39;00m exc:\n\u001b[1;32m   4375\u001b[0m     _raise_from_invalid_response(exc)\n",
      "File \u001b[0;32m~/anaconda3/envs/sammy/lib/python3.9/site-packages/google/cloud/storage/blob.py:1017\u001b[0m, in \u001b[0;36mBlob._do_download\u001b[0;34m(self, transport, file_obj, download_url, headers, start, end, raw_download, timeout, checksum, retry)\u001b[0m\n\u001b[1;32m   1008\u001b[0m     download \u001b[38;5;241m=\u001b[39m klass(\n\u001b[1;32m   1009\u001b[0m         download_url,\n\u001b[1;32m   1010\u001b[0m         stream\u001b[38;5;241m=\u001b[39mfile_obj,\n\u001b[0;32m   (...)\u001b[0m\n\u001b[1;32m   1014\u001b[0m         checksum\u001b[38;5;241m=\u001b[39mchecksum,\n\u001b[1;32m   1015\u001b[0m     )\n\u001b[1;32m   1016\u001b[0m     download\u001b[38;5;241m.\u001b[39m_retry_strategy \u001b[38;5;241m=\u001b[39m retry_strategy\n\u001b[0;32m-> 1017\u001b[0m     response \u001b[38;5;241m=\u001b[39m \u001b[43mdownload\u001b[49m\u001b[38;5;241;43m.\u001b[39;49m\u001b[43mconsume\u001b[49m\u001b[43m(\u001b[49m\u001b[43mtransport\u001b[49m\u001b[43m,\u001b[49m\u001b[43m \u001b[49m\u001b[43mtimeout\u001b[49m\u001b[38;5;241;43m=\u001b[39;49m\u001b[43mtimeout\u001b[49m\u001b[43m)\u001b[49m\n\u001b[1;32m   1018\u001b[0m     \u001b[38;5;28mself\u001b[39m\u001b[38;5;241m.\u001b[39m_extract_headers_from_download(response)\n\u001b[1;32m   1019\u001b[0m \u001b[38;5;28;01melse\u001b[39;00m:\n",
      "File \u001b[0;32m~/anaconda3/envs/sammy/lib/python3.9/site-packages/google/resumable_media/requests/download.py:237\u001b[0m, in \u001b[0;36mDownload.consume\u001b[0;34m(self, transport, timeout)\u001b[0m\n\u001b[1;32m    233\u001b[0m         \u001b[38;5;28mself\u001b[39m\u001b[38;5;241m.\u001b[39m_write_to_stream(result)\n\u001b[1;32m    235\u001b[0m     \u001b[38;5;28;01mreturn\u001b[39;00m result\n\u001b[0;32m--> 237\u001b[0m \u001b[38;5;28;01mreturn\u001b[39;00m \u001b[43m_request_helpers\u001b[49m\u001b[38;5;241;43m.\u001b[39;49m\u001b[43mwait_and_retry\u001b[49m\u001b[43m(\u001b[49m\n\u001b[1;32m    238\u001b[0m \u001b[43m    \u001b[49m\u001b[43mretriable_request\u001b[49m\u001b[43m,\u001b[49m\u001b[43m \u001b[49m\u001b[38;5;28;43mself\u001b[39;49m\u001b[38;5;241;43m.\u001b[39;49m\u001b[43m_get_status_code\u001b[49m\u001b[43m,\u001b[49m\u001b[43m \u001b[49m\u001b[38;5;28;43mself\u001b[39;49m\u001b[38;5;241;43m.\u001b[39;49m\u001b[43m_retry_strategy\u001b[49m\n\u001b[1;32m    239\u001b[0m \u001b[43m\u001b[49m\u001b[43m)\u001b[49m\n",
      "File \u001b[0;32m~/anaconda3/envs/sammy/lib/python3.9/site-packages/google/resumable_media/requests/_request_helpers.py:155\u001b[0m, in \u001b[0;36mwait_and_retry\u001b[0;34m(func, get_status_code, retry_strategy)\u001b[0m\n\u001b[1;32m    153\u001b[0m error \u001b[38;5;241m=\u001b[39m \u001b[38;5;28;01mNone\u001b[39;00m\n\u001b[1;32m    154\u001b[0m \u001b[38;5;28;01mtry\u001b[39;00m:\n\u001b[0;32m--> 155\u001b[0m     response \u001b[38;5;241m=\u001b[39m \u001b[43mfunc\u001b[49m\u001b[43m(\u001b[49m\u001b[43m)\u001b[49m\n\u001b[1;32m    156\u001b[0m \u001b[38;5;28;01mexcept\u001b[39;00m _CONNECTION_ERROR_CLASSES \u001b[38;5;28;01mas\u001b[39;00m e:\n\u001b[1;32m    157\u001b[0m     error \u001b[38;5;241m=\u001b[39m e  \u001b[38;5;66;03m# Fall through to retry, if there are retries left.\u001b[39;00m\n",
      "File \u001b[0;32m~/anaconda3/envs/sammy/lib/python3.9/site-packages/google/resumable_media/requests/download.py:233\u001b[0m, in \u001b[0;36mDownload.consume.<locals>.retriable_request\u001b[0;34m()\u001b[0m\n\u001b[1;32m    230\u001b[0m             \u001b[38;5;28;01mraise\u001b[39;00m \u001b[38;5;167;01mException\u001b[39;00m(msg) \u001b[38;5;28;01mfrom\u001b[39;00m \u001b[38;5;21;01mexc\u001b[39;00m\n\u001b[1;32m    231\u001b[0m         \u001b[38;5;28mself\u001b[39m\u001b[38;5;241m.\u001b[39m_bytes_downloaded \u001b[38;5;241m=\u001b[39m \u001b[38;5;241m0\u001b[39m\n\u001b[0;32m--> 233\u001b[0m     \u001b[38;5;28;43mself\u001b[39;49m\u001b[38;5;241;43m.\u001b[39;49m\u001b[43m_write_to_stream\u001b[49m\u001b[43m(\u001b[49m\u001b[43mresult\u001b[49m\u001b[43m)\u001b[49m\n\u001b[1;32m    235\u001b[0m \u001b[38;5;28;01mreturn\u001b[39;00m result\n",
      "File \u001b[0;32m~/anaconda3/envs/sammy/lib/python3.9/site-packages/google/resumable_media/requests/download.py:123\u001b[0m, in \u001b[0;36mDownload._write_to_stream\u001b[0;34m(self, response)\u001b[0m\n\u001b[1;32m    119\u001b[0m local_checksum_object \u001b[38;5;241m=\u001b[39m _add_decoder(response\u001b[38;5;241m.\u001b[39mraw, checksum_object)\n\u001b[1;32m    120\u001b[0m body_iter \u001b[38;5;241m=\u001b[39m response\u001b[38;5;241m.\u001b[39miter_content(\n\u001b[1;32m    121\u001b[0m     chunk_size\u001b[38;5;241m=\u001b[39m_request_helpers\u001b[38;5;241m.\u001b[39m_SINGLE_GET_CHUNK_SIZE, decode_unicode\u001b[38;5;241m=\u001b[39m\u001b[38;5;28;01mFalse\u001b[39;00m\n\u001b[1;32m    122\u001b[0m )\n\u001b[0;32m--> 123\u001b[0m \u001b[38;5;28;01mfor\u001b[39;00m chunk \u001b[38;5;129;01min\u001b[39;00m body_iter:\n\u001b[1;32m    124\u001b[0m     \u001b[38;5;28mself\u001b[39m\u001b[38;5;241m.\u001b[39m_stream\u001b[38;5;241m.\u001b[39mwrite(chunk)\n\u001b[1;32m    125\u001b[0m     \u001b[38;5;28mself\u001b[39m\u001b[38;5;241m.\u001b[39m_bytes_downloaded \u001b[38;5;241m+\u001b[39m\u001b[38;5;241m=\u001b[39m \u001b[38;5;28mlen\u001b[39m(chunk)\n",
      "File \u001b[0;32m~/anaconda3/envs/sammy/lib/python3.9/site-packages/requests/models.py:816\u001b[0m, in \u001b[0;36mResponse.iter_content.<locals>.generate\u001b[0;34m()\u001b[0m\n\u001b[1;32m    814\u001b[0m \u001b[38;5;28;01mif\u001b[39;00m \u001b[38;5;28mhasattr\u001b[39m(\u001b[38;5;28mself\u001b[39m\u001b[38;5;241m.\u001b[39mraw, \u001b[38;5;124m\"\u001b[39m\u001b[38;5;124mstream\u001b[39m\u001b[38;5;124m\"\u001b[39m):\n\u001b[1;32m    815\u001b[0m     \u001b[38;5;28;01mtry\u001b[39;00m:\n\u001b[0;32m--> 816\u001b[0m         \u001b[38;5;28;01myield from\u001b[39;00m \u001b[38;5;28mself\u001b[39m\u001b[38;5;241m.\u001b[39mraw\u001b[38;5;241m.\u001b[39mstream(chunk_size, decode_content\u001b[38;5;241m=\u001b[39m\u001b[38;5;28;01mTrue\u001b[39;00m)\n\u001b[1;32m    817\u001b[0m     \u001b[38;5;28;01mexcept\u001b[39;00m ProtocolError \u001b[38;5;28;01mas\u001b[39;00m e:\n\u001b[1;32m    818\u001b[0m         \u001b[38;5;28;01mraise\u001b[39;00m ChunkedEncodingError(e)\n",
      "File \u001b[0;32m~/anaconda3/envs/sammy/lib/python3.9/site-packages/urllib3/response.py:1043\u001b[0m, in \u001b[0;36mHTTPResponse.stream\u001b[0;34m(self, amt, decode_content)\u001b[0m\n\u001b[1;32m   1041\u001b[0m \u001b[38;5;28;01melse\u001b[39;00m:\n\u001b[1;32m   1042\u001b[0m     \u001b[38;5;28;01mwhile\u001b[39;00m \u001b[38;5;129;01mnot\u001b[39;00m is_fp_closed(\u001b[38;5;28mself\u001b[39m\u001b[38;5;241m.\u001b[39m_fp) \u001b[38;5;129;01mor\u001b[39;00m \u001b[38;5;28mlen\u001b[39m(\u001b[38;5;28mself\u001b[39m\u001b[38;5;241m.\u001b[39m_decoded_buffer) \u001b[38;5;241m>\u001b[39m \u001b[38;5;241m0\u001b[39m:\n\u001b[0;32m-> 1043\u001b[0m         data \u001b[38;5;241m=\u001b[39m \u001b[38;5;28;43mself\u001b[39;49m\u001b[38;5;241;43m.\u001b[39;49m\u001b[43mread\u001b[49m\u001b[43m(\u001b[49m\u001b[43mamt\u001b[49m\u001b[38;5;241;43m=\u001b[39;49m\u001b[43mamt\u001b[49m\u001b[43m,\u001b[49m\u001b[43m \u001b[49m\u001b[43mdecode_content\u001b[49m\u001b[38;5;241;43m=\u001b[39;49m\u001b[43mdecode_content\u001b[49m\u001b[43m)\u001b[49m\n\u001b[1;32m   1045\u001b[0m         \u001b[38;5;28;01mif\u001b[39;00m data:\n\u001b[1;32m   1046\u001b[0m             \u001b[38;5;28;01myield\u001b[39;00m data\n",
      "File \u001b[0;32m~/anaconda3/envs/sammy/lib/python3.9/site-packages/urllib3/response.py:935\u001b[0m, in \u001b[0;36mHTTPResponse.read\u001b[0;34m(self, amt, decode_content, cache_content)\u001b[0m\n\u001b[1;32m    932\u001b[0m     \u001b[38;5;28;01mif\u001b[39;00m \u001b[38;5;28mlen\u001b[39m(\u001b[38;5;28mself\u001b[39m\u001b[38;5;241m.\u001b[39m_decoded_buffer) \u001b[38;5;241m>\u001b[39m\u001b[38;5;241m=\u001b[39m amt:\n\u001b[1;32m    933\u001b[0m         \u001b[38;5;28;01mreturn\u001b[39;00m \u001b[38;5;28mself\u001b[39m\u001b[38;5;241m.\u001b[39m_decoded_buffer\u001b[38;5;241m.\u001b[39mget(amt)\n\u001b[0;32m--> 935\u001b[0m data \u001b[38;5;241m=\u001b[39m \u001b[38;5;28;43mself\u001b[39;49m\u001b[38;5;241;43m.\u001b[39;49m\u001b[43m_raw_read\u001b[49m\u001b[43m(\u001b[49m\u001b[43mamt\u001b[49m\u001b[43m)\u001b[49m\n\u001b[1;32m    937\u001b[0m flush_decoder \u001b[38;5;241m=\u001b[39m amt \u001b[38;5;129;01mis\u001b[39;00m \u001b[38;5;28;01mNone\u001b[39;00m \u001b[38;5;129;01mor\u001b[39;00m (amt \u001b[38;5;241m!=\u001b[39m \u001b[38;5;241m0\u001b[39m \u001b[38;5;129;01mand\u001b[39;00m \u001b[38;5;129;01mnot\u001b[39;00m data)\n\u001b[1;32m    939\u001b[0m \u001b[38;5;28;01mif\u001b[39;00m \u001b[38;5;129;01mnot\u001b[39;00m data \u001b[38;5;129;01mand\u001b[39;00m \u001b[38;5;28mlen\u001b[39m(\u001b[38;5;28mself\u001b[39m\u001b[38;5;241m.\u001b[39m_decoded_buffer) \u001b[38;5;241m==\u001b[39m \u001b[38;5;241m0\u001b[39m:\n",
      "File \u001b[0;32m~/anaconda3/envs/sammy/lib/python3.9/site-packages/urllib3/response.py:891\u001b[0m, in \u001b[0;36mHTTPResponse._raw_read\u001b[0;34m(self, amt, read1)\u001b[0m\n\u001b[1;32m    883\u001b[0m             \u001b[38;5;28;01mraise\u001b[39;00m IncompleteRead(\u001b[38;5;28mself\u001b[39m\u001b[38;5;241m.\u001b[39m_fp_bytes_read, \u001b[38;5;28mself\u001b[39m\u001b[38;5;241m.\u001b[39mlength_remaining)\n\u001b[1;32m    884\u001b[0m     \u001b[38;5;28;01melif\u001b[39;00m read1 \u001b[38;5;129;01mand\u001b[39;00m (\n\u001b[1;32m    885\u001b[0m         (amt \u001b[38;5;241m!=\u001b[39m \u001b[38;5;241m0\u001b[39m \u001b[38;5;129;01mand\u001b[39;00m \u001b[38;5;129;01mnot\u001b[39;00m data) \u001b[38;5;129;01mor\u001b[39;00m \u001b[38;5;28mself\u001b[39m\u001b[38;5;241m.\u001b[39mlength_remaining \u001b[38;5;241m==\u001b[39m \u001b[38;5;28mlen\u001b[39m(data)\n\u001b[1;32m    886\u001b[0m     ):\n\u001b[0;32m   (...)\u001b[0m\n\u001b[1;32m    889\u001b[0m         \u001b[38;5;66;03m# `http.client.HTTPResponse`, so we close it here.\u001b[39;00m\n\u001b[1;32m    890\u001b[0m         \u001b[38;5;66;03m# See https://github.com/python/cpython/issues/113199\u001b[39;00m\n\u001b[0;32m--> 891\u001b[0m         \u001b[38;5;28mself\u001b[39m\u001b[38;5;241m.\u001b[39m_fp\u001b[38;5;241m.\u001b[39mclose()\n\u001b[1;32m    893\u001b[0m \u001b[38;5;28;01mif\u001b[39;00m data:\n\u001b[1;32m    894\u001b[0m     \u001b[38;5;28mself\u001b[39m\u001b[38;5;241m.\u001b[39m_fp_bytes_read \u001b[38;5;241m+\u001b[39m\u001b[38;5;241m=\u001b[39m \u001b[38;5;28mlen\u001b[39m(data)\n",
      "File \u001b[0;32m~/anaconda3/envs/sammy/lib/python3.9/contextlib.py:123\u001b[0m, in \u001b[0;36m_GeneratorContextManager.__exit__\u001b[0;34m(self, typ, value, traceback)\u001b[0m\n\u001b[1;32m    120\u001b[0m     \u001b[38;5;28;01mexcept\u001b[39;00m \u001b[38;5;167;01mStopIteration\u001b[39;00m:\n\u001b[1;32m    121\u001b[0m         \u001b[38;5;28;01mraise\u001b[39;00m \u001b[38;5;167;01mRuntimeError\u001b[39;00m(\u001b[38;5;124m\"\u001b[39m\u001b[38;5;124mgenerator didn\u001b[39m\u001b[38;5;124m'\u001b[39m\u001b[38;5;124mt yield\u001b[39m\u001b[38;5;124m\"\u001b[39m) \u001b[38;5;28;01mfrom\u001b[39;00m \u001b[38;5;28;01mNone\u001b[39;00m\n\u001b[0;32m--> 123\u001b[0m \u001b[38;5;28;01mdef\u001b[39;00m \u001b[38;5;21m__exit__\u001b[39m(\u001b[38;5;28mself\u001b[39m, typ, value, traceback):\n\u001b[1;32m    124\u001b[0m     \u001b[38;5;28;01mif\u001b[39;00m typ \u001b[38;5;129;01mis\u001b[39;00m \u001b[38;5;28;01mNone\u001b[39;00m:\n\u001b[1;32m    125\u001b[0m         \u001b[38;5;28;01mtry\u001b[39;00m:\n",
      "\u001b[0;31mKeyboardInterrupt\u001b[0m: "
     ]
    }
   ],
   "source": [
    "img = get_image(5, 0, 'processed')\n",
    "# TODO: Understand each dimension in the shape\n",
    "# shape is Channels x num_slices x H x W.\n",
    "# S is \"Scene\" - different POV or regions\n",
    "# not a video ??\n",
    "img.get_dims_shape()"
   ]
  },
  {
   "cell_type": "code",
   "execution_count": null,
   "id": "SDTNW8otyS6D",
   "metadata": {
    "colab": {
     "base_uri": "https://localhost:8080/"
    },
    "executionInfo": {
     "elapsed": 173,
     "status": "ok",
     "timestamp": 1712699215027,
     "user": {
      "displayName": "",
      "userId": ""
     },
     "user_tz": 240
    },
    "id": "SDTNW8otyS6D",
    "outputId": "152fa139-555d-486a-8668-4249e3212025"
   },
   "outputs": [],
   "source": [
    "!ls"
   ]
  },
  {
   "cell_type": "markdown",
   "id": "7b5b5393-5761-459a-9925-07f03aa0afa1",
   "metadata": {},
   "source": [
    "## EDA for Czi Video\n",
    "\n",
    "Using [aicspylibczi](https://allencellmodeling.github.io/aicspylibczi/)"
   ]
  },
  {
   "cell_type": "code",
   "execution_count": 220,
   "id": "b720ff06-5618-4537-b3b6-44d64dd2b4f8",
   "metadata": {
    "scrolled": true
   },
   "outputs": [
    {
     "data": {
      "text/plain": [
       "['README.md',\n",
       " '.gitignore',\n",
       " 'dicty_factin_pip3-06_processed.czi_.gstmp',\n",
       " 'VideoProcessing.ipynb',\n",
       " '.ipynb_checkpoints',\n",
       " 'dicty_factin_pip3-06_processed.czi',\n",
       " 'pip3-06_processed_frame_masks_z50.npy',\n",
       " '.git',\n",
       " 'requirements.txt']"
      ]
     },
     "execution_count": 220,
     "metadata": {},
     "output_type": "execute_result"
    }
   ],
   "source": [
    "os.listdir()"
   ]
  },
  {
   "cell_type": "code",
   "execution_count": 4,
   "id": "938e5cad-4b29-47e5-9ea3-bcb60d2d8034",
   "metadata": {},
   "outputs": [],
   "source": [
    "fname = \"../dicty_factin_pip3-06_processed.czi\""
   ]
  },
  {
   "cell_type": "code",
   "execution_count": 5,
   "id": "57ab36b4-c81b-426f-b284-19a016e535fa",
   "metadata": {},
   "outputs": [],
   "source": [
    "video = CziFile(fname)"
   ]
  },
  {
   "cell_type": "code",
   "execution_count": 6,
   "id": "361f2a68-bf76-4e6c-812a-a33937213281",
   "metadata": {},
   "outputs": [
    {
     "data": {
      "text/plain": [
       "{'X': (0, 475),\n",
       " 'Y': (0, 2048),\n",
       " 'Z': (0, 114),\n",
       " 'C': (0, 2),\n",
       " 'T': (0, 241),\n",
       " 'S': (0, 1)}"
      ]
     },
     "execution_count": 6,
     "metadata": {},
     "output_type": "execute_result"
    }
   ],
   "source": [
    "video.get_dims_shape()[0]"
   ]
  },
  {
   "cell_type": "code",
   "execution_count": 7,
   "id": "080f2faa-7df4-423c-9f4a-bc5aa0fb28d2",
   "metadata": {},
   "outputs": [
    {
     "data": {
      "text/plain": [
       "'STCZYX'"
      ]
     },
     "execution_count": 7,
     "metadata": {},
     "output_type": "execute_result"
    }
   ],
   "source": [
    "video.dims"
   ]
  },
  {
   "cell_type": "code",
   "execution_count": 8,
   "id": "4b34ad23-43ac-4a4b-9f72-9d05304c00c1",
   "metadata": {},
   "outputs": [],
   "source": [
    "def get_image(timestep, z_plane=50, czi=video, channel=0):\n",
    "    dims = video.get_dims_shape()[0]\n",
    "    timestep = timestep % dims['T'][-1]\n",
    "    z_plane = z_plane % dims['Z'][-1]\n",
    "    img, shp = video.read_image(S=0, Z=z_plane, T=timestep, C=channel)\n",
    "    #print(shp)\n",
    "    return(img.squeeze()) # returns (channels, Y, X)"
   ]
  },
  {
   "cell_type": "code",
   "execution_count": 18,
   "id": "c5d70c2a-2d2c-4536-8fd6-4698ce6c6795",
   "metadata": {},
   "outputs": [
    {
     "data": {
      "text/plain": [
       "<matplotlib.image.AxesImage at 0x7f227478dd00>"
      ]
     },
     "execution_count": 18,
     "metadata": {},
     "output_type": "execute_result"
    },
    {
     "data": {
      "image/png": "[encoded data removed]",
      "text/plain": [
       "<Figure size 640x480 with 1 Axes>"
      ]
     },
     "metadata": {},
     "output_type": "display_data"
    }
   ],
   "source": [
    "imshow(get_image(1))"
   ]
  },
  {
   "cell_type": "code",
   "execution_count": 218,
   "id": "c4c079fc-263c-4970-a53e-710ade932337",
   "metadata": {},
   "outputs": [
    {
     "data": {
      "text/plain": [
       "<Figure size 640x480 with 0 Axes>"
      ]
     },
     "metadata": {},
     "output_type": "display_data"
    }
   ],
   "source": [
    "import numpy as np\n",
    "import matplotlib.pyplot as plt\n",
    "from matplotlib.animation import FuncAnimation\n",
    "%matplotlib inline\n",
    "# Generate some random frames (Replace this with your video frames)\n",
    "num_frames = 241\n",
    "frame_width = 475\n",
    "frame_height = 2048\n",
    "frames = np.random.random((num_frames, frame_width, frame_height))\n",
    "\n",
    "# Create a function to update frames\n",
    "def update(frame):\n",
    "    plt.clf()  # Clear the previous frame\n",
    "    plt.imshow(get_image(frame))\n",
    "    plt.axis('off')  # Turn off axes\n",
    "    plt.title(f'Frame {frame}')  # Add frame number as title\n",
    "\n",
    "# Create the animation\n",
    "fig = plt.figure()\n",
    "ani = FuncAnimation(fig, update, frames=num_frames, blit=False, interval=200)\n",
    "\n",
    "plt.show()"
   ]
  },
  {
   "cell_type": "code",
   "execution_count": 219,
   "id": "307695b6-46ce-40c0-a421-7e53945ae4fe",
   "metadata": {},
   "outputs": [
    {
     "data": {
      "text/plain": [
       "<matplotlib.animation.FuncAnimation at 0x7f0b175c2d00>"
      ]
     },
     "execution_count": 219,
     "metadata": {},
     "output_type": "execute_result"
    },
    {
     "data": {
      "image/png": "[encoded data removed]",
      "text/plain": [
       "<Figure size 640x480 with 1 Axes>"
      ]
     },
     "metadata": {},
     "output_type": "display_data"
    }
   ],
   "source": [
    "from IPython.display import HTML\n",
    "HTML(ani.to_jshtml())\n",
    "ani"
   ]
  },
  {
   "cell_type": "code",
   "execution_count": 211,
   "id": "bbd0bfe4-8f62-4105-b3cb-a69c29af09d7",
   "metadata": {},
   "outputs": [],
   "source": []
  },
  {
   "cell_type": "code",
   "execution_count": 25,
   "id": "cfb626bf-c434-4ea7-85e0-b27c329c372c",
   "metadata": {},
   "outputs": [
    {
     "name": "stdout",
     "output_type": "stream",
     "text": [
      "[('S', 1), ('T', 1), ('C', 2), ('Z', 1), ('Y', 2048), ('X', 475)]\n"
     ]
    },
    {
     "data": {
      "text/plain": [
       "(2, 2048, 475)"
      ]
     },
     "execution_count": 25,
     "metadata": {},
     "output_type": "execute_result"
    }
   ],
   "source": [
    "img = get_image(50, 100)\n",
    "\n",
    "img.shape"
   ]
  },
  {
   "cell_type": "code",
   "execution_count": 27,
   "id": "9ad76068-e355-4b45-bfb7-154e44923fd6",
   "metadata": {},
   "outputs": [
    {
     "data": {
      "text/plain": [
       "<matplotlib.image.AxesImage at 0x7f0b681b4520>"
      ]
     },
     "execution_count": 27,
     "metadata": {},
     "output_type": "execute_result"
    },
    {
     "data": {
      "image/png": "[encoded data removed]",
      "text/plain": [
       "<Figure size 640x480 with 1 Axes>"
      ]
     },
     "metadata": {},
     "output_type": "display_data"
    }
   ],
   "source": [
    "plt.imshow(img[0])"
   ]
  },
  {
   "cell_type": "markdown",
   "id": "CxBAU4QH01ZA",
   "metadata": {
    "id": "CxBAU4QH01ZA"
   },
   "source": [
    "## Cell Segmentation"
   ]
  },
  {
   "cell_type": "code",
   "execution_count": 37,
   "id": "145bc641-ec05-49b5-a3a8-7c67b23396c4",
   "metadata": {},
   "outputs": [
    {
     "data": {
      "text/plain": [
       "<aicspylibczi.CziFile.CziFile at 0x7f0ca022b520>"
      ]
     },
     "execution_count": 37,
     "metadata": {},
     "output_type": "execute_result"
    }
   ],
   "source": [
    "video"
   ]
  },
  {
   "cell_type": "code",
   "execution_count": 38,
   "id": "9aa5eb5f-2f06-4e14-a8bd-9a566667d75e",
   "metadata": {},
   "outputs": [
    {
     "data": {
      "text/plain": [
       "{'X': (0, 475),\n",
       " 'Y': (0, 2048),\n",
       " 'Z': (0, 114),\n",
       " 'C': (0, 2),\n",
       " 'T': (0, 241),\n",
       " 'S': (0, 1)}"
      ]
     },
     "execution_count": 38,
     "metadata": {},
     "output_type": "execute_result"
    }
   ],
   "source": [
    "dims = video.get_dims_shape()[0]\n",
    "dims"
   ]
  },
  {
   "cell_type": "markdown",
   "id": "a4989fe4-e43b-46af-b66f-6c206b6ab99d",
   "metadata": {},
   "source": [
    "Documentation for cell pose:\n",
    "https://cellpose.readthedocs.io/en/latest/outputs.html"
   ]
  },
  {
   "cell_type": "code",
   "execution_count": null,
   "id": "548220cd-7d1f-4578-8eff-d0ce2b21455e",
   "metadata": {},
   "outputs": [],
   "source": [
    "test_img = get_image(50, 100, channel=0)"
   ]
  },
  {
   "cell_type": "code",
   "execution_count": null,
   "id": "587a568b-755b-44a6-936b-f1f9e01112aa",
   "metadata": {},
   "outputs": [],
   "source": [
    "masks, flows, styles = models.CellposeModel(model_type='cyto3').eval(test_img,\n",
    "                            diameter=None, channels=[0,0])"
   ]
  },
  {
   "cell_type": "code",
   "execution_count": 52,
   "id": "ac315b9b-95b9-4421-9e72-c2ffe514a4dd",
   "metadata": {},
   "outputs": [
    {
     "name": "stdout",
     "output_type": "stream",
     "text": [
      "[('S', 1), ('T', 1), ('C', 2), ('Z', 1), ('Y', 2048), ('X', 475)]\n",
      "[('S', 1), ('T', 1), ('C', 2), ('Z', 1), ('Y', 2048), ('X', 475)]\n",
      "[('S', 1), ('T', 1), ('C', 2), ('Z', 1), ('Y', 2048), ('X', 475)]\n",
      "[('S', 1), ('T', 1), ('C', 2), ('Z', 1), ('Y', 2048), ('X', 475)]\n",
      "[('S', 1), ('T', 1), ('C', 2), ('Z', 1), ('Y', 2048), ('X', 475)]\n",
      "[('S', 1), ('T', 1), ('C', 2), ('Z', 1), ('Y', 2048), ('X', 475)]\n",
      "[('S', 1), ('T', 1), ('C', 2), ('Z', 1), ('Y', 2048), ('X', 475)]\n",
      "[('S', 1), ('T', 1), ('C', 2), ('Z', 1), ('Y', 2048), ('X', 475)]\n",
      "[('S', 1), ('T', 1), ('C', 2), ('Z', 1), ('Y', 2048), ('X', 475)]\n",
      "[('S', 1), ('T', 1), ('C', 2), ('Z', 1), ('Y', 2048), ('X', 475)]\n",
      "[('S', 1), ('T', 1), ('C', 2), ('Z', 1), ('Y', 2048), ('X', 475)]\n",
      "[('S', 1), ('T', 1), ('C', 2), ('Z', 1), ('Y', 2048), ('X', 475)]\n",
      "[('S', 1), ('T', 1), ('C', 2), ('Z', 1), ('Y', 2048), ('X', 475)]\n",
      "[('S', 1), ('T', 1), ('C', 2), ('Z', 1), ('Y', 2048), ('X', 475)]\n",
      "[('S', 1), ('T', 1), ('C', 2), ('Z', 1), ('Y', 2048), ('X', 475)]\n",
      "[('S', 1), ('T', 1), ('C', 2), ('Z', 1), ('Y', 2048), ('X', 475)]\n",
      "[('S', 1), ('T', 1), ('C', 2), ('Z', 1), ('Y', 2048), ('X', 475)]\n",
      "[('S', 1), ('T', 1), ('C', 2), ('Z', 1), ('Y', 2048), ('X', 475)]\n",
      "[('S', 1), ('T', 1), ('C', 2), ('Z', 1), ('Y', 2048), ('X', 475)]\n",
      "[('S', 1), ('T', 1), ('C', 2), ('Z', 1), ('Y', 2048), ('X', 475)]\n",
      "[('S', 1), ('T', 1), ('C', 2), ('Z', 1), ('Y', 2048), ('X', 475)]\n",
      "[('S', 1), ('T', 1), ('C', 2), ('Z', 1), ('Y', 2048), ('X', 475)]\n",
      "[('S', 1), ('T', 1), ('C', 2), ('Z', 1), ('Y', 2048), ('X', 475)]\n",
      "[('S', 1), ('T', 1), ('C', 2), ('Z', 1), ('Y', 2048), ('X', 475)]\n",
      "[('S', 1), ('T', 1), ('C', 2), ('Z', 1), ('Y', 2048), ('X', 475)]\n",
      "[('S', 1), ('T', 1), ('C', 2), ('Z', 1), ('Y', 2048), ('X', 475)]\n",
      "[('S', 1), ('T', 1), ('C', 2), ('Z', 1), ('Y', 2048), ('X', 475)]\n",
      "[('S', 1), ('T', 1), ('C', 2), ('Z', 1), ('Y', 2048), ('X', 475)]\n",
      "[('S', 1), ('T', 1), ('C', 2), ('Z', 1), ('Y', 2048), ('X', 475)]\n",
      "[('S', 1), ('T', 1), ('C', 2), ('Z', 1), ('Y', 2048), ('X', 475)]\n",
      "[('S', 1), ('T', 1), ('C', 2), ('Z', 1), ('Y', 2048), ('X', 475)]\n",
      "[('S', 1), ('T', 1), ('C', 2), ('Z', 1), ('Y', 2048), ('X', 475)]\n",
      "[('S', 1), ('T', 1), ('C', 2), ('Z', 1), ('Y', 2048), ('X', 475)]\n",
      "[('S', 1), ('T', 1), ('C', 2), ('Z', 1), ('Y', 2048), ('X', 475)]\n",
      "[('S', 1), ('T', 1), ('C', 2), ('Z', 1), ('Y', 2048), ('X', 475)]\n",
      "[('S', 1), ('T', 1), ('C', 2), ('Z', 1), ('Y', 2048), ('X', 475)]\n",
      "[('S', 1), ('T', 1), ('C', 2), ('Z', 1), ('Y', 2048), ('X', 475)]\n",
      "[('S', 1), ('T', 1), ('C', 2), ('Z', 1), ('Y', 2048), ('X', 475)]\n",
      "[('S', 1), ('T', 1), ('C', 2), ('Z', 1), ('Y', 2048), ('X', 475)]\n",
      "[('S', 1), ('T', 1), ('C', 2), ('Z', 1), ('Y', 2048), ('X', 475)]\n",
      "[('S', 1), ('T', 1), ('C', 2), ('Z', 1), ('Y', 2048), ('X', 475)]\n",
      "[('S', 1), ('T', 1), ('C', 2), ('Z', 1), ('Y', 2048), ('X', 475)]\n",
      "[('S', 1), ('T', 1), ('C', 2), ('Z', 1), ('Y', 2048), ('X', 475)]\n",
      "[('S', 1), ('T', 1), ('C', 2), ('Z', 1), ('Y', 2048), ('X', 475)]\n",
      "[('S', 1), ('T', 1), ('C', 2), ('Z', 1), ('Y', 2048), ('X', 475)]\n",
      "[('S', 1), ('T', 1), ('C', 2), ('Z', 1), ('Y', 2048), ('X', 475)]\n",
      "[('S', 1), ('T', 1), ('C', 2), ('Z', 1), ('Y', 2048), ('X', 475)]\n",
      "[('S', 1), ('T', 1), ('C', 2), ('Z', 1), ('Y', 2048), ('X', 475)]\n",
      "[('S', 1), ('T', 1), ('C', 2), ('Z', 1), ('Y', 2048), ('X', 475)]\n",
      "[('S', 1), ('T', 1), ('C', 2), ('Z', 1), ('Y', 2048), ('X', 475)]\n",
      "[('S', 1), ('T', 1), ('C', 2), ('Z', 1), ('Y', 2048), ('X', 475)]\n",
      "[('S', 1), ('T', 1), ('C', 2), ('Z', 1), ('Y', 2048), ('X', 475)]\n",
      "[('S', 1), ('T', 1), ('C', 2), ('Z', 1), ('Y', 2048), ('X', 475)]\n",
      "[('S', 1), ('T', 1), ('C', 2), ('Z', 1), ('Y', 2048), ('X', 475)]\n",
      "[('S', 1), ('T', 1), ('C', 2), ('Z', 1), ('Y', 2048), ('X', 475)]\n",
      "[('S', 1), ('T', 1), ('C', 2), ('Z', 1), ('Y', 2048), ('X', 475)]\n",
      "[('S', 1), ('T', 1), ('C', 2), ('Z', 1), ('Y', 2048), ('X', 475)]\n",
      "[('S', 1), ('T', 1), ('C', 2), ('Z', 1), ('Y', 2048), ('X', 475)]\n",
      "[('S', 1), ('T', 1), ('C', 2), ('Z', 1), ('Y', 2048), ('X', 475)]\n",
      "[('S', 1), ('T', 1), ('C', 2), ('Z', 1), ('Y', 2048), ('X', 475)]\n",
      "[('S', 1), ('T', 1), ('C', 2), ('Z', 1), ('Y', 2048), ('X', 475)]\n",
      "[('S', 1), ('T', 1), ('C', 2), ('Z', 1), ('Y', 2048), ('X', 475)]\n",
      "[('S', 1), ('T', 1), ('C', 2), ('Z', 1), ('Y', 2048), ('X', 475)]\n",
      "[('S', 1), ('T', 1), ('C', 2), ('Z', 1), ('Y', 2048), ('X', 475)]\n",
      "[('S', 1), ('T', 1), ('C', 2), ('Z', 1), ('Y', 2048), ('X', 475)]\n",
      "[('S', 1), ('T', 1), ('C', 2), ('Z', 1), ('Y', 2048), ('X', 475)]\n",
      "[('S', 1), ('T', 1), ('C', 2), ('Z', 1), ('Y', 2048), ('X', 475)]\n",
      "[('S', 1), ('T', 1), ('C', 2), ('Z', 1), ('Y', 2048), ('X', 475)]\n",
      "[('S', 1), ('T', 1), ('C', 2), ('Z', 1), ('Y', 2048), ('X', 475)]\n",
      "[('S', 1), ('T', 1), ('C', 2), ('Z', 1), ('Y', 2048), ('X', 475)]\n",
      "[('S', 1), ('T', 1), ('C', 2), ('Z', 1), ('Y', 2048), ('X', 475)]\n",
      "[('S', 1), ('T', 1), ('C', 2), ('Z', 1), ('Y', 2048), ('X', 475)]\n",
      "[('S', 1), ('T', 1), ('C', 2), ('Z', 1), ('Y', 2048), ('X', 475)]\n",
      "[('S', 1), ('T', 1), ('C', 2), ('Z', 1), ('Y', 2048), ('X', 475)]\n",
      "[('S', 1), ('T', 1), ('C', 2), ('Z', 1), ('Y', 2048), ('X', 475)]\n",
      "[('S', 1), ('T', 1), ('C', 2), ('Z', 1), ('Y', 2048), ('X', 475)]\n",
      "[('S', 1), ('T', 1), ('C', 2), ('Z', 1), ('Y', 2048), ('X', 475)]\n",
      "[('S', 1), ('T', 1), ('C', 2), ('Z', 1), ('Y', 2048), ('X', 475)]\n",
      "[('S', 1), ('T', 1), ('C', 2), ('Z', 1), ('Y', 2048), ('X', 475)]\n",
      "[('S', 1), ('T', 1), ('C', 2), ('Z', 1), ('Y', 2048), ('X', 475)]\n",
      "[('S', 1), ('T', 1), ('C', 2), ('Z', 1), ('Y', 2048), ('X', 475)]\n",
      "[('S', 1), ('T', 1), ('C', 2), ('Z', 1), ('Y', 2048), ('X', 475)]\n",
      "[('S', 1), ('T', 1), ('C', 2), ('Z', 1), ('Y', 2048), ('X', 475)]\n",
      "[('S', 1), ('T', 1), ('C', 2), ('Z', 1), ('Y', 2048), ('X', 475)]\n",
      "[('S', 1), ('T', 1), ('C', 2), ('Z', 1), ('Y', 2048), ('X', 475)]\n",
      "[('S', 1), ('T', 1), ('C', 2), ('Z', 1), ('Y', 2048), ('X', 475)]\n",
      "[('S', 1), ('T', 1), ('C', 2), ('Z', 1), ('Y', 2048), ('X', 475)]\n",
      "[('S', 1), ('T', 1), ('C', 2), ('Z', 1), ('Y', 2048), ('X', 475)]\n",
      "[('S', 1), ('T', 1), ('C', 2), ('Z', 1), ('Y', 2048), ('X', 475)]\n",
      "[('S', 1), ('T', 1), ('C', 2), ('Z', 1), ('Y', 2048), ('X', 475)]\n",
      "[('S', 1), ('T', 1), ('C', 2), ('Z', 1), ('Y', 2048), ('X', 475)]\n",
      "[('S', 1), ('T', 1), ('C', 2), ('Z', 1), ('Y', 2048), ('X', 475)]\n",
      "[('S', 1), ('T', 1), ('C', 2), ('Z', 1), ('Y', 2048), ('X', 475)]\n",
      "[('S', 1), ('T', 1), ('C', 2), ('Z', 1), ('Y', 2048), ('X', 475)]\n",
      "[('S', 1), ('T', 1), ('C', 2), ('Z', 1), ('Y', 2048), ('X', 475)]\n",
      "[('S', 1), ('T', 1), ('C', 2), ('Z', 1), ('Y', 2048), ('X', 475)]\n",
      "[('S', 1), ('T', 1), ('C', 2), ('Z', 1), ('Y', 2048), ('X', 475)]\n",
      "[('S', 1), ('T', 1), ('C', 2), ('Z', 1), ('Y', 2048), ('X', 475)]\n",
      "[('S', 1), ('T', 1), ('C', 2), ('Z', 1), ('Y', 2048), ('X', 475)]\n",
      "[('S', 1), ('T', 1), ('C', 2), ('Z', 1), ('Y', 2048), ('X', 475)]\n",
      "[('S', 1), ('T', 1), ('C', 2), ('Z', 1), ('Y', 2048), ('X', 475)]\n",
      "[('S', 1), ('T', 1), ('C', 2), ('Z', 1), ('Y', 2048), ('X', 475)]\n",
      "[('S', 1), ('T', 1), ('C', 2), ('Z', 1), ('Y', 2048), ('X', 475)]\n",
      "[('S', 1), ('T', 1), ('C', 2), ('Z', 1), ('Y', 2048), ('X', 475)]\n",
      "[('S', 1), ('T', 1), ('C', 2), ('Z', 1), ('Y', 2048), ('X', 475)]\n",
      "[('S', 1), ('T', 1), ('C', 2), ('Z', 1), ('Y', 2048), ('X', 475)]\n",
      "[('S', 1), ('T', 1), ('C', 2), ('Z', 1), ('Y', 2048), ('X', 475)]\n",
      "[('S', 1), ('T', 1), ('C', 2), ('Z', 1), ('Y', 2048), ('X', 475)]\n",
      "[('S', 1), ('T', 1), ('C', 2), ('Z', 1), ('Y', 2048), ('X', 475)]\n",
      "[('S', 1), ('T', 1), ('C', 2), ('Z', 1), ('Y', 2048), ('X', 475)]\n",
      "[('S', 1), ('T', 1), ('C', 2), ('Z', 1), ('Y', 2048), ('X', 475)]\n",
      "[('S', 1), ('T', 1), ('C', 2), ('Z', 1), ('Y', 2048), ('X', 475)]\n",
      "[('S', 1), ('T', 1), ('C', 2), ('Z', 1), ('Y', 2048), ('X', 475)]\n",
      "[('S', 1), ('T', 1), ('C', 2), ('Z', 1), ('Y', 2048), ('X', 475)]\n",
      "[('S', 1), ('T', 1), ('C', 2), ('Z', 1), ('Y', 2048), ('X', 475)]\n",
      "[('S', 1), ('T', 1), ('C', 2), ('Z', 1), ('Y', 2048), ('X', 475)]\n",
      "[('S', 1), ('T', 1), ('C', 2), ('Z', 1), ('Y', 2048), ('X', 475)]\n",
      "[('S', 1), ('T', 1), ('C', 2), ('Z', 1), ('Y', 2048), ('X', 475)]\n",
      "[('S', 1), ('T', 1), ('C', 2), ('Z', 1), ('Y', 2048), ('X', 475)]\n",
      "[('S', 1), ('T', 1), ('C', 2), ('Z', 1), ('Y', 2048), ('X', 475)]\n",
      "[('S', 1), ('T', 1), ('C', 2), ('Z', 1), ('Y', 2048), ('X', 475)]\n",
      "[('S', 1), ('T', 1), ('C', 2), ('Z', 1), ('Y', 2048), ('X', 475)]\n",
      "[('S', 1), ('T', 1), ('C', 2), ('Z', 1), ('Y', 2048), ('X', 475)]\n",
      "[('S', 1), ('T', 1), ('C', 2), ('Z', 1), ('Y', 2048), ('X', 475)]\n",
      "[('S', 1), ('T', 1), ('C', 2), ('Z', 1), ('Y', 2048), ('X', 475)]\n",
      "[('S', 1), ('T', 1), ('C', 2), ('Z', 1), ('Y', 2048), ('X', 475)]\n",
      "[('S', 1), ('T', 1), ('C', 2), ('Z', 1), ('Y', 2048), ('X', 475)]\n",
      "[('S', 1), ('T', 1), ('C', 2), ('Z', 1), ('Y', 2048), ('X', 475)]\n",
      "[('S', 1), ('T', 1), ('C', 2), ('Z', 1), ('Y', 2048), ('X', 475)]\n",
      "[('S', 1), ('T', 1), ('C', 2), ('Z', 1), ('Y', 2048), ('X', 475)]\n",
      "[('S', 1), ('T', 1), ('C', 2), ('Z', 1), ('Y', 2048), ('X', 475)]\n",
      "[('S', 1), ('T', 1), ('C', 2), ('Z', 1), ('Y', 2048), ('X', 475)]\n",
      "[('S', 1), ('T', 1), ('C', 2), ('Z', 1), ('Y', 2048), ('X', 475)]\n",
      "[('S', 1), ('T', 1), ('C', 2), ('Z', 1), ('Y', 2048), ('X', 475)]\n",
      "[('S', 1), ('T', 1), ('C', 2), ('Z', 1), ('Y', 2048), ('X', 475)]\n",
      "[('S', 1), ('T', 1), ('C', 2), ('Z', 1), ('Y', 2048), ('X', 475)]\n",
      "[('S', 1), ('T', 1), ('C', 2), ('Z', 1), ('Y', 2048), ('X', 475)]\n",
      "[('S', 1), ('T', 1), ('C', 2), ('Z', 1), ('Y', 2048), ('X', 475)]\n",
      "[('S', 1), ('T', 1), ('C', 2), ('Z', 1), ('Y', 2048), ('X', 475)]\n",
      "[('S', 1), ('T', 1), ('C', 2), ('Z', 1), ('Y', 2048), ('X', 475)]\n",
      "[('S', 1), ('T', 1), ('C', 2), ('Z', 1), ('Y', 2048), ('X', 475)]\n",
      "[('S', 1), ('T', 1), ('C', 2), ('Z', 1), ('Y', 2048), ('X', 475)]\n",
      "[('S', 1), ('T', 1), ('C', 2), ('Z', 1), ('Y', 2048), ('X', 475)]\n",
      "[('S', 1), ('T', 1), ('C', 2), ('Z', 1), ('Y', 2048), ('X', 475)]\n",
      "[('S', 1), ('T', 1), ('C', 2), ('Z', 1), ('Y', 2048), ('X', 475)]\n",
      "[('S', 1), ('T', 1), ('C', 2), ('Z', 1), ('Y', 2048), ('X', 475)]\n",
      "[('S', 1), ('T', 1), ('C', 2), ('Z', 1), ('Y', 2048), ('X', 475)]\n",
      "[('S', 1), ('T', 1), ('C', 2), ('Z', 1), ('Y', 2048), ('X', 475)]\n",
      "[('S', 1), ('T', 1), ('C', 2), ('Z', 1), ('Y', 2048), ('X', 475)]\n",
      "[('S', 1), ('T', 1), ('C', 2), ('Z', 1), ('Y', 2048), ('X', 475)]\n",
      "[('S', 1), ('T', 1), ('C', 2), ('Z', 1), ('Y', 2048), ('X', 475)]\n",
      "[('S', 1), ('T', 1), ('C', 2), ('Z', 1), ('Y', 2048), ('X', 475)]\n",
      "[('S', 1), ('T', 1), ('C', 2), ('Z', 1), ('Y', 2048), ('X', 475)]\n",
      "[('S', 1), ('T', 1), ('C', 2), ('Z', 1), ('Y', 2048), ('X', 475)]\n",
      "[('S', 1), ('T', 1), ('C', 2), ('Z', 1), ('Y', 2048), ('X', 475)]\n",
      "[('S', 1), ('T', 1), ('C', 2), ('Z', 1), ('Y', 2048), ('X', 475)]\n",
      "[('S', 1), ('T', 1), ('C', 2), ('Z', 1), ('Y', 2048), ('X', 475)]\n",
      "[('S', 1), ('T', 1), ('C', 2), ('Z', 1), ('Y', 2048), ('X', 475)]\n",
      "[('S', 1), ('T', 1), ('C', 2), ('Z', 1), ('Y', 2048), ('X', 475)]\n",
      "[('S', 1), ('T', 1), ('C', 2), ('Z', 1), ('Y', 2048), ('X', 475)]\n",
      "[('S', 1), ('T', 1), ('C', 2), ('Z', 1), ('Y', 2048), ('X', 475)]\n",
      "[('S', 1), ('T', 1), ('C', 2), ('Z', 1), ('Y', 2048), ('X', 475)]\n",
      "[('S', 1), ('T', 1), ('C', 2), ('Z', 1), ('Y', 2048), ('X', 475)]\n",
      "[('S', 1), ('T', 1), ('C', 2), ('Z', 1), ('Y', 2048), ('X', 475)]\n",
      "[('S', 1), ('T', 1), ('C', 2), ('Z', 1), ('Y', 2048), ('X', 475)]\n",
      "[('S', 1), ('T', 1), ('C', 2), ('Z', 1), ('Y', 2048), ('X', 475)]\n",
      "[('S', 1), ('T', 1), ('C', 2), ('Z', 1), ('Y', 2048), ('X', 475)]\n",
      "[('S', 1), ('T', 1), ('C', 2), ('Z', 1), ('Y', 2048), ('X', 475)]\n",
      "[('S', 1), ('T', 1), ('C', 2), ('Z', 1), ('Y', 2048), ('X', 475)]\n",
      "[('S', 1), ('T', 1), ('C', 2), ('Z', 1), ('Y', 2048), ('X', 475)]\n",
      "[('S', 1), ('T', 1), ('C', 2), ('Z', 1), ('Y', 2048), ('X', 475)]\n",
      "[('S', 1), ('T', 1), ('C', 2), ('Z', 1), ('Y', 2048), ('X', 475)]\n",
      "[('S', 1), ('T', 1), ('C', 2), ('Z', 1), ('Y', 2048), ('X', 475)]\n",
      "[('S', 1), ('T', 1), ('C', 2), ('Z', 1), ('Y', 2048), ('X', 475)]\n",
      "[('S', 1), ('T', 1), ('C', 2), ('Z', 1), ('Y', 2048), ('X', 475)]\n",
      "[('S', 1), ('T', 1), ('C', 2), ('Z', 1), ('Y', 2048), ('X', 475)]\n",
      "[('S', 1), ('T', 1), ('C', 2), ('Z', 1), ('Y', 2048), ('X', 475)]\n",
      "[('S', 1), ('T', 1), ('C', 2), ('Z', 1), ('Y', 2048), ('X', 475)]\n",
      "[('S', 1), ('T', 1), ('C', 2), ('Z', 1), ('Y', 2048), ('X', 475)]\n",
      "[('S', 1), ('T', 1), ('C', 2), ('Z', 1), ('Y', 2048), ('X', 475)]\n",
      "[('S', 1), ('T', 1), ('C', 2), ('Z', 1), ('Y', 2048), ('X', 475)]\n",
      "[('S', 1), ('T', 1), ('C', 2), ('Z', 1), ('Y', 2048), ('X', 475)]\n",
      "[('S', 1), ('T', 1), ('C', 2), ('Z', 1), ('Y', 2048), ('X', 475)]\n",
      "[('S', 1), ('T', 1), ('C', 2), ('Z', 1), ('Y', 2048), ('X', 475)]\n",
      "[('S', 1), ('T', 1), ('C', 2), ('Z', 1), ('Y', 2048), ('X', 475)]\n",
      "[('S', 1), ('T', 1), ('C', 2), ('Z', 1), ('Y', 2048), ('X', 475)]\n",
      "[('S', 1), ('T', 1), ('C', 2), ('Z', 1), ('Y', 2048), ('X', 475)]\n",
      "[('S', 1), ('T', 1), ('C', 2), ('Z', 1), ('Y', 2048), ('X', 475)]\n",
      "[('S', 1), ('T', 1), ('C', 2), ('Z', 1), ('Y', 2048), ('X', 475)]\n",
      "[('S', 1), ('T', 1), ('C', 2), ('Z', 1), ('Y', 2048), ('X', 475)]\n",
      "[('S', 1), ('T', 1), ('C', 2), ('Z', 1), ('Y', 2048), ('X', 475)]\n",
      "[('S', 1), ('T', 1), ('C', 2), ('Z', 1), ('Y', 2048), ('X', 475)]\n",
      "[('S', 1), ('T', 1), ('C', 2), ('Z', 1), ('Y', 2048), ('X', 475)]\n",
      "[('S', 1), ('T', 1), ('C', 2), ('Z', 1), ('Y', 2048), ('X', 475)]\n",
      "[('S', 1), ('T', 1), ('C', 2), ('Z', 1), ('Y', 2048), ('X', 475)]\n",
      "[('S', 1), ('T', 1), ('C', 2), ('Z', 1), ('Y', 2048), ('X', 475)]\n",
      "[('S', 1), ('T', 1), ('C', 2), ('Z', 1), ('Y', 2048), ('X', 475)]\n",
      "[('S', 1), ('T', 1), ('C', 2), ('Z', 1), ('Y', 2048), ('X', 475)]\n",
      "[('S', 1), ('T', 1), ('C', 2), ('Z', 1), ('Y', 2048), ('X', 475)]\n",
      "[('S', 1), ('T', 1), ('C', 2), ('Z', 1), ('Y', 2048), ('X', 475)]\n",
      "[('S', 1), ('T', 1), ('C', 2), ('Z', 1), ('Y', 2048), ('X', 475)]\n",
      "[('S', 1), ('T', 1), ('C', 2), ('Z', 1), ('Y', 2048), ('X', 475)]\n",
      "[('S', 1), ('T', 1), ('C', 2), ('Z', 1), ('Y', 2048), ('X', 475)]\n",
      "[('S', 1), ('T', 1), ('C', 2), ('Z', 1), ('Y', 2048), ('X', 475)]\n",
      "[('S', 1), ('T', 1), ('C', 2), ('Z', 1), ('Y', 2048), ('X', 475)]\n",
      "[('S', 1), ('T', 1), ('C', 2), ('Z', 1), ('Y', 2048), ('X', 475)]\n",
      "[('S', 1), ('T', 1), ('C', 2), ('Z', 1), ('Y', 2048), ('X', 475)]\n",
      "[('S', 1), ('T', 1), ('C', 2), ('Z', 1), ('Y', 2048), ('X', 475)]\n",
      "[('S', 1), ('T', 1), ('C', 2), ('Z', 1), ('Y', 2048), ('X', 475)]\n",
      "[('S', 1), ('T', 1), ('C', 2), ('Z', 1), ('Y', 2048), ('X', 475)]\n",
      "[('S', 1), ('T', 1), ('C', 2), ('Z', 1), ('Y', 2048), ('X', 475)]\n",
      "[('S', 1), ('T', 1), ('C', 2), ('Z', 1), ('Y', 2048), ('X', 475)]\n",
      "[('S', 1), ('T', 1), ('C', 2), ('Z', 1), ('Y', 2048), ('X', 475)]\n",
      "[('S', 1), ('T', 1), ('C', 2), ('Z', 1), ('Y', 2048), ('X', 475)]\n",
      "[('S', 1), ('T', 1), ('C', 2), ('Z', 1), ('Y', 2048), ('X', 475)]\n",
      "[('S', 1), ('T', 1), ('C', 2), ('Z', 1), ('Y', 2048), ('X', 475)]\n",
      "[('S', 1), ('T', 1), ('C', 2), ('Z', 1), ('Y', 2048), ('X', 475)]\n",
      "[('S', 1), ('T', 1), ('C', 2), ('Z', 1), ('Y', 2048), ('X', 475)]\n",
      "[('S', 1), ('T', 1), ('C', 2), ('Z', 1), ('Y', 2048), ('X', 475)]\n",
      "[('S', 1), ('T', 1), ('C', 2), ('Z', 1), ('Y', 2048), ('X', 475)]\n",
      "[('S', 1), ('T', 1), ('C', 2), ('Z', 1), ('Y', 2048), ('X', 475)]\n",
      "[('S', 1), ('T', 1), ('C', 2), ('Z', 1), ('Y', 2048), ('X', 475)]\n",
      "[('S', 1), ('T', 1), ('C', 2), ('Z', 1), ('Y', 2048), ('X', 475)]\n",
      "[('S', 1), ('T', 1), ('C', 2), ('Z', 1), ('Y', 2048), ('X', 475)]\n",
      "[('S', 1), ('T', 1), ('C', 2), ('Z', 1), ('Y', 2048), ('X', 475)]\n",
      "[('S', 1), ('T', 1), ('C', 2), ('Z', 1), ('Y', 2048), ('X', 475)]\n",
      "[('S', 1), ('T', 1), ('C', 2), ('Z', 1), ('Y', 2048), ('X', 475)]\n",
      "[('S', 1), ('T', 1), ('C', 2), ('Z', 1), ('Y', 2048), ('X', 475)]\n",
      "[('S', 1), ('T', 1), ('C', 2), ('Z', 1), ('Y', 2048), ('X', 475)]\n",
      "[('S', 1), ('T', 1), ('C', 2), ('Z', 1), ('Y', 2048), ('X', 475)]\n",
      "[('S', 1), ('T', 1), ('C', 2), ('Z', 1), ('Y', 2048), ('X', 475)]\n",
      "[('S', 1), ('T', 1), ('C', 2), ('Z', 1), ('Y', 2048), ('X', 475)]\n",
      "[('S', 1), ('T', 1), ('C', 2), ('Z', 1), ('Y', 2048), ('X', 475)]\n",
      "[('S', 1), ('T', 1), ('C', 2), ('Z', 1), ('Y', 2048), ('X', 475)]\n",
      "[('S', 1), ('T', 1), ('C', 2), ('Z', 1), ('Y', 2048), ('X', 475)]\n",
      "[('S', 1), ('T', 1), ('C', 2), ('Z', 1), ('Y', 2048), ('X', 475)]\n",
      "[('S', 1), ('T', 1), ('C', 2), ('Z', 1), ('Y', 2048), ('X', 475)]\n",
      "[('S', 1), ('T', 1), ('C', 2), ('Z', 1), ('Y', 2048), ('X', 475)]\n",
      "[('S', 1), ('T', 1), ('C', 2), ('Z', 1), ('Y', 2048), ('X', 475)]\n",
      "[('S', 1), ('T', 1), ('C', 2), ('Z', 1), ('Y', 2048), ('X', 475)]\n",
      "[('S', 1), ('T', 1), ('C', 2), ('Z', 1), ('Y', 2048), ('X', 475)]\n"
     ]
    }
   ],
   "source": [
    "num_cells_per_frame = []\n",
    "masks = []\n",
    "zplane = 50\n",
    "for frame in range(dims['T'][-1]):\n",
    "    img = get_image(frame, zplane)\n",
    "    mask, flows, styles = models.CellposeModel(model_type='cyto3').eval(img,\n",
    "                            diameter=None, channels=[0,0])\n",
    "    masks.append(mask)\n",
    "    num_cells = len(np.unique(mask))\n",
    "    num_cells_per_frame.append(num_cells)"
   ]
  },
  {
   "cell_type": "code",
   "execution_count": 81,
   "id": "5311587e-8f77-4684-afae-9a22f3461384",
   "metadata": {},
   "outputs": [],
   "source": [
    "masks = np.load(\"pip3-06_processed_frame_masks_z50.npy\")"
   ]
  },
  {
   "cell_type": "code",
   "execution_count": 82,
   "id": "e83285ad-ac62-46bb-ac6b-b9ba7559161f",
   "metadata": {},
   "outputs": [
    {
     "data": {
      "text/plain": [
       "(2048, 475)"
      ]
     },
     "execution_count": 82,
     "metadata": {},
     "output_type": "execute_result"
    }
   ],
   "source": [
    "masks[0].shape"
   ]
  },
  {
   "cell_type": "code",
   "execution_count": 83,
   "id": "609705c6-24fd-4c21-9286-8f8351b4cfc3",
   "metadata": {},
   "outputs": [
    {
     "data": {
      "image/png": "[encoded data removed]",
      "text/plain": [
       "<Figure size 640x480 with 1 Axes>"
      ]
     },
     "metadata": {},
     "output_type": "display_data"
    }
   ],
   "source": [
    "mask = masks[0]\n",
    "\n",
    "imshow(mask==5)\n",
    "plt.show()"
   ]
  },
  {
   "cell_type": "code",
   "execution_count": 23,
   "id": "cd179fb4-f965-4783-8bc4-a08221145043",
   "metadata": {},
   "outputs": [],
   "source": [
    "binary = np.uint8((mask == 5) * 255)"
   ]
  },
  {
   "cell_type": "code",
   "execution_count": 58,
   "id": "50757af0-28dd-4765-9355-de22e361968b",
   "metadata": {},
   "outputs": [
    {
     "data": {
      "text/plain": [
       "array([[268, 584],\n",
       "       [264, 584],\n",
       "       [263, 585],\n",
       "       [262, 585],\n",
       "       [261, 586],\n",
       "       [260, 586],\n",
       "       [259, 587],\n",
       "       [258, 587],\n",
       "       [257, 588]], dtype=int32)"
      ]
     },
     "execution_count": 58,
     "metadata": {},
     "output_type": "execute_result"
    }
   ],
   "source": [
    "contours, _ = cv2.findContours(binary, cv2.RETR_EXTERNAL, cv2.CHAIN_APPROX_SIMPLE)\n",
    "contours[0][1:10,0]"
   ]
  },
  {
   "cell_type": "code",
   "execution_count": 41,
   "id": "8bf43d3e-770d-46c0-8b27-4cd23a2031c8",
   "metadata": {},
   "outputs": [],
   "source": [
    "blank = np.zeros_like(binary)\n",
    "for coord in contours[0]:\n",
    "    x, y = coord[0, 0], coord[0,1]\n",
    "    blank[y, x] = 1"
   ]
  },
  {
   "cell_type": "code",
   "execution_count": 53,
   "id": "a5c5ecdb-392d-42f9-87fd-51e7b65cec7a",
   "metadata": {},
   "outputs": [
    {
     "data": {
      "text/plain": [
       "(238, 583, 67, 59)"
      ]
     },
     "execution_count": 53,
     "metadata": {},
     "output_type": "execute_result"
    }
   ],
   "source": [
    "x, y, w, h = cv2.boundingRect(contours[0])\n",
    "x, y, w, h"
   ]
  },
  {
   "cell_type": "code",
   "execution_count": 95,
   "id": "e90d2742-c286-461f-8de7-b6849e4221b6",
   "metadata": {},
   "outputs": [],
   "source": [
    "def draw_bounding_box(mask, cellID, padding=3, thickness=3):\n",
    "    binary_array = (mask == cellID)\n",
    "    # Convert binary array to binary image\n",
    "    binary_image = np.uint8(binary_array * 255)\n",
    "    \n",
    "    # Find contours\n",
    "    contours, _ = cv2.findContours(binary_image, cv2.RETR_EXTERNAL, cv2.CHAIN_APPROX_SIMPLE)\n",
    "    \n",
    "    # Get the bounding rectangle\n",
    "    x, y, w, h = cv2.boundingRect(contours[0])\n",
    "    \n",
    "    # Apply padding\n",
    "    x -= padding\n",
    "    y -= padding\n",
    "    w += 2 * padding\n",
    "    h += 2 * padding\n",
    "    \n",
    "    # Draw bounding box\n",
    "    bounding_box_image = cv2.rectangle(np.zeros_like(mask), (x, y), (x + w, y + h), cellID, thickness)\n",
    "    \n",
    "    return bounding_box_image, (x, y, w, h)"
   ]
  },
  {
   "cell_type": "code",
   "execution_count": 96,
   "id": "e33d0a94-5ab7-4ce3-bd4d-2f2c8ca1998b",
   "metadata": {},
   "outputs": [],
   "source": [
    "box, (x, y, w, h) = draw_bounding_box(mask, 5, padding=10)"
   ]
  },
  {
   "cell_type": "code",
   "execution_count": 98,
   "id": "7f1f9576-f729-4290-9ab5-97cddc960a04",
   "metadata": {},
   "outputs": [
    {
     "data": {
      "text/plain": [
       "(228, 573, 87, 79)"
      ]
     },
     "execution_count": 98,
     "metadata": {},
     "output_type": "execute_result"
    }
   ],
   "source": [
    "x, y, w, h"
   ]
  },
  {
   "cell_type": "code",
   "execution_count": 105,
   "id": "e5d29507-94df-4e27-928b-a17ca3b02151",
   "metadata": {},
   "outputs": [
    {
     "data": {
      "text/plain": [
       "<matplotlib.image.AxesImage at 0x7f216d4e8160>"
      ]
     },
     "execution_count": 105,
     "metadata": {},
     "output_type": "execute_result"
    },
    {
     "data": {
      "image/png": "[encoded data removed]",
      "text/plain": [
       "<Figure size 640x480 with 1 Axes>"
      ]
     },
     "metadata": {},
     "output_type": "display_data"
    }
   ],
   "source": [
    "imshow((box+mask)[y:y+h, x:w+x])"
   ]
  },
  {
   "cell_type": "code",
   "execution_count": 97,
   "id": "9691a790-89aa-4aa7-9e61-e712ae21fcfc",
   "metadata": {},
   "outputs": [
    {
     "name": "stderr",
     "output_type": "stream",
     "text": [
      "/tmp/ipykernel_19801/369136191.py:1: UserWarning: Attempting to set identical low and high xlims makes transformation singular; automatically expanding.\n",
      "  imshow((box+mask)[x:x+w, y:y+h], cmap='gray')\n"
     ]
    },
    {
     "data": {
      "text/plain": [
       "<matplotlib.image.AxesImage at 0x7f21711f8fa0>"
      ]
     },
     "execution_count": 97,
     "metadata": {},
     "output_type": "execute_result"
    },
    {
     "data": {
      "image/png": "[encoded data removed]",
      "text/plain": [
       "<Figure size 640x480 with 1 Axes>"
      ]
     },
     "metadata": {},
     "output_type": "display_data"
    }
   ],
   "source": [
    "imshow(, cmap='gray')"
   ]
  },
  {
   "cell_type": "code",
   "execution_count": 90,
   "id": "145321e6-b7d0-4714-9594-b121467be9dc",
   "metadata": {},
   "outputs": [],
   "source": [
    "num_cells_per_frame = []\n",
    "for mask in masks:\n",
    "    num_cells_per_frame.append(len(np.unique(mask)))\n",
    "\n",
    "num_cells_per_frame"
   ]
  },
  {
   "cell_type": "code",
   "execution_count": 59,
   "id": "6f4107d0-7ca7-4f5c-8ca8-c169c33257bb",
   "metadata": {},
   "outputs": [],
   "source": [
    "#np.save(\"pip3-06_processed_frame_masks_z50.npy\", masks)"
   ]
  },
  {
   "cell_type": "code",
   "execution_count": 78,
   "id": "e27254d5-7a22-47e7-bc1d-1314957f160b",
   "metadata": {},
   "outputs": [
    {
     "name": "stdout",
     "output_type": "stream",
     "text": [
      "[('S', 1), ('T', 1), ('C', 2), ('Z', 1), ('Y', 2048), ('X', 475)]\n"
     ]
    }
   ],
   "source": [
    "frame50 = get_image(50)[0]"
   ]
  },
  {
   "cell_type": "code",
   "execution_count": 104,
   "id": "264fefed-a43c-4fee-947c-a0735ce23355",
   "metadata": {},
   "outputs": [
    {
     "data": {
      "text/plain": [
       "62"
      ]
     },
     "execution_count": 104,
     "metadata": {},
     "output_type": "execute_result"
    }
   ],
   "source": [
    "np.sum(frame50[0] > 1000)"
   ]
  },
  {
   "cell_type": "code",
   "execution_count": 113,
   "id": "a6045ab1-d7b0-49e9-9436-5734af174292",
   "metadata": {},
   "outputs": [],
   "source": [
    "pixel_vals = pd.Series(frame50[0].flatten()).value_counts()"
   ]
  },
  {
   "cell_type": "code",
   "execution_count": 126,
   "id": "72125848-154a-4fe3-a5ce-406a8e1c50a6",
   "metadata": {},
   "outputs": [
    {
     "data": {
      "text/plain": [
       "9558"
      ]
     },
     "execution_count": 126,
     "metadata": {},
     "output_type": "execute_result"
    }
   ],
   "source": [
    "pixel_vals[pixel_vals.index > 313].sum()"
   ]
  },
  {
   "cell_type": "code",
   "execution_count": 139,
   "id": "e833a1c8-2758-45b3-b316-32e6d6d8f012",
   "metadata": {},
   "outputs": [],
   "source": [
    "I = scale_img(frame50[0])"
   ]
  },
  {
   "cell_type": "code",
   "execution_count": 140,
   "id": "06819c8c-b3d7-4276-8dd7-b23810347421",
   "metadata": {},
   "outputs": [
    {
     "data": {
      "text/plain": [
       "<matplotlib.image.AxesImage at 0x7f0b58d14700>"
      ]
     },
     "execution_count": 140,
     "metadata": {},
     "output_type": "execute_result"
    },
    {
     "data": {
      "image/png": "[encoded data removed]",
      "text/plain": [
       "<Figure size 640x480 with 1 Axes>"
      ]
     },
     "metadata": {},
     "output_type": "display_data"
    }
   ],
   "source": [
    "plt.imshow(frame50[0])"
   ]
  },
  {
   "cell_type": "code",
   "execution_count": 141,
   "id": "b7dc1f20-7723-4860-91c7-967b61dfcb51",
   "metadata": {},
   "outputs": [
    {
     "data": {
      "text/plain": [
       "<matplotlib.image.AxesImage at 0x7f0b58c8c0d0>"
      ]
     },
     "execution_count": 141,
     "metadata": {},
     "output_type": "execute_result"
    },
    {
     "data": {
      "image/png": "[encoded data removed]",
      "text/plain": [
       "<Figure size 640x480 with 1 Axes>"
      ]
     },
     "metadata": {},
     "output_type": "display_data"
    }
   ],
   "source": [
    "plt.imshow(I*255)"
   ]
  },
  {
   "cell_type": "markdown",
   "id": "4f63a107-bdb9-492a-bab0-5dbb6b1951d2",
   "metadata": {
    "id": "4f63a107-bdb9-492a-bab0-5dbb6b1951d2"
   },
   "source": [
    "## Dataloader"
   ]
  },
  {
   "cell_type": "code",
   "execution_count": 28,
   "id": "e1088930-c85d-4423-b242-a175ee74c450",
   "metadata": {
    "id": "e1088930-c85d-4423-b242-a175ee74c450"
   },
   "outputs": [],
   "source": [
    "import torch\n",
    "from torch import nn\n",
    "from torch.utils.data import Dataset, DataLoader"
   ]
  },
  {
   "cell_type": "code",
   "execution_count": 180,
   "id": "7739a12e-3105-4c83-ae9f-cd31491b894a",
   "metadata": {
    "id": "7739a12e-3105-4c83-ae9f-cd31491b894a"
   },
   "outputs": [],
   "source": [
    "class CziVideoDataset(Dataset):\n",
    "    def __init__(self, fpath, frame_split=[16,16], channel=-1):\n",
    "        self.video = CziFile(fpath)\n",
    "        self.dims = video.get_dims_shape()[0]\n",
    "        if(channel >= 0):\n",
    "            self.channel = channel\n",
    "\n",
    "        num_frames = self.dims['T'][-1]\n",
    "        num_zslices = self.dims['Z'][-1]\n",
    "        print(f\"Video with {num_frames} frames, {num_zslices} z slices\")\n",
    "        \n",
    "        self.patches_per_frame = frame_split[0] * frame_split[1]\n",
    "        self.grid_size = frame_split\n",
    "        #self.frames = data[:,channel, :, :].astype(np.float32)\n",
    "        #self.frame_tensors = torch.tensor(self.frames, dtype=torch.float32).clone().detach()\n",
    "\n",
    "        self.num_cells_per_frame = {}\n",
    "        self.cell_masks = {}\n",
    "\n",
    "    def get_image(self, z_plane, timestep, scale=True):\n",
    "        timestep = timestep % dims['T'][-1]\n",
    "        z_plane = z_plane % dims['Z'][-1]\n",
    "        img, shp = self.video.read_image(S=0, Z=z_plane, T=timestep, C=self.channel)\n",
    "        img = img.squeeze()\n",
    "        if(scale):\n",
    "            img = self.scale_img(img)\n",
    "        return(img) # returns (channels, Y, X)\n",
    "\n",
    "    def scale_img(self, img):\n",
    "        lower_bound = np.percentile(img, 1)\n",
    "        upper_bound = np.percentile(img, 99.9)\n",
    "        I = (img - lower_bound) / (upper_bound - lower_bound)\n",
    "        I = np.clip(I, 0, 1)\n",
    "        return(I * 255)\n",
    "\n",
    "    def load_segmentation_masks(self, zplane=50, verbose=False):\n",
    "        print(f\"Loading segmentation masks for zplane {zplane}\")\n",
    "        num_cells = []\n",
    "        cell_masks = []\n",
    "        flows = []\n",
    "        styles = []\n",
    "        for frame in range(self.dims['T'][-1]):\n",
    "            if(verbose):\n",
    "                print(f\"Computing for timestep {frame}\")\n",
    "            img = self.get_image(zplane, frame)\n",
    "            mask, flow, style = models.CellposeModel(model_type='cyto3').eval(img,\n",
    "                                    diameter=None, channels=[0,0])\n",
    "            cell_masks.append(mask)\n",
    "            flows.append(flow)\n",
    "            styles.append(style)\n",
    "            N = len(np.unique(masks))\n",
    "            num_cells.append(N)\n",
    "\n",
    "        self.num_cells_per_frame[zplane] = num_cells\n",
    "        self.cell_masks[zplane] = {\n",
    "            \"masks\" : np.array(cell_masks),\n",
    "            \"flows\" : flows,\n",
    "            \"styles\" : styles,\n",
    "        }\n",
    "\n",
    "\n",
    "    def get_cell_mask(self, zplane, frame, cell_num):\n",
    "        if(len(self.cell_masks) > 0 and zplane in self.cell_masks.keys()):\n",
    "            masks = self.cell_masks[zplane][\"masks\"]\n",
    "            if(cell_num < self.num_cells_per_frame[zplane][frame]):\n",
    "                print(f\"Fetching mask for cell {cell_num} out of {self.num_cells_per_frame[zplane][frame]} cells in frame\")\n",
    "                return(masks[frame] == cell_num)\n",
    "            else:\n",
    "                print(f\"Requested cell id {cell_num} out of range. This frame has only {self.num_cells_per_frame[zplane][frame]} cells\")\n",
    "        else:\n",
    "            print(\"This zplane has not loaded masks yet. Try running load_segmentation_masks(zplane) first!\")\n",
    "        \n",
    "\n",
    "    def __len__(self):\n",
    "        # THIS MIGHT NOT BE TRUE\n",
    "        # reasoning is that if 10 frames, trigram model, first frame possible is 8. (8,9), 10\n",
    "        return((len(self.frames) - self.n + 1) * self.patches_per_frame)\n",
    "\n",
    "    def __getitem__(self, idx):\n",
    "        # indexes at max max-n frames\n",
    "        first_frame = idx//self.patches_per_frame\n",
    "        patch_index = idx%self.patches_per_frame\n",
    "        print(f\"first frame at {first_frame}, patch {patch_index}\")\n",
    "        if(self.n>0):\n",
    "            Xs = []\n",
    "            for i in range(self.n-1):\n",
    "                patch = self.get_patch(first_frame+i, patch_index)\n",
    "                print(patch.shape)\n",
    "                Xs.append(patch)\n",
    "            X = torch.cat(Xs, dim=0)\n",
    "            print(X.shape)\n",
    "            y = self.get_patch(first_frame + self.n - 1, patch_index)\n",
    "            return(torch.flatten(X), torch.flatten(y))\n",
    "        else:\n",
    "            raise NotImplementedError\n",
    "\n",
    "    def get_patch(self, frame_index, patch):\n",
    "        arr = self.frame_tensors[frame_index]\n",
    "        assert patch < self.patches_per_frame, \"Patch index out of range\"\n",
    "        height, width = arr.shape\n",
    "        #print(height, width)\n",
    "        row_size, col_size = int(height / self.grid_size[0]), int(width/self.grid_size[1])\n",
    "        patch_row, patch_col = int(patch/self.grid_size[1]), patch%self.grid_size[1] # [0 1 2; 3 4 5; 6 7 8]\n",
    "        #print(f\"Row {patch_row}, ({row_size}px), Col {patch_col}, ({col_size}px)\")\n",
    "        return(arr[row_size*patch_row:row_size*(patch_row+1), col_size*patch_col:col_size*(patch_col+1)])\n",
    "\n",
    "    def reshape_flattened(self, flattened_patch):\n",
    "        # turn input flattened vector back into frames for viewing (heightxwidthxnum_frames)\n",
    "        frame_height, frame_width = self.frames[0].shape\n",
    "        patch_height, patch_width = frame_height // self.grid_size[0], frame_width // self.grid_size[1]\n",
    "        return(flattened_patch.reshape([patch_height, patch_width, -1]))\n",
    "\n"
   ]
  },
  {
   "cell_type": "code",
   "execution_count": 157,
   "id": "e1ad77a2-2c01-43da-9f01-8799bfeb3e19",
   "metadata": {},
   "outputs": [
    {
     "data": {
      "text/plain": [
       "'../dicty_factin_pip3-06_processed.czi'"
      ]
     },
     "execution_count": 157,
     "metadata": {},
     "output_type": "execute_result"
    }
   ],
   "source": [
    "fname"
   ]
  },
  {
   "cell_type": "code",
   "execution_count": 181,
   "id": "5a702806-f3b1-4ab1-9544-735c4a788568",
   "metadata": {
    "id": "5a702806-f3b1-4ab1-9544-735c4a788568",
    "outputId": "8fd941f2-d159-4cfb-e44f-bb6fe05d2bd6"
   },
   "outputs": [
    {
     "name": "stdout",
     "output_type": "stream",
     "text": [
      "Video with 241 frames, 114 z slices\n"
     ]
    }
   ],
   "source": [
    "ds = CziVideoDataset(fname, frame_split=[16, 4], channel=0)\n",
    "ds.cell_masks[50] = {\"masks\" : masks}\n",
    "ds.num_cells_per_frame[50] = num_cells_per_frame"
   ]
  },
  {
   "cell_type": "code",
   "execution_count": 191,
   "id": "615a85c4-dd5a-4945-8890-9e74ef166c36",
   "metadata": {},
   "outputs": [
    {
     "name": "stdout",
     "output_type": "stream",
     "text": [
      "Fetching mask for cell 2 out of 29 cells in frame\n"
     ]
    },
    {
     "data": {
      "image/png": "[encoded data removed]",
      "text/plain": [
       "<Figure size 640x480 with 1 Axes>"
      ]
     },
     "metadata": {},
     "output_type": "display_data"
    }
   ],
   "source": [
    "img = ds.get_image(50, 20)\n",
    "plt.figure()\n",
    "plt.imshow(img)\n",
    "plt.imshow(ds.get_cell_mask(50, 30, 2), alpha=0.7)\n",
    "plt.axis('off')\n",
    "\n",
    "plt.show()"
   ]
  },
  {
   "cell_type": "code",
   "execution_count": 193,
   "id": "391d3b96-0fd5-467b-8d2d-a07baaa6f577",
   "metadata": {},
   "outputs": [
    {
     "data": {
      "text/plain": [
       "<matplotlib.image.AxesImage at 0x7f0b599d3790>"
      ]
     },
     "execution_count": 193,
     "metadata": {},
     "output_type": "execute_result"
    },
    {
     "data": {
      "image/png": "[encoded data removed]",
      "text/plain": [
       "<Figure size 640x480 with 1 Axes>"
      ]
     },
     "metadata": {},
     "output_type": "display_data"
    }
   ],
   "source": [
    "plt.imshow(img)"
   ]
  },
  {
   "cell_type": "code",
   "execution_count": 194,
   "id": "84cee86d-40e7-4c61-bcb2-2e897e5f662a",
   "metadata": {},
   "outputs": [
    {
     "name": "stdout",
     "output_type": "stream",
     "text": [
      "Fetching mask for cell 2 out of 19 cells in frame\n"
     ]
    },
    {
     "data": {
      "image/png": "[encoded data removed]",
      "text/plain": [
       "<Figure size 640x480 with 1 Axes>"
      ]
     },
     "metadata": {},
     "output_type": "display_data"
    }
   ],
   "source": [
    "img = ds.get_image(50, 20)\n",
    "plt.figure()\n",
    "plt.imshow(img)\n",
    "plt.imshow(ds.get_cell_mask(50, 20, 2), alpha=0.7)\n",
    "plt.axis('off')\n",
    "\n",
    "plt.show()"
   ]
  },
  {
   "cell_type": "code",
   "execution_count": 178,
   "id": "a03d46b8-3a82-4d77-b20a-65ce7f7fb9b7",
   "metadata": {},
   "outputs": [
    {
     "data": {
      "text/plain": [
       "29"
      ]
     },
     "execution_count": 178,
     "metadata": {},
     "output_type": "execute_result"
    }
   ],
   "source": [
    "num_cells_per_frame[30]"
   ]
  },
  {
   "cell_type": "code",
   "execution_count": null,
   "id": "09d59e2e-ee13-47fe-88d0-6f00fb3635ba",
   "metadata": {
    "id": "09d59e2e-ee13-47fe-88d0-6f00fb3635ba",
    "outputId": "a55a567a-a6f5-4a2b-f22b-21c18e7fb870"
   },
   "outputs": [
    {
     "name": "stdout",
     "output_type": "stream",
     "text": [
      "first frame at 0, patch 4\n",
      "torch.Size([128, 281])\n",
      "torch.Size([128, 281])\n",
      "torch.Size([256, 281])\n"
     ]
    }
   ],
   "source": [
    "X, y = getitem(ds, 4)"
   ]
  },
  {
   "cell_type": "code",
   "execution_count": null,
   "id": "7f6d7f25-43ff-47a4-acb8-962d2de543ad",
   "metadata": {
    "id": "7f6d7f25-43ff-47a4-acb8-962d2de543ad",
    "outputId": "22d9234b-b704-4934-d8d4-c9d9df9520ef"
   },
   "outputs": [
    {
     "data": {
      "text/plain": [
       "14144"
      ]
     },
     "execution_count": 76,
     "metadata": {},
     "output_type": "execute_result"
    }
   ],
   "source": [
    "len(ds)"
   ]
  },
  {
   "cell_type": "code",
   "execution_count": null,
   "id": "a4d7576d-89e5-461e-9468-edc227caf8d8",
   "metadata": {
    "id": "a4d7576d-89e5-461e-9468-edc227caf8d8",
    "outputId": "622feaf6-8400-45a3-8ab4-671bb5cc181e"
   },
   "outputs": [
    {
     "data": {
      "text/plain": [
       "torch.Size([128, 281, 2])"
      ]
     },
     "execution_count": 59,
     "metadata": {},
     "output_type": "execute_result"
    }
   ],
   "source": [
    "X.reshape([128, 281, -1]).shape"
   ]
  },
  {
   "cell_type": "code",
   "execution_count": null,
   "id": "263c9ac1-7dac-4f4c-9978-5546cefdfc26",
   "metadata": {
    "id": "263c9ac1-7dac-4f4c-9978-5546cefdfc26"
   },
   "outputs": [],
   "source": [
    "dataloader = DataLoader(ds, batch_size=16, shuffle=True)"
   ]
  },
  {
   "cell_type": "code",
   "execution_count": null,
   "id": "240f3443-c26e-4856-ac54-804e8985708f",
   "metadata": {
    "id": "240f3443-c26e-4856-ac54-804e8985708f",
    "outputId": "7d6efab8-e94a-41f9-cad2-7b86bc150920"
   },
   "outputs": [
    {
     "name": "stdout",
     "output_type": "stream",
     "text": [
      "frame 0, patch 10\n"
     ]
    },
    {
     "data": {
      "text/plain": [
       "torch.Size([35968])"
      ]
     },
     "execution_count": 56,
     "metadata": {},
     "output_type": "execute_result"
    }
   ],
   "source": [
    "ds[10].shape"
   ]
  },
  {
   "cell_type": "markdown",
   "id": "55a4ca9f-fdb0-426e-9a28-ed067c7aaacd",
   "metadata": {
    "id": "55a4ca9f-fdb0-426e-9a28-ed067c7aaacd"
   },
   "source": [
    "### Saving Videos"
   ]
  },
  {
   "cell_type": "code",
   "execution_count": null,
   "id": "ca6fbbc4-b032-4786-9c54-5d7be9d2cde0",
   "metadata": {
    "id": "ca6fbbc4-b032-4786-9c54-5d7be9d2cde0"
   },
   "outputs": [],
   "source": [
    "def save_as_video(self, output_path):\n",
    "    s = time.time()\n",
    "    # Define the video codec and frames per second (fps)\n",
    "    height, width = self.frames[0].shape\n",
    "    fourcc = cv2.VideoWriter_fourcc(*'MP4V')\n",
    "    fps = 30\n",
    "    # Create a VideoWriter object\n",
    "    video_writer = cv2.VideoWriter(output_path, fourcc, fps, (width, height), isColor=False)\n",
    "    for frame in self.frames:\n",
    "        video_writer.write(frame)\n",
    "    video_writer.release()\n",
    "\n",
    "    print(f\"Video saved to: {output_path} in {time.time() - s} seconds\")\n",
    "\n",
    "def save2(self, fname):\n",
    "    fps = 30\n",
    "    # Write frames to the video file\n",
    "    with imageio.get_writer(fname, fps=fps) as writer:\n",
    "        for frame in self.frames:\n",
    "            writer.append_data(frame)\n",
    "    print(f\"Video saved to: {fname} in {time.time() - s} seconds\")"
   ]
  },
  {
   "cell_type": "code",
   "execution_count": null,
   "id": "5a710396-5302-436a-85e6-e549ca24ac62",
   "metadata": {
    "id": "5a710396-5302-436a-85e6-e549ca24ac62"
   },
   "outputs": [],
   "source": [
    "fpath = \"test.mp4\"\n",
    "fps = 30\n",
    "with imageio.get_writer(fpath) as writer:\n",
    "    writer.fps = fps  # Set the frame rate\n",
    "    for frame in ds.frames[:10]:\n",
    "        writer.append_data(frame)\n"
   ]
  },
  {
   "cell_type": "code",
   "execution_count": null,
   "id": "2bcdcd9a-06d1-4695-828f-3ff3c2b5570b",
   "metadata": {
    "id": "2bcdcd9a-06d1-4695-828f-3ff3c2b5570b"
   },
   "outputs": [],
   "source": []
  },
  {
   "cell_type": "markdown",
   "id": "wY3_EF7wzeEa",
   "metadata": {
    "id": "wY3_EF7wzeEa"
   },
   "source": [
    "## Computing Optical Flow"
   ]
  },
  {
   "cell_type": "code",
   "execution_count": 22,
   "id": "sZ_wffDXzjBG",
   "metadata": {
    "executionInfo": {
     "elapsed": 245,
     "status": "ok",
     "timestamp": 1712699250760,
     "user": {
      "displayName": "",
      "userId": ""
     },
     "user_tz": 240
    },
    "id": "sZ_wffDXzjBG"
   },
   "outputs": [],
   "source": [
    "## Importing the necessary modules\n",
    "import numpy as np\n",
    "import os\n",
    "import skimage.io as io\n",
    "from natsort import natsorted\n",
    "from tqdm import tqdm\n",
    "import scipy as sp\n",
    "import time\n",
    "import scipy.io as sio\n",
    "#import hdf5storage\n",
    "from multiprocessing import TimeoutError\n",
    "from multiprocessing.pool import ThreadPool as Pool\n",
    "from functools import partial\n",
    "import matplotlib.pyplot as plt\n",
    "from aicspylibczi import CziFile\n",
    "import warnings\n",
    "warnings.filterwarnings(\"ignore\")"
   ]
  },
  {
   "cell_type": "code",
   "execution_count": null,
   "id": "bCqtj5sIzgJ5",
   "metadata": {
    "id": "bCqtj5sIzgJ5"
   },
   "outputs": [],
   "source": [
    "## Load Data\n",
    "\n",
    "# Folder address where the raw 3D movie is\n",
    "data_folder = 'E:\\\\Spandan\\\\3D_Lattice_Lightsheet\\\\Shen 1-30-23\\\\dicty_factin_pip3-06_processed'\n",
    "czi_path = data_folder +'\\\\dicty_factin_pip3-06_processed.czi'\n",
    "\n",
    "input_img = CziFile(czi_path)\n",
    "shape = input_img.size; dims = input_img.dims;  # Check shape of the data\n",
    "print(shape), print(dims)\n",
    "\n",
    "num_timepoints, num_stacks, height, width = shape[1], shape[3], shape[4], shape[5]"
   ]
  },
  {
   "cell_type": "code",
   "execution_count": null,
   "id": "0lTzVRZazlQn",
   "metadata": {
    "id": "0lTzVRZazlQn"
   },
   "outputs": [],
   "source": [
    "def smoothing(k, img):\n",
    "\n",
    "    def pre_processing(frm_id, image, ch_id):\n",
    "        img_temp = image.read_image(T=frm_id, C=ch_id)\n",
    "        imge = np.squeeze(img_temp[0])\n",
    "        return imge\n",
    "\n",
    "    current_frame = pre_processing(k, img, channel)\n",
    "\n",
    "    if k == start_frame or k == end_frame - jump:\n",
    "        result = current_frame\n",
    "    else:\n",
    "        previous_frame = pre_processing(k - jump, img, channel)\n",
    "        next_frame = pre_processing(k + jump, img, channel)\n",
    "\n",
    "        if k == start_frame + jump or k == end_frame - 2*jump:\n",
    "            result = np.average([previous_frame, current_frame, next_frame], weights=kernel1, axis=0)\n",
    "\n",
    "        else:\n",
    "            frame_minus_2_jump = pre_processing(k - 2 * jump, img, channel)\n",
    "            frame_plus_2_jump = pre_processing(k + 2 * jump, img, channel)\n",
    "            result = np.average([frame_minus_2_jump, previous_frame, current_frame, next_frame, frame_plus_2_jump], weights=kernel2, axis=0)\n",
    "\n",
    "    result = result.astype(np.float32)\n",
    "    np.save(os.path.join(data_folder, 'smoothed_frames', f'{k}'), result)\n",
    "\n",
    "# Example usage:\n",
    "jump = 1\n",
    "start_frame = 0\n",
    "end_frame = num_timepoints\n",
    "channel = 0\n",
    "# Create a local folder for storing smoothed frames\n",
    "os.makedirs(os.path.join(data_folder, 'smoothed_frames'), exist_ok=True)"
   ]
  },
  {
   "cell_type": "code",
   "execution_count": null,
   "id": "Tm9hP8ISzp1y",
   "metadata": {
    "id": "Tm9hP8ISzp1y"
   },
   "outputs": [],
   "source": [
    "kernel1 = np.array([0.225,0.55,0.225]);\n",
    "kernel2 = np.array([0.036,0.249,0.431,0.249,0.036])\n",
    "\n",
    "numProcessors = 16   # maybe change it to 8 (but that's it!)\n",
    "pool = Pool(processes=numProcessors)\n",
    "\n",
    "print('Post-processing in parallel with '+str(numProcessors)+' processors')\n",
    "\n",
    "#store start time\n",
    "stopwatchStart = time.time()\n",
    "[temp] =zip(*pool.map(partial(smoothing, img = input_img), range(num_timepoints-1)))\n",
    "\n",
    "print('Wall time = '+str(np.round(time.time() - stopwatchStart,2))+' s')\n",
    "\n",
    "print('Parallel post processing complete, switching to serial')\n",
    "pool.close()"
   ]
  },
  {
   "cell_type": "code",
   "execution_count": null,
   "id": "MA9RLg78zp4D",
   "metadata": {
    "id": "MA9RLg78zp4D"
   },
   "outputs": [],
   "source": [
    "# Lucas-Kanade method for Optical Flow\n",
    "# INPUTS:\n",
    "\n",
    "#k: Timeframe index, input_image: temporally smoothed movie\n",
    "#sig: Spread of the Gaussian weights around a pixel, #thresh: Threshold for reliability score\n",
    "\n",
    "# OUTPUTS (stored in a data file):\n",
    "#vx: x-velocity, vy: y-velocity, vz: z-velocity\n",
    "#reliabMat: reliability score for velocities calculated at a pixel (higher the better)\n",
    "\n",
    "def LKxOptFlow(k,sig,thresh):\n",
    "\n",
    "    def reliability_from_cubic_roots(a,b,c,d,e,f):\n",
    "        trA = a + b + c;\n",
    "        q = trA/3;\n",
    "        x = (a + b - 2*c)**2/9 + (a -2*b + c)**2/9 + (b - 2*a + c)**2/9 + 2*(d**2 + e**2 + f**2);\n",
    "        p = np.sqrt(x/6)\n",
    "        detB = ((a-q)*(b-q)*(c-q) + 2*d*e*f - (a-q)*f**2 - (b-q)*e**2 - (c-q)*d**2)/(p**3)\n",
    "        detB[detB > 2] = 2;\n",
    "        detB[detB < -2] = -2;\n",
    "\n",
    "        theta = np.arccos(detB/2)/3\n",
    "\n",
    "        # define roots\n",
    "        r1 = 2*np.cos(theta);\n",
    "        r2 = 2*np.cos(theta + 2*np.pi/3);\n",
    "        r3 = 2*np.cos(theta + 4*np.pi/3);\n",
    "\n",
    "        # define eigs\n",
    "        b1 = r1*p + q;\n",
    "        b2 = r2*p + q;\n",
    "        b3 = r3*p + q;\n",
    "\n",
    "        # define reliability\n",
    "        rel = np.stack((b1,b2,b3), axis=3)\n",
    "        rel = np.min(rel, axis=3)\n",
    "        return rel\n",
    "\n",
    "\n",
    "    current_frame = np.load(smooth_address+'\\\\{}.npy'.format(k))             # Load temporally smoothed frame-1\n",
    "    next_frame = np.load(smooth_address+'\\\\{}.npy'.format(k+1))         # Load temporally smoothed frame-2\n",
    "\n",
    "    # Calculating the spatial and temporal gradients assuming the input frame is of the shape (ZYX)\n",
    "\n",
    "    dy = np.gradient(current_frame,axis=1,edge_order=1)\n",
    "    dx = np.gradient(current_frame,axis=2,edge_order=1)\n",
    "    dz = np.gradient(current_frame,axis=0,edge_order=1)\n",
    "    dt = next_frame - current_frame\n",
    "\n",
    "    dz = dz.astype(np.float32); dy = dy.astype(np.float32); dx = dx.astype(np.float32); dt = dt.astype(np.float32);\n",
    "\n",
    "    wdx2 = sp.ndimage.gaussian_filter(dx**2, sig, mode='nearest')\n",
    "    wdy2 = sp.ndimage.gaussian_filter(dy**2, sig, mode='nearest')\n",
    "    wdz2 = sp.ndimage.gaussian_filter(dz**2, sig, mode='nearest')\n",
    "\n",
    "    wdxy = sp.ndimage.gaussian_filter(dx*dy, sig, mode='nearest')\n",
    "    wdxz = sp.ndimage.gaussian_filter(dx*dz, sig, mode='nearest')\n",
    "    wdyz = sp.ndimage.gaussian_filter(dy*dz, sig, mode='nearest')\n",
    "\n",
    "    wdtx = sp.ndimage.gaussian_filter(dx*dt, sig, mode='nearest')\n",
    "    wdty = sp.ndimage.gaussian_filter(dy*dt, sig, mode='nearest')\n",
    "    wdtz = sp.ndimage.gaussian_filter(dz*dt, sig, mode='nearest')\n",
    "\n",
    "    # Calculate Flow\n",
    "    eps = 1e-6\n",
    "    determinant = wdx2*wdy2*wdz2 + 2*wdxy*wdyz*wdxz - wdx2*(wdyz**2) - wdy2*(wdxz**2) - wdz2*(wdxy**2)\n",
    "\n",
    "    vx = -((determinant + eps)**(-1))* ( \\\n",
    "              wdtx*(wdy2*wdz2 - wdyz**2) \\\n",
    "            + wdty*(wdxz*wdyz - wdxy*wdz2) \\\n",
    "            + wdtz*(wdxy*wdyz - wdxz*wdy2) );\n",
    "    vy = -((determinant + eps)**(-1))* ( \\\n",
    "              wdtx*(wdxz*wdyz - wdxy*wdz2) \\\n",
    "            + wdty*(wdx2*wdz2 - wdxz**2) \\\n",
    "            + wdtz*(wdxy*wdxz - wdx2*wdyz) );\n",
    "    vz = -((determinant + eps)**(-1))* ( \\\n",
    "              wdtx*(wdxy*wdyz - wdxz*wdy2) \\\n",
    "            + wdty*(wdxy*wdxz - wdx2*wdyz) \\\n",
    "            + wdtz*(wdx2*wdy2 - wdxy**2) );\n",
    "    reliabMat = reliability_from_cubic_roots(wdx2,wdy2,wdz2,wdxy,wdxz,wdyz)\n",
    "\n",
    "    vx = vx*(reliabMat > thresh);\n",
    "    vy = vy*(reliabMat > thresh);\n",
    "    vz = vz*(reliabMat > thresh);\n",
    "\n",
    "#     np.savez(save_path+'/{}.npz'.format(k),vx = vx,vy = vy,rel=reliabMat)   # to save as numpy data files\n",
    "    sio.savemat(save_path+'\\\\{}.mat'.format(k),{'vx':vx,'vy':vy,'vz':vz,'rel':reliabMat},do_compression=False) # to save as .MAT files\n",
    "    return [0]"
   ]
  },
  {
   "cell_type": "code",
   "execution_count": null,
   "id": "sUpixRYa0C9r",
   "metadata": {
    "id": "sUpixRYa0C9r"
   },
   "outputs": [],
   "source": [
    "# Example usage:\n",
    "\n",
    "data_folder = 'E:\\\\Spandan\\\\3D_Lattice_Lightsheet\\\\Shen 1-30-23\\\\dicty_factin_pip3-06_processed'   # Root address where all the images are stored\n",
    "smooth_address = data_folder+'\\\\smoothed_frames'\n",
    "save_path = data_folder+'\\\\Op_flow_threaded'                 # Create a local folder for storing OF results\n",
    "os.makedirs(save_path,exist_ok=True)\n",
    "\n",
    "file_list = natsorted(os.listdir(smooth_address))    # sort the image files numerically by frame-index\n",
    "n_frames = len(file_list);"
   ]
  },
  {
   "cell_type": "code",
   "execution_count": null,
   "id": "njENyrDb0DAU",
   "metadata": {
    "id": "njENyrDb0DAU"
   },
   "outputs": [],
   "source": [
    "numProcessors = 16   # maybe change it to 8 (but that's it)\n",
    "pool = Pool(processes=numProcessors)\n",
    "\n",
    "print('Post-processing in parallel with '+str(numProcessors)+' processors')\n",
    "\n",
    "#store start time\n",
    "stopwatchStart = time.time()\n",
    "[temp] =zip(*pool.map(partial(LKxOptFlow, sig = 2, thresh = 0.1), range(n_frames-1)))\n",
    "\n",
    "print('Wall time = '+str(np.round(time.time() - stopwatchStart,2))+' s')\n",
    "\n",
    "print('Parallel post processing complete, switching to serial')\n",
    "pool.close()"
   ]
  },
  {
   "cell_type": "code",
   "execution_count": null,
   "id": "YRjLRqHd0DCv",
   "metadata": {
    "id": "YRjLRqHd0DCv"
   },
   "outputs": [],
   "source": []
  },
  {
   "cell_type": "code",
   "execution_count": null,
   "id": "yaate398zlWC",
   "metadata": {
    "id": "yaate398zlWC"
   },
   "outputs": [],
   "source": []
  },
  {
   "cell_type": "code",
   "execution_count": null,
   "id": "XVIWwyO8zlY4",
   "metadata": {
    "id": "XVIWwyO8zlY4"
   },
   "outputs": [],
   "source": []
  }
 ],
 "metadata": {
  "colab": {
   "name": "VideoProcessing.ipynb",
   "provenance": []
  },
  "kernelspec": {
   "display_name": "sammykernel",
   "language": "python",
   "name": "sammykernel"
  },
  "language_info": {
   "codemirror_mode": {
    "name": "ipython",
    "version": 3
   },
   "file_extension": ".py",
   "mimetype": "text/x-python",
   "name": "python",
   "nbconvert_exporter": "python",
   "pygments_lexer": "ipython3",
   "version": "3.9.19"
  }
 },
 "nbformat": 4,
 "nbformat_minor": 5
}
