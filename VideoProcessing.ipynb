{
  "cells": [
    {
      "cell_type": "code",
      "source": [
        "!pip install aicspylibczi"
      ],
      "metadata": {
        "id": "4KOOTjSakkQS",
        "colab": {
          "base_uri": "https://localhost:8080/"
        },
        "executionInfo": {
          "status": "ok",
          "timestamp": 1712703635934,
          "user_tz": 240,
          "elapsed": 10865,
          "user": {
            "displayName": "",
            "userId": ""
          }
        },
        "outputId": "a6357700-abd8-448c-8b67-3dbc9545c833"
      },
      "id": "4KOOTjSakkQS",
      "execution_count": 1,
      "outputs": [
        {
          "output_type": "stream",
          "name": "stdout",
          "text": [
            "Requirement already satisfied: aicspylibczi in /usr/local/lib/python3.10/dist-packages (3.1.2)\n",
            "Requirement already satisfied: numpy>=1.14.1 in /usr/local/lib/python3.10/dist-packages (from aicspylibczi) (1.25.2)\n"
          ]
        }
      ]
    },
    {
      "cell_type": "code",
      "source": [
        "!pip install czifile"
      ],
      "metadata": {
        "id": "lStwqpMqhDH0",
        "colab": {
          "base_uri": "https://localhost:8080/"
        },
        "executionInfo": {
          "status": "ok",
          "timestamp": 1712703646255,
          "user_tz": 240,
          "elapsed": 10325,
          "user": {
            "displayName": "",
            "userId": ""
          }
        },
        "outputId": "1724bb2f-bd60-4be8-d5e7-3ded6bf16d93"
      },
      "id": "lStwqpMqhDH0",
      "execution_count": 2,
      "outputs": [
        {
          "output_type": "stream",
          "name": "stdout",
          "text": [
            "Requirement already satisfied: czifile in /usr/local/lib/python3.10/dist-packages (2019.7.2)\n",
            "Requirement already satisfied: numpy>=1.11.3 in /usr/local/lib/python3.10/dist-packages (from czifile) (1.25.2)\n",
            "Requirement already satisfied: tifffile>=2019.7.2 in /usr/local/lib/python3.10/dist-packages (from czifile) (2024.2.12)\n"
          ]
        }
      ]
    },
    {
      "cell_type": "code",
      "source": [
        "!pip install cellpose[gui]"
      ],
      "metadata": {
        "id": "SrBZk6_XgRRp",
        "colab": {
          "base_uri": "https://localhost:8080/"
        },
        "executionInfo": {
          "status": "ok",
          "timestamp": 1712695826304,
          "user_tz": 240,
          "elapsed": 209506,
          "user": {
            "displayName": "",
            "userId": ""
          }
        },
        "outputId": "21fdefc1-e4f0-474c-eca4-3b9e841b76dc"
      },
      "id": "SrBZk6_XgRRp",
      "execution_count": null,
      "outputs": [
        {
          "output_type": "stream",
          "name": "stdout",
          "text": [
            "Collecting cellpose[gui]\n",
            "  Downloading cellpose-3.0.7-py3-none-any.whl (204 kB)\n",
            "\u001b[2K     \u001b[90m━━━━━━━━━━━━━━━━━━━━━━━━━━━━━━━━━━━━━━━━\u001b[0m \u001b[32m204.4/204.4 kB\u001b[0m \u001b[31m1.4 MB/s\u001b[0m eta \u001b[36m0:00:00\u001b[0m\n",
            "\u001b[?25hRequirement already satisfied: numpy>=1.20.0 in /usr/local/lib/python3.10/dist-packages (from cellpose[gui]) (1.25.2)\n",
            "Requirement already satisfied: scipy in /usr/local/lib/python3.10/dist-packages (from cellpose[gui]) (1.11.4)\n",
            "Requirement already satisfied: natsort in /usr/local/lib/python3.10/dist-packages (from cellpose[gui]) (8.4.0)\n",
            "Requirement already satisfied: tifffile in /usr/local/lib/python3.10/dist-packages (from cellpose[gui]) (2024.2.12)\n",
            "Requirement already satisfied: tqdm in /usr/local/lib/python3.10/dist-packages (from cellpose[gui]) (4.66.2)\n",
            "Requirement already satisfied: numba>=0.53.0 in /usr/local/lib/python3.10/dist-packages (from cellpose[gui]) (0.58.1)\n",
            "Requirement already satisfied: llvmlite in /usr/local/lib/python3.10/dist-packages (from cellpose[gui]) (0.41.1)\n",
            "Requirement already satisfied: torch>=1.6 in /usr/local/lib/python3.10/dist-packages (from cellpose[gui]) (2.2.1+cu121)\n",
            "Requirement already satisfied: opencv-python-headless in /usr/local/lib/python3.10/dist-packages (from cellpose[gui]) (4.9.0.80)\n",
            "Collecting fastremap (from cellpose[gui])\n",
            "  Downloading fastremap-1.14.1-cp310-cp310-manylinux_2_17_x86_64.manylinux2014_x86_64.whl (6.0 MB)\n",
            "\u001b[2K     \u001b[90m━━━━━━━━━━━━━━━━━━━━━━━━━━━━━━━━━━━━━━━━\u001b[0m \u001b[32m6.0/6.0 MB\u001b[0m \u001b[31m23.5 MB/s\u001b[0m eta \u001b[36m0:00:00\u001b[0m\n",
            "\u001b[?25hCollecting imagecodecs (from cellpose[gui])\n",
            "  Downloading imagecodecs-2024.1.1-cp310-cp310-manylinux_2_17_x86_64.manylinux2014_x86_64.whl (39.6 MB)\n",
            "\u001b[2K     \u001b[90m━━━━━━━━━━━━━━━━━━━━━━━━━━━━━━━━━━━━━━━━\u001b[0m \u001b[32m39.6/39.6 MB\u001b[0m \u001b[31m22.6 MB/s\u001b[0m eta \u001b[36m0:00:00\u001b[0m\n",
            "\u001b[?25hCollecting roifile (from cellpose[gui])\n",
            "  Downloading roifile-2024.3.20-py3-none-any.whl (16 kB)\n",
            "Collecting pyqtgraph>=0.11.0rc0 (from cellpose[gui])\n",
            "  Downloading pyqtgraph-0.13.4-py3-none-any.whl (975 kB)\n",
            "\u001b[2K     \u001b[90m━━━━━━━━━━━━━━━━━━━━━━━━━━━━━━━━━━━━━━━━\u001b[0m \u001b[32m975.2/975.2 kB\u001b[0m \u001b[31m41.7 MB/s\u001b[0m eta \u001b[36m0:00:00\u001b[0m\n",
            "\u001b[?25hCollecting pyqt6 (from cellpose[gui])\n",
            "  Downloading PyQt6-6.6.1-cp38-abi3-manylinux_2_28_x86_64.whl (7.9 MB)\n",
            "\u001b[2K     \u001b[90m━━━━━━━━━━━━━━━━━━━━━━━━━━━━━━━━━━━━━━━━\u001b[0m \u001b[32m7.9/7.9 MB\u001b[0m \u001b[31m55.2 MB/s\u001b[0m eta \u001b[36m0:00:00\u001b[0m\n",
            "\u001b[?25hCollecting pyqt6.sip (from cellpose[gui])\n",
            "  Downloading PyQt6_sip-13.6.0-cp310-cp310-manylinux_2_5_x86_64.manylinux1_x86_64.whl (299 kB)\n",
            "\u001b[2K     \u001b[90m━━━━━━━━━━━━━━━━━━━━━━━━━━━━━━━━━━━━━━━━\u001b[0m \u001b[32m299.3/299.3 kB\u001b[0m \u001b[31m29.2 MB/s\u001b[0m eta \u001b[36m0:00:00\u001b[0m\n",
            "\u001b[?25hCollecting qtpy (from cellpose[gui])\n",
            "  Downloading QtPy-2.4.1-py3-none-any.whl (93 kB)\n",
            "\u001b[2K     \u001b[90m━━━━━━━━━━━━━━━━━━━━━━━━━━━━━━━━━━━━━━━━\u001b[0m \u001b[32m93.5/93.5 kB\u001b[0m \u001b[31m10.1 MB/s\u001b[0m eta \u001b[36m0:00:00\u001b[0m\n",
            "\u001b[?25hCollecting superqt (from cellpose[gui])\n",
            "  Downloading superqt-0.6.3-py3-none-any.whl (89 kB)\n",
            "\u001b[2K     \u001b[90m━━━━━━━━━━━━━━━━━━━━━━━━━━━━━━━━━━━━━━━━\u001b[0m \u001b[32m89.5/89.5 kB\u001b[0m \u001b[31m9.1 MB/s\u001b[0m eta \u001b[36m0:00:00\u001b[0m\n",
            "\u001b[?25hRequirement already satisfied: google-cloud-storage in /usr/local/lib/python3.10/dist-packages (from cellpose[gui]) (2.8.0)\n",
            "Requirement already satisfied: filelock in /usr/local/lib/python3.10/dist-packages (from torch>=1.6->cellpose[gui]) (3.13.3)\n",
            "Requirement already satisfied: typing-extensions>=4.8.0 in /usr/local/lib/python3.10/dist-packages (from torch>=1.6->cellpose[gui]) (4.10.0)\n",
            "Requirement already satisfied: sympy in /usr/local/lib/python3.10/dist-packages (from torch>=1.6->cellpose[gui]) (1.12)\n",
            "Requirement already satisfied: networkx in /usr/local/lib/python3.10/dist-packages (from torch>=1.6->cellpose[gui]) (3.2.1)\n",
            "Requirement already satisfied: jinja2 in /usr/local/lib/python3.10/dist-packages (from torch>=1.6->cellpose[gui]) (3.1.3)\n",
            "Requirement already satisfied: fsspec in /usr/local/lib/python3.10/dist-packages (from torch>=1.6->cellpose[gui]) (2023.6.0)\n",
            "Collecting nvidia-cuda-nvrtc-cu12==12.1.105 (from torch>=1.6->cellpose[gui])\n",
            "  Downloading nvidia_cuda_nvrtc_cu12-12.1.105-py3-none-manylinux1_x86_64.whl (23.7 MB)\n",
            "\u001b[2K     \u001b[90m━━━━━━━━━━━━━━━━━━━━━━━━━━━━━━━━━━━━━━━━\u001b[0m \u001b[32m23.7/23.7 MB\u001b[0m \u001b[31m39.6 MB/s\u001b[0m eta \u001b[36m0:00:00\u001b[0m\n",
            "\u001b[?25hCollecting nvidia-cuda-runtime-cu12==12.1.105 (from torch>=1.6->cellpose[gui])\n",
            "  Downloading nvidia_cuda_runtime_cu12-12.1.105-py3-none-manylinux1_x86_64.whl (823 kB)\n",
            "\u001b[2K     \u001b[90m━━━━━━━━━━━━━━━━━━━━━━━━━━━━━━━━━━━━━━━━\u001b[0m \u001b[32m823.6/823.6 kB\u001b[0m \u001b[31m39.2 MB/s\u001b[0m eta \u001b[36m0:00:00\u001b[0m\n",
            "\u001b[?25hCollecting nvidia-cuda-cupti-cu12==12.1.105 (from torch>=1.6->cellpose[gui])\n",
            "  Downloading nvidia_cuda_cupti_cu12-12.1.105-py3-none-manylinux1_x86_64.whl (14.1 MB)\n",
            "\u001b[2K     \u001b[90m━━━━━━━━━━━━━━━━━━━━━━━━━━━━━━━━━━━━━━━━\u001b[0m \u001b[32m14.1/14.1 MB\u001b[0m \u001b[31m50.6 MB/s\u001b[0m eta \u001b[36m0:00:00\u001b[0m\n",
            "\u001b[?25hCollecting nvidia-cudnn-cu12==8.9.2.26 (from torch>=1.6->cellpose[gui])\n",
            "  Downloading nvidia_cudnn_cu12-8.9.2.26-py3-none-manylinux1_x86_64.whl (731.7 MB)\n",
            "\u001b[2K     \u001b[90m━━━━━━━━━━━━━━━━━━━━━━━━━━━━━━━━━━━━━━━━\u001b[0m \u001b[32m731.7/731.7 MB\u001b[0m \u001b[31m1.0 MB/s\u001b[0m eta \u001b[36m0:00:00\u001b[0m\n",
            "\u001b[?25hCollecting nvidia-cublas-cu12==12.1.3.1 (from torch>=1.6->cellpose[gui])\n",
            "  Downloading nvidia_cublas_cu12-12.1.3.1-py3-none-manylinux1_x86_64.whl (410.6 MB)\n",
            "\u001b[2K     \u001b[90m━━━━━━━━━━━━━━━━━━━━━━━━━━━━━━━━━━━━━━━━\u001b[0m \u001b[32m410.6/410.6 MB\u001b[0m \u001b[31m2.1 MB/s\u001b[0m eta \u001b[36m0:00:00\u001b[0m\n",
            "\u001b[?25hCollecting nvidia-cufft-cu12==11.0.2.54 (from torch>=1.6->cellpose[gui])\n",
            "  Downloading nvidia_cufft_cu12-11.0.2.54-py3-none-manylinux1_x86_64.whl (121.6 MB)\n",
            "\u001b[2K     \u001b[90m━━━━━━━━━━━━━━━━━━━━━━━━━━━━━━━━━━━━━━━━\u001b[0m \u001b[32m121.6/121.6 MB\u001b[0m \u001b[31m7.0 MB/s\u001b[0m eta \u001b[36m0:00:00\u001b[0m\n",
            "\u001b[?25hCollecting nvidia-curand-cu12==10.3.2.106 (from torch>=1.6->cellpose[gui])\n",
            "  Downloading nvidia_curand_cu12-10.3.2.106-py3-none-manylinux1_x86_64.whl (56.5 MB)\n",
            "\u001b[2K     \u001b[90m━━━━━━━━━━━━━━━━━━━━━━━━━━━━━━━━━━━━━━━━\u001b[0m \u001b[32m56.5/56.5 MB\u001b[0m \u001b[31m13.0 MB/s\u001b[0m eta \u001b[36m0:00:00\u001b[0m\n",
            "\u001b[?25hCollecting nvidia-cusolver-cu12==11.4.5.107 (from torch>=1.6->cellpose[gui])\n",
            "  Downloading nvidia_cusolver_cu12-11.4.5.107-py3-none-manylinux1_x86_64.whl (124.2 MB)\n",
            "\u001b[2K     \u001b[90m━━━━━━━━━━━━━━━━━━━━━━━━━━━━━━━━━━━━━━━━\u001b[0m \u001b[32m124.2/124.2 MB\u001b[0m \u001b[31m6.9 MB/s\u001b[0m eta \u001b[36m0:00:00\u001b[0m\n",
            "\u001b[?25hCollecting nvidia-cusparse-cu12==12.1.0.106 (from torch>=1.6->cellpose[gui])\n",
            "  Downloading nvidia_cusparse_cu12-12.1.0.106-py3-none-manylinux1_x86_64.whl (196.0 MB)\n",
            "\u001b[2K     \u001b[90m━━━━━━━━━━━━━━━━━━━━━━━━━━━━━━━━━━━━━━━━\u001b[0m \u001b[32m196.0/196.0 MB\u001b[0m \u001b[31m3.6 MB/s\u001b[0m eta \u001b[36m0:00:00\u001b[0m\n",
            "\u001b[?25hCollecting nvidia-nccl-cu12==2.19.3 (from torch>=1.6->cellpose[gui])\n",
            "  Downloading nvidia_nccl_cu12-2.19.3-py3-none-manylinux1_x86_64.whl (166.0 MB)\n",
            "\u001b[2K     \u001b[90m━━━━━━━━━━━━━━━━━━━━━━━━━━━━━━━━━━━━━━━━\u001b[0m \u001b[32m166.0/166.0 MB\u001b[0m \u001b[31m4.2 MB/s\u001b[0m eta \u001b[36m0:00:00\u001b[0m\n",
            "\u001b[?25hCollecting nvidia-nvtx-cu12==12.1.105 (from torch>=1.6->cellpose[gui])\n",
            "  Downloading nvidia_nvtx_cu12-12.1.105-py3-none-manylinux1_x86_64.whl (99 kB)\n",
            "\u001b[2K     \u001b[90m━━━━━━━━━━━━━━━━━━━━━━━━━━━━━━━━━━━━━━━━\u001b[0m \u001b[32m99.1/99.1 kB\u001b[0m \u001b[31m11.2 MB/s\u001b[0m eta \u001b[36m0:00:00\u001b[0m\n",
            "\u001b[?25hRequirement already satisfied: triton==2.2.0 in /usr/local/lib/python3.10/dist-packages (from torch>=1.6->cellpose[gui]) (2.2.0)\n",
            "Collecting nvidia-nvjitlink-cu12 (from nvidia-cusolver-cu12==11.4.5.107->torch>=1.6->cellpose[gui])\n",
            "  Downloading nvidia_nvjitlink_cu12-12.4.127-py3-none-manylinux2014_x86_64.whl (21.1 MB)\n",
            "\u001b[2K     \u001b[90m━━━━━━━━━━━━━━━━━━━━━━━━━━━━━━━━━━━━━━━━\u001b[0m \u001b[32m21.1/21.1 MB\u001b[0m \u001b[31m25.0 MB/s\u001b[0m eta \u001b[36m0:00:00\u001b[0m\n",
            "\u001b[?25hRequirement already satisfied: google-auth<3.0dev,>=1.25.0 in /usr/local/lib/python3.10/dist-packages (from google-cloud-storage->cellpose[gui]) (2.27.0)\n",
            "Requirement already satisfied: google-api-core!=2.0.*,!=2.1.*,!=2.2.*,!=2.3.0,<3.0.0dev,>=1.31.5 in /usr/local/lib/python3.10/dist-packages (from google-cloud-storage->cellpose[gui]) (2.11.1)\n",
            "Requirement already satisfied: google-cloud-core<3.0dev,>=2.3.0 in /usr/local/lib/python3.10/dist-packages (from google-cloud-storage->cellpose[gui]) (2.3.3)\n",
            "Requirement already satisfied: google-resumable-media>=2.3.2 in /usr/local/lib/python3.10/dist-packages (from google-cloud-storage->cellpose[gui]) (2.7.0)\n",
            "Requirement already satisfied: requests<3.0.0dev,>=2.18.0 in /usr/local/lib/python3.10/dist-packages (from google-cloud-storage->cellpose[gui]) (2.31.0)\n",
            "Collecting PyQt6-Qt6>=6.6.0 (from pyqt6->cellpose[gui])\n",
            "  Downloading PyQt6_Qt6-6.6.3-py3-none-manylinux_2_28_x86_64.whl (65.3 MB)\n",
            "\u001b[2K     \u001b[90m━━━━━━━━━━━━━━━━━━━━━━━━━━━━━━━━━━━━━━━━\u001b[0m \u001b[32m65.3/65.3 MB\u001b[0m \u001b[31m11.5 MB/s\u001b[0m eta \u001b[36m0:00:00\u001b[0m\n",
            "\u001b[?25hRequirement already satisfied: packaging in /usr/local/lib/python3.10/dist-packages (from qtpy->cellpose[gui]) (24.0)\n",
            "Requirement already satisfied: pygments>=2.4.0 in /usr/local/lib/python3.10/dist-packages (from superqt->cellpose[gui]) (2.16.1)\n",
            "Requirement already satisfied: googleapis-common-protos<2.0.dev0,>=1.56.2 in /usr/local/lib/python3.10/dist-packages (from google-api-core!=2.0.*,!=2.1.*,!=2.2.*,!=2.3.0,<3.0.0dev,>=1.31.5->google-cloud-storage->cellpose[gui]) (1.63.0)\n",
            "Requirement already satisfied: protobuf!=3.20.0,!=3.20.1,!=4.21.0,!=4.21.1,!=4.21.2,!=4.21.3,!=4.21.4,!=4.21.5,<5.0.0.dev0,>=3.19.5 in /usr/local/lib/python3.10/dist-packages (from google-api-core!=2.0.*,!=2.1.*,!=2.2.*,!=2.3.0,<3.0.0dev,>=1.31.5->google-cloud-storage->cellpose[gui]) (3.20.3)\n",
            "Requirement already satisfied: cachetools<6.0,>=2.0.0 in /usr/local/lib/python3.10/dist-packages (from google-auth<3.0dev,>=1.25.0->google-cloud-storage->cellpose[gui]) (5.3.3)\n",
            "Requirement already satisfied: pyasn1-modules>=0.2.1 in /usr/local/lib/python3.10/dist-packages (from google-auth<3.0dev,>=1.25.0->google-cloud-storage->cellpose[gui]) (0.3.0)\n",
            "Requirement already satisfied: rsa<5,>=3.1.4 in /usr/local/lib/python3.10/dist-packages (from google-auth<3.0dev,>=1.25.0->google-cloud-storage->cellpose[gui]) (4.9)\n",
            "Requirement already satisfied: google-crc32c<2.0dev,>=1.0 in /usr/local/lib/python3.10/dist-packages (from google-resumable-media>=2.3.2->google-cloud-storage->cellpose[gui]) (1.5.0)\n",
            "Requirement already satisfied: charset-normalizer<4,>=2 in /usr/local/lib/python3.10/dist-packages (from requests<3.0.0dev,>=2.18.0->google-cloud-storage->cellpose[gui]) (3.3.2)\n",
            "Requirement already satisfied: idna<4,>=2.5 in /usr/local/lib/python3.10/dist-packages (from requests<3.0.0dev,>=2.18.0->google-cloud-storage->cellpose[gui]) (3.6)\n",
            "Requirement already satisfied: urllib3<3,>=1.21.1 in /usr/local/lib/python3.10/dist-packages (from requests<3.0.0dev,>=2.18.0->google-cloud-storage->cellpose[gui]) (2.0.7)\n",
            "Requirement already satisfied: certifi>=2017.4.17 in /usr/local/lib/python3.10/dist-packages (from requests<3.0.0dev,>=2.18.0->google-cloud-storage->cellpose[gui]) (2024.2.2)\n",
            "Requirement already satisfied: MarkupSafe>=2.0 in /usr/local/lib/python3.10/dist-packages (from jinja2->torch>=1.6->cellpose[gui]) (2.1.5)\n",
            "Requirement already satisfied: mpmath>=0.19 in /usr/local/lib/python3.10/dist-packages (from sympy->torch>=1.6->cellpose[gui]) (1.3.0)\n",
            "Requirement already satisfied: pyasn1<0.6.0,>=0.4.6 in /usr/local/lib/python3.10/dist-packages (from pyasn1-modules>=0.2.1->google-auth<3.0dev,>=1.25.0->google-cloud-storage->cellpose[gui]) (0.5.1)\n",
            "Installing collected packages: PyQt6-Qt6, roifile, qtpy, pyqtgraph, pyqt6.sip, nvidia-nvtx-cu12, nvidia-nvjitlink-cu12, nvidia-nccl-cu12, nvidia-curand-cu12, nvidia-cufft-cu12, nvidia-cuda-runtime-cu12, nvidia-cuda-nvrtc-cu12, nvidia-cuda-cupti-cu12, nvidia-cublas-cu12, imagecodecs, fastremap, superqt, pyqt6, nvidia-cusparse-cu12, nvidia-cudnn-cu12, nvidia-cusolver-cu12, cellpose\n",
            "Successfully installed PyQt6-Qt6-6.6.3 cellpose-3.0.7 fastremap-1.14.1 imagecodecs-2024.1.1 nvidia-cublas-cu12-12.1.3.1 nvidia-cuda-cupti-cu12-12.1.105 nvidia-cuda-nvrtc-cu12-12.1.105 nvidia-cuda-runtime-cu12-12.1.105 nvidia-cudnn-cu12-8.9.2.26 nvidia-cufft-cu12-11.0.2.54 nvidia-curand-cu12-10.3.2.106 nvidia-cusolver-cu12-11.4.5.107 nvidia-cusparse-cu12-12.1.0.106 nvidia-nccl-cu12-2.19.3 nvidia-nvjitlink-cu12-12.4.127 nvidia-nvtx-cu12-12.1.105 pyqt6-6.6.1 pyqt6.sip-13.6.0 pyqtgraph-0.13.4 qtpy-2.4.1 roifile-2024.3.20 superqt-0.6.3\n"
          ]
        }
      ]
    },
    {
      "cell_type": "code",
      "execution_count": 14,
      "id": "f8e01d73-3330-4aba-9c41-142cdd39cacb",
      "metadata": {
        "id": "f8e01d73-3330-4aba-9c41-142cdd39cacb",
        "executionInfo": {
          "status": "ok",
          "timestamp": 1712710355206,
          "user_tz": 240,
          "elapsed": 164,
          "user": {
            "displayName": "",
            "userId": ""
          }
        }
      },
      "outputs": [],
      "source": [
        "from aicspylibczi import CziFile\n",
        "import czifile\n",
        "import numpy as np\n",
        "import matplotlib.pyplot as plt\n",
        "import cv2\n",
        "import imageio\n",
        "import time\n",
        "#from cellpose import io, models"
      ]
    },
    {
      "cell_type": "code",
      "source": [
        "!python --version"
      ],
      "metadata": {
        "colab": {
          "base_uri": "https://localhost:8080/"
        },
        "id": "DKrnxGNPu4Ny",
        "executionInfo": {
          "status": "ok",
          "timestamp": 1712698380765,
          "user_tz": 240,
          "elapsed": 175,
          "user": {
            "displayName": "",
            "userId": ""
          }
        },
        "outputId": "66f09c34-4d71-4274-bf7d-b7995cc59903"
      },
      "id": "DKrnxGNPu4Ny",
      "execution_count": null,
      "outputs": [
        {
          "output_type": "stream",
          "name": "stdout",
          "text": [
            "Python 3.10.12\n"
          ]
        }
      ]
    },
    {
      "cell_type": "code",
      "source": [
        "from google.cloud import storage\n",
        "\n",
        "# Create a storage client.\n",
        "storage_client = storage.Client(project='jal2340-applied-cv-s24')\n",
        "\n",
        "# Specify the name of your GCS bucket and the object (file) to download.\n",
        "bucket_name = '3d-dicty-data'\n",
        "\n",
        "bucket = storage_client.bucket(bucket_name)"
      ],
      "metadata": {
        "id": "o1kjLF7VWMxs",
        "executionInfo": {
          "status": "ok",
          "timestamp": 1712703748342,
          "user_tz": 240,
          "elapsed": 204,
          "user": {
            "displayName": "",
            "userId": ""
          }
        }
      },
      "id": "o1kjLF7VWMxs",
      "execution_count": 7,
      "outputs": []
    },
    {
      "cell_type": "code",
      "source": [
        "# exp is experiment/ collection dates\n",
        "exp_dates = ['2023-01-30', '2023-10-25']\n",
        "blobs = {\n",
        "    exp_dates[0] : {\"MIP\" : [], \"raw\": [], \"processed\":[]},\n",
        "    exp_dates[1] : dict(raw=[], MIP=[], smiley=[]),\n",
        "}\n",
        "for blob in bucket.list_blobs():\n",
        "  if(exp_dates[0] in blob.name):\n",
        "    if('MIP.czi' in blob.name):\n",
        "      blobs[exp_dates[0]][\"MIP\"].append(blob)\n",
        "    elif(\"processed.czi\" in blob.name):\n",
        "      blobs[exp_dates[0]][\"processed\"].append(blob)\n",
        "    else:\n",
        "      blobs[exp_dates[0]][\"raw\"].append(blob)\n",
        "  elif(exp_dates[1] in blob.name):\n",
        "    if('MIP.czi' in blob.name):\n",
        "      blobs[exp_dates[1]][\"MIP\"].append(blob)\n",
        "    elif(\"smiley.czi\" in blob.name):\n",
        "      blobs[exp_dates[1]][\"smiley\"].append(blob)\n",
        "    else:\n",
        "      blobs[exp_dates[1]][\"raw\"].append(blob)"
      ],
      "metadata": {
        "id": "4jfdB81zgxEH",
        "executionInfo": {
          "status": "ok",
          "timestamp": 1712703755134,
          "user_tz": 240,
          "elapsed": 379,
          "user": {
            "displayName": "",
            "userId": ""
          }
        }
      },
      "id": "4jfdB81zgxEH",
      "execution_count": 8,
      "outputs": []
    },
    {
      "cell_type": "code",
      "source": [
        "blobs"
      ],
      "metadata": {
        "colab": {
          "base_uri": "https://localhost:8080/"
        },
        "id": "k9urn3-nP0Jh",
        "executionInfo": {
          "status": "ok",
          "timestamp": 1712703758377,
          "user_tz": 240,
          "elapsed": 165,
          "user": {
            "displayName": "",
            "userId": ""
          }
        },
        "outputId": "268ef542-5eae-4448-a4d6-c3c527e51372"
      },
      "id": "k9urn3-nP0Jh",
      "execution_count": 9,
      "outputs": [
        {
          "output_type": "execute_result",
          "data": {
            "text/plain": [
              "{'2023-01-30': {'MIP': [<Blob: 3d-dicty-data, 2023-01-30/dicty_factin_pip3-01_MIP.czi, 1710358500008774>,\n",
              "   <Blob: 3d-dicty-data, 2023-01-30/dicty_factin_pip3-02_MIP.czi, 1710358537771887>,\n",
              "   <Blob: 3d-dicty-data, 2023-01-30/dicty_factin_pip3-03_MIP.czi, 1710358751673597>,\n",
              "   <Blob: 3d-dicty-data, 2023-01-30/dicty_factin_pip3-04_MIP.czi, 1710358795150245>,\n",
              "   <Blob: 3d-dicty-data, 2023-01-30/dicty_factin_pip3-05_MIP.czi, 1710358946480650>,\n",
              "   <Blob: 3d-dicty-data, 2023-01-30/dicty_factin_pip3-06_MIP.czi, 1710361694382886>,\n",
              "   <Blob: 3d-dicty-data, 2023-01-30/dicty_factin_pip3-07_MIP.czi, 1710366852425136>,\n",
              "   <Blob: 3d-dicty-data, 2023-01-30/dicty_factin_pip3-08_MIP.czi, 1710367004956447>,\n",
              "   <Blob: 3d-dicty-data, 2023-01-30/dicty_factin_pip3-09_MIP.czi, 1710369513010511>],\n",
              "  'raw': [<Blob: 3d-dicty-data, 2023-01-30/dicty_factin_pip3-01.czi, 1710358579678619>,\n",
              "   <Blob: 3d-dicty-data, 2023-01-30/dicty_factin_pip3-02.czi, 1710358536343239>,\n",
              "   <Blob: 3d-dicty-data, 2023-01-30/dicty_factin_pip3-03.czi, 1710361447534733>,\n",
              "   <Blob: 3d-dicty-data, 2023-01-30/dicty_factin_pip3-04.czi, 1710358793612427>,\n",
              "   <Blob: 3d-dicty-data, 2023-01-30/dicty_factin_pip3-05.czi, 1710358944946188>,\n",
              "   <Blob: 3d-dicty-data, 2023-01-30/dicty_factin_pip3-06.czi, 1710366817083150>,\n",
              "   <Blob: 3d-dicty-data, 2023-01-30/dicty_factin_pip3-07.czi, 1710366850913412>,\n",
              "   <Blob: 3d-dicty-data, 2023-01-30/dicty_factin_pip3-08.czi, 1710367003436256>,\n",
              "   <Blob: 3d-dicty-data, 2023-01-30/dicty_factin_pip3-09.czi, 1710374618524208>],\n",
              "  'processed': [<Blob: 3d-dicty-data, 2023-01-30/dicty_factin_pip3-01_processed.czi, 1710358720969715>,\n",
              "   <Blob: 3d-dicty-data, 2023-01-30/dicty_factin_pip3-02_processed.czi, 1710358659274715>,\n",
              "   <Blob: 3d-dicty-data, 2023-01-30/dicty_factin_pip3-03_processed.czi, 1710369260579896>,\n",
              "   <Blob: 3d-dicty-data, 2023-01-30/dicty_factin_pip3-04_processed.czi, 1710358912010824>,\n",
              "   <Blob: 3d-dicty-data, 2023-01-30/dicty_factin_pip3-05_processed.czi, 1710359065331241>,\n",
              "   <Blob: 3d-dicty-data, 2023-01-30/dicty_factin_pip3-06_processed.czi, 1710389916565644>,\n",
              "   <Blob: 3d-dicty-data, 2023-01-30/dicty_factin_pip3-07_processed.czi, 1710366970864457>,\n",
              "   <Blob: 3d-dicty-data, 2023-01-30/dicty_factin_pip3-08_processed.czi, 1710367122027015>,\n",
              "   <Blob: 3d-dicty-data, 2023-01-30/dicty_factin_pip3-09_processed.czi, 1710397207160459>]},\n",
              " '2023-10-25': {'raw': [<Blob: 3d-dicty-data, 2023-10-25/Continuous-41420.czi, 1710374621150353>,\n",
              "   <Blob: 3d-dicty-data, 2023-10-25/New-01.czi, 1710374624473442>,\n",
              "   <Blob: 3d-dicty-data, 2023-10-25/New-02.czi, 1710379183077372>,\n",
              "   <Blob: 3d-dicty-data, 2023-10-25/New-03.czi, 1710390729120837>,\n",
              "   <Blob: 3d-dicty-data, 2023-10-25/New-04.czi, 1710400992908401>],\n",
              "  'MIP': [<Blob: 3d-dicty-data, 2023-10-25/New-01_MIP.czi, 1710374627956821>,\n",
              "   <Blob: 3d-dicty-data, 2023-10-25/New-02_MIP.czi, 1710380136686847>,\n",
              "   <Blob: 3d-dicty-data, 2023-10-25/New-03_MIP.czi, 1710390811087376>,\n",
              "   <Blob: 3d-dicty-data, 2023-10-25/New-04_MIP.czi, 1710395949773281>],\n",
              "  'smiley': [<Blob: 3d-dicty-data, 2023-10-25/New-01_dicty_smiley.czi, 1710374626666056>,\n",
              "   <Blob: 3d-dicty-data, 2023-10-25/New-02_dicty_smiley.czi, 1710380095303637>,\n",
              "   <Blob: 3d-dicty-data, 2023-10-25/New-03_dicty_smiley.czi, 1710392064995281>,\n",
              "   <Blob: 3d-dicty-data, 2023-10-25/New-04_dicty_smiley.czi, 1710395819911632>]}}"
            ]
          },
          "metadata": {},
          "execution_count": 9
        }
      ]
    },
    {
      "cell_type": "code",
      "source": [
        "# index is which video choosing (6th one, etc)\n",
        "\n",
        "def get_image(vid_index, date=0, group='processed', blobs=blobs):\n",
        "  blob = blobs[exp_dates[date]][group][vid_index]\n",
        "  fname = blob.name.split('/')[-1] # ignore date/fname\n",
        "  print(f\"Loading {fname}\")\n",
        "  blob.download_to_filename(fname)\n",
        "  return(CziFile(fname))"
      ],
      "metadata": {
        "id": "s1UtMG3Jlmes"
      },
      "id": "s1UtMG3Jlmes",
      "execution_count": null,
      "outputs": []
    },
    {
      "cell_type": "code",
      "source": [
        "blob = blobs[exp_dates[0]]['processed'][5]\n",
        "blob.size / (1024 * 1024 * 1024) # size in GB"
      ],
      "metadata": {
        "colab": {
          "base_uri": "https://localhost:8080/"
        },
        "id": "-gveCIGaC1WD",
        "executionInfo": {
          "status": "ok",
          "timestamp": 1712703762932,
          "user_tz": 240,
          "elapsed": 136,
          "user": {
            "displayName": "",
            "userId": ""
          }
        },
        "outputId": "cccc8d04-f56d-475e-81f7-28384c1d0c46"
      },
      "id": "-gveCIGaC1WD",
      "execution_count": 10,
      "outputs": [
        {
          "output_type": "execute_result",
          "data": {
            "text/plain": [
              "99.62492406368256"
            ]
          },
          "metadata": {},
          "execution_count": 10
        }
      ]
    },
    {
      "cell_type": "code",
      "source": [
        "chunk_size=10*1024*1024"
      ],
      "metadata": {
        "id": "18H_HtblDpAv",
        "executionInfo": {
          "status": "ok",
          "timestamp": 1712703768550,
          "user_tz": 240,
          "elapsed": 205,
          "user": {
            "displayName": "",
            "userId": ""
          }
        }
      },
      "id": "18H_HtblDpAv",
      "execution_count": 11,
      "outputs": []
    },
    {
      "cell_type": "code",
      "source": [
        "start = 0\n",
        "end = min(start + chunk_size, blob.size)\n",
        "print(f\"Loading {start} to {end}\")\n",
        "blob.download_as_string(start=start, end=end)"
      ],
      "metadata": {
        "colab": {
          "base_uri": "https://localhost:8080/"
        },
        "id": "tfBq5V3PEEyH",
        "executionInfo": {
          "status": "ok",
          "timestamp": 1712703782491,
          "user_tz": 240,
          "elapsed": 2992,
          "user": {
            "displayName": "",
            "userId": ""
          }
        },
        "outputId": "69221f53-2791-4ebc-a23e-1517d371f003"
      },
      "id": "tfBq5V3PEEyH",
      "execution_count": 13,
      "outputs": [
        {
          "output_type": "stream",
          "name": "stdout",
          "text": [
            "Loading 0 to 10485760\n"
          ]
        }
      ]
    },
    {
      "cell_type": "code",
      "source": [
        "# Read the blob in chunks\n",
        "start = 0\n",
        "while start < blob_size:\n",
        "    end = min(start + chunk_size, blob_size)\n",
        "    chunk = blob.download_as_string(start=start, end=end)\n",
        "    process_czi_chunk(chunk)\n",
        "    start = end"
      ],
      "metadata": {
        "id": "E1VEwYtgDZpS"
      },
      "id": "E1VEwYtgDZpS",
      "execution_count": null,
      "outputs": []
    },
    {
      "cell_type": "code",
      "source": [
        "def process_czi_chunk(chunk):\n",
        "    # Process the chunk as needed\n",
        "    pass\n",
        "\n",
        "def load_czi_from_gcs(bucket_name, blob_name, chunk_size=10*1024*1024):  # Chunk size: 10 MB\n",
        "    storage_client = storage.Client()\n",
        "    bucket = storage_client.bucket(bucket_name)\n",
        "    blob = bucket.blob(blob_name)\n",
        "\n",
        "    # Get the total size of the blob\n",
        "    blob_size = blob.size\n",
        "\n",
        "    # Read the blob in chunks\n",
        "    start = 0\n",
        "    while start < blob_size:\n",
        "        end = min(start + chunk_size, blob_size)\n",
        "        chunk = blob.download_as_string(start=start, end=end)\n",
        "        process_czi_chunk(chunk)\n",
        "        start = end\n",
        "\n",
        "# Example usage:\n",
        "bucket_name = 'your_bucket_name'\n",
        "blob_name = 'path/to/your/czi/video/file.czi'\n",
        "load_czi_from_gcs(bucket_name, blob_name)"
      ],
      "metadata": {
        "id": "ROS-sqYjDAFd"
      },
      "id": "ROS-sqYjDAFd",
      "execution_count": null,
      "outputs": []
    },
    {
      "cell_type": "code",
      "source": [],
      "metadata": {
        "id": "3dGnb2teDDRf"
      },
      "id": "3dGnb2teDDRf",
      "execution_count": null,
      "outputs": []
    },
    {
      "cell_type": "code",
      "source": [],
      "metadata": {
        "id": "Tp4AGuEuDCth"
      },
      "id": "Tp4AGuEuDCth",
      "execution_count": null,
      "outputs": []
    },
    {
      "cell_type": "code",
      "execution_count": 24,
      "id": "c839a1f2-8682-45c1-af7e-70027afa8c45",
      "metadata": {
        "id": "c839a1f2-8682-45c1-af7e-70027afa8c45",
        "colab": {
          "base_uri": "https://localhost:8080/",
          "height": 435
        },
        "outputId": "e78ff91b-36ad-47cd-d028-746fa14bf887",
        "executionInfo": {
          "status": "error",
          "timestamp": 1712701882122,
          "user_tz": 240,
          "elapsed": 949584,
          "user": {
            "displayName": "",
            "userId": ""
          }
        }
      },
      "outputs": [
        {
          "output_type": "stream",
          "name": "stdout",
          "text": [
            "Loading dicty_factin_pip3-06_processed.czi\n"
          ]
        },
        {
          "output_type": "error",
          "ename": "OSError",
          "evalue": "[Errno 28] No space left on device",
          "traceback": [
            "\u001b[0;31m---------------------------------------------------------------------------\u001b[0m",
            "\u001b[0;31mOSError\u001b[0m                                   Traceback (most recent call last)",
            "\u001b[0;32m<ipython-input-24-5c87c28ee740>\u001b[0m in \u001b[0;36m<cell line: 1>\u001b[0;34m()\u001b[0m\n\u001b[0;32m----> 1\u001b[0;31m \u001b[0mimg\u001b[0m \u001b[0;34m=\u001b[0m \u001b[0mget_image\u001b[0m\u001b[0;34m(\u001b[0m\u001b[0;36m5\u001b[0m\u001b[0;34m,\u001b[0m \u001b[0;36m0\u001b[0m\u001b[0;34m,\u001b[0m \u001b[0;34m'processed'\u001b[0m\u001b[0;34m)\u001b[0m\u001b[0;34m\u001b[0m\u001b[0;34m\u001b[0m\u001b[0m\n\u001b[0m\u001b[1;32m      2\u001b[0m \u001b[0;31m# TODO: Understand each dimension in the shape\u001b[0m\u001b[0;34m\u001b[0m\u001b[0;34m\u001b[0m\u001b[0m\n\u001b[1;32m      3\u001b[0m \u001b[0;31m# shape is Channels x num_slices x H x W.\u001b[0m\u001b[0;34m\u001b[0m\u001b[0;34m\u001b[0m\u001b[0m\n\u001b[1;32m      4\u001b[0m \u001b[0;31m# not a video ??\u001b[0m\u001b[0;34m\u001b[0m\u001b[0;34m\u001b[0m\u001b[0m\n\u001b[1;32m      5\u001b[0m \u001b[0mimg\u001b[0m\u001b[0;34m.\u001b[0m\u001b[0mget_dims_shape\u001b[0m\u001b[0;34m(\u001b[0m\u001b[0;34m)\u001b[0m\u001b[0;34m\u001b[0m\u001b[0;34m\u001b[0m\u001b[0m\n",
            "\u001b[0;32m<ipython-input-12-c5c458e9248a>\u001b[0m in \u001b[0;36mget_image\u001b[0;34m(vid_index, date, group, blobs)\u001b[0m\n\u001b[1;32m      5\u001b[0m   \u001b[0mfname\u001b[0m \u001b[0;34m=\u001b[0m \u001b[0mblob\u001b[0m\u001b[0;34m.\u001b[0m\u001b[0mname\u001b[0m\u001b[0;34m.\u001b[0m\u001b[0msplit\u001b[0m\u001b[0;34m(\u001b[0m\u001b[0;34m'/'\u001b[0m\u001b[0;34m)\u001b[0m\u001b[0;34m[\u001b[0m\u001b[0;34m-\u001b[0m\u001b[0;36m1\u001b[0m\u001b[0;34m]\u001b[0m \u001b[0;31m# ignore date/fname\u001b[0m\u001b[0;34m\u001b[0m\u001b[0;34m\u001b[0m\u001b[0m\n\u001b[1;32m      6\u001b[0m   \u001b[0mprint\u001b[0m\u001b[0;34m(\u001b[0m\u001b[0;34mf\"Loading {fname}\"\u001b[0m\u001b[0;34m)\u001b[0m\u001b[0;34m\u001b[0m\u001b[0;34m\u001b[0m\u001b[0m\n\u001b[0;32m----> 7\u001b[0;31m   \u001b[0mblob\u001b[0m\u001b[0;34m.\u001b[0m\u001b[0mdownload_to_filename\u001b[0m\u001b[0;34m(\u001b[0m\u001b[0mfname\u001b[0m\u001b[0;34m)\u001b[0m\u001b[0;34m\u001b[0m\u001b[0;34m\u001b[0m\u001b[0m\n\u001b[0m\u001b[1;32m      8\u001b[0m   \u001b[0;32mreturn\u001b[0m\u001b[0;34m(\u001b[0m\u001b[0mCziFile\u001b[0m\u001b[0;34m(\u001b[0m\u001b[0mfname\u001b[0m\u001b[0;34m)\u001b[0m\u001b[0;34m)\u001b[0m\u001b[0;34m\u001b[0m\u001b[0;34m\u001b[0m\u001b[0m\n",
            "\u001b[0;32m/usr/local/lib/python3.10/dist-packages/google/cloud/storage/blob.py\u001b[0m in \u001b[0;36mdownload_to_filename\u001b[0;34m(self, filename, client, start, end, raw_download, if_etag_match, if_etag_not_match, if_generation_match, if_generation_not_match, if_metageneration_match, if_metageneration_not_match, timeout, checksum, retry)\u001b[0m\n\u001b[1;32m   1254\u001b[0m         \u001b[0;32mtry\u001b[0m\u001b[0;34m:\u001b[0m\u001b[0;34m\u001b[0m\u001b[0;34m\u001b[0m\u001b[0m\n\u001b[1;32m   1255\u001b[0m             \u001b[0;32mwith\u001b[0m \u001b[0mopen\u001b[0m\u001b[0;34m(\u001b[0m\u001b[0mfilename\u001b[0m\u001b[0;34m,\u001b[0m \u001b[0;34m\"wb\"\u001b[0m\u001b[0;34m)\u001b[0m \u001b[0;32mas\u001b[0m \u001b[0mfile_obj\u001b[0m\u001b[0;34m:\u001b[0m\u001b[0;34m\u001b[0m\u001b[0;34m\u001b[0m\u001b[0m\n\u001b[0;32m-> 1256\u001b[0;31m                 client.download_blob_to_file(\n\u001b[0m\u001b[1;32m   1257\u001b[0m                     \u001b[0mself\u001b[0m\u001b[0;34m,\u001b[0m\u001b[0;34m\u001b[0m\u001b[0;34m\u001b[0m\u001b[0m\n\u001b[1;32m   1258\u001b[0m                     \u001b[0mfile_obj\u001b[0m\u001b[0;34m,\u001b[0m\u001b[0;34m\u001b[0m\u001b[0;34m\u001b[0m\u001b[0m\n",
            "\u001b[0;32m/usr/local/lib/python3.10/dist-packages/google/cloud/storage/client.py\u001b[0m in \u001b[0;36mdownload_blob_to_file\u001b[0;34m(self, blob_or_uri, file_obj, start, end, raw_download, if_etag_match, if_etag_not_match, if_generation_match, if_generation_not_match, if_metageneration_match, if_metageneration_not_match, timeout, checksum, retry)\u001b[0m\n\u001b[1;32m   1089\u001b[0m         \u001b[0mtransport\u001b[0m \u001b[0;34m=\u001b[0m \u001b[0mself\u001b[0m\u001b[0;34m.\u001b[0m\u001b[0m_http\u001b[0m\u001b[0;34m\u001b[0m\u001b[0;34m\u001b[0m\u001b[0m\n\u001b[1;32m   1090\u001b[0m         \u001b[0;32mtry\u001b[0m\u001b[0;34m:\u001b[0m\u001b[0;34m\u001b[0m\u001b[0;34m\u001b[0m\u001b[0m\n\u001b[0;32m-> 1091\u001b[0;31m             blob_or_uri._do_download(\n\u001b[0m\u001b[1;32m   1092\u001b[0m                 \u001b[0mtransport\u001b[0m\u001b[0;34m,\u001b[0m\u001b[0;34m\u001b[0m\u001b[0;34m\u001b[0m\u001b[0m\n\u001b[1;32m   1093\u001b[0m                 \u001b[0mfile_obj\u001b[0m\u001b[0;34m,\u001b[0m\u001b[0;34m\u001b[0m\u001b[0;34m\u001b[0m\u001b[0m\n",
            "\u001b[0;32m/usr/local/lib/python3.10/dist-packages/google/cloud/storage/blob.py\u001b[0m in \u001b[0;36m_do_download\u001b[0;34m(self, transport, file_obj, download_url, headers, start, end, raw_download, timeout, checksum, retry)\u001b[0m\n\u001b[1;32m    982\u001b[0m             )\n\u001b[1;32m    983\u001b[0m             \u001b[0mdownload\u001b[0m\u001b[0;34m.\u001b[0m\u001b[0m_retry_strategy\u001b[0m \u001b[0;34m=\u001b[0m \u001b[0mretry_strategy\u001b[0m\u001b[0;34m\u001b[0m\u001b[0;34m\u001b[0m\u001b[0m\n\u001b[0;32m--> 984\u001b[0;31m             \u001b[0mresponse\u001b[0m \u001b[0;34m=\u001b[0m \u001b[0mdownload\u001b[0m\u001b[0;34m.\u001b[0m\u001b[0mconsume\u001b[0m\u001b[0;34m(\u001b[0m\u001b[0mtransport\u001b[0m\u001b[0;34m,\u001b[0m \u001b[0mtimeout\u001b[0m\u001b[0;34m=\u001b[0m\u001b[0mtimeout\u001b[0m\u001b[0;34m)\u001b[0m\u001b[0;34m\u001b[0m\u001b[0;34m\u001b[0m\u001b[0m\n\u001b[0m\u001b[1;32m    985\u001b[0m             \u001b[0mself\u001b[0m\u001b[0;34m.\u001b[0m\u001b[0m_extract_headers_from_download\u001b[0m\u001b[0;34m(\u001b[0m\u001b[0mresponse\u001b[0m\u001b[0;34m)\u001b[0m\u001b[0;34m\u001b[0m\u001b[0;34m\u001b[0m\u001b[0m\n\u001b[1;32m    986\u001b[0m         \u001b[0;32melse\u001b[0m\u001b[0;34m:\u001b[0m\u001b[0;34m\u001b[0m\u001b[0;34m\u001b[0m\u001b[0m\n",
            "\u001b[0;32m/usr/local/lib/python3.10/dist-packages/google/resumable_media/requests/download.py\u001b[0m in \u001b[0;36mconsume\u001b[0;34m(self, transport, timeout)\u001b[0m\n\u001b[1;32m    235\u001b[0m             \u001b[0;32mreturn\u001b[0m \u001b[0mresult\u001b[0m\u001b[0;34m\u001b[0m\u001b[0;34m\u001b[0m\u001b[0m\n\u001b[1;32m    236\u001b[0m \u001b[0;34m\u001b[0m\u001b[0m\n\u001b[0;32m--> 237\u001b[0;31m         return _request_helpers.wait_and_retry(\n\u001b[0m\u001b[1;32m    238\u001b[0m             \u001b[0mretriable_request\u001b[0m\u001b[0;34m,\u001b[0m \u001b[0mself\u001b[0m\u001b[0;34m.\u001b[0m\u001b[0m_get_status_code\u001b[0m\u001b[0;34m,\u001b[0m \u001b[0mself\u001b[0m\u001b[0;34m.\u001b[0m\u001b[0m_retry_strategy\u001b[0m\u001b[0;34m\u001b[0m\u001b[0;34m\u001b[0m\u001b[0m\n\u001b[1;32m    239\u001b[0m         )\n",
            "\u001b[0;32m/usr/local/lib/python3.10/dist-packages/google/resumable_media/requests/_request_helpers.py\u001b[0m in \u001b[0;36mwait_and_retry\u001b[0;34m(func, get_status_code, retry_strategy)\u001b[0m\n\u001b[1;32m    153\u001b[0m         \u001b[0merror\u001b[0m \u001b[0;34m=\u001b[0m \u001b[0;32mNone\u001b[0m\u001b[0;34m\u001b[0m\u001b[0;34m\u001b[0m\u001b[0m\n\u001b[1;32m    154\u001b[0m         \u001b[0;32mtry\u001b[0m\u001b[0;34m:\u001b[0m\u001b[0;34m\u001b[0m\u001b[0;34m\u001b[0m\u001b[0m\n\u001b[0;32m--> 155\u001b[0;31m             \u001b[0mresponse\u001b[0m \u001b[0;34m=\u001b[0m \u001b[0mfunc\u001b[0m\u001b[0;34m(\u001b[0m\u001b[0;34m)\u001b[0m\u001b[0;34m\u001b[0m\u001b[0;34m\u001b[0m\u001b[0m\n\u001b[0m\u001b[1;32m    156\u001b[0m         \u001b[0;32mexcept\u001b[0m \u001b[0m_CONNECTION_ERROR_CLASSES\u001b[0m \u001b[0;32mas\u001b[0m \u001b[0me\u001b[0m\u001b[0;34m:\u001b[0m\u001b[0;34m\u001b[0m\u001b[0;34m\u001b[0m\u001b[0m\n\u001b[1;32m    157\u001b[0m             \u001b[0merror\u001b[0m \u001b[0;34m=\u001b[0m \u001b[0me\u001b[0m  \u001b[0;31m# Fall through to retry, if there are retries left.\u001b[0m\u001b[0;34m\u001b[0m\u001b[0;34m\u001b[0m\u001b[0m\n",
            "\u001b[0;32m/usr/local/lib/python3.10/dist-packages/google/resumable_media/requests/download.py\u001b[0m in \u001b[0;36mretriable_request\u001b[0;34m()\u001b[0m\n\u001b[1;32m    231\u001b[0m                     \u001b[0mself\u001b[0m\u001b[0;34m.\u001b[0m\u001b[0m_bytes_downloaded\u001b[0m \u001b[0;34m=\u001b[0m \u001b[0;36m0\u001b[0m\u001b[0;34m\u001b[0m\u001b[0;34m\u001b[0m\u001b[0m\n\u001b[1;32m    232\u001b[0m \u001b[0;34m\u001b[0m\u001b[0m\n\u001b[0;32m--> 233\u001b[0;31m                 \u001b[0mself\u001b[0m\u001b[0;34m.\u001b[0m\u001b[0m_write_to_stream\u001b[0m\u001b[0;34m(\u001b[0m\u001b[0mresult\u001b[0m\u001b[0;34m)\u001b[0m\u001b[0;34m\u001b[0m\u001b[0;34m\u001b[0m\u001b[0m\n\u001b[0m\u001b[1;32m    234\u001b[0m \u001b[0;34m\u001b[0m\u001b[0m\n\u001b[1;32m    235\u001b[0m             \u001b[0;32mreturn\u001b[0m \u001b[0mresult\u001b[0m\u001b[0;34m\u001b[0m\u001b[0;34m\u001b[0m\u001b[0m\n",
            "\u001b[0;32m/usr/local/lib/python3.10/dist-packages/google/resumable_media/requests/download.py\u001b[0m in \u001b[0;36m_write_to_stream\u001b[0;34m(self, response)\u001b[0m\n\u001b[1;32m    122\u001b[0m             )\n\u001b[1;32m    123\u001b[0m             \u001b[0;32mfor\u001b[0m \u001b[0mchunk\u001b[0m \u001b[0;32min\u001b[0m \u001b[0mbody_iter\u001b[0m\u001b[0;34m:\u001b[0m\u001b[0;34m\u001b[0m\u001b[0;34m\u001b[0m\u001b[0m\n\u001b[0;32m--> 124\u001b[0;31m                 \u001b[0mself\u001b[0m\u001b[0;34m.\u001b[0m\u001b[0m_stream\u001b[0m\u001b[0;34m.\u001b[0m\u001b[0mwrite\u001b[0m\u001b[0;34m(\u001b[0m\u001b[0mchunk\u001b[0m\u001b[0;34m)\u001b[0m\u001b[0;34m\u001b[0m\u001b[0;34m\u001b[0m\u001b[0m\n\u001b[0m\u001b[1;32m    125\u001b[0m                 \u001b[0mself\u001b[0m\u001b[0;34m.\u001b[0m\u001b[0m_bytes_downloaded\u001b[0m \u001b[0;34m+=\u001b[0m \u001b[0mlen\u001b[0m\u001b[0;34m(\u001b[0m\u001b[0mchunk\u001b[0m\u001b[0;34m)\u001b[0m\u001b[0;34m\u001b[0m\u001b[0;34m\u001b[0m\u001b[0m\n\u001b[1;32m    126\u001b[0m                 \u001b[0mlocal_checksum_object\u001b[0m\u001b[0;34m.\u001b[0m\u001b[0mupdate\u001b[0m\u001b[0;34m(\u001b[0m\u001b[0mchunk\u001b[0m\u001b[0;34m)\u001b[0m\u001b[0;34m\u001b[0m\u001b[0;34m\u001b[0m\u001b[0m\n",
            "\u001b[0;31mOSError\u001b[0m: [Errno 28] No space left on device"
          ]
        }
      ],
      "source": [
        "img = get_image(5, 0, 'processed')\n",
        "# TODO: Understand each dimension in the shape\n",
        "# shape is Channels x num_slices x H x W.\n",
        "# S is \"Scene\" - different POV or regions\n",
        "# not a video ??\n",
        "img.get_dims_shape()"
      ]
    },
    {
      "cell_type": "code",
      "source": [
        "!ls"
      ],
      "metadata": {
        "colab": {
          "base_uri": "https://localhost:8080/"
        },
        "id": "SDTNW8otyS6D",
        "executionInfo": {
          "status": "ok",
          "timestamp": 1712699215027,
          "user_tz": 240,
          "elapsed": 173,
          "user": {
            "displayName": "",
            "userId": ""
          }
        },
        "outputId": "152fa139-555d-486a-8668-4249e3212025"
      },
      "id": "SDTNW8otyS6D",
      "execution_count": 21,
      "outputs": [
        {
          "output_type": "stream",
          "name": "stdout",
          "text": [
            "dicty_factin_pip3-01.czi  dicty_factin_pip3-05_processed.czi  New-04.czi\n"
          ]
        }
      ]
    },
    {
      "cell_type": "markdown",
      "source": [
        "## Cell Segmentation"
      ],
      "metadata": {
        "id": "CxBAU4QH01ZA"
      },
      "id": "CxBAU4QH01ZA"
    },
    {
      "cell_type": "code",
      "source": [
        "img_input = img[0, 50, :, :]"
      ],
      "metadata": {
        "id": "yfqv2vw7U5fm"
      },
      "id": "yfqv2vw7U5fm",
      "execution_count": null,
      "outputs": []
    },
    {
      "cell_type": "code",
      "source": [
        "masks, flows, styles = models.CellposeModel(model_type='cyto3').eval(img_input,\n",
        "                            diameter=None, channels=[0,0])"
      ],
      "metadata": {
        "id": "YqE0e19sUVZe"
      },
      "id": "YqE0e19sUVZe",
      "execution_count": null,
      "outputs": []
    },
    {
      "cell_type": "code",
      "source": [
        "plt.imshow(img[0, 50, :, :])"
      ],
      "metadata": {
        "id": "zlcXb533pVB9"
      },
      "id": "zlcXb533pVB9",
      "execution_count": null,
      "outputs": []
    },
    {
      "cell_type": "code",
      "source": [
        "masks.unique()"
      ],
      "metadata": {
        "id": "EukuosLPY1GU"
      },
      "id": "EukuosLPY1GU",
      "execution_count": null,
      "outputs": []
    },
    {
      "cell_type": "code",
      "source": [
        "plt.imshow(masks == 20)"
      ],
      "metadata": {
        "id": "9o3_6wYrWv9-"
      },
      "id": "9o3_6wYrWv9-",
      "execution_count": null,
      "outputs": []
    },
    {
      "cell_type": "code",
      "source": [
        "def get_zslice(img, z, channel=0):\n",
        "  return(img[channel, z, :, :])\n"
      ],
      "metadata": {
        "id": "vVUAleOjiO1I"
      },
      "id": "vVUAleOjiO1I",
      "execution_count": null,
      "outputs": []
    },
    {
      "cell_type": "code",
      "execution_count": null,
      "id": "877e932d-db2a-45ed-8bab-7ccb243843e3",
      "metadata": {
        "id": "877e932d-db2a-45ed-8bab-7ccb243843e3",
        "outputId": "3f4dd954-ee9a-4068-e736-68156ebaafb7",
        "colab": {
          "base_uri": "https://localhost:8080/",
          "height": 453
        },
        "executionInfo": {
          "status": "ok",
          "timestamp": 1711505054888,
          "user_tz": 240,
          "elapsed": 256,
          "user": {
            "displayName": "",
            "userId": ""
          }
        }
      },
      "outputs": [
        {
          "output_type": "execute_result",
          "data": {
            "text/plain": [
              "<matplotlib.image.AxesImage at 0x7f68b7d49f90>"
            ]
          },
          "metadata": {},
          "execution_count": 66
        },
        {
          "output_type": "display_data",
          "data": {
            "text/plain": [
              "<Figure size 640x480 with 1 Axes>"
            ],
            "image/png": "[encoded data removed]"
          },
          "metadata": {}
        }
      ],
      "source": [
        "plt.imshow(get_zslice(img, 50))"
      ]
    },
    {
      "cell_type": "markdown",
      "id": "4f63a107-bdb9-492a-bab0-5dbb6b1951d2",
      "metadata": {
        "id": "4f63a107-bdb9-492a-bab0-5dbb6b1951d2"
      },
      "source": [
        "## Dataloader"
      ]
    },
    {
      "cell_type": "code",
      "execution_count": null,
      "id": "e1088930-c85d-4423-b242-a175ee74c450",
      "metadata": {
        "id": "e1088930-c85d-4423-b242-a175ee74c450"
      },
      "outputs": [],
      "source": [
        "import torch\n",
        "from torch import nn\n",
        "from torch.utils.data import Dataset, DataLoader"
      ]
    },
    {
      "cell_type": "code",
      "execution_count": null,
      "id": "7739a12e-3105-4c83-ae9f-cd31491b894a",
      "metadata": {
        "id": "7739a12e-3105-4c83-ae9f-cd31491b894a"
      },
      "outputs": [],
      "source": [
        "class CziVideoDataset(Dataset):\n",
        "    def __init__(self, fpaths, frame_split=[16,16], n=0, channel=0):\n",
        "        if(type(fpaths) == list):\n",
        "            arrs = []\n",
        "            for fpath in fpaths:\n",
        "                data = czifile.imread(fpath).squeeze() # once we get multiple files, must combine\n",
        "                arrs.append(data)\n",
        "            data = np.concatenate(arrs, axis=0)\n",
        "        else:\n",
        "            data = czifile.imread(fpaths).squeeze()\n",
        "\n",
        "        if(n>0): # if do not set, use entire dataset (like transformer)\n",
        "            self.n = int(n) # n grams frame prediction\n",
        "        else:\n",
        "            self.n = 0\n",
        "\n",
        "        print(f\"Data with {len(data)} frames\")\n",
        "        self.patches_per_frame = frame_split[0] * frame_split[1]\n",
        "        self.grid_size = frame_split\n",
        "        self.frames = data[:,channel, :, :].astype(np.float32)\n",
        "        self.frame_tensors = torch.tensor(self.frames, dtype=torch.float32).clone().detach()\n",
        "\n",
        "    def __len__(self):\n",
        "        # THIS MIGHT NOT BE TRUE\n",
        "        # reasoning is that if 10 frames, trigram model, first frame possible is 8. (8,9), 10\n",
        "        return((len(self.frames) - self.n + 1) * self.patches_per_frame)\n",
        "\n",
        "    def __getitem__(self, idx):\n",
        "        # indexes at max max-n frames\n",
        "        first_frame = idx//self.patches_per_frame\n",
        "        patch_index = idx%self.patches_per_frame\n",
        "        print(f\"first frame at {first_frame}, patch {patch_index}\")\n",
        "        if(self.n>0):\n",
        "            Xs = []\n",
        "            for i in range(self.n-1):\n",
        "                patch = self.get_patch(first_frame+i, patch_index)\n",
        "                print(patch.shape)\n",
        "                Xs.append(patch)\n",
        "            X = torch.cat(Xs, dim=0)\n",
        "            print(X.shape)\n",
        "            y = self.get_patch(first_frame + self.n - 1, patch_index)\n",
        "            return(torch.flatten(X), torch.flatten(y))\n",
        "        else:\n",
        "            raise NotImplementedError\n",
        "\n",
        "    def get_patch(self, frame_index, patch):\n",
        "        arr = self.frame_tensors[frame_index]\n",
        "        assert patch < self.patches_per_frame, \"Patch index out of range\"\n",
        "        height, width = arr.shape\n",
        "        #print(height, width)\n",
        "        row_size, col_size = int(height / self.grid_size[0]), int(width/self.grid_size[1])\n",
        "        patch_row, patch_col = int(patch/self.grid_size[1]), patch%self.grid_size[1] # [0 1 2; 3 4 5; 6 7 8]\n",
        "        #print(f\"Row {patch_row}, ({row_size}px), Col {patch_col}, ({col_size}px)\")\n",
        "        return(arr[row_size*patch_row:row_size*(patch_row+1), col_size*patch_col:col_size*(patch_col+1)])\n",
        "\n",
        "    def reshape_flattened(self, flattened_patch):\n",
        "        # turn input flattened vector back into frames for viewing (heightxwidthxnum_frames)\n",
        "        frame_height, frame_width = self.frames[0].shape\n",
        "        patch_height, patch_width = frame_height // self.grid_size[0], frame_width // self.grid_size[1]\n",
        "        return(flattened_patch.reshape([patch_height, patch_width, -1]))\n",
        "\n"
      ]
    },
    {
      "cell_type": "code",
      "execution_count": null,
      "id": "5a702806-f3b1-4ab1-9544-735c4a788568",
      "metadata": {
        "id": "5a702806-f3b1-4ab1-9544-735c4a788568",
        "outputId": "8fd941f2-d159-4cfb-e44f-bb6fe05d2bd6"
      },
      "outputs": [
        {
          "name": "stdout",
          "output_type": "stream",
          "text": [
            "Data with 224 frames\n",
            "CPU times: user 1.37 s, sys: 6.81 s, total: 8.19 s\n",
            "Wall time: 4.21 s\n"
          ]
        }
      ],
      "source": [
        "%%time\n",
        "ds = CziVideoDataset(fname, [16, 4], n=3)"
      ]
    },
    {
      "cell_type": "code",
      "execution_count": null,
      "id": "09d59e2e-ee13-47fe-88d0-6f00fb3635ba",
      "metadata": {
        "id": "09d59e2e-ee13-47fe-88d0-6f00fb3635ba",
        "outputId": "a55a567a-a6f5-4a2b-f22b-21c18e7fb870"
      },
      "outputs": [
        {
          "name": "stdout",
          "output_type": "stream",
          "text": [
            "first frame at 0, patch 4\n",
            "torch.Size([128, 281])\n",
            "torch.Size([128, 281])\n",
            "torch.Size([256, 281])\n"
          ]
        }
      ],
      "source": [
        "X, y = getitem(ds, 4)"
      ]
    },
    {
      "cell_type": "code",
      "execution_count": null,
      "id": "7f6d7f25-43ff-47a4-acb8-962d2de543ad",
      "metadata": {
        "id": "7f6d7f25-43ff-47a4-acb8-962d2de543ad",
        "outputId": "22d9234b-b704-4934-d8d4-c9d9df9520ef"
      },
      "outputs": [
        {
          "data": {
            "text/plain": [
              "14144"
            ]
          },
          "execution_count": 76,
          "metadata": {},
          "output_type": "execute_result"
        }
      ],
      "source": [
        "len(ds)"
      ]
    },
    {
      "cell_type": "code",
      "execution_count": null,
      "id": "a4d7576d-89e5-461e-9468-edc227caf8d8",
      "metadata": {
        "id": "a4d7576d-89e5-461e-9468-edc227caf8d8",
        "outputId": "622feaf6-8400-45a3-8ab4-671bb5cc181e"
      },
      "outputs": [
        {
          "data": {
            "text/plain": [
              "torch.Size([128, 281, 2])"
            ]
          },
          "execution_count": 59,
          "metadata": {},
          "output_type": "execute_result"
        }
      ],
      "source": [
        "X.reshape([128, 281, -1]).shape"
      ]
    },
    {
      "cell_type": "code",
      "execution_count": null,
      "id": "263c9ac1-7dac-4f4c-9978-5546cefdfc26",
      "metadata": {
        "id": "263c9ac1-7dac-4f4c-9978-5546cefdfc26"
      },
      "outputs": [],
      "source": [
        "dataloader = DataLoader(ds, batch_size=16, shuffle=True)"
      ]
    },
    {
      "cell_type": "code",
      "execution_count": null,
      "id": "240f3443-c26e-4856-ac54-804e8985708f",
      "metadata": {
        "id": "240f3443-c26e-4856-ac54-804e8985708f",
        "outputId": "7d6efab8-e94a-41f9-cad2-7b86bc150920"
      },
      "outputs": [
        {
          "name": "stdout",
          "output_type": "stream",
          "text": [
            "frame 0, patch 10\n"
          ]
        },
        {
          "data": {
            "text/plain": [
              "torch.Size([35968])"
            ]
          },
          "execution_count": 56,
          "metadata": {},
          "output_type": "execute_result"
        }
      ],
      "source": [
        "ds[10].shape"
      ]
    },
    {
      "cell_type": "markdown",
      "id": "55a4ca9f-fdb0-426e-9a28-ed067c7aaacd",
      "metadata": {
        "id": "55a4ca9f-fdb0-426e-9a28-ed067c7aaacd"
      },
      "source": [
        "### Saving Videos"
      ]
    },
    {
      "cell_type": "code",
      "execution_count": null,
      "id": "ca6fbbc4-b032-4786-9c54-5d7be9d2cde0",
      "metadata": {
        "id": "ca6fbbc4-b032-4786-9c54-5d7be9d2cde0"
      },
      "outputs": [],
      "source": [
        "def save_as_video(self, output_path):\n",
        "    s = time.time()\n",
        "    # Define the video codec and frames per second (fps)\n",
        "    height, width = self.frames[0].shape\n",
        "    fourcc = cv2.VideoWriter_fourcc(*'MP4V')\n",
        "    fps = 30\n",
        "    # Create a VideoWriter object\n",
        "    video_writer = cv2.VideoWriter(output_path, fourcc, fps, (width, height), isColor=False)\n",
        "    for frame in self.frames:\n",
        "        video_writer.write(frame)\n",
        "    video_writer.release()\n",
        "\n",
        "    print(f\"Video saved to: {output_path} in {time.time() - s} seconds\")\n",
        "\n",
        "def save2(self, fname):\n",
        "    fps = 30\n",
        "    # Write frames to the video file\n",
        "    with imageio.get_writer(fname, fps=fps) as writer:\n",
        "        for frame in self.frames:\n",
        "            writer.append_data(frame)\n",
        "    print(f\"Video saved to: {fname} in {time.time() - s} seconds\")"
      ]
    },
    {
      "cell_type": "code",
      "execution_count": null,
      "id": "5a710396-5302-436a-85e6-e549ca24ac62",
      "metadata": {
        "id": "5a710396-5302-436a-85e6-e549ca24ac62"
      },
      "outputs": [],
      "source": [
        "fpath = \"test.mp4\"\n",
        "fps = 30\n",
        "with imageio.get_writer(fpath) as writer:\n",
        "    writer.fps = fps  # Set the frame rate\n",
        "    for frame in ds.frames[:10]:\n",
        "        writer.append_data(frame)\n"
      ]
    },
    {
      "cell_type": "code",
      "execution_count": null,
      "id": "2bcdcd9a-06d1-4695-828f-3ff3c2b5570b",
      "metadata": {
        "id": "2bcdcd9a-06d1-4695-828f-3ff3c2b5570b"
      },
      "outputs": [],
      "source": []
    },
    {
      "cell_type": "markdown",
      "source": [
        "## Computing Optical Flow"
      ],
      "metadata": {
        "id": "wY3_EF7wzeEa"
      },
      "id": "wY3_EF7wzeEa"
    },
    {
      "cell_type": "code",
      "source": [
        "## Importing the necessary modules\n",
        "import numpy as np\n",
        "import os\n",
        "import skimage.io as io\n",
        "from natsort import natsorted\n",
        "from tqdm import tqdm\n",
        "import scipy as sp\n",
        "import time\n",
        "import scipy.io as sio\n",
        "#import hdf5storage\n",
        "from multiprocessing import TimeoutError\n",
        "from multiprocessing.pool import ThreadPool as Pool\n",
        "from functools import partial\n",
        "import matplotlib.pyplot as plt\n",
        "from aicspylibczi import CziFile\n",
        "import warnings\n",
        "warnings.filterwarnings(\"ignore\")"
      ],
      "metadata": {
        "id": "sZ_wffDXzjBG",
        "executionInfo": {
          "status": "ok",
          "timestamp": 1712699250760,
          "user_tz": 240,
          "elapsed": 245,
          "user": {
            "displayName": "",
            "userId": ""
          }
        }
      },
      "id": "sZ_wffDXzjBG",
      "execution_count": 22,
      "outputs": []
    },
    {
      "cell_type": "code",
      "source": [
        "## Load Data\n",
        "\n",
        "# Folder address where the raw 3D movie is\n",
        "data_folder = 'E:\\\\Spandan\\\\3D_Lattice_Lightsheet\\\\Shen 1-30-23\\\\dicty_factin_pip3-06_processed'\n",
        "czi_path = data_folder +'\\\\dicty_factin_pip3-06_processed.czi'\n",
        "\n",
        "input_img = CziFile(czi_path)\n",
        "shape = input_img.size; dims = input_img.dims;  # Check shape of the data\n",
        "print(shape), print(dims)\n",
        "\n",
        "num_timepoints, num_stacks, height, width = shape[1], shape[3], shape[4], shape[5]"
      ],
      "metadata": {
        "id": "bCqtj5sIzgJ5"
      },
      "id": "bCqtj5sIzgJ5",
      "execution_count": null,
      "outputs": []
    },
    {
      "cell_type": "code",
      "source": [
        "def smoothing(k, img):\n",
        "\n",
        "    def pre_processing(frm_id, image, ch_id):\n",
        "        img_temp = image.read_image(T=frm_id, C=ch_id)\n",
        "        imge = np.squeeze(img_temp[0])\n",
        "        return imge\n",
        "\n",
        "    current_frame = pre_processing(k, img, channel)\n",
        "\n",
        "    if k == start_frame or k == end_frame - jump:\n",
        "        result = current_frame\n",
        "    else:\n",
        "        previous_frame = pre_processing(k - jump, img, channel)\n",
        "        next_frame = pre_processing(k + jump, img, channel)\n",
        "\n",
        "        if k == start_frame + jump or k == end_frame - 2*jump:\n",
        "            result = np.average([previous_frame, current_frame, next_frame], weights=kernel1, axis=0)\n",
        "\n",
        "        else:\n",
        "            frame_minus_2_jump = pre_processing(k - 2 * jump, img, channel)\n",
        "            frame_plus_2_jump = pre_processing(k + 2 * jump, img, channel)\n",
        "            result = np.average([frame_minus_2_jump, previous_frame, current_frame, next_frame, frame_plus_2_jump], weights=kernel2, axis=0)\n",
        "\n",
        "    result = result.astype(np.float32)\n",
        "    np.save(os.path.join(data_folder, 'smoothed_frames', f'{k}'), result)\n",
        "\n",
        "# Example usage:\n",
        "jump = 1\n",
        "start_frame = 0\n",
        "end_frame = num_timepoints\n",
        "channel = 0\n",
        "# Create a local folder for storing smoothed frames\n",
        "os.makedirs(os.path.join(data_folder, 'smoothed_frames'), exist_ok=True)"
      ],
      "metadata": {
        "id": "0lTzVRZazlQn"
      },
      "id": "0lTzVRZazlQn",
      "execution_count": null,
      "outputs": []
    },
    {
      "cell_type": "code",
      "source": [
        "kernel1 = np.array([0.225,0.55,0.225]);\n",
        "kernel2 = np.array([0.036,0.249,0.431,0.249,0.036])\n",
        "\n",
        "numProcessors = 16   # maybe change it to 8 (but that's it!)\n",
        "pool = Pool(processes=numProcessors)\n",
        "\n",
        "print('Post-processing in parallel with '+str(numProcessors)+' processors')\n",
        "\n",
        "#store start time\n",
        "stopwatchStart = time.time()\n",
        "[temp] =zip(*pool.map(partial(smoothing, img = input_img), range(num_timepoints-1)))\n",
        "\n",
        "print('Wall time = '+str(np.round(time.time() - stopwatchStart,2))+' s')\n",
        "\n",
        "print('Parallel post processing complete, switching to serial')\n",
        "pool.close()"
      ],
      "metadata": {
        "id": "Tm9hP8ISzp1y"
      },
      "id": "Tm9hP8ISzp1y",
      "execution_count": null,
      "outputs": []
    },
    {
      "cell_type": "code",
      "source": [
        "# Lucas-Kanade method for Optical Flow\n",
        "# INPUTS:\n",
        "\n",
        "#k: Timeframe index, input_image: temporally smoothed movie\n",
        "#sig: Spread of the Gaussian weights around a pixel, #thresh: Threshold for reliability score\n",
        "\n",
        "# OUTPUTS (stored in a data file):\n",
        "#vx: x-velocity, vy: y-velocity, vz: z-velocity\n",
        "#reliabMat: reliability score for velocities calculated at a pixel (higher the better)\n",
        "\n",
        "def LKxOptFlow(k,sig,thresh):\n",
        "\n",
        "    def reliability_from_cubic_roots(a,b,c,d,e,f):\n",
        "        trA = a + b + c;\n",
        "        q = trA/3;\n",
        "        x = (a + b - 2*c)**2/9 + (a -2*b + c)**2/9 + (b - 2*a + c)**2/9 + 2*(d**2 + e**2 + f**2);\n",
        "        p = np.sqrt(x/6)\n",
        "        detB = ((a-q)*(b-q)*(c-q) + 2*d*e*f - (a-q)*f**2 - (b-q)*e**2 - (c-q)*d**2)/(p**3)\n",
        "        detB[detB > 2] = 2;\n",
        "        detB[detB < -2] = -2;\n",
        "\n",
        "        theta = np.arccos(detB/2)/3\n",
        "\n",
        "        # define roots\n",
        "        r1 = 2*np.cos(theta);\n",
        "        r2 = 2*np.cos(theta + 2*np.pi/3);\n",
        "        r3 = 2*np.cos(theta + 4*np.pi/3);\n",
        "\n",
        "        # define eigs\n",
        "        b1 = r1*p + q;\n",
        "        b2 = r2*p + q;\n",
        "        b3 = r3*p + q;\n",
        "\n",
        "        # define reliability\n",
        "        rel = np.stack((b1,b2,b3), axis=3)\n",
        "        rel = np.min(rel, axis=3)\n",
        "        return rel\n",
        "\n",
        "\n",
        "    current_frame = np.load(smooth_address+'\\\\{}.npy'.format(k))             # Load temporally smoothed frame-1\n",
        "    next_frame = np.load(smooth_address+'\\\\{}.npy'.format(k+1))         # Load temporally smoothed frame-2\n",
        "\n",
        "    # Calculating the spatial and temporal gradients assuming the input frame is of the shape (ZYX)\n",
        "\n",
        "    dy = np.gradient(current_frame,axis=1,edge_order=1)\n",
        "    dx = np.gradient(current_frame,axis=2,edge_order=1)\n",
        "    dz = np.gradient(current_frame,axis=0,edge_order=1)\n",
        "    dt = next_frame - current_frame\n",
        "\n",
        "    dz = dz.astype(np.float32); dy = dy.astype(np.float32); dx = dx.astype(np.float32); dt = dt.astype(np.float32);\n",
        "\n",
        "    wdx2 = sp.ndimage.gaussian_filter(dx**2, sig, mode='nearest')\n",
        "    wdy2 = sp.ndimage.gaussian_filter(dy**2, sig, mode='nearest')\n",
        "    wdz2 = sp.ndimage.gaussian_filter(dz**2, sig, mode='nearest')\n",
        "\n",
        "    wdxy = sp.ndimage.gaussian_filter(dx*dy, sig, mode='nearest')\n",
        "    wdxz = sp.ndimage.gaussian_filter(dx*dz, sig, mode='nearest')\n",
        "    wdyz = sp.ndimage.gaussian_filter(dy*dz, sig, mode='nearest')\n",
        "\n",
        "    wdtx = sp.ndimage.gaussian_filter(dx*dt, sig, mode='nearest')\n",
        "    wdty = sp.ndimage.gaussian_filter(dy*dt, sig, mode='nearest')\n",
        "    wdtz = sp.ndimage.gaussian_filter(dz*dt, sig, mode='nearest')\n",
        "\n",
        "    # Calculate Flow\n",
        "    eps = 1e-6\n",
        "    determinant = wdx2*wdy2*wdz2 + 2*wdxy*wdyz*wdxz - wdx2*(wdyz**2) - wdy2*(wdxz**2) - wdz2*(wdxy**2)\n",
        "\n",
        "    vx = -((determinant + eps)**(-1))* ( \\\n",
        "              wdtx*(wdy2*wdz2 - wdyz**2) \\\n",
        "            + wdty*(wdxz*wdyz - wdxy*wdz2) \\\n",
        "            + wdtz*(wdxy*wdyz - wdxz*wdy2) );\n",
        "    vy = -((determinant + eps)**(-1))* ( \\\n",
        "              wdtx*(wdxz*wdyz - wdxy*wdz2) \\\n",
        "            + wdty*(wdx2*wdz2 - wdxz**2) \\\n",
        "            + wdtz*(wdxy*wdxz - wdx2*wdyz) );\n",
        "    vz = -((determinant + eps)**(-1))* ( \\\n",
        "              wdtx*(wdxy*wdyz - wdxz*wdy2) \\\n",
        "            + wdty*(wdxy*wdxz - wdx2*wdyz) \\\n",
        "            + wdtz*(wdx2*wdy2 - wdxy**2) );\n",
        "    reliabMat = reliability_from_cubic_roots(wdx2,wdy2,wdz2,wdxy,wdxz,wdyz)\n",
        "\n",
        "    vx = vx*(reliabMat > thresh);\n",
        "    vy = vy*(reliabMat > thresh);\n",
        "    vz = vz*(reliabMat > thresh);\n",
        "\n",
        "#     np.savez(save_path+'/{}.npz'.format(k),vx = vx,vy = vy,rel=reliabMat)   # to save as numpy data files\n",
        "    sio.savemat(save_path+'\\\\{}.mat'.format(k),{'vx':vx,'vy':vy,'vz':vz,'rel':reliabMat},do_compression=False) # to save as .MAT files\n",
        "    return [0]"
      ],
      "metadata": {
        "id": "MA9RLg78zp4D"
      },
      "id": "MA9RLg78zp4D",
      "execution_count": null,
      "outputs": []
    },
    {
      "cell_type": "code",
      "source": [
        "# Example usage:\n",
        "\n",
        "data_folder = 'E:\\\\Spandan\\\\3D_Lattice_Lightsheet\\\\Shen 1-30-23\\\\dicty_factin_pip3-06_processed'   # Root address where all the images are stored\n",
        "smooth_address = data_folder+'\\\\smoothed_frames'\n",
        "save_path = data_folder+'\\\\Op_flow_threaded'                 # Create a local folder for storing OF results\n",
        "os.makedirs(save_path,exist_ok=True)\n",
        "\n",
        "file_list = natsorted(os.listdir(smooth_address))    # sort the image files numerically by frame-index\n",
        "n_frames = len(file_list);"
      ],
      "metadata": {
        "id": "sUpixRYa0C9r"
      },
      "id": "sUpixRYa0C9r",
      "execution_count": null,
      "outputs": []
    },
    {
      "cell_type": "code",
      "source": [
        "numProcessors = 16   # maybe change it to 8 (but that's it)\n",
        "pool = Pool(processes=numProcessors)\n",
        "\n",
        "print('Post-processing in parallel with '+str(numProcessors)+' processors')\n",
        "\n",
        "#store start time\n",
        "stopwatchStart = time.time()\n",
        "[temp] =zip(*pool.map(partial(LKxOptFlow, sig = 2, thresh = 0.1), range(n_frames-1)))\n",
        "\n",
        "print('Wall time = '+str(np.round(time.time() - stopwatchStart,2))+' s')\n",
        "\n",
        "print('Parallel post processing complete, switching to serial')\n",
        "pool.close()"
      ],
      "metadata": {
        "id": "njENyrDb0DAU"
      },
      "id": "njENyrDb0DAU",
      "execution_count": null,
      "outputs": []
    },
    {
      "cell_type": "code",
      "source": [],
      "metadata": {
        "id": "YRjLRqHd0DCv"
      },
      "id": "YRjLRqHd0DCv",
      "execution_count": null,
      "outputs": []
    },
    {
      "cell_type": "code",
      "source": [],
      "metadata": {
        "id": "yaate398zlWC"
      },
      "id": "yaate398zlWC",
      "execution_count": null,
      "outputs": []
    },
    {
      "cell_type": "code",
      "source": [],
      "metadata": {
        "id": "XVIWwyO8zlY4"
      },
      "id": "XVIWwyO8zlY4",
      "execution_count": null,
      "outputs": []
    }
  ],
  "metadata": {
    "kernelspec": {
      "display_name": "Python 3 (ipykernel)",
      "language": "python",
      "name": "python3"
    },
    "language_info": {
      "codemirror_mode": {
        "name": "ipython",
        "version": 3
      },
      "file_extension": ".py",
      "mimetype": "text/x-python",
      "name": "python",
      "nbconvert_exporter": "python",
      "pygments_lexer": "ipython3",
      "version": "3.11.0"
    },
    "colab": {
      "provenance": [],
      "name": "VideoProcessing.ipynb"
    }
  },
  "nbformat": 4,
  "nbformat_minor": 5
}