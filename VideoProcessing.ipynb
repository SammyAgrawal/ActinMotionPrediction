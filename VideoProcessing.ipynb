{
 "cells": [
  {
   "cell_type": "code",
   "execution_count": 22,
   "id": "4KOOTjSakkQS",
   "metadata": {
    "colab": {
     "base_uri": "https://localhost:8080/"
    },
    "executionInfo": {
     "elapsed": 10865,
     "status": "ok",
     "timestamp": 1712703635934,
     "user": {
      "displayName": "",
      "userId": ""
     },
     "user_tz": 240
    },
    "id": "4KOOTjSakkQS",
    "outputId": "a6357700-abd8-448c-8b67-3dbc9545c833"
   },
   "outputs": [],
   "source": [
    "# !pip install aicspylibczi"
   ]
  },
  {
   "cell_type": "code",
   "execution_count": 23,
   "id": "lStwqpMqhDH0",
   "metadata": {
    "colab": {
     "base_uri": "https://localhost:8080/"
    },
    "executionInfo": {
     "elapsed": 10325,
     "status": "ok",
     "timestamp": 1712703646255,
     "user": {
      "displayName": "",
      "userId": ""
     },
     "user_tz": 240
    },
    "id": "lStwqpMqhDH0",
    "outputId": "1724bb2f-bd60-4be8-d5e7-3ded6bf16d93"
   },
   "outputs": [],
   "source": [
    "# !pip install czifile"
   ]
  },
  {
   "cell_type": "code",
   "execution_count": 24,
   "id": "SrBZk6_XgRRp",
   "metadata": {
    "colab": {
     "base_uri": "https://localhost:8080/"
    },
    "executionInfo": {
     "elapsed": 209506,
     "status": "ok",
     "timestamp": 1712695826304,
     "user": {
      "displayName": "",
      "userId": ""
     },
     "user_tz": 240
    },
    "id": "SrBZk6_XgRRp",
    "outputId": "21fdefc1-e4f0-474c-eca4-3b9e841b76dc"
   },
   "outputs": [],
   "source": [
    "# !pip install cellpose[gui]"
   ]
  },
  {
   "cell_type": "code",
   "execution_count": 25,
   "id": "70c4904b-db88-48d6-93d0-77801ce0272e",
   "metadata": {},
   "outputs": [],
   "source": [
    "# !pip install ffmpeg-python"
   ]
  },
  {
   "cell_type": "code",
   "execution_count": 26,
   "id": "f8e01d73-3330-4aba-9c41-142cdd39cacb",
   "metadata": {
    "executionInfo": {
     "elapsed": 164,
     "status": "ok",
     "timestamp": 1712710355206,
     "user": {
      "displayName": "",
      "userId": ""
     },
     "user_tz": 240
    },
    "id": "f8e01d73-3330-4aba-9c41-142cdd39cacb"
   },
   "outputs": [],
   "source": [
    "from aicspylibczi import CziFile\n",
    "import czifile\n",
    "import numpy as np\n",
    "import matplotlib.pyplot as plt\n",
    "from matplotlib.pyplot import imshow\n",
    "import cv2\n",
    "import os\n",
    "import ffmpeg\n",
    "import time\n",
    "import pandas as pd\n",
    "from cellpose import io, models"
   ]
  },
  {
   "cell_type": "code",
   "execution_count": 27,
   "id": "9ee81bf8-b805-4c8c-bb42-e4721eca261e",
   "metadata": {},
   "outputs": [
    {
     "data": {
      "text/plain": [
       "RcParams({'_internal.classic_mode': False,\n",
       "          'agg.path.chunksize': 0,\n",
       "          'animation.bitrate': -1,\n",
       "          'animation.codec': 'h264',\n",
       "          'animation.convert_args': ['-layers', 'OptimizePlus'],\n",
       "          'animation.convert_path': 'convert',\n",
       "          'animation.embed_limit': 20.0,\n",
       "          'animation.ffmpeg_args': [],\n",
       "          'animation.ffmpeg_path': 'ffmpeg',\n",
       "          'animation.frame_format': 'png',\n",
       "          'animation.html': 'none',\n",
       "          'animation.writer': 'ffmpeg',\n",
       "          'axes.autolimit_mode': 'data',\n",
       "          'axes.axisbelow': 'line',\n",
       "          'axes.edgecolor': 'black',\n",
       "          'axes.facecolor': 'white',\n",
       "          'axes.formatter.limits': [-5, 6],\n",
       "          'axes.formatter.min_exponent': 0,\n",
       "          'axes.formatter.offset_threshold': 4,\n",
       "          'axes.formatter.use_locale': False,\n",
       "          'axes.formatter.use_mathtext': False,\n",
       "          'axes.formatter.useoffset': True,\n",
       "          'axes.grid': False,\n",
       "          'axes.grid.axis': 'both',\n",
       "          'axes.grid.which': 'major',\n",
       "          'axes.labelcolor': 'black',\n",
       "          'axes.labelpad': 4.0,\n",
       "          'axes.labelsize': 'medium',\n",
       "          'axes.labelweight': 'normal',\n",
       "          'axes.linewidth': 0.8,\n",
       "          'axes.prop_cycle': cycler('color', ['#1f77b4', '#ff7f0e', '#2ca02c', '#d62728', '#9467bd', '#8c564b', '#e377c2', '#7f7f7f', '#bcbd22', '#17becf']),\n",
       "          'axes.spines.bottom': True,\n",
       "          'axes.spines.left': True,\n",
       "          'axes.spines.right': True,\n",
       "          'axes.spines.top': True,\n",
       "          'axes.titlecolor': 'auto',\n",
       "          'axes.titlelocation': 'center',\n",
       "          'axes.titlepad': 6.0,\n",
       "          'axes.titlesize': 'large',\n",
       "          'axes.titleweight': 'normal',\n",
       "          'axes.titley': None,\n",
       "          'axes.unicode_minus': True,\n",
       "          'axes.xmargin': 0.05,\n",
       "          'axes.ymargin': 0.05,\n",
       "          'axes.zmargin': 0.05,\n",
       "          'axes3d.grid': True,\n",
       "          'backend': 'module://matplotlib_inline.backend_inline',\n",
       "          'backend_fallback': True,\n",
       "          'boxplot.bootstrap': None,\n",
       "          'boxplot.boxprops.color': 'black',\n",
       "          'boxplot.boxprops.linestyle': '-',\n",
       "          'boxplot.boxprops.linewidth': 1.0,\n",
       "          'boxplot.capprops.color': 'black',\n",
       "          'boxplot.capprops.linestyle': '-',\n",
       "          'boxplot.capprops.linewidth': 1.0,\n",
       "          'boxplot.flierprops.color': 'black',\n",
       "          'boxplot.flierprops.linestyle': 'none',\n",
       "          'boxplot.flierprops.linewidth': 1.0,\n",
       "          'boxplot.flierprops.marker': 'o',\n",
       "          'boxplot.flierprops.markeredgecolor': 'black',\n",
       "          'boxplot.flierprops.markeredgewidth': 1.0,\n",
       "          'boxplot.flierprops.markerfacecolor': 'none',\n",
       "          'boxplot.flierprops.markersize': 6.0,\n",
       "          'boxplot.meanline': False,\n",
       "          'boxplot.meanprops.color': 'C2',\n",
       "          'boxplot.meanprops.linestyle': '--',\n",
       "          'boxplot.meanprops.linewidth': 1.0,\n",
       "          'boxplot.meanprops.marker': '^',\n",
       "          'boxplot.meanprops.markeredgecolor': 'C2',\n",
       "          'boxplot.meanprops.markerfacecolor': 'C2',\n",
       "          'boxplot.meanprops.markersize': 6.0,\n",
       "          'boxplot.medianprops.color': 'C1',\n",
       "          'boxplot.medianprops.linestyle': '-',\n",
       "          'boxplot.medianprops.linewidth': 1.0,\n",
       "          'boxplot.notch': False,\n",
       "          'boxplot.patchartist': False,\n",
       "          'boxplot.showbox': True,\n",
       "          'boxplot.showcaps': True,\n",
       "          'boxplot.showfliers': True,\n",
       "          'boxplot.showmeans': False,\n",
       "          'boxplot.vertical': True,\n",
       "          'boxplot.whiskerprops.color': 'black',\n",
       "          'boxplot.whiskerprops.linestyle': '-',\n",
       "          'boxplot.whiskerprops.linewidth': 1.0,\n",
       "          'boxplot.whiskers': 1.5,\n",
       "          'contour.algorithm': 'mpl2014',\n",
       "          'contour.corner_mask': True,\n",
       "          'contour.linewidth': None,\n",
       "          'contour.negative_linestyle': 'dashed',\n",
       "          'date.autoformatter.day': '%Y-%m-%d',\n",
       "          'date.autoformatter.hour': '%m-%d %H',\n",
       "          'date.autoformatter.microsecond': '%M:%S.%f',\n",
       "          'date.autoformatter.minute': '%d %H:%M',\n",
       "          'date.autoformatter.month': '%Y-%m',\n",
       "          'date.autoformatter.second': '%H:%M:%S',\n",
       "          'date.autoformatter.year': '%Y',\n",
       "          'date.converter': 'auto',\n",
       "          'date.epoch': '1970-01-01T00:00:00',\n",
       "          'date.interval_multiples': True,\n",
       "          'docstring.hardcopy': False,\n",
       "          'errorbar.capsize': 0.0,\n",
       "          'figure.autolayout': False,\n",
       "          'figure.constrained_layout.h_pad': 0.04167,\n",
       "          'figure.constrained_layout.hspace': 0.02,\n",
       "          'figure.constrained_layout.use': False,\n",
       "          'figure.constrained_layout.w_pad': 0.04167,\n",
       "          'figure.constrained_layout.wspace': 0.02,\n",
       "          'figure.dpi': 100.0,\n",
       "          'figure.edgecolor': 'white',\n",
       "          'figure.facecolor': 'white',\n",
       "          'figure.figsize': [6.4, 4.8],\n",
       "          'figure.frameon': True,\n",
       "          'figure.labelsize': 'large',\n",
       "          'figure.labelweight': 'normal',\n",
       "          'figure.max_open_warning': 20,\n",
       "          'figure.raise_window': True,\n",
       "          'figure.subplot.bottom': 0.11,\n",
       "          'figure.subplot.hspace': 0.2,\n",
       "          'figure.subplot.left': 0.125,\n",
       "          'figure.subplot.right': 0.9,\n",
       "          'figure.subplot.top': 0.88,\n",
       "          'figure.subplot.wspace': 0.2,\n",
       "          'figure.titlesize': 'large',\n",
       "          'figure.titleweight': 'normal',\n",
       "          'font.cursive': ['Apple Chancery',\n",
       "                           'Textile',\n",
       "                           'Zapf Chancery',\n",
       "                           'Sand',\n",
       "                           'Script MT',\n",
       "                           'Felipa',\n",
       "                           'Comic Neue',\n",
       "                           'Comic Sans MS',\n",
       "                           'cursive'],\n",
       "          'font.family': ['sans-serif'],\n",
       "          'font.fantasy': ['Chicago',\n",
       "                           'Charcoal',\n",
       "                           'Impact',\n",
       "                           'Western',\n",
       "                           'Humor Sans',\n",
       "                           'xkcd',\n",
       "                           'fantasy'],\n",
       "          'font.monospace': ['DejaVu Sans Mono',\n",
       "                             'Bitstream Vera Sans Mono',\n",
       "                             'Computer Modern Typewriter',\n",
       "                             'Andale Mono',\n",
       "                             'Nimbus Mono L',\n",
       "                             'Courier New',\n",
       "                             'Courier',\n",
       "                             'Fixed',\n",
       "                             'Terminal',\n",
       "                             'monospace'],\n",
       "          'font.sans-serif': ['DejaVu Sans',\n",
       "                              'Bitstream Vera Sans',\n",
       "                              'Computer Modern Sans Serif',\n",
       "                              'Lucida Grande',\n",
       "                              'Verdana',\n",
       "                              'Geneva',\n",
       "                              'Lucid',\n",
       "                              'Arial',\n",
       "                              'Helvetica',\n",
       "                              'Avant Garde',\n",
       "                              'sans-serif'],\n",
       "          'font.serif': ['DejaVu Serif',\n",
       "                         'Bitstream Vera Serif',\n",
       "                         'Computer Modern Roman',\n",
       "                         'New Century Schoolbook',\n",
       "                         'Century Schoolbook L',\n",
       "                         'Utopia',\n",
       "                         'ITC Bookman',\n",
       "                         'Bookman',\n",
       "                         'Nimbus Roman No9 L',\n",
       "                         'Times New Roman',\n",
       "                         'Times',\n",
       "                         'Palatino',\n",
       "                         'Charter',\n",
       "                         'serif'],\n",
       "          'font.size': 10.0,\n",
       "          'font.stretch': 'normal',\n",
       "          'font.style': 'normal',\n",
       "          'font.variant': 'normal',\n",
       "          'font.weight': 'normal',\n",
       "          'grid.alpha': 1.0,\n",
       "          'grid.color': '#b0b0b0',\n",
       "          'grid.linestyle': '-',\n",
       "          'grid.linewidth': 0.8,\n",
       "          'hatch.color': 'black',\n",
       "          'hatch.linewidth': 1.0,\n",
       "          'hist.bins': 10,\n",
       "          'image.aspect': 'equal',\n",
       "          'image.cmap': 'viridis',\n",
       "          'image.composite_image': True,\n",
       "          'image.interpolation': 'antialiased',\n",
       "          'image.lut': 256,\n",
       "          'image.origin': 'upper',\n",
       "          'image.resample': True,\n",
       "          'interactive': True,\n",
       "          'keymap.back': ['left', 'c', 'backspace', 'MouseButton.BACK'],\n",
       "          'keymap.copy': ['ctrl+c', 'cmd+c'],\n",
       "          'keymap.forward': ['right', 'v', 'MouseButton.FORWARD'],\n",
       "          'keymap.fullscreen': ['f', 'ctrl+f'],\n",
       "          'keymap.grid': ['g'],\n",
       "          'keymap.grid_minor': ['G'],\n",
       "          'keymap.help': ['f1'],\n",
       "          'keymap.home': ['h', 'r', 'home'],\n",
       "          'keymap.pan': ['p'],\n",
       "          'keymap.quit': ['ctrl+w', 'cmd+w', 'q'],\n",
       "          'keymap.quit_all': [],\n",
       "          'keymap.save': ['s', 'ctrl+s'],\n",
       "          'keymap.xscale': ['k', 'L'],\n",
       "          'keymap.yscale': ['l'],\n",
       "          'keymap.zoom': ['o'],\n",
       "          'legend.borderaxespad': 0.5,\n",
       "          'legend.borderpad': 0.4,\n",
       "          'legend.columnspacing': 2.0,\n",
       "          'legend.edgecolor': '0.8',\n",
       "          'legend.facecolor': 'inherit',\n",
       "          'legend.fancybox': True,\n",
       "          'legend.fontsize': 'medium',\n",
       "          'legend.framealpha': 0.8,\n",
       "          'legend.frameon': True,\n",
       "          'legend.handleheight': 0.7,\n",
       "          'legend.handlelength': 2.0,\n",
       "          'legend.handletextpad': 0.8,\n",
       "          'legend.labelcolor': 'None',\n",
       "          'legend.labelspacing': 0.5,\n",
       "          'legend.loc': 'best',\n",
       "          'legend.markerscale': 1.0,\n",
       "          'legend.numpoints': 1,\n",
       "          'legend.scatterpoints': 1,\n",
       "          'legend.shadow': False,\n",
       "          'legend.title_fontsize': None,\n",
       "          'lines.antialiased': True,\n",
       "          'lines.color': 'C0',\n",
       "          'lines.dash_capstyle': <CapStyle.butt: 'butt'>,\n",
       "          'lines.dash_joinstyle': <JoinStyle.round: 'round'>,\n",
       "          'lines.dashdot_pattern': [6.4, 1.6, 1.0, 1.6],\n",
       "          'lines.dashed_pattern': [3.7, 1.6],\n",
       "          'lines.dotted_pattern': [1.0, 1.65],\n",
       "          'lines.linestyle': '-',\n",
       "          'lines.linewidth': 1.5,\n",
       "          'lines.marker': 'None',\n",
       "          'lines.markeredgecolor': 'auto',\n",
       "          'lines.markeredgewidth': 1.0,\n",
       "          'lines.markerfacecolor': 'auto',\n",
       "          'lines.markersize': 6.0,\n",
       "          'lines.scale_dashes': True,\n",
       "          'lines.solid_capstyle': <CapStyle.projecting: 'projecting'>,\n",
       "          'lines.solid_joinstyle': <JoinStyle.round: 'round'>,\n",
       "          'markers.fillstyle': 'full',\n",
       "          'mathtext.bf': 'sans:bold',\n",
       "          'mathtext.cal': 'cursive',\n",
       "          'mathtext.default': 'it',\n",
       "          'mathtext.fallback': 'cm',\n",
       "          'mathtext.fontset': 'dejavusans',\n",
       "          'mathtext.it': 'sans:italic',\n",
       "          'mathtext.rm': 'sans',\n",
       "          'mathtext.sf': 'sans',\n",
       "          'mathtext.tt': 'monospace',\n",
       "          'patch.antialiased': True,\n",
       "          'patch.edgecolor': 'black',\n",
       "          'patch.facecolor': 'C0',\n",
       "          'patch.force_edgecolor': False,\n",
       "          'patch.linewidth': 1.0,\n",
       "          'path.effects': [],\n",
       "          'path.simplify': True,\n",
       "          'path.simplify_threshold': 0.111111111111,\n",
       "          'path.sketch': None,\n",
       "          'path.snap': True,\n",
       "          'pcolor.shading': 'auto',\n",
       "          'pcolormesh.snap': True,\n",
       "          'pdf.compression': 6,\n",
       "          'pdf.fonttype': 3,\n",
       "          'pdf.inheritcolor': False,\n",
       "          'pdf.use14corefonts': False,\n",
       "          'pgf.preamble': '',\n",
       "          'pgf.rcfonts': True,\n",
       "          'pgf.texsystem': 'xelatex',\n",
       "          'polaraxes.grid': True,\n",
       "          'ps.distiller.res': 6000,\n",
       "          'ps.fonttype': 3,\n",
       "          'ps.papersize': 'letter',\n",
       "          'ps.useafm': False,\n",
       "          'ps.usedistiller': None,\n",
       "          'savefig.bbox': None,\n",
       "          'savefig.directory': '~',\n",
       "          'savefig.dpi': 'figure',\n",
       "          'savefig.edgecolor': 'auto',\n",
       "          'savefig.facecolor': 'auto',\n",
       "          'savefig.format': 'png',\n",
       "          'savefig.orientation': 'portrait',\n",
       "          'savefig.pad_inches': 0.1,\n",
       "          'savefig.transparent': False,\n",
       "          'scatter.edgecolors': 'face',\n",
       "          'scatter.marker': 'o',\n",
       "          'svg.fonttype': 'path',\n",
       "          'svg.hashsalt': None,\n",
       "          'svg.image_inline': True,\n",
       "          'text.antialiased': True,\n",
       "          'text.color': 'black',\n",
       "          'text.hinting': 'force_autohint',\n",
       "          'text.hinting_factor': 8,\n",
       "          'text.kerning_factor': 0,\n",
       "          'text.latex.preamble': '',\n",
       "          'text.parse_math': True,\n",
       "          'text.usetex': False,\n",
       "          'timezone': 'UTC',\n",
       "          'tk.window_focus': False,\n",
       "          'toolbar': 'toolbar2',\n",
       "          'webagg.address': '127.0.0.1',\n",
       "          'webagg.open_in_browser': True,\n",
       "          'webagg.port': 8988,\n",
       "          'webagg.port_retries': 50,\n",
       "          'xaxis.labellocation': 'center',\n",
       "          'xtick.alignment': 'center',\n",
       "          'xtick.bottom': True,\n",
       "          'xtick.color': 'black',\n",
       "          'xtick.direction': 'out',\n",
       "          'xtick.labelbottom': True,\n",
       "          'xtick.labelcolor': 'inherit',\n",
       "          'xtick.labelsize': 'medium',\n",
       "          'xtick.labeltop': False,\n",
       "          'xtick.major.bottom': True,\n",
       "          'xtick.major.pad': 3.5,\n",
       "          'xtick.major.size': 3.5,\n",
       "          'xtick.major.top': True,\n",
       "          'xtick.major.width': 0.8,\n",
       "          'xtick.minor.bottom': True,\n",
       "          'xtick.minor.pad': 3.4,\n",
       "          'xtick.minor.size': 2.0,\n",
       "          'xtick.minor.top': True,\n",
       "          'xtick.minor.visible': False,\n",
       "          'xtick.minor.width': 0.6,\n",
       "          'xtick.top': False,\n",
       "          'yaxis.labellocation': 'center',\n",
       "          'ytick.alignment': 'center_baseline',\n",
       "          'ytick.color': 'black',\n",
       "          'ytick.direction': 'out',\n",
       "          'ytick.labelcolor': 'inherit',\n",
       "          'ytick.labelleft': True,\n",
       "          'ytick.labelright': False,\n",
       "          'ytick.labelsize': 'medium',\n",
       "          'ytick.left': True,\n",
       "          'ytick.major.left': True,\n",
       "          'ytick.major.pad': 3.5,\n",
       "          'ytick.major.right': True,\n",
       "          'ytick.major.size': 3.5,\n",
       "          'ytick.major.width': 0.8,\n",
       "          'ytick.minor.left': True,\n",
       "          'ytick.minor.pad': 3.4,\n",
       "          'ytick.minor.right': True,\n",
       "          'ytick.minor.size': 2.0,\n",
       "          'ytick.minor.visible': False,\n",
       "          'ytick.minor.width': 0.6,\n",
       "          'ytick.right': False})"
      ]
     },
     "execution_count": 27,
     "metadata": {},
     "output_type": "execute_result"
    }
   ],
   "source": [
    "plt.rcParams"
   ]
  },
  {
   "cell_type": "code",
<<<<<<< HEAD
   "execution_count": 28,
=======
   "execution_count": 2,
>>>>>>> 1501affbfded41625c4ff7aa8400c01ec380af86
   "id": "16b803e6-3251-4014-9348-1c9006b1095d",
   "metadata": {},
   "outputs": [
    {
     "data": {
      "text/plain": [
       "'ffmpeg'"
      ]
     },
<<<<<<< HEAD
     "execution_count": 28,
=======
     "execution_count": 2,
>>>>>>> 1501affbfded41625c4ff7aa8400c01ec380af86
     "metadata": {},
     "output_type": "execute_result"
    }
   ],
   "source": [
    "plt.rcParams['animation.ffmpeg_path']"
   ]
  },
  {
   "cell_type": "code",
<<<<<<< HEAD
   "execution_count": 29,
=======
   "execution_count": 4,
>>>>>>> 1501affbfded41625c4ff7aa8400c01ec380af86
   "id": "d3fe9407-506d-4524-9f6a-5694d596e4e2",
   "metadata": {},
   "outputs": [],
   "source": [
    "%matplotlib inline"
   ]
  },
  {
   "cell_type": "code",
<<<<<<< HEAD
   "execution_count": 30,
=======
   "execution_count": 5,
>>>>>>> 1501affbfded41625c4ff7aa8400c01ec380af86
   "id": "DKrnxGNPu4Ny",
   "metadata": {
    "colab": {
     "base_uri": "https://localhost:8080/"
    },
    "executionInfo": {
     "elapsed": 175,
     "status": "ok",
     "timestamp": 1712698380765,
     "user": {
      "displayName": "",
      "userId": ""
     },
     "user_tz": 240
    },
    "id": "DKrnxGNPu4Ny",
    "outputId": "66f09c34-4d71-4274-bf7d-b7995cc59903"
   },
   "outputs": [
    {
     "name": "stdout",
     "output_type": "stream",
     "text": [
      "Python 3.9.19\n"
     ]
    }
   ],
   "source": [
    "!python --version"
   ]
  },
  {
   "cell_type": "markdown",
   "id": "978ac315-8bab-450a-9172-2141964c43bb",
   "metadata": {
    "jp-MarkdownHeadingCollapsed": true
   },
   "source": [
    "## If loading from bucket"
   ]
  },
  {
   "cell_type": "code",
   "execution_count": 31,
   "id": "o1kjLF7VWMxs",
   "metadata": {
    "executionInfo": {
     "elapsed": 204,
     "status": "ok",
     "timestamp": 1712703748342,
     "user": {
      "displayName": "",
      "userId": ""
     },
     "user_tz": 240
    },
    "id": "o1kjLF7VWMxs"
   },
   "outputs": [],
   "source": [
    "from google.cloud import storage\n",
    "\n",
    "# Create a storage client.\n",
    "storage_client = storage.Client(project='jal2340-applied-cv-s24')\n",
    "\n",
    "# Specify the name of your GCS bucket and the object (file) to download.\n",
    "bucket_name = '3d-dicty-data'\n",
    "\n",
    "bucket = storage_client.bucket(bucket_name)"
   ]
  },
  {
   "cell_type": "code",
   "execution_count": 32,
   "id": "4jfdB81zgxEH",
   "metadata": {
    "executionInfo": {
     "elapsed": 379,
     "status": "ok",
     "timestamp": 1712703755134,
     "user": {
      "displayName": "",
      "userId": ""
     },
     "user_tz": 240
    },
    "id": "4jfdB81zgxEH"
   },
   "outputs": [],
   "source": [
    "# exp is experiment/ collection dates\n",
    "exp_dates = ['2023-01-30', '2023-10-25']\n",
    "blobs = {\n",
    "    exp_dates[0] : {\"MIP\" : [], \"raw\": [], \"processed\":[]},\n",
    "    exp_dates[1] : dict(raw=[], MIP=[], smiley=[]),\n",
    "}\n",
    "for blob in bucket.list_blobs():\n",
    "  if(exp_dates[0] in blob.name):\n",
    "    if('MIP.czi' in blob.name):\n",
    "      blobs[exp_dates[0]][\"MIP\"].append(blob)\n",
    "    elif(\"processed.czi\" in blob.name):\n",
    "      blobs[exp_dates[0]][\"processed\"].append(blob)\n",
    "    else:\n",
    "      blobs[exp_dates[0]][\"raw\"].append(blob)\n",
    "  elif(exp_dates[1] in blob.name):\n",
    "    if('MIP.czi' in blob.name):\n",
    "      blobs[exp_dates[1]][\"MIP\"].append(blob)\n",
    "    elif(\"smiley.czi\" in blob.name):\n",
    "      blobs[exp_dates[1]][\"smiley\"].append(blob)\n",
    "    else:\n",
    "      blobs[exp_dates[1]][\"raw\"].append(blob)"
   ]
  },
  {
   "cell_type": "code",
   "execution_count": 33,
   "id": "k9urn3-nP0Jh",
   "metadata": {
    "colab": {
     "base_uri": "https://localhost:8080/"
    },
    "executionInfo": {
     "elapsed": 165,
     "status": "ok",
     "timestamp": 1712703758377,
     "user": {
      "displayName": "",
      "userId": ""
     },
     "user_tz": 240
    },
    "id": "k9urn3-nP0Jh",
    "outputId": "268ef542-5eae-4448-a4d6-c3c527e51372"
   },
   "outputs": [
    {
     "data": {
      "text/plain": [
       "{'2023-01-30': {'MIP': [<Blob: 3d-dicty-data, 2023-01-30/dicty_factin_pip3-01_MIP.czi, 1710358500008774>,\n",
       "   <Blob: 3d-dicty-data, 2023-01-30/dicty_factin_pip3-02_MIP.czi, 1710358537771887>,\n",
       "   <Blob: 3d-dicty-data, 2023-01-30/dicty_factin_pip3-03_MIP.czi, 1710358751673597>,\n",
       "   <Blob: 3d-dicty-data, 2023-01-30/dicty_factin_pip3-04_MIP.czi, 1710358795150245>,\n",
       "   <Blob: 3d-dicty-data, 2023-01-30/dicty_factin_pip3-05_MIP.czi, 1710358946480650>,\n",
       "   <Blob: 3d-dicty-data, 2023-01-30/dicty_factin_pip3-06_MIP.czi, 1710361694382886>,\n",
       "   <Blob: 3d-dicty-data, 2023-01-30/dicty_factin_pip3-07_MIP.czi, 1710366852425136>,\n",
       "   <Blob: 3d-dicty-data, 2023-01-30/dicty_factin_pip3-08_MIP.czi, 1710367004956447>,\n",
       "   <Blob: 3d-dicty-data, 2023-01-30/dicty_factin_pip3-09_MIP.czi, 1710369513010511>],\n",
       "  'raw': [<Blob: 3d-dicty-data, 2023-01-30/dicty_factin_pip3-01.czi, 1710358579678619>,\n",
       "   <Blob: 3d-dicty-data, 2023-01-30/dicty_factin_pip3-02.czi, 1710358536343239>,\n",
       "   <Blob: 3d-dicty-data, 2023-01-30/dicty_factin_pip3-03.czi, 1710361447534733>,\n",
       "   <Blob: 3d-dicty-data, 2023-01-30/dicty_factin_pip3-04.czi, 1710358793612427>,\n",
       "   <Blob: 3d-dicty-data, 2023-01-30/dicty_factin_pip3-05.czi, 1710358944946188>,\n",
       "   <Blob: 3d-dicty-data, 2023-01-30/dicty_factin_pip3-06.czi, 1710366817083150>,\n",
       "   <Blob: 3d-dicty-data, 2023-01-30/dicty_factin_pip3-07.czi, 1710366850913412>,\n",
       "   <Blob: 3d-dicty-data, 2023-01-30/dicty_factin_pip3-08.czi, 1710367003436256>,\n",
       "   <Blob: 3d-dicty-data, 2023-01-30/dicty_factin_pip3-09.czi, 1710374618524208>],\n",
       "  'processed': [<Blob: 3d-dicty-data, 2023-01-30/dicty_factin_pip3-01_processed.czi, 1710358720969715>,\n",
       "   <Blob: 3d-dicty-data, 2023-01-30/dicty_factin_pip3-02_processed.czi, 1710358659274715>,\n",
       "   <Blob: 3d-dicty-data, 2023-01-30/dicty_factin_pip3-03_processed.czi, 1710369260579896>,\n",
       "   <Blob: 3d-dicty-data, 2023-01-30/dicty_factin_pip3-04_processed.czi, 1710358912010824>,\n",
       "   <Blob: 3d-dicty-data, 2023-01-30/dicty_factin_pip3-05_processed.czi, 1710359065331241>,\n",
       "   <Blob: 3d-dicty-data, 2023-01-30/dicty_factin_pip3-06_processed.czi, 1710389916565644>,\n",
       "   <Blob: 3d-dicty-data, 2023-01-30/dicty_factin_pip3-07_processed.czi, 1710366970864457>,\n",
       "   <Blob: 3d-dicty-data, 2023-01-30/dicty_factin_pip3-08_processed.czi, 1710367122027015>,\n",
       "   <Blob: 3d-dicty-data, 2023-01-30/dicty_factin_pip3-09_processed.czi, 1710397207160459>]},\n",
       " '2023-10-25': {'raw': [<Blob: 3d-dicty-data, 2023-10-25/Continuous-41420.czi, 1710374621150353>,\n",
       "   <Blob: 3d-dicty-data, 2023-10-25/New-01.czi, 1710374624473442>,\n",
       "   <Blob: 3d-dicty-data, 2023-10-25/New-02.czi, 1710379183077372>,\n",
       "   <Blob: 3d-dicty-data, 2023-10-25/New-03.czi, 1710390729120837>,\n",
       "   <Blob: 3d-dicty-data, 2023-10-25/New-04.czi, 1710400992908401>],\n",
       "  'MIP': [<Blob: 3d-dicty-data, 2023-10-25/New-01_MIP.czi, 1710374627956821>,\n",
       "   <Blob: 3d-dicty-data, 2023-10-25/New-02_MIP.czi, 1710380136686847>,\n",
       "   <Blob: 3d-dicty-data, 2023-10-25/New-03_MIP.czi, 1710390811087376>,\n",
       "   <Blob: 3d-dicty-data, 2023-10-25/New-04_MIP.czi, 1710395949773281>],\n",
       "  'smiley': [<Blob: 3d-dicty-data, 2023-10-25/New-01_dicty_smiley.czi, 1710374626666056>,\n",
       "   <Blob: 3d-dicty-data, 2023-10-25/New-02_dicty_smiley.czi, 1710380095303637>,\n",
       "   <Blob: 3d-dicty-data, 2023-10-25/New-03_dicty_smiley.czi, 1710392064995281>,\n",
       "   <Blob: 3d-dicty-data, 2023-10-25/New-04_dicty_smiley.czi, 1710395819911632>]}}"
      ]
     },
     "execution_count": 33,
     "metadata": {},
     "output_type": "execute_result"
    }
   ],
   "source": [
    "blobs"
   ]
  },
  {
   "cell_type": "code",
   "execution_count": 34,
   "id": "s1UtMG3Jlmes",
   "metadata": {
    "id": "s1UtMG3Jlmes"
   },
   "outputs": [],
   "source": [
    "# index is which video choosing (6th one, etc)\n",
    "\n",
    "def get_image(vid_index, date=0, group='processed', blobs=blobs):\n",
    "  blob = blobs[exp_dates[date]][group][vid_index]\n",
    "  fname = blob.name.split('/')[-1] # ignore date/fname\n",
    "  print(f\"Loading {fname}\")\n",
    "  blob.download_to_filename(fname)\n",
    "  return(CziFile(fname))"
   ]
  },
  {
   "cell_type": "code",
   "execution_count": 35,
   "id": "-gveCIGaC1WD",
   "metadata": {
    "colab": {
     "base_uri": "https://localhost:8080/"
    },
    "executionInfo": {
     "elapsed": 136,
     "status": "ok",
     "timestamp": 1712703762932,
     "user": {
      "displayName": "",
      "userId": ""
     },
     "user_tz": 240
    },
    "id": "-gveCIGaC1WD",
    "outputId": "cccc8d04-f56d-475e-81f7-28384c1d0c46"
   },
   "outputs": [
    {
     "data": {
      "text/plain": [
       "99.62492406368256"
      ]
     },
     "execution_count": 35,
     "metadata": {},
     "output_type": "execute_result"
    }
   ],
   "source": [
    "blob = blobs[exp_dates[0]]['processed'][5]\n",
    "blob.size / (1024 * 1024 * 1024) # size in GB"
   ]
  },
  {
   "cell_type": "code",
   "execution_count": 36,
   "id": "18H_HtblDpAv",
   "metadata": {
    "executionInfo": {
     "elapsed": 205,
     "status": "ok",
     "timestamp": 1712703768550,
     "user": {
      "displayName": "",
      "userId": ""
     },
     "user_tz": 240
    },
    "id": "18H_HtblDpAv"
   },
   "outputs": [],
   "source": [
    "chunk_size=10*1024*1024"
   ]
  },
  {
   "cell_type": "code",
   "execution_count": 37,
   "id": "tfBq5V3PEEyH",
   "metadata": {
    "colab": {
     "base_uri": "https://localhost:8080/"
    },
    "executionInfo": {
     "elapsed": 2992,
     "status": "ok",
     "timestamp": 1712703782491,
     "user": {
      "displayName": "",
      "userId": ""
     },
     "user_tz": 240
    },
    "id": "tfBq5V3PEEyH",
    "outputId": "69221f53-2791-4ebc-a23e-1517d371f003"
   },
   "outputs": [],
   "source": [
    "#start = 0\n",
    "#end = min(start + chunk_size, blob.size)\n",
    "#print(f\"Loading {start} to {end}\")\n",
    "#blob.download_as_string(start=start, end=end)"
   ]
  },
  {
   "cell_type": "code",
   "execution_count": 38,
   "id": "E1VEwYtgDZpS",
   "metadata": {
    "id": "E1VEwYtgDZpS"
   },
   "outputs": [],
   "source": [
    "# Read the blob in chunks\n",
    "\n",
    "#start = 0\n",
    "#while start < blob_size:\n",
    "#    end = min(start + chunk_size, blob_size)\n",
    "#    chunk = blob.download_as_string(start=start, end=end)\n",
    "#    process_czi_chunk(chunk)\n",
    "#    start = end"
   ]
  },
  {
   "cell_type": "code",
   "execution_count": 39,
   "id": "ROS-sqYjDAFd",
   "metadata": {
    "id": "ROS-sqYjDAFd"
   },
   "outputs": [],
   "source": [
    "def process_czi_chunk(chunk):\n",
    "    # Process the chunk as needed\n",
    "    pass\n",
    "\n",
    "def load_czi_from_gcs(bucket_name, blob_name, chunk_size=10*1024*1024):  # Chunk size: 10 MB\n",
    "    storage_client = storage.Client()\n",
    "    bucket = storage_client.bucket(bucket_name)\n",
    "    blob = bucket.blob(blob_name)\n",
    "\n",
    "    # Get the total size of the blob\n",
    "    blob_size = blob.size\n",
    "\n",
    "    # Read the blob in chunks\n",
    "    start = 0\n",
    "    while start < blob_size:\n",
    "        end = min(start + chunk_size, blob_size)\n",
    "        chunk = blob.download_as_string(start=start, end=end)\n",
    "        process_czi_chunk(chunk)\n",
    "        start = end\n",
    "\n",
    "# Example usage:\n",
    "#bucket_name = 'your_bucket_name'\n",
    "#blob_name = 'path/to/your/czi/video/file.czi'\n",
    "#load_czi_from_gcs(bucket_name, blob_name)"
   ]
  },
  {
   "cell_type": "code",
   "execution_count": null,
   "id": "3dGnb2teDDRf",
   "metadata": {
    "id": "3dGnb2teDDRf"
   },
   "outputs": [],
   "source": []
  },
  {
   "cell_type": "code",
   "execution_count": 40,
   "id": "c839a1f2-8682-45c1-af7e-70027afa8c45",
   "metadata": {
    "colab": {
     "base_uri": "https://localhost:8080/",
     "height": 435
    },
    "executionInfo": {
     "elapsed": 949584,
     "status": "error",
     "timestamp": 1712701882122,
     "user": {
      "displayName": "",
      "userId": ""
     },
     "user_tz": 240
    },
    "id": "c839a1f2-8682-45c1-af7e-70027afa8c45",
    "outputId": "e78ff91b-36ad-47cd-d028-746fa14bf887"
   },
   "outputs": [
    {
     "name": "stdout",
     "output_type": "stream",
     "text": [
      "Loading dicty_factin_pip3-06_processed.czi\n"
     ]
    },
    {
     "ename": "KeyboardInterrupt",
     "evalue": "",
     "output_type": "error",
     "traceback": [
      "\u001b[0;31m---------------------------------------------------------------------------\u001b[0m",
      "\u001b[0;31mKeyboardInterrupt\u001b[0m                         Traceback (most recent call last)",
      "Cell \u001b[0;32mIn[40], line 1\u001b[0m\n\u001b[0;32m----> 1\u001b[0m img \u001b[38;5;241m=\u001b[39m \u001b[43mget_image\u001b[49m\u001b[43m(\u001b[49m\u001b[38;5;241;43m5\u001b[39;49m\u001b[43m,\u001b[49m\u001b[43m \u001b[49m\u001b[38;5;241;43m0\u001b[39;49m\u001b[43m,\u001b[49m\u001b[43m \u001b[49m\u001b[38;5;124;43m'\u001b[39;49m\u001b[38;5;124;43mprocessed\u001b[39;49m\u001b[38;5;124;43m'\u001b[39;49m\u001b[43m)\u001b[49m\n\u001b[1;32m      2\u001b[0m \u001b[38;5;66;03m# TODO: Understand each dimension in the shape\u001b[39;00m\n\u001b[1;32m      3\u001b[0m \u001b[38;5;66;03m# shape is Channels x num_slices x H x W.\u001b[39;00m\n\u001b[1;32m      4\u001b[0m \u001b[38;5;66;03m# S is \"Scene\" - different POV or regions\u001b[39;00m\n\u001b[1;32m      5\u001b[0m \u001b[38;5;66;03m# not a video ??\u001b[39;00m\n\u001b[1;32m      6\u001b[0m img\u001b[38;5;241m.\u001b[39mget_dims_shape()\n",
      "Cell \u001b[0;32mIn[34], line 7\u001b[0m, in \u001b[0;36mget_image\u001b[0;34m(vid_index, date, group, blobs)\u001b[0m\n\u001b[1;32m      5\u001b[0m fname \u001b[38;5;241m=\u001b[39m blob\u001b[38;5;241m.\u001b[39mname\u001b[38;5;241m.\u001b[39msplit(\u001b[38;5;124m'\u001b[39m\u001b[38;5;124m/\u001b[39m\u001b[38;5;124m'\u001b[39m)[\u001b[38;5;241m-\u001b[39m\u001b[38;5;241m1\u001b[39m] \u001b[38;5;66;03m# ignore date/fname\u001b[39;00m\n\u001b[1;32m      6\u001b[0m \u001b[38;5;28mprint\u001b[39m(\u001b[38;5;124mf\u001b[39m\u001b[38;5;124m\"\u001b[39m\u001b[38;5;124mLoading \u001b[39m\u001b[38;5;132;01m{\u001b[39;00mfname\u001b[38;5;132;01m}\u001b[39;00m\u001b[38;5;124m\"\u001b[39m)\n\u001b[0;32m----> 7\u001b[0m \u001b[43mblob\u001b[49m\u001b[38;5;241;43m.\u001b[39;49m\u001b[43mdownload_to_filename\u001b[49m\u001b[43m(\u001b[49m\u001b[43mfname\u001b[49m\u001b[43m)\u001b[49m\n\u001b[1;32m      8\u001b[0m \u001b[38;5;28;01mreturn\u001b[39;00m(CziFile(fname))\n",
      "File \u001b[0;32m/opt/conda/envs/cvenv/lib/python3.9/site-packages/google/cloud/storage/blob.py:1312\u001b[0m, in \u001b[0;36mBlob.download_to_filename\u001b[0;34m(self, filename, client, start, end, raw_download, if_etag_match, if_etag_not_match, if_generation_match, if_generation_not_match, if_metageneration_match, if_metageneration_not_match, timeout, checksum, retry)\u001b[0m\n\u001b[1;32m   1204\u001b[0m \u001b[38;5;28;01mdef\u001b[39;00m \u001b[38;5;21mdownload_to_filename\u001b[39m(\n\u001b[1;32m   1205\u001b[0m     \u001b[38;5;28mself\u001b[39m,\n\u001b[1;32m   1206\u001b[0m     filename,\n\u001b[0;32m   (...)\u001b[0m\n\u001b[1;32m   1219\u001b[0m     retry\u001b[38;5;241m=\u001b[39mDEFAULT_RETRY,\n\u001b[1;32m   1220\u001b[0m ):\n\u001b[1;32m   1221\u001b[0m \u001b[38;5;250m    \u001b[39m\u001b[38;5;124;03m\"\"\"Download the contents of this blob into a named file.\u001b[39;00m\n\u001b[1;32m   1222\u001b[0m \n\u001b[1;32m   1223\u001b[0m \u001b[38;5;124;03m    If :attr:`user_project` is set on the bucket, bills the API request\u001b[39;00m\n\u001b[0;32m   (...)\u001b[0m\n\u001b[1;32m   1309\u001b[0m \u001b[38;5;124;03m    :raises: :class:`google.cloud.exceptions.NotFound`\u001b[39;00m\n\u001b[1;32m   1310\u001b[0m \u001b[38;5;124;03m    \"\"\"\u001b[39;00m\n\u001b[0;32m-> 1312\u001b[0m     \u001b[38;5;28;43mself\u001b[39;49m\u001b[38;5;241;43m.\u001b[39;49m\u001b[43m_handle_filename_and_download\u001b[49m\u001b[43m(\u001b[49m\n\u001b[1;32m   1313\u001b[0m \u001b[43m        \u001b[49m\u001b[43mfilename\u001b[49m\u001b[43m,\u001b[49m\n\u001b[1;32m   1314\u001b[0m \u001b[43m        \u001b[49m\u001b[43mclient\u001b[49m\u001b[38;5;241;43m=\u001b[39;49m\u001b[43mclient\u001b[49m\u001b[43m,\u001b[49m\n\u001b[1;32m   1315\u001b[0m \u001b[43m        \u001b[49m\u001b[43mstart\u001b[49m\u001b[38;5;241;43m=\u001b[39;49m\u001b[43mstart\u001b[49m\u001b[43m,\u001b[49m\n\u001b[1;32m   1316\u001b[0m \u001b[43m        \u001b[49m\u001b[43mend\u001b[49m\u001b[38;5;241;43m=\u001b[39;49m\u001b[43mend\u001b[49m\u001b[43m,\u001b[49m\n\u001b[1;32m   1317\u001b[0m \u001b[43m        \u001b[49m\u001b[43mraw_download\u001b[49m\u001b[38;5;241;43m=\u001b[39;49m\u001b[43mraw_download\u001b[49m\u001b[43m,\u001b[49m\n\u001b[1;32m   1318\u001b[0m \u001b[43m        \u001b[49m\u001b[43mif_etag_match\u001b[49m\u001b[38;5;241;43m=\u001b[39;49m\u001b[43mif_etag_match\u001b[49m\u001b[43m,\u001b[49m\n\u001b[1;32m   1319\u001b[0m \u001b[43m        \u001b[49m\u001b[43mif_etag_not_match\u001b[49m\u001b[38;5;241;43m=\u001b[39;49m\u001b[43mif_etag_not_match\u001b[49m\u001b[43m,\u001b[49m\n\u001b[1;32m   1320\u001b[0m \u001b[43m        \u001b[49m\u001b[43mif_generation_match\u001b[49m\u001b[38;5;241;43m=\u001b[39;49m\u001b[43mif_generation_match\u001b[49m\u001b[43m,\u001b[49m\n\u001b[1;32m   1321\u001b[0m \u001b[43m        \u001b[49m\u001b[43mif_generation_not_match\u001b[49m\u001b[38;5;241;43m=\u001b[39;49m\u001b[43mif_generation_not_match\u001b[49m\u001b[43m,\u001b[49m\n\u001b[1;32m   1322\u001b[0m \u001b[43m        \u001b[49m\u001b[43mif_metageneration_match\u001b[49m\u001b[38;5;241;43m=\u001b[39;49m\u001b[43mif_metageneration_match\u001b[49m\u001b[43m,\u001b[49m\n\u001b[1;32m   1323\u001b[0m \u001b[43m        \u001b[49m\u001b[43mif_metageneration_not_match\u001b[49m\u001b[38;5;241;43m=\u001b[39;49m\u001b[43mif_metageneration_not_match\u001b[49m\u001b[43m,\u001b[49m\n\u001b[1;32m   1324\u001b[0m \u001b[43m        \u001b[49m\u001b[43mtimeout\u001b[49m\u001b[38;5;241;43m=\u001b[39;49m\u001b[43mtimeout\u001b[49m\u001b[43m,\u001b[49m\n\u001b[1;32m   1325\u001b[0m \u001b[43m        \u001b[49m\u001b[43mchecksum\u001b[49m\u001b[38;5;241;43m=\u001b[39;49m\u001b[43mchecksum\u001b[49m\u001b[43m,\u001b[49m\n\u001b[1;32m   1326\u001b[0m \u001b[43m        \u001b[49m\u001b[43mretry\u001b[49m\u001b[38;5;241;43m=\u001b[39;49m\u001b[43mretry\u001b[49m\u001b[43m,\u001b[49m\n\u001b[1;32m   1327\u001b[0m \u001b[43m    \u001b[49m\u001b[43m)\u001b[49m\n",
      "File \u001b[0;32m/opt/conda/envs/cvenv/lib/python3.9/site-packages/google/cloud/storage/blob.py:1188\u001b[0m, in \u001b[0;36mBlob._handle_filename_and_download\u001b[0;34m(self, filename, *args, **kwargs)\u001b[0m\n\u001b[1;32m   1186\u001b[0m \u001b[38;5;28;01mtry\u001b[39;00m:\n\u001b[1;32m   1187\u001b[0m     \u001b[38;5;28;01mwith\u001b[39;00m \u001b[38;5;28mopen\u001b[39m(filename, \u001b[38;5;124m\"\u001b[39m\u001b[38;5;124mwb\u001b[39m\u001b[38;5;124m\"\u001b[39m) \u001b[38;5;28;01mas\u001b[39;00m file_obj:\n\u001b[0;32m-> 1188\u001b[0m         \u001b[38;5;28;43mself\u001b[39;49m\u001b[38;5;241;43m.\u001b[39;49m\u001b[43m_prep_and_do_download\u001b[49m\u001b[43m(\u001b[49m\n\u001b[1;32m   1189\u001b[0m \u001b[43m            \u001b[49m\u001b[43mfile_obj\u001b[49m\u001b[43m,\u001b[49m\n\u001b[1;32m   1190\u001b[0m \u001b[43m            \u001b[49m\u001b[38;5;241;43m*\u001b[39;49m\u001b[43margs\u001b[49m\u001b[43m,\u001b[49m\n\u001b[1;32m   1191\u001b[0m \u001b[43m            \u001b[49m\u001b[38;5;241;43m*\u001b[39;49m\u001b[38;5;241;43m*\u001b[39;49m\u001b[43mkwargs\u001b[49m\u001b[43m,\u001b[49m\n\u001b[1;32m   1192\u001b[0m \u001b[43m        \u001b[49m\u001b[43m)\u001b[49m\n\u001b[1;32m   1194\u001b[0m \u001b[38;5;28;01mexcept\u001b[39;00m resumable_media\u001b[38;5;241m.\u001b[39mDataCorruption:\n\u001b[1;32m   1195\u001b[0m     \u001b[38;5;66;03m# Delete the corrupt downloaded file.\u001b[39;00m\n\u001b[1;32m   1196\u001b[0m     os\u001b[38;5;241m.\u001b[39mremove(filename)\n",
      "File \u001b[0;32m/opt/conda/envs/cvenv/lib/python3.9/site-packages/google/cloud/storage/blob.py:4362\u001b[0m, in \u001b[0;36mBlob._prep_and_do_download\u001b[0;34m(self, file_obj, client, start, end, raw_download, if_etag_match, if_etag_not_match, if_generation_match, if_generation_not_match, if_metageneration_match, if_metageneration_not_match, timeout, checksum, retry, command)\u001b[0m\n\u001b[1;32m   4359\u001b[0m transport \u001b[38;5;241m=\u001b[39m client\u001b[38;5;241m.\u001b[39m_http\n\u001b[1;32m   4361\u001b[0m \u001b[38;5;28;01mtry\u001b[39;00m:\n\u001b[0;32m-> 4362\u001b[0m     \u001b[38;5;28;43mself\u001b[39;49m\u001b[38;5;241;43m.\u001b[39;49m\u001b[43m_do_download\u001b[49m\u001b[43m(\u001b[49m\n\u001b[1;32m   4363\u001b[0m \u001b[43m        \u001b[49m\u001b[43mtransport\u001b[49m\u001b[43m,\u001b[49m\n\u001b[1;32m   4364\u001b[0m \u001b[43m        \u001b[49m\u001b[43mfile_obj\u001b[49m\u001b[43m,\u001b[49m\n\u001b[1;32m   4365\u001b[0m \u001b[43m        \u001b[49m\u001b[43mdownload_url\u001b[49m\u001b[43m,\u001b[49m\n\u001b[1;32m   4366\u001b[0m \u001b[43m        \u001b[49m\u001b[43mheaders\u001b[49m\u001b[43m,\u001b[49m\n\u001b[1;32m   4367\u001b[0m \u001b[43m        \u001b[49m\u001b[43mstart\u001b[49m\u001b[43m,\u001b[49m\n\u001b[1;32m   4368\u001b[0m \u001b[43m        \u001b[49m\u001b[43mend\u001b[49m\u001b[43m,\u001b[49m\n\u001b[1;32m   4369\u001b[0m \u001b[43m        \u001b[49m\u001b[43mraw_download\u001b[49m\u001b[43m,\u001b[49m\n\u001b[1;32m   4370\u001b[0m \u001b[43m        \u001b[49m\u001b[43mtimeout\u001b[49m\u001b[38;5;241;43m=\u001b[39;49m\u001b[43mtimeout\u001b[49m\u001b[43m,\u001b[49m\n\u001b[1;32m   4371\u001b[0m \u001b[43m        \u001b[49m\u001b[43mchecksum\u001b[49m\u001b[38;5;241;43m=\u001b[39;49m\u001b[43mchecksum\u001b[49m\u001b[43m,\u001b[49m\n\u001b[1;32m   4372\u001b[0m \u001b[43m        \u001b[49m\u001b[43mretry\u001b[49m\u001b[38;5;241;43m=\u001b[39;49m\u001b[43mretry\u001b[49m\u001b[43m,\u001b[49m\n\u001b[1;32m   4373\u001b[0m \u001b[43m    \u001b[49m\u001b[43m)\u001b[49m\n\u001b[1;32m   4374\u001b[0m \u001b[38;5;28;01mexcept\u001b[39;00m resumable_media\u001b[38;5;241m.\u001b[39mInvalidResponse \u001b[38;5;28;01mas\u001b[39;00m exc:\n\u001b[1;32m   4375\u001b[0m     _raise_from_invalid_response(exc)\n",
      "File \u001b[0;32m/opt/conda/envs/cvenv/lib/python3.9/site-packages/google/cloud/storage/blob.py:1017\u001b[0m, in \u001b[0;36mBlob._do_download\u001b[0;34m(self, transport, file_obj, download_url, headers, start, end, raw_download, timeout, checksum, retry)\u001b[0m\n\u001b[1;32m   1008\u001b[0m     download \u001b[38;5;241m=\u001b[39m klass(\n\u001b[1;32m   1009\u001b[0m         download_url,\n\u001b[1;32m   1010\u001b[0m         stream\u001b[38;5;241m=\u001b[39mfile_obj,\n\u001b[0;32m   (...)\u001b[0m\n\u001b[1;32m   1014\u001b[0m         checksum\u001b[38;5;241m=\u001b[39mchecksum,\n\u001b[1;32m   1015\u001b[0m     )\n\u001b[1;32m   1016\u001b[0m     download\u001b[38;5;241m.\u001b[39m_retry_strategy \u001b[38;5;241m=\u001b[39m retry_strategy\n\u001b[0;32m-> 1017\u001b[0m     response \u001b[38;5;241m=\u001b[39m \u001b[43mdownload\u001b[49m\u001b[38;5;241;43m.\u001b[39;49m\u001b[43mconsume\u001b[49m\u001b[43m(\u001b[49m\u001b[43mtransport\u001b[49m\u001b[43m,\u001b[49m\u001b[43m \u001b[49m\u001b[43mtimeout\u001b[49m\u001b[38;5;241;43m=\u001b[39;49m\u001b[43mtimeout\u001b[49m\u001b[43m)\u001b[49m\n\u001b[1;32m   1018\u001b[0m     \u001b[38;5;28mself\u001b[39m\u001b[38;5;241m.\u001b[39m_extract_headers_from_download(response)\n\u001b[1;32m   1019\u001b[0m \u001b[38;5;28;01melse\u001b[39;00m:\n",
      "File \u001b[0;32m/opt/conda/envs/cvenv/lib/python3.9/site-packages/google/resumable_media/requests/download.py:237\u001b[0m, in \u001b[0;36mDownload.consume\u001b[0;34m(self, transport, timeout)\u001b[0m\n\u001b[1;32m    233\u001b[0m         \u001b[38;5;28mself\u001b[39m\u001b[38;5;241m.\u001b[39m_write_to_stream(result)\n\u001b[1;32m    235\u001b[0m     \u001b[38;5;28;01mreturn\u001b[39;00m result\n\u001b[0;32m--> 237\u001b[0m \u001b[38;5;28;01mreturn\u001b[39;00m \u001b[43m_request_helpers\u001b[49m\u001b[38;5;241;43m.\u001b[39;49m\u001b[43mwait_and_retry\u001b[49m\u001b[43m(\u001b[49m\n\u001b[1;32m    238\u001b[0m \u001b[43m    \u001b[49m\u001b[43mretriable_request\u001b[49m\u001b[43m,\u001b[49m\u001b[43m \u001b[49m\u001b[38;5;28;43mself\u001b[39;49m\u001b[38;5;241;43m.\u001b[39;49m\u001b[43m_get_status_code\u001b[49m\u001b[43m,\u001b[49m\u001b[43m \u001b[49m\u001b[38;5;28;43mself\u001b[39;49m\u001b[38;5;241;43m.\u001b[39;49m\u001b[43m_retry_strategy\u001b[49m\n\u001b[1;32m    239\u001b[0m \u001b[43m\u001b[49m\u001b[43m)\u001b[49m\n",
      "File \u001b[0;32m/opt/conda/envs/cvenv/lib/python3.9/site-packages/google/resumable_media/requests/_request_helpers.py:155\u001b[0m, in \u001b[0;36mwait_and_retry\u001b[0;34m(func, get_status_code, retry_strategy)\u001b[0m\n\u001b[1;32m    153\u001b[0m error \u001b[38;5;241m=\u001b[39m \u001b[38;5;28;01mNone\u001b[39;00m\n\u001b[1;32m    154\u001b[0m \u001b[38;5;28;01mtry\u001b[39;00m:\n\u001b[0;32m--> 155\u001b[0m     response \u001b[38;5;241m=\u001b[39m \u001b[43mfunc\u001b[49m\u001b[43m(\u001b[49m\u001b[43m)\u001b[49m\n\u001b[1;32m    156\u001b[0m \u001b[38;5;28;01mexcept\u001b[39;00m _CONNECTION_ERROR_CLASSES \u001b[38;5;28;01mas\u001b[39;00m e:\n\u001b[1;32m    157\u001b[0m     error \u001b[38;5;241m=\u001b[39m e  \u001b[38;5;66;03m# Fall through to retry, if there are retries left.\u001b[39;00m\n",
      "File \u001b[0;32m/opt/conda/envs/cvenv/lib/python3.9/site-packages/google/resumable_media/requests/download.py:233\u001b[0m, in \u001b[0;36mDownload.consume.<locals>.retriable_request\u001b[0;34m()\u001b[0m\n\u001b[1;32m    230\u001b[0m             \u001b[38;5;28;01mraise\u001b[39;00m \u001b[38;5;167;01mException\u001b[39;00m(msg) \u001b[38;5;28;01mfrom\u001b[39;00m \u001b[38;5;21;01mexc\u001b[39;00m\n\u001b[1;32m    231\u001b[0m         \u001b[38;5;28mself\u001b[39m\u001b[38;5;241m.\u001b[39m_bytes_downloaded \u001b[38;5;241m=\u001b[39m \u001b[38;5;241m0\u001b[39m\n\u001b[0;32m--> 233\u001b[0m     \u001b[38;5;28;43mself\u001b[39;49m\u001b[38;5;241;43m.\u001b[39;49m\u001b[43m_write_to_stream\u001b[49m\u001b[43m(\u001b[49m\u001b[43mresult\u001b[49m\u001b[43m)\u001b[49m\n\u001b[1;32m    235\u001b[0m \u001b[38;5;28;01mreturn\u001b[39;00m result\n",
      "File \u001b[0;32m/opt/conda/envs/cvenv/lib/python3.9/site-packages/google/resumable_media/requests/download.py:123\u001b[0m, in \u001b[0;36mDownload._write_to_stream\u001b[0;34m(self, response)\u001b[0m\n\u001b[1;32m    119\u001b[0m local_checksum_object \u001b[38;5;241m=\u001b[39m _add_decoder(response\u001b[38;5;241m.\u001b[39mraw, checksum_object)\n\u001b[1;32m    120\u001b[0m body_iter \u001b[38;5;241m=\u001b[39m response\u001b[38;5;241m.\u001b[39miter_content(\n\u001b[1;32m    121\u001b[0m     chunk_size\u001b[38;5;241m=\u001b[39m_request_helpers\u001b[38;5;241m.\u001b[39m_SINGLE_GET_CHUNK_SIZE, decode_unicode\u001b[38;5;241m=\u001b[39m\u001b[38;5;28;01mFalse\u001b[39;00m\n\u001b[1;32m    122\u001b[0m )\n\u001b[0;32m--> 123\u001b[0m \u001b[38;5;28;01mfor\u001b[39;00m chunk \u001b[38;5;129;01min\u001b[39;00m body_iter:\n\u001b[1;32m    124\u001b[0m     \u001b[38;5;28mself\u001b[39m\u001b[38;5;241m.\u001b[39m_stream\u001b[38;5;241m.\u001b[39mwrite(chunk)\n\u001b[1;32m    125\u001b[0m     \u001b[38;5;28mself\u001b[39m\u001b[38;5;241m.\u001b[39m_bytes_downloaded \u001b[38;5;241m+\u001b[39m\u001b[38;5;241m=\u001b[39m \u001b[38;5;28mlen\u001b[39m(chunk)\n",
      "File \u001b[0;32m/opt/conda/envs/cvenv/lib/python3.9/site-packages/requests/models.py:816\u001b[0m, in \u001b[0;36mResponse.iter_content.<locals>.generate\u001b[0;34m()\u001b[0m\n\u001b[1;32m    814\u001b[0m \u001b[38;5;28;01mif\u001b[39;00m \u001b[38;5;28mhasattr\u001b[39m(\u001b[38;5;28mself\u001b[39m\u001b[38;5;241m.\u001b[39mraw, \u001b[38;5;124m\"\u001b[39m\u001b[38;5;124mstream\u001b[39m\u001b[38;5;124m\"\u001b[39m):\n\u001b[1;32m    815\u001b[0m     \u001b[38;5;28;01mtry\u001b[39;00m:\n\u001b[0;32m--> 816\u001b[0m         \u001b[38;5;28;01myield from\u001b[39;00m \u001b[38;5;28mself\u001b[39m\u001b[38;5;241m.\u001b[39mraw\u001b[38;5;241m.\u001b[39mstream(chunk_size, decode_content\u001b[38;5;241m=\u001b[39m\u001b[38;5;28;01mTrue\u001b[39;00m)\n\u001b[1;32m    817\u001b[0m     \u001b[38;5;28;01mexcept\u001b[39;00m ProtocolError \u001b[38;5;28;01mas\u001b[39;00m e:\n\u001b[1;32m    818\u001b[0m         \u001b[38;5;28;01mraise\u001b[39;00m ChunkedEncodingError(e)\n",
      "File \u001b[0;32m/opt/conda/envs/cvenv/lib/python3.9/site-packages/urllib3/response.py:1043\u001b[0m, in \u001b[0;36mHTTPResponse.stream\u001b[0;34m(self, amt, decode_content)\u001b[0m\n\u001b[1;32m   1041\u001b[0m \u001b[38;5;28;01melse\u001b[39;00m:\n\u001b[1;32m   1042\u001b[0m     \u001b[38;5;28;01mwhile\u001b[39;00m \u001b[38;5;129;01mnot\u001b[39;00m is_fp_closed(\u001b[38;5;28mself\u001b[39m\u001b[38;5;241m.\u001b[39m_fp) \u001b[38;5;129;01mor\u001b[39;00m \u001b[38;5;28mlen\u001b[39m(\u001b[38;5;28mself\u001b[39m\u001b[38;5;241m.\u001b[39m_decoded_buffer) \u001b[38;5;241m>\u001b[39m \u001b[38;5;241m0\u001b[39m:\n\u001b[0;32m-> 1043\u001b[0m         data \u001b[38;5;241m=\u001b[39m \u001b[38;5;28;43mself\u001b[39;49m\u001b[38;5;241;43m.\u001b[39;49m\u001b[43mread\u001b[49m\u001b[43m(\u001b[49m\u001b[43mamt\u001b[49m\u001b[38;5;241;43m=\u001b[39;49m\u001b[43mamt\u001b[49m\u001b[43m,\u001b[49m\u001b[43m \u001b[49m\u001b[43mdecode_content\u001b[49m\u001b[38;5;241;43m=\u001b[39;49m\u001b[43mdecode_content\u001b[49m\u001b[43m)\u001b[49m\n\u001b[1;32m   1045\u001b[0m         \u001b[38;5;28;01mif\u001b[39;00m data:\n\u001b[1;32m   1046\u001b[0m             \u001b[38;5;28;01myield\u001b[39;00m data\n",
      "File \u001b[0;32m/opt/conda/envs/cvenv/lib/python3.9/site-packages/urllib3/response.py:935\u001b[0m, in \u001b[0;36mHTTPResponse.read\u001b[0;34m(self, amt, decode_content, cache_content)\u001b[0m\n\u001b[1;32m    932\u001b[0m     \u001b[38;5;28;01mif\u001b[39;00m \u001b[38;5;28mlen\u001b[39m(\u001b[38;5;28mself\u001b[39m\u001b[38;5;241m.\u001b[39m_decoded_buffer) \u001b[38;5;241m>\u001b[39m\u001b[38;5;241m=\u001b[39m amt:\n\u001b[1;32m    933\u001b[0m         \u001b[38;5;28;01mreturn\u001b[39;00m \u001b[38;5;28mself\u001b[39m\u001b[38;5;241m.\u001b[39m_decoded_buffer\u001b[38;5;241m.\u001b[39mget(amt)\n\u001b[0;32m--> 935\u001b[0m data \u001b[38;5;241m=\u001b[39m \u001b[38;5;28;43mself\u001b[39;49m\u001b[38;5;241;43m.\u001b[39;49m\u001b[43m_raw_read\u001b[49m\u001b[43m(\u001b[49m\u001b[43mamt\u001b[49m\u001b[43m)\u001b[49m\n\u001b[1;32m    937\u001b[0m flush_decoder \u001b[38;5;241m=\u001b[39m amt \u001b[38;5;129;01mis\u001b[39;00m \u001b[38;5;28;01mNone\u001b[39;00m \u001b[38;5;129;01mor\u001b[39;00m (amt \u001b[38;5;241m!=\u001b[39m \u001b[38;5;241m0\u001b[39m \u001b[38;5;129;01mand\u001b[39;00m \u001b[38;5;129;01mnot\u001b[39;00m data)\n\u001b[1;32m    939\u001b[0m \u001b[38;5;28;01mif\u001b[39;00m \u001b[38;5;129;01mnot\u001b[39;00m data \u001b[38;5;129;01mand\u001b[39;00m \u001b[38;5;28mlen\u001b[39m(\u001b[38;5;28mself\u001b[39m\u001b[38;5;241m.\u001b[39m_decoded_buffer) \u001b[38;5;241m==\u001b[39m \u001b[38;5;241m0\u001b[39m:\n",
      "File \u001b[0;32m/opt/conda/envs/cvenv/lib/python3.9/site-packages/urllib3/response.py:862\u001b[0m, in \u001b[0;36mHTTPResponse._raw_read\u001b[0;34m(self, amt, read1)\u001b[0m\n\u001b[1;32m    859\u001b[0m fp_closed \u001b[38;5;241m=\u001b[39m \u001b[38;5;28mgetattr\u001b[39m(\u001b[38;5;28mself\u001b[39m\u001b[38;5;241m.\u001b[39m_fp, \u001b[38;5;124m\"\u001b[39m\u001b[38;5;124mclosed\u001b[39m\u001b[38;5;124m\"\u001b[39m, \u001b[38;5;28;01mFalse\u001b[39;00m)\n\u001b[1;32m    861\u001b[0m \u001b[38;5;28;01mwith\u001b[39;00m \u001b[38;5;28mself\u001b[39m\u001b[38;5;241m.\u001b[39m_error_catcher():\n\u001b[0;32m--> 862\u001b[0m     data \u001b[38;5;241m=\u001b[39m \u001b[38;5;28;43mself\u001b[39;49m\u001b[38;5;241;43m.\u001b[39;49m\u001b[43m_fp_read\u001b[49m\u001b[43m(\u001b[49m\u001b[43mamt\u001b[49m\u001b[43m,\u001b[49m\u001b[43m \u001b[49m\u001b[43mread1\u001b[49m\u001b[38;5;241;43m=\u001b[39;49m\u001b[43mread1\u001b[49m\u001b[43m)\u001b[49m \u001b[38;5;28;01mif\u001b[39;00m \u001b[38;5;129;01mnot\u001b[39;00m fp_closed \u001b[38;5;28;01melse\u001b[39;00m \u001b[38;5;124mb\u001b[39m\u001b[38;5;124m\"\u001b[39m\u001b[38;5;124m\"\u001b[39m\n\u001b[1;32m    863\u001b[0m     \u001b[38;5;28;01mif\u001b[39;00m amt \u001b[38;5;129;01mis\u001b[39;00m \u001b[38;5;129;01mnot\u001b[39;00m \u001b[38;5;28;01mNone\u001b[39;00m \u001b[38;5;129;01mand\u001b[39;00m amt \u001b[38;5;241m!=\u001b[39m \u001b[38;5;241m0\u001b[39m \u001b[38;5;129;01mand\u001b[39;00m \u001b[38;5;129;01mnot\u001b[39;00m data:\n\u001b[1;32m    864\u001b[0m         \u001b[38;5;66;03m# Platform-specific: Buggy versions of Python.\u001b[39;00m\n\u001b[1;32m    865\u001b[0m         \u001b[38;5;66;03m# Close the connection when no data is returned\u001b[39;00m\n\u001b[0;32m   (...)\u001b[0m\n\u001b[1;32m    870\u001b[0m         \u001b[38;5;66;03m# not properly close the connection in all cases. There is\u001b[39;00m\n\u001b[1;32m    871\u001b[0m         \u001b[38;5;66;03m# no harm in redundantly calling close.\u001b[39;00m\n\u001b[1;32m    872\u001b[0m         \u001b[38;5;28mself\u001b[39m\u001b[38;5;241m.\u001b[39m_fp\u001b[38;5;241m.\u001b[39mclose()\n",
      "File \u001b[0;32m/opt/conda/envs/cvenv/lib/python3.9/site-packages/urllib3/response.py:845\u001b[0m, in \u001b[0;36mHTTPResponse._fp_read\u001b[0;34m(self, amt, read1)\u001b[0m\n\u001b[1;32m    842\u001b[0m     \u001b[38;5;28;01mreturn\u001b[39;00m \u001b[38;5;28mself\u001b[39m\u001b[38;5;241m.\u001b[39m_fp\u001b[38;5;241m.\u001b[39mread1(amt) \u001b[38;5;28;01mif\u001b[39;00m amt \u001b[38;5;129;01mis\u001b[39;00m \u001b[38;5;129;01mnot\u001b[39;00m \u001b[38;5;28;01mNone\u001b[39;00m \u001b[38;5;28;01melse\u001b[39;00m \u001b[38;5;28mself\u001b[39m\u001b[38;5;241m.\u001b[39m_fp\u001b[38;5;241m.\u001b[39mread1()\n\u001b[1;32m    843\u001b[0m \u001b[38;5;28;01melse\u001b[39;00m:\n\u001b[1;32m    844\u001b[0m     \u001b[38;5;66;03m# StringIO doesn't like amt=None\u001b[39;00m\n\u001b[0;32m--> 845\u001b[0m     \u001b[38;5;28;01mreturn\u001b[39;00m \u001b[38;5;28;43mself\u001b[39;49m\u001b[38;5;241;43m.\u001b[39;49m\u001b[43m_fp\u001b[49m\u001b[38;5;241;43m.\u001b[39;49m\u001b[43mread\u001b[49m\u001b[43m(\u001b[49m\u001b[43mamt\u001b[49m\u001b[43m)\u001b[49m \u001b[38;5;28;01mif\u001b[39;00m amt \u001b[38;5;129;01mis\u001b[39;00m \u001b[38;5;129;01mnot\u001b[39;00m \u001b[38;5;28;01mNone\u001b[39;00m \u001b[38;5;28;01melse\u001b[39;00m \u001b[38;5;28mself\u001b[39m\u001b[38;5;241m.\u001b[39m_fp\u001b[38;5;241m.\u001b[39mread()\n",
      "File \u001b[0;32m/opt/conda/envs/cvenv/lib/python3.9/http/client.py:464\u001b[0m, in \u001b[0;36mHTTPResponse.read\u001b[0;34m(self, amt)\u001b[0m\n\u001b[1;32m    462\u001b[0m     b \u001b[38;5;241m=\u001b[39m \u001b[38;5;28mbytearray\u001b[39m(amt)\n\u001b[1;32m    463\u001b[0m     n \u001b[38;5;241m=\u001b[39m \u001b[38;5;28mself\u001b[39m\u001b[38;5;241m.\u001b[39mreadinto(b)\n\u001b[0;32m--> 464\u001b[0m     \u001b[38;5;28;01mreturn\u001b[39;00m \u001b[38;5;28;43mmemoryview\u001b[39;49m\u001b[43m(\u001b[49m\u001b[43mb\u001b[49m\u001b[43m)\u001b[49m\u001b[43m[\u001b[49m\u001b[43m:\u001b[49m\u001b[43mn\u001b[49m\u001b[43m]\u001b[49m\u001b[38;5;241;43m.\u001b[39;49m\u001b[43mtobytes\u001b[49m\u001b[43m(\u001b[49m\u001b[43m)\u001b[49m\n\u001b[1;32m    465\u001b[0m \u001b[38;5;28;01melse\u001b[39;00m:\n\u001b[1;32m    466\u001b[0m     \u001b[38;5;66;03m# Amount is not given (unbounded read) so we must check self.length\u001b[39;00m\n\u001b[1;32m    467\u001b[0m     \u001b[38;5;66;03m# and self.chunked\u001b[39;00m\n\u001b[1;32m    469\u001b[0m     \u001b[38;5;28;01mif\u001b[39;00m \u001b[38;5;28mself\u001b[39m\u001b[38;5;241m.\u001b[39mchunked:\n",
      "\u001b[0;31mKeyboardInterrupt\u001b[0m: "
     ]
    }
   ],
   "source": [
    "img = get_image(5, 0, 'processed')\n",
    "# TODO: Understand each dimension in the shape\n",
    "# shape is Channels x num_slices x H x W.\n",
    "# S is \"Scene\" - different POV or regions\n",
    "# not a video ??\n",
    "img.get_dims_shape()"
   ]
  },
  {
   "cell_type": "code",
   "execution_count": null,
   "id": "SDTNW8otyS6D",
   "metadata": {
    "colab": {
     "base_uri": "https://localhost:8080/"
    },
    "executionInfo": {
     "elapsed": 173,
     "status": "ok",
     "timestamp": 1712699215027,
     "user": {
      "displayName": "",
      "userId": ""
     },
     "user_tz": 240
    },
    "id": "SDTNW8otyS6D",
    "outputId": "152fa139-555d-486a-8668-4249e3212025"
   },
   "outputs": [],
   "source": [
    "!ls"
   ]
  },
  {
   "cell_type": "markdown",
   "id": "7b5b5393-5761-459a-9925-07f03aa0afa1",
   "metadata": {},
   "source": [
    "## EDA for Czi Video\n",
    "\n",
    "Using [aicspylibczi](https://allencellmodeling.github.io/aicspylibczi/)"
   ]
  },
  {
   "cell_type": "code",
<<<<<<< HEAD
   "execution_count": 41,
   "id": "b720ff06-5618-4537-b3b6-44d64dd2b4f8",
   "metadata": {
    "scrolled": true
   },
   "outputs": [
    {
     "data": {
      "text/plain": [
       "['ffmpeg',\n",
       " '3D_OF_LK_threaded.ipynb',\n",
       " 'setup_paths.sh',\n",
       " 'Bounding_Boxes.ipynb',\n",
       " 'README.md',\n",
       " '3DCT_Examples',\n",
       " 'Bounding_Boxes(1).ipynb',\n",
       " '.gitignore',\n",
       " 'Setting Up GCP VM-1.pdf',\n",
       " 'torch_datasets',\n",
       " 'VideoProcessing.ipynb',\n",
       " 'dicty_factin_pip3-06_processed.czi',\n",
       " '.git',\n",
       " '3D_smoothing_threaded.ipynb',\n",
       " 'Setting Up GCP VM.pdf',\n",
       " '3DeeCellTracker (3DCT)',\n",
       " 'jlosertutils',\n",
       " 'requirements.txt',\n",
       " 'download_to_disk.py',\n",
       " 'CziDataset.py']"
      ]
     },
     "execution_count": 41,
     "metadata": {},
     "output_type": "execute_result"
    }
   ],
=======
   "execution_count": 3,
   "id": "938e5cad-4b29-47e5-9ea3-bcb60d2d8034",
   "metadata": {},
   "outputs": [],
>>>>>>> 1501affbfded41625c4ff7aa8400c01ec380af86
   "source": [
    "fname = \"../dicty_factin_pip3-06_processed.czi\""
   ]
  },
  {
   "cell_type": "code",
<<<<<<< HEAD
   "execution_count": 46,
   "id": "938e5cad-4b29-47e5-9ea3-bcb60d2d8034",
   "metadata": {},
   "outputs": [],
   "source": [
    "fname = \"/home/ssa2206/dicty_factin_pip3-06_processed.czi\""
=======
   "execution_count": 4,
   "id": "57ab36b4-c81b-426f-b284-19a016e535fa",
   "metadata": {},
   "outputs": [],
   "source": [
    "video = CziFile(fname)"
>>>>>>> 1501affbfded41625c4ff7aa8400c01ec380af86
   ]
  },
  {
   "cell_type": "code",
<<<<<<< HEAD
   "execution_count": 47,
   "id": "57ab36b4-c81b-426f-b284-19a016e535fa",
=======
   "execution_count": 5,
   "id": "6b8df050-06cd-451c-838e-c7b5a6d7ea51",
>>>>>>> 1501affbfded41625c4ff7aa8400c01ec380af86
   "metadata": {},
   "outputs": [],
   "source": [
    "masks = np.load(\"pip3-06_processed_frame_masks_z50.npy\")"
   ]
  },
  {
   "cell_type": "code",
<<<<<<< HEAD
   "execution_count": 48,
   "id": "361f2a68-bf76-4e6c-812a-a33937213281",
=======
   "execution_count": 6,
   "id": "c2242e6a-bef6-44ca-90a7-26a12c1507f1",
>>>>>>> 1501affbfded41625c4ff7aa8400c01ec380af86
   "metadata": {},
   "outputs": [
    {
     "data": {
      "text/plain": [
       "[20, 20, 18, 19, 21, 20]"
      ]
     },
<<<<<<< HEAD
     "execution_count": 48,
=======
     "execution_count": 6,
>>>>>>> 1501affbfded41625c4ff7aa8400c01ec380af86
     "metadata": {},
     "output_type": "execute_result"
    }
   ],
   "source": [
<<<<<<< HEAD
    "video.get_dims_shape()[0]\n",
    "#X and Y are coords\n",
    "#Z is the Z Slice\n",
    "#C is channels\n",
    "#T is time\n",
    "#S is the \"scenes\"/angles but there's only one "
=======
    "num_cells_per_frame = []\n",
    "for mask in masks:\n",
    "    num_cells_per_frame.append(len(np.unique(mask)))\n",
    "\n",
    "num_cells_per_frame[:6]"
>>>>>>> 1501affbfded41625c4ff7aa8400c01ec380af86
   ]
  },
  {
   "cell_type": "code",
<<<<<<< HEAD
   "execution_count": 49,
   "id": "080f2faa-7df4-423c-9f4a-bc5aa0fb28d2",
=======
   "execution_count": 7,
   "id": "68e673e6-c1ed-4f5f-ac3c-9bf2564a0d10",
>>>>>>> 1501affbfded41625c4ff7aa8400c01ec380af86
   "metadata": {},
   "outputs": [
    {
     "data": {
      "text/plain": [
       "aicspylibczi.CziFile.CziFile"
      ]
     },
     "execution_count": 49,
     "metadata": {},
     "output_type": "execute_result"
    }
   ],
   "source": [
    "type(video)"
   ]
  },
  {
   "cell_type": "code",
<<<<<<< HEAD
   "execution_count": 50,
   "id": "c8a079ad-0ea4-42e0-96fc-7813c6f9e338",
   "metadata": {},
   "outputs": [],
   "source": [
    "z50, shp = video.read_image(S=0, Z=50, C=0) "
=======
   "execution_count": 8,
   "id": "ff5d1db9-c4b2-48d4-9848-5b0f90a79966",
   "metadata": {},
   "outputs": [],
   "source": [
    "def get_image(timestep=-1, z_plane=50, czi=video, channel=0):\n",
    "    dims = video.get_dims_shape()[0]\n",
    "    \n",
    "    timestep = timestep % dims['T'][-1]\n",
    "    z_plane = z_plane % dims['Z'][-1]\n",
    "    img, shp = video.read_image(S=0, Z=z_plane, T=timestep, C=channel)\n",
    "    #print(shp)\n",
    "    return(img.squeeze()) # returns (channels, Y, X)"
>>>>>>> 1501affbfded41625c4ff7aa8400c01ec380af86
   ]
  },
  {
   "cell_type": "code",
<<<<<<< HEAD
   "execution_count": null,
   "id": "36a2d7e5-3e01-4030-a4b2-d95d77465b30",
=======
   "execution_count": 9,
   "id": "9a9da5de-3435-4f71-970c-127d38396c6e",
   "metadata": {},
   "outputs": [],
   "source": [
    "def scale(img):\n",
    "        lower_bound = np.percentile(img, 1)\n",
    "        upper_bound = np.percentile(img, 99.9)\n",
    "        I = (img - lower_bound) / (upper_bound - lower_bound)\n",
    "        I = np.clip(I, 0, 1)\n",
    "        return(I)"
   ]
  },
  {
   "cell_type": "markdown",
   "id": "a6bc1cbb-586c-4737-b429-37bc019ef8a5",
   "metadata": {},
   "source": [
    "## Working with Z=50"
   ]
  },
  {
   "cell_type": "code",
   "execution_count": 10,
   "id": "7f13d9d7-bb16-4d4d-969f-f7a4cbf3ceb7",
>>>>>>> 1501affbfded41625c4ff7aa8400c01ec380af86
   "metadata": {},
   "outputs": [
    {
     "data": {
      "text/plain": [
       "[('S', 1), ('T', 241), ('C', 1), ('Z', 1), ('Y', 2048), ('X', 475)]"
      ]
     },
     "execution_count": 10,
     "metadata": {},
     "output_type": "execute_result"
    }
   ],
   "source": [
    "frames, shp = video.read_image(S=0, Z=50, C=0)\n",
    "frames = scale(frames.squeeze())\n",
    "shp"
   ]
  },
  {
   "cell_type": "code",
<<<<<<< HEAD
   "execution_count": null,
   "id": "4b34ad23-43ac-4a4b-9f72-9d05304c00c1",
   "metadata": {},
   "outputs": [],
   "source": [
    "def get_image(timestep=-1, z_plane=50, czi=video, channel=0):\n",
    "    dims = video.get_dims_shape()[0]\n",
    "    \n",
    "    timestep = timestep % dims['T'][-1]\n",
    "    z_plane = z_plane % dims['Z'][-1]\n",
    "    img, shp = video.read_image(S=0, Z=z_plane, T=timestep, C=channel)\n",
    "    #print(shp)\n",
    "    return(img.squeeze()) # returns (channels, Y, X)"
   ]
  },
  {
   "cell_type": "code",
   "execution_count": null,
   "id": "c5d70c2a-2d2c-4536-8fd6-4698ce6c6795",
=======
   "execution_count": 11,
   "id": "82681011-40f1-44ce-9fa6-c4a01eb83e17",
>>>>>>> 1501affbfded41625c4ff7aa8400c01ec380af86
   "metadata": {},
   "outputs": [
    {
     "data": {
      "text/plain": [
       "(241, 2048, 475)"
      ]
     },
     "execution_count": 11,
     "metadata": {},
     "output_type": "execute_result"
    }
   ],
   "source": [
    "frames.shape"
   ]
  },
  {
   "cell_type": "code",
   "execution_count": 12,
   "id": "9f27e9aa-fecb-443b-8351-dd6e04bf008b",
   "metadata": {},
   "outputs": [],
   "source": [
    "def get_bounding_box(mask, cellID, padding=3):\n",
    "    binary_array = (mask == cellID)\n",
    "    # Convert binary array to binary image\n",
    "    binary_image = np.uint8(binary_array * 255)\n",
    "    \n",
    "    # Find contours\n",
    "    contours, _ = cv2.findContours(binary_image, cv2.RETR_EXTERNAL, cv2.CHAIN_APPROX_SIMPLE)\n",
    "    if(len(contours) == 0):\n",
    "        print(\"Contour not found\")\n",
    "        return(-1)\n",
    "    # Get the bounding rectangle\n",
    "    x, y, w, h = cv2.boundingRect(contours[0])\n",
    "    \n",
    "    # Apply padding\n",
    "    x -= padding\n",
    "    y -= padding\n",
    "    w += 2 * padding\n",
    "    h += 2 * padding\n",
    "\n",
    "    # XZ\n",
    "\n",
    "    return(x, y, w, h)\n",
    "    \n",
    "    # Draw bounding box\n",
    "    #bounding_box_image = cv2.rectangle(np.zeros_like(mask), (x, y), (x + w, y + h), cellID, thickness)\n",
    "    #return bounding_box_image, (x, y, w, h)"
   ]
  },
  {
   "cell_type": "code",
<<<<<<< HEAD
   "execution_count": null,
   "id": "c4c079fc-263c-4970-a53e-710ade932337",
=======
   "execution_count": 14,
   "id": "5c5b5566-5cc6-4d8c-9453-9f9d2c80c6f3",
>>>>>>> 1501affbfded41625c4ff7aa8400c01ec380af86
   "metadata": {},
   "outputs": [
    {
     "data": {
<<<<<<< HEAD
      "application/javascript": "/* Put everything inside the global mpl namespace */\n/* global mpl */\nwindow.mpl = {};\n\nmpl.get_websocket_type = function () {\n    if (typeof WebSocket !== 'undefined') {\n        return WebSocket;\n    } else if (typeof MozWebSocket !== 'undefined') {\n        return MozWebSocket;\n    } else {\n        alert(\n            'Your browser does not have WebSocket support. ' +\n                'Please try Chrome, Safari or Firefox ≥ 6. ' +\n                'Firefox 4 and 5 are also supported but you ' +\n                'have to enable WebSockets in about:config.'\n        );\n    }\n};\n\nmpl.figure = function (figure_id, websocket, ondownload, parent_element) {\n    this.id = figure_id;\n\n    this.ws = websocket;\n\n    this.supports_binary = this.ws.binaryType !== undefined;\n\n    if (!this.supports_binary) {\n        var warnings = document.getElementById('mpl-warnings');\n        if (warnings) {\n            warnings.style.display = 'block';\n            warnings.textContent =\n                'This browser does not support binary websocket messages. ' +\n                'Performance may be slow.';\n        }\n    }\n\n    this.imageObj = new Image();\n\n    this.context = undefined;\n    this.message = undefined;\n    this.canvas = undefined;\n    this.rubberband_canvas = undefined;\n    this.rubberband_context = undefined;\n    this.format_dropdown = undefined;\n\n    this.image_mode = 'full';\n\n    this.root = document.createElement('div');\n    this.root.setAttribute('style', 'display: inline-block');\n    this._root_extra_style(this.root);\n\n    parent_element.appendChild(this.root);\n\n    this._init_header(this);\n    this._init_canvas(this);\n    this._init_toolbar(this);\n\n    var fig = this;\n\n    this.waiting = false;\n\n    this.ws.onopen = function () {\n        fig.send_message('supports_binary', { value: fig.supports_binary });\n        fig.send_message('send_image_mode', {});\n        if (fig.ratio !== 1) {\n            fig.send_message('set_device_pixel_ratio', {\n                device_pixel_ratio: fig.ratio,\n            });\n        }\n        fig.send_message('refresh', {});\n    };\n\n    this.imageObj.onload = function () {\n        if (fig.image_mode === 'full') {\n            // Full images could contain transparency (where diff images\n            // almost always do), so we need to clear the canvas so that\n            // there is no ghosting.\n            fig.context.clearRect(0, 0, fig.canvas.width, fig.canvas.height);\n        }\n        fig.context.drawImage(fig.imageObj, 0, 0);\n    };\n\n    this.imageObj.onunload = function () {\n        fig.ws.close();\n    };\n\n    this.ws.onmessage = this._make_on_message_function(this);\n\n    this.ondownload = ondownload;\n};\n\nmpl.figure.prototype._init_header = function () {\n    var titlebar = document.createElement('div');\n    titlebar.classList =\n        'ui-dialog-titlebar ui-widget-header ui-corner-all ui-helper-clearfix';\n    var titletext = document.createElement('div');\n    titletext.classList = 'ui-dialog-title';\n    titletext.setAttribute(\n        'style',\n        'width: 100%; text-align: center; padding: 3px;'\n    );\n    titlebar.appendChild(titletext);\n    this.root.appendChild(titlebar);\n    this.header = titletext;\n};\n\nmpl.figure.prototype._canvas_extra_style = function (_canvas_div) {};\n\nmpl.figure.prototype._root_extra_style = function (_canvas_div) {};\n\nmpl.figure.prototype._init_canvas = function () {\n    var fig = this;\n\n    var canvas_div = (this.canvas_div = document.createElement('div'));\n    canvas_div.setAttribute('tabindex', '0');\n    canvas_div.setAttribute(\n        'style',\n        'border: 1px solid #ddd;' +\n            'box-sizing: content-box;' +\n            'clear: both;' +\n            'min-height: 1px;' +\n            'min-width: 1px;' +\n            'outline: 0;' +\n            'overflow: hidden;' +\n            'position: relative;' +\n            'resize: both;' +\n            'z-index: 2;'\n    );\n\n    function on_keyboard_event_closure(name) {\n        return function (event) {\n            return fig.key_event(event, name);\n        };\n    }\n\n    canvas_div.addEventListener(\n        'keydown',\n        on_keyboard_event_closure('key_press')\n    );\n    canvas_div.addEventListener(\n        'keyup',\n        on_keyboard_event_closure('key_release')\n    );\n\n    this._canvas_extra_style(canvas_div);\n    this.root.appendChild(canvas_div);\n\n    var canvas = (this.canvas = document.createElement('canvas'));\n    canvas.classList.add('mpl-canvas');\n    canvas.setAttribute(\n        'style',\n        'box-sizing: content-box;' +\n            'pointer-events: none;' +\n            'position: relative;' +\n            'z-index: 0;'\n    );\n\n    this.context = canvas.getContext('2d');\n\n    var backingStore =\n        this.context.backingStorePixelRatio ||\n        this.context.webkitBackingStorePixelRatio ||\n        this.context.mozBackingStorePixelRatio ||\n        this.context.msBackingStorePixelRatio ||\n        this.context.oBackingStorePixelRatio ||\n        this.context.backingStorePixelRatio ||\n        1;\n\n    this.ratio = (window.devicePixelRatio || 1) / backingStore;\n\n    var rubberband_canvas = (this.rubberband_canvas = document.createElement(\n        'canvas'\n    ));\n    rubberband_canvas.setAttribute(\n        'style',\n        'box-sizing: content-box;' +\n            'left: 0;' +\n            'pointer-events: none;' +\n            'position: absolute;' +\n            'top: 0;' +\n            'z-index: 1;'\n    );\n\n    // Apply a ponyfill if ResizeObserver is not implemented by browser.\n    if (this.ResizeObserver === undefined) {\n        if (window.ResizeObserver !== undefined) {\n            this.ResizeObserver = window.ResizeObserver;\n        } else {\n            var obs = _JSXTOOLS_RESIZE_OBSERVER({});\n            this.ResizeObserver = obs.ResizeObserver;\n        }\n    }\n\n    this.resizeObserverInstance = new this.ResizeObserver(function (entries) {\n        var nentries = entries.length;\n        for (var i = 0; i < nentries; i++) {\n            var entry = entries[i];\n            var width, height;\n            if (entry.contentBoxSize) {\n                if (entry.contentBoxSize instanceof Array) {\n                    // Chrome 84 implements new version of spec.\n                    width = entry.contentBoxSize[0].inlineSize;\n                    height = entry.contentBoxSize[0].blockSize;\n                } else {\n                    // Firefox implements old version of spec.\n                    width = entry.contentBoxSize.inlineSize;\n                    height = entry.contentBoxSize.blockSize;\n                }\n            } else {\n                // Chrome <84 implements even older version of spec.\n                width = entry.contentRect.width;\n                height = entry.contentRect.height;\n            }\n\n            // Keep the size of the canvas and rubber band canvas in sync with\n            // the canvas container.\n            if (entry.devicePixelContentBoxSize) {\n                // Chrome 84 implements new version of spec.\n                canvas.setAttribute(\n                    'width',\n                    entry.devicePixelContentBoxSize[0].inlineSize\n                );\n                canvas.setAttribute(\n                    'height',\n                    entry.devicePixelContentBoxSize[0].blockSize\n                );\n            } else {\n                canvas.setAttribute('width', width * fig.ratio);\n                canvas.setAttribute('height', height * fig.ratio);\n            }\n            /* This rescales the canvas back to display pixels, so that it\n             * appears correct on HiDPI screens. */\n            canvas.style.width = width + 'px';\n            canvas.style.height = height + 'px';\n\n            rubberband_canvas.setAttribute('width', width);\n            rubberband_canvas.setAttribute('height', height);\n\n            // And update the size in Python. We ignore the initial 0/0 size\n            // that occurs as the element is placed into the DOM, which should\n            // otherwise not happen due to the minimum size styling.\n            if (fig.ws.readyState == 1 && width != 0 && height != 0) {\n                fig.request_resize(width, height);\n            }\n        }\n    });\n    this.resizeObserverInstance.observe(canvas_div);\n\n    function on_mouse_event_closure(name) {\n        /* User Agent sniffing is bad, but WebKit is busted:\n         * https://bugs.webkit.org/show_bug.cgi?id=144526\n         * https://bugs.webkit.org/show_bug.cgi?id=181818\n         * The worst that happens here is that they get an extra browser\n         * selection when dragging, if this check fails to catch them.\n         */\n        var UA = navigator.userAgent;\n        var isWebKit = /AppleWebKit/.test(UA) && !/Chrome/.test(UA);\n        if(isWebKit) {\n            return function (event) {\n                /* This prevents the web browser from automatically changing to\n                 * the text insertion cursor when the button is pressed. We\n                 * want to control all of the cursor setting manually through\n                 * the 'cursor' event from matplotlib */\n                event.preventDefault()\n                return fig.mouse_event(event, name);\n            };\n        } else {\n            return function (event) {\n                return fig.mouse_event(event, name);\n            };\n        }\n    }\n\n    canvas_div.addEventListener(\n        'mousedown',\n        on_mouse_event_closure('button_press')\n    );\n    canvas_div.addEventListener(\n        'mouseup',\n        on_mouse_event_closure('button_release')\n    );\n    canvas_div.addEventListener(\n        'dblclick',\n        on_mouse_event_closure('dblclick')\n    );\n    // Throttle sequential mouse events to 1 every 20ms.\n    canvas_div.addEventListener(\n        'mousemove',\n        on_mouse_event_closure('motion_notify')\n    );\n\n    canvas_div.addEventListener(\n        'mouseenter',\n        on_mouse_event_closure('figure_enter')\n    );\n    canvas_div.addEventListener(\n        'mouseleave',\n        on_mouse_event_closure('figure_leave')\n    );\n\n    canvas_div.addEventListener('wheel', function (event) {\n        if (event.deltaY < 0) {\n            event.step = 1;\n        } else {\n            event.step = -1;\n        }\n        on_mouse_event_closure('scroll')(event);\n    });\n\n    canvas_div.appendChild(canvas);\n    canvas_div.appendChild(rubberband_canvas);\n\n    this.rubberband_context = rubberband_canvas.getContext('2d');\n    this.rubberband_context.strokeStyle = '#000000';\n\n    this._resize_canvas = function (width, height, forward) {\n        if (forward) {\n            canvas_div.style.width = width + 'px';\n            canvas_div.style.height = height + 'px';\n        }\n    };\n\n    // Disable right mouse context menu.\n    canvas_div.addEventListener('contextmenu', function (_e) {\n        event.preventDefault();\n        return false;\n    });\n\n    function set_focus() {\n        canvas.focus();\n        canvas_div.focus();\n    }\n\n    window.setTimeout(set_focus, 100);\n};\n\nmpl.figure.prototype._init_toolbar = function () {\n    var fig = this;\n\n    var toolbar = document.createElement('div');\n    toolbar.classList = 'mpl-toolbar';\n    this.root.appendChild(toolbar);\n\n    function on_click_closure(name) {\n        return function (_event) {\n            return fig.toolbar_button_onclick(name);\n        };\n    }\n\n    function on_mouseover_closure(tooltip) {\n        return function (event) {\n            if (!event.currentTarget.disabled) {\n                return fig.toolbar_button_onmouseover(tooltip);\n            }\n        };\n    }\n\n    fig.buttons = {};\n    var buttonGroup = document.createElement('div');\n    buttonGroup.classList = 'mpl-button-group';\n    for (var toolbar_ind in mpl.toolbar_items) {\n        var name = mpl.toolbar_items[toolbar_ind][0];\n        var tooltip = mpl.toolbar_items[toolbar_ind][1];\n        var image = mpl.toolbar_items[toolbar_ind][2];\n        var method_name = mpl.toolbar_items[toolbar_ind][3];\n\n        if (!name) {\n            /* Instead of a spacer, we start a new button group. */\n            if (buttonGroup.hasChildNodes()) {\n                toolbar.appendChild(buttonGroup);\n            }\n            buttonGroup = document.createElement('div');\n            buttonGroup.classList = 'mpl-button-group';\n            continue;\n        }\n\n        var button = (fig.buttons[name] = document.createElement('button'));\n        button.classList = 'mpl-widget';\n        button.setAttribute('role', 'button');\n        button.setAttribute('aria-disabled', 'false');\n        button.addEventListener('click', on_click_closure(method_name));\n        button.addEventListener('mouseover', on_mouseover_closure(tooltip));\n\n        var icon_img = document.createElement('img');\n        icon_img.src = '_images/' + image + '.png';\n        icon_img.srcset = '_images/' + image + '_large.png 2x';\n        icon_img.alt = tooltip;\n        button.appendChild(icon_img);\n\n        buttonGroup.appendChild(button);\n    }\n\n    if (buttonGroup.hasChildNodes()) {\n        toolbar.appendChild(buttonGroup);\n    }\n\n    var fmt_picker = document.createElement('select');\n    fmt_picker.classList = 'mpl-widget';\n    toolbar.appendChild(fmt_picker);\n    this.format_dropdown = fmt_picker;\n\n    for (var ind in mpl.extensions) {\n        var fmt = mpl.extensions[ind];\n        var option = document.createElement('option');\n        option.selected = fmt === mpl.default_extension;\n        option.innerHTML = fmt;\n        fmt_picker.appendChild(option);\n    }\n\n    var status_bar = document.createElement('span');\n    status_bar.classList = 'mpl-message';\n    toolbar.appendChild(status_bar);\n    this.message = status_bar;\n};\n\nmpl.figure.prototype.request_resize = function (x_pixels, y_pixels) {\n    // Request matplotlib to resize the figure. Matplotlib will then trigger a resize in the client,\n    // which will in turn request a refresh of the image.\n    this.send_message('resize', { width: x_pixels, height: y_pixels });\n};\n\nmpl.figure.prototype.send_message = function (type, properties) {\n    properties['type'] = type;\n    properties['figure_id'] = this.id;\n    this.ws.send(JSON.stringify(properties));\n};\n\nmpl.figure.prototype.send_draw_message = function () {\n    if (!this.waiting) {\n        this.waiting = true;\n        this.ws.send(JSON.stringify({ type: 'draw', figure_id: this.id }));\n    }\n};\n\nmpl.figure.prototype.handle_save = function (fig, _msg) {\n    var format_dropdown = fig.format_dropdown;\n    var format = format_dropdown.options[format_dropdown.selectedIndex].value;\n    fig.ondownload(fig, format);\n};\n\nmpl.figure.prototype.handle_resize = function (fig, msg) {\n    var size = msg['size'];\n    if (size[0] !== fig.canvas.width || size[1] !== fig.canvas.height) {\n        fig._resize_canvas(size[0], size[1], msg['forward']);\n        fig.send_message('refresh', {});\n    }\n};\n\nmpl.figure.prototype.handle_rubberband = function (fig, msg) {\n    var x0 = msg['x0'] / fig.ratio;\n    var y0 = (fig.canvas.height - msg['y0']) / fig.ratio;\n    var x1 = msg['x1'] / fig.ratio;\n    var y1 = (fig.canvas.height - msg['y1']) / fig.ratio;\n    x0 = Math.floor(x0) + 0.5;\n    y0 = Math.floor(y0) + 0.5;\n    x1 = Math.floor(x1) + 0.5;\n    y1 = Math.floor(y1) + 0.5;\n    var min_x = Math.min(x0, x1);\n    var min_y = Math.min(y0, y1);\n    var width = Math.abs(x1 - x0);\n    var height = Math.abs(y1 - y0);\n\n    fig.rubberband_context.clearRect(\n        0,\n        0,\n        fig.canvas.width / fig.ratio,\n        fig.canvas.height / fig.ratio\n    );\n\n    fig.rubberband_context.strokeRect(min_x, min_y, width, height);\n};\n\nmpl.figure.prototype.handle_figure_label = function (fig, msg) {\n    // Updates the figure title.\n    fig.header.textContent = msg['label'];\n};\n\nmpl.figure.prototype.handle_cursor = function (fig, msg) {\n    fig.canvas_div.style.cursor = msg['cursor'];\n};\n\nmpl.figure.prototype.handle_message = function (fig, msg) {\n    fig.message.textContent = msg['message'];\n};\n\nmpl.figure.prototype.handle_draw = function (fig, _msg) {\n    // Request the server to send over a new figure.\n    fig.send_draw_message();\n};\n\nmpl.figure.prototype.handle_image_mode = function (fig, msg) {\n    fig.image_mode = msg['mode'];\n};\n\nmpl.figure.prototype.handle_history_buttons = function (fig, msg) {\n    for (var key in msg) {\n        if (!(key in fig.buttons)) {\n            continue;\n        }\n        fig.buttons[key].disabled = !msg[key];\n        fig.buttons[key].setAttribute('aria-disabled', !msg[key]);\n    }\n};\n\nmpl.figure.prototype.handle_navigate_mode = function (fig, msg) {\n    if (msg['mode'] === 'PAN') {\n        fig.buttons['Pan'].classList.add('active');\n        fig.buttons['Zoom'].classList.remove('active');\n    } else if (msg['mode'] === 'ZOOM') {\n        fig.buttons['Pan'].classList.remove('active');\n        fig.buttons['Zoom'].classList.add('active');\n    } else {\n        fig.buttons['Pan'].classList.remove('active');\n        fig.buttons['Zoom'].classList.remove('active');\n    }\n};\n\nmpl.figure.prototype.updated_canvas_event = function () {\n    // Called whenever the canvas gets updated.\n    this.send_message('ack', {});\n};\n\n// A function to construct a web socket function for onmessage handling.\n// Called in the figure constructor.\nmpl.figure.prototype._make_on_message_function = function (fig) {\n    return function socket_on_message(evt) {\n        if (evt.data instanceof Blob) {\n            var img = evt.data;\n            if (img.type !== 'image/png') {\n                /* FIXME: We get \"Resource interpreted as Image but\n                 * transferred with MIME type text/plain:\" errors on\n                 * Chrome.  But how to set the MIME type?  It doesn't seem\n                 * to be part of the websocket stream */\n                img.type = 'image/png';\n            }\n\n            /* Free the memory for the previous frames */\n            if (fig.imageObj.src) {\n                (window.URL || window.webkitURL).revokeObjectURL(\n                    fig.imageObj.src\n                );\n            }\n\n            fig.imageObj.src = (window.URL || window.webkitURL).createObjectURL(\n                img\n            );\n            fig.updated_canvas_event();\n            fig.waiting = false;\n            return;\n        } else if (\n            typeof evt.data === 'string' &&\n            evt.data.slice(0, 21) === 'data:image/png;base64'\n        ) {\n            fig.imageObj.src = evt.data;\n            fig.updated_canvas_event();\n            fig.waiting = false;\n            return;\n        }\n\n        var msg = JSON.parse(evt.data);\n        var msg_type = msg['type'];\n\n        // Call the  \"handle_{type}\" callback, which takes\n        // the figure and JSON message as its only arguments.\n        try {\n            var callback = fig['handle_' + msg_type];\n        } catch (e) {\n            console.log(\n                \"No handler for the '\" + msg_type + \"' message type: \",\n                msg\n            );\n            return;\n        }\n\n        if (callback) {\n            try {\n                // console.log(\"Handling '\" + msg_type + \"' message: \", msg);\n                callback(fig, msg);\n            } catch (e) {\n                console.log(\n                    \"Exception inside the 'handler_\" + msg_type + \"' callback:\",\n                    e,\n                    e.stack,\n                    msg\n                );\n            }\n        }\n    };\n};\n\n\n/*\n * return a copy of an object with only non-object keys\n * we need this to avoid circular references\n * https://stackoverflow.com/a/24161582/3208463\n */\nfunction simpleKeys(original) {\n    return Object.keys(original).reduce(function (obj, key) {\n        if (typeof original[key] !== 'object') {\n            obj[key] = original[key];\n        }\n        return obj;\n    }, {});\n}\n\nmpl.figure.prototype.mouse_event = function (event, name) {\n    if (name === 'button_press') {\n        this.canvas.focus();\n        this.canvas_div.focus();\n    }\n\n    // from https://stackoverflow.com/q/1114465\n    var boundingRect = this.canvas.getBoundingClientRect();\n    var x = (event.clientX - boundingRect.left) * this.ratio;\n    var y = (event.clientY - boundingRect.top) * this.ratio;\n\n    this.send_message(name, {\n        x: x,\n        y: y,\n        button: event.button,\n        step: event.step,\n        guiEvent: simpleKeys(event),\n    });\n\n    return false;\n};\n\nmpl.figure.prototype._key_event_extra = function (_event, _name) {\n    // Handle any extra behaviour associated with a key event\n};\n\nmpl.figure.prototype.key_event = function (event, name) {\n    // Prevent repeat events\n    if (name === 'key_press') {\n        if (event.key === this._key) {\n            return;\n        } else {\n            this._key = event.key;\n        }\n    }\n    if (name === 'key_release') {\n        this._key = null;\n    }\n\n    var value = '';\n    if (event.ctrlKey && event.key !== 'Control') {\n        value += 'ctrl+';\n    }\n    else if (event.altKey && event.key !== 'Alt') {\n        value += 'alt+';\n    }\n    else if (event.shiftKey && event.key !== 'Shift') {\n        value += 'shift+';\n    }\n\n    value += 'k' + event.key;\n\n    this._key_event_extra(event, name);\n\n    this.send_message(name, { key: value, guiEvent: simpleKeys(event) });\n    return false;\n};\n\nmpl.figure.prototype.toolbar_button_onclick = function (name) {\n    if (name === 'download') {\n        this.handle_save(this, null);\n    } else {\n        this.send_message('toolbar_button', { name: name });\n    }\n};\n\nmpl.figure.prototype.toolbar_button_onmouseover = function (tooltip) {\n    this.message.textContent = tooltip;\n};\n\n///////////////// REMAINING CONTENT GENERATED BY embed_js.py /////////////////\n// prettier-ignore\nvar _JSXTOOLS_RESIZE_OBSERVER=function(A){var t,i=new WeakMap,n=new WeakMap,a=new WeakMap,r=new WeakMap,o=new Set;function s(e){if(!(this instanceof s))throw new TypeError(\"Constructor requires 'new' operator\");i.set(this,e)}function h(){throw new TypeError(\"Function is not a constructor\")}function c(e,t,i,n){e=0 in arguments?Number(arguments[0]):0,t=1 in arguments?Number(arguments[1]):0,i=2 in arguments?Number(arguments[2]):0,n=3 in arguments?Number(arguments[3]):0,this.right=(this.x=this.left=e)+(this.width=i),this.bottom=(this.y=this.top=t)+(this.height=n),Object.freeze(this)}function d(){t=requestAnimationFrame(d);var s=new WeakMap,p=new Set;o.forEach((function(t){r.get(t).forEach((function(i){var r=t instanceof window.SVGElement,o=a.get(t),d=r?0:parseFloat(o.paddingTop),f=r?0:parseFloat(o.paddingRight),l=r?0:parseFloat(o.paddingBottom),u=r?0:parseFloat(o.paddingLeft),g=r?0:parseFloat(o.borderTopWidth),m=r?0:parseFloat(o.borderRightWidth),w=r?0:parseFloat(o.borderBottomWidth),b=u+f,F=d+l,v=(r?0:parseFloat(o.borderLeftWidth))+m,W=g+w,y=r?0:t.offsetHeight-W-t.clientHeight,E=r?0:t.offsetWidth-v-t.clientWidth,R=b+v,z=F+W,M=r?t.width:parseFloat(o.width)-R-E,O=r?t.height:parseFloat(o.height)-z-y;if(n.has(t)){var k=n.get(t);if(k[0]===M&&k[1]===O)return}n.set(t,[M,O]);var S=Object.create(h.prototype);S.target=t,S.contentRect=new c(u,d,M,O),s.has(i)||(s.set(i,[]),p.add(i)),s.get(i).push(S)}))})),p.forEach((function(e){i.get(e).call(e,s.get(e),e)}))}return s.prototype.observe=function(i){if(i instanceof window.Element){r.has(i)||(r.set(i,new Set),o.add(i),a.set(i,window.getComputedStyle(i)));var n=r.get(i);n.has(this)||n.add(this),cancelAnimationFrame(t),t=requestAnimationFrame(d)}},s.prototype.unobserve=function(i){if(i instanceof window.Element&&r.has(i)){var n=r.get(i);n.has(this)&&(n.delete(this),n.size||(r.delete(i),o.delete(i))),n.size||r.delete(i),o.size||cancelAnimationFrame(t)}},A.DOMRectReadOnly=c,A.ResizeObserver=s,A.ResizeObserverEntry=h,A}; // eslint-disable-line\nmpl.toolbar_items = [[\"Home\", \"Reset original view\", \"fa fa-home\", \"home\"], [\"Back\", \"Back to previous view\", \"fa fa-arrow-left\", \"back\"], [\"Forward\", \"Forward to next view\", \"fa fa-arrow-right\", \"forward\"], [\"\", \"\", \"\", \"\"], [\"Pan\", \"Left button pans, Right button zooms\\nx/y fixes axis, CTRL fixes aspect\", \"fa fa-arrows\", \"pan\"], [\"Zoom\", \"Zoom to rectangle\\nx/y fixes axis\", \"fa fa-square-o\", \"zoom\"], [\"\", \"\", \"\", \"\"], [\"Download\", \"Download plot\", \"fa fa-floppy-o\", \"download\"]];\n\nmpl.extensions = [\"eps\", \"jpeg\", \"pgf\", \"pdf\", \"png\", \"ps\", \"raw\", \"svg\", \"tif\", \"webp\"];\n\nmpl.default_extension = \"png\";/* global mpl */\n\nvar comm_websocket_adapter = function (comm) {\n    // Create a \"websocket\"-like object which calls the given IPython comm\n    // object with the appropriate methods. Currently this is a non binary\n    // socket, so there is still some room for performance tuning.\n    var ws = {};\n\n    ws.binaryType = comm.kernel.ws.binaryType;\n    ws.readyState = comm.kernel.ws.readyState;\n    function updateReadyState(_event) {\n        if (comm.kernel.ws) {\n            ws.readyState = comm.kernel.ws.readyState;\n        } else {\n            ws.readyState = 3; // Closed state.\n        }\n    }\n    comm.kernel.ws.addEventListener('open', updateReadyState);\n    comm.kernel.ws.addEventListener('close', updateReadyState);\n    comm.kernel.ws.addEventListener('error', updateReadyState);\n\n    ws.close = function () {\n        comm.close();\n    };\n    ws.send = function (m) {\n        //console.log('sending', m);\n        comm.send(m);\n    };\n    // Register the callback with on_msg.\n    comm.on_msg(function (msg) {\n        //console.log('receiving', msg['content']['data'], msg);\n        var data = msg['content']['data'];\n        if (data['blob'] !== undefined) {\n            data = {\n                data: new Blob(msg['buffers'], { type: data['blob'] }),\n            };\n        }\n        // Pass the mpl event to the overridden (by mpl) onmessage function.\n        ws.onmessage(data);\n    });\n    return ws;\n};\n\nmpl.mpl_figure_comm = function (comm, msg) {\n    // This is the function which gets called when the mpl process\n    // starts-up an IPython Comm through the \"matplotlib\" channel.\n\n    var id = msg.content.data.id;\n    // Get hold of the div created by the display call when the Comm\n    // socket was opened in Python.\n    var element = document.getElementById(id);\n    var ws_proxy = comm_websocket_adapter(comm);\n\n    function ondownload(figure, _format) {\n        window.open(figure.canvas.toDataURL());\n    }\n\n    var fig = new mpl.figure(id, ws_proxy, ondownload, element);\n\n    // Call onopen now - mpl needs it, as it is assuming we've passed it a real\n    // web socket which is closed, not our websocket->open comm proxy.\n    ws_proxy.onopen();\n\n    fig.parent_element = element;\n    fig.cell_info = mpl.find_output_cell(\"<div id='\" + id + \"'></div>\");\n    if (!fig.cell_info) {\n        console.error('Failed to find cell for figure', id, fig);\n        return;\n    }\n    fig.cell_info[0].output_area.element.on(\n        'cleared',\n        { fig: fig },\n        fig._remove_fig_handler\n    );\n};\n\nmpl.figure.prototype.handle_close = function (fig, msg) {\n    var width = fig.canvas.width / fig.ratio;\n    fig.cell_info[0].output_area.element.off(\n        'cleared',\n        fig._remove_fig_handler\n    );\n    fig.resizeObserverInstance.unobserve(fig.canvas_div);\n\n    // Update the output cell to use the data from the current canvas.\n    fig.push_to_output();\n    var dataURL = fig.canvas.toDataURL();\n    // Re-enable the keyboard manager in IPython - without this line, in FF,\n    // the notebook keyboard shortcuts fail.\n    IPython.keyboard_manager.enable();\n    fig.parent_element.innerHTML =\n        '<img src=\"' + dataURL + '\" width=\"' + width + '\">';\n    fig.close_ws(fig, msg);\n};\n\nmpl.figure.prototype.close_ws = function (fig, msg) {\n    fig.send_message('closing', msg);\n    // fig.ws.close()\n};\n\nmpl.figure.prototype.push_to_output = function (_remove_interactive) {\n    // Turn the data on the canvas into data in the output cell.\n    var width = this.canvas.width / this.ratio;\n    var dataURL = this.canvas.toDataURL();\n    this.cell_info[1]['text/html'] =\n        '<img src=\"' + dataURL + '\" width=\"' + width + '\">';\n};\n\nmpl.figure.prototype.updated_canvas_event = function () {\n    // Tell IPython that the notebook contents must change.\n    IPython.notebook.set_dirty(true);\n    this.send_message('ack', {});\n    var fig = this;\n    // Wait a second, then push the new image to the DOM so\n    // that it is saved nicely (might be nice to debounce this).\n    setTimeout(function () {\n        fig.push_to_output();\n    }, 1000);\n};\n\nmpl.figure.prototype._init_toolbar = function () {\n    var fig = this;\n\n    var toolbar = document.createElement('div');\n    toolbar.classList = 'btn-toolbar';\n    this.root.appendChild(toolbar);\n\n    function on_click_closure(name) {\n        return function (_event) {\n            return fig.toolbar_button_onclick(name);\n        };\n    }\n\n    function on_mouseover_closure(tooltip) {\n        return function (event) {\n            if (!event.currentTarget.disabled) {\n                return fig.toolbar_button_onmouseover(tooltip);\n            }\n        };\n    }\n\n    fig.buttons = {};\n    var buttonGroup = document.createElement('div');\n    buttonGroup.classList = 'btn-group';\n    var button;\n    for (var toolbar_ind in mpl.toolbar_items) {\n        var name = mpl.toolbar_items[toolbar_ind][0];\n        var tooltip = mpl.toolbar_items[toolbar_ind][1];\n        var image = mpl.toolbar_items[toolbar_ind][2];\n        var method_name = mpl.toolbar_items[toolbar_ind][3];\n\n        if (!name) {\n            /* Instead of a spacer, we start a new button group. */\n            if (buttonGroup.hasChildNodes()) {\n                toolbar.appendChild(buttonGroup);\n            }\n            buttonGroup = document.createElement('div');\n            buttonGroup.classList = 'btn-group';\n            continue;\n        }\n\n        button = fig.buttons[name] = document.createElement('button');\n        button.classList = 'btn btn-default';\n        button.href = '#';\n        button.title = name;\n        button.innerHTML = '<i class=\"fa ' + image + ' fa-lg\"></i>';\n        button.addEventListener('click', on_click_closure(method_name));\n        button.addEventListener('mouseover', on_mouseover_closure(tooltip));\n        buttonGroup.appendChild(button);\n    }\n\n    if (buttonGroup.hasChildNodes()) {\n        toolbar.appendChild(buttonGroup);\n    }\n\n    // Add the status bar.\n    var status_bar = document.createElement('span');\n    status_bar.classList = 'mpl-message pull-right';\n    toolbar.appendChild(status_bar);\n    this.message = status_bar;\n\n    // Add the close button to the window.\n    var buttongrp = document.createElement('div');\n    buttongrp.classList = 'btn-group inline pull-right';\n    button = document.createElement('button');\n    button.classList = 'btn btn-mini btn-primary';\n    button.href = '#';\n    button.title = 'Stop Interaction';\n    button.innerHTML = '<i class=\"fa fa-power-off icon-remove icon-large\"></i>';\n    button.addEventListener('click', function (_evt) {\n        fig.handle_close(fig, {});\n    });\n    button.addEventListener(\n        'mouseover',\n        on_mouseover_closure('Stop Interaction')\n    );\n    buttongrp.appendChild(button);\n    var titlebar = this.root.querySelector('.ui-dialog-titlebar');\n    titlebar.insertBefore(buttongrp, titlebar.firstChild);\n};\n\nmpl.figure.prototype._remove_fig_handler = function (event) {\n    var fig = event.data.fig;\n    if (event.target !== this) {\n        // Ignore bubbled events from children.\n        return;\n    }\n    fig.close_ws(fig, {});\n};\n\nmpl.figure.prototype._root_extra_style = function (el) {\n    el.style.boxSizing = 'content-box'; // override notebook setting of border-box.\n};\n\nmpl.figure.prototype._canvas_extra_style = function (el) {\n    // this is important to make the div 'focusable\n    el.setAttribute('tabindex', 0);\n    // reach out to IPython and tell the keyboard manager to turn it's self\n    // off when our div gets focus\n\n    // location in version 3\n    if (IPython.notebook.keyboard_manager) {\n        IPython.notebook.keyboard_manager.register_events(el);\n    } else {\n        // location in version 2\n        IPython.keyboard_manager.register_events(el);\n    }\n};\n\nmpl.figure.prototype._key_event_extra = function (event, _name) {\n    // Check for shift+enter\n    if (event.shiftKey && event.which === 13) {\n        this.canvas_div.blur();\n        // select the cell after this one\n        var index = IPython.notebook.find_cell_index(this.cell_info[0]);\n        IPython.notebook.select(index + 1);\n    }\n};\n\nmpl.figure.prototype.handle_save = function (fig, _msg) {\n    fig.ondownload(fig, null);\n};\n\nmpl.find_output_cell = function (html_output) {\n    // Return the cell and output element which can be found *uniquely* in the notebook.\n    // Note - this is a bit hacky, but it is done because the \"notebook_saving.Notebook\"\n    // IPython event is triggered only after the cells have been serialised, which for\n    // our purposes (turning an active figure into a static one), is too late.\n    var cells = IPython.notebook.get_cells();\n    var ncells = cells.length;\n    for (var i = 0; i < ncells; i++) {\n        var cell = cells[i];\n        if (cell.cell_type === 'code') {\n            for (var j = 0; j < cell.output_area.outputs.length; j++) {\n                var data = cell.output_area.outputs[j];\n                if (data.data) {\n                    // IPython >= 3 moved mimebundle to data attribute of output\n                    data = data.data;\n                }\n                if (data['text/html'] === html_output) {\n                    return [cell, data, j];\n                }\n            }\n        }\n    }\n};\n\n// Register the function which deals with the matplotlib target/channel.\n// The kernel may be null if the page has been refreshed.\nif (IPython.notebook.kernel !== null) {\n    IPython.notebook.kernel.comm_manager.register_target(\n        'matplotlib',\n        mpl.mpl_figure_comm\n    );\n}\n",
=======
      "image/png": "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",
>>>>>>> 1501affbfded41625c4ff7aa8400c01ec380af86
      "text/plain": [
       "<Figure size 640x480 with 1 Axes>"
      ]
     },
     "metadata": {},
     "output_type": "display_data"
    }
   ],
   "source": [
    "plt.plot(num_cells_per_frame)\n",
    "plt.title(\"Cellpose Identified Cells per frame\")\n",
    "plt.xlabel(\"frame\")\n",
    "plt.ylabel(\"Num Cells\")\n",
    "plt.show()"
   ]
  },
  {
   "cell_type": "code",
   "execution_count": 15,
   "id": "4223c68b-bb51-45ed-b0ce-4d360c61962c",
   "metadata": {},
   "outputs": [
    {
     "data": {
<<<<<<< HEAD
      "text/html": [
       "<div id='15e29ade-af5e-4e19-a795-de5ea85a3f4d'></div>"
      ],
=======
      "image/png": "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",
>>>>>>> 1501affbfded41625c4ff7aa8400c01ec380af86
      "text/plain": [
       "<Figure size 640x480 with 1 Axes>"
      ]
     },
     "metadata": {},
     "output_type": "display_data"
    }
   ],
   "source": [
    "viz_cell(0, 5, True, thickness=1, padding=10)"
   ]
  },
  {
   "cell_type": "code",
   "execution_count": 16,
   "id": "2b375312-6e7b-43fd-ba4a-644394319410",
   "metadata": {},
   "outputs": [
    {
     "data": {
      "image/png": "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",
      "text/plain": [
       "<Figure size 640x480 with 1 Axes>"
      ]
     },
     "metadata": {},
     "output_type": "display_data"
    }
   ],
   "source": [
    "viz_cell(1, 5, True, thickness=1, padding=10)"
   ]
  },
  {
   "cell_type": "code",
<<<<<<< HEAD
   "execution_count": null,
   "id": "bbd0bfe4-8f62-4105-b3cb-a69c29af09d7",
=======
   "execution_count": 17,
   "id": "0a803dc1-630f-459e-b139-13edfc2270f7",
>>>>>>> 1501affbfded41625c4ff7aa8400c01ec380af86
   "metadata": {},
   "outputs": [
    {
     "data": {
<<<<<<< HEAD
      "application/javascript": "/* Put everything inside the global mpl namespace */\n/* global mpl */\nwindow.mpl = {};\n\nmpl.get_websocket_type = function () {\n    if (typeof WebSocket !== 'undefined') {\n        return WebSocket;\n    } else if (typeof MozWebSocket !== 'undefined') {\n        return MozWebSocket;\n    } else {\n        alert(\n            'Your browser does not have WebSocket support. ' +\n                'Please try Chrome, Safari or Firefox ≥ 6. ' +\n                'Firefox 4 and 5 are also supported but you ' +\n                'have to enable WebSockets in about:config.'\n        );\n    }\n};\n\nmpl.figure = function (figure_id, websocket, ondownload, parent_element) {\n    this.id = figure_id;\n\n    this.ws = websocket;\n\n    this.supports_binary = this.ws.binaryType !== undefined;\n\n    if (!this.supports_binary) {\n        var warnings = document.getElementById('mpl-warnings');\n        if (warnings) {\n            warnings.style.display = 'block';\n            warnings.textContent =\n                'This browser does not support binary websocket messages. ' +\n                'Performance may be slow.';\n        }\n    }\n\n    this.imageObj = new Image();\n\n    this.context = undefined;\n    this.message = undefined;\n    this.canvas = undefined;\n    this.rubberband_canvas = undefined;\n    this.rubberband_context = undefined;\n    this.format_dropdown = undefined;\n\n    this.image_mode = 'full';\n\n    this.root = document.createElement('div');\n    this.root.setAttribute('style', 'display: inline-block');\n    this._root_extra_style(this.root);\n\n    parent_element.appendChild(this.root);\n\n    this._init_header(this);\n    this._init_canvas(this);\n    this._init_toolbar(this);\n\n    var fig = this;\n\n    this.waiting = false;\n\n    this.ws.onopen = function () {\n        fig.send_message('supports_binary', { value: fig.supports_binary });\n        fig.send_message('send_image_mode', {});\n        if (fig.ratio !== 1) {\n            fig.send_message('set_device_pixel_ratio', {\n                device_pixel_ratio: fig.ratio,\n            });\n        }\n        fig.send_message('refresh', {});\n    };\n\n    this.imageObj.onload = function () {\n        if (fig.image_mode === 'full') {\n            // Full images could contain transparency (where diff images\n            // almost always do), so we need to clear the canvas so that\n            // there is no ghosting.\n            fig.context.clearRect(0, 0, fig.canvas.width, fig.canvas.height);\n        }\n        fig.context.drawImage(fig.imageObj, 0, 0);\n    };\n\n    this.imageObj.onunload = function () {\n        fig.ws.close();\n    };\n\n    this.ws.onmessage = this._make_on_message_function(this);\n\n    this.ondownload = ondownload;\n};\n\nmpl.figure.prototype._init_header = function () {\n    var titlebar = document.createElement('div');\n    titlebar.classList =\n        'ui-dialog-titlebar ui-widget-header ui-corner-all ui-helper-clearfix';\n    var titletext = document.createElement('div');\n    titletext.classList = 'ui-dialog-title';\n    titletext.setAttribute(\n        'style',\n        'width: 100%; text-align: center; padding: 3px;'\n    );\n    titlebar.appendChild(titletext);\n    this.root.appendChild(titlebar);\n    this.header = titletext;\n};\n\nmpl.figure.prototype._canvas_extra_style = function (_canvas_div) {};\n\nmpl.figure.prototype._root_extra_style = function (_canvas_div) {};\n\nmpl.figure.prototype._init_canvas = function () {\n    var fig = this;\n\n    var canvas_div = (this.canvas_div = document.createElement('div'));\n    canvas_div.setAttribute('tabindex', '0');\n    canvas_div.setAttribute(\n        'style',\n        'border: 1px solid #ddd;' +\n            'box-sizing: content-box;' +\n            'clear: both;' +\n            'min-height: 1px;' +\n            'min-width: 1px;' +\n            'outline: 0;' +\n            'overflow: hidden;' +\n            'position: relative;' +\n            'resize: both;' +\n            'z-index: 2;'\n    );\n\n    function on_keyboard_event_closure(name) {\n        return function (event) {\n            return fig.key_event(event, name);\n        };\n    }\n\n    canvas_div.addEventListener(\n        'keydown',\n        on_keyboard_event_closure('key_press')\n    );\n    canvas_div.addEventListener(\n        'keyup',\n        on_keyboard_event_closure('key_release')\n    );\n\n    this._canvas_extra_style(canvas_div);\n    this.root.appendChild(canvas_div);\n\n    var canvas = (this.canvas = document.createElement('canvas'));\n    canvas.classList.add('mpl-canvas');\n    canvas.setAttribute(\n        'style',\n        'box-sizing: content-box;' +\n            'pointer-events: none;' +\n            'position: relative;' +\n            'z-index: 0;'\n    );\n\n    this.context = canvas.getContext('2d');\n\n    var backingStore =\n        this.context.backingStorePixelRatio ||\n        this.context.webkitBackingStorePixelRatio ||\n        this.context.mozBackingStorePixelRatio ||\n        this.context.msBackingStorePixelRatio ||\n        this.context.oBackingStorePixelRatio ||\n        this.context.backingStorePixelRatio ||\n        1;\n\n    this.ratio = (window.devicePixelRatio || 1) / backingStore;\n\n    var rubberband_canvas = (this.rubberband_canvas = document.createElement(\n        'canvas'\n    ));\n    rubberband_canvas.setAttribute(\n        'style',\n        'box-sizing: content-box;' +\n            'left: 0;' +\n            'pointer-events: none;' +\n            'position: absolute;' +\n            'top: 0;' +\n            'z-index: 1;'\n    );\n\n    // Apply a ponyfill if ResizeObserver is not implemented by browser.\n    if (this.ResizeObserver === undefined) {\n        if (window.ResizeObserver !== undefined) {\n            this.ResizeObserver = window.ResizeObserver;\n        } else {\n            var obs = _JSXTOOLS_RESIZE_OBSERVER({});\n            this.ResizeObserver = obs.ResizeObserver;\n        }\n    }\n\n    this.resizeObserverInstance = new this.ResizeObserver(function (entries) {\n        var nentries = entries.length;\n        for (var i = 0; i < nentries; i++) {\n            var entry = entries[i];\n            var width, height;\n            if (entry.contentBoxSize) {\n                if (entry.contentBoxSize instanceof Array) {\n                    // Chrome 84 implements new version of spec.\n                    width = entry.contentBoxSize[0].inlineSize;\n                    height = entry.contentBoxSize[0].blockSize;\n                } else {\n                    // Firefox implements old version of spec.\n                    width = entry.contentBoxSize.inlineSize;\n                    height = entry.contentBoxSize.blockSize;\n                }\n            } else {\n                // Chrome <84 implements even older version of spec.\n                width = entry.contentRect.width;\n                height = entry.contentRect.height;\n            }\n\n            // Keep the size of the canvas and rubber band canvas in sync with\n            // the canvas container.\n            if (entry.devicePixelContentBoxSize) {\n                // Chrome 84 implements new version of spec.\n                canvas.setAttribute(\n                    'width',\n                    entry.devicePixelContentBoxSize[0].inlineSize\n                );\n                canvas.setAttribute(\n                    'height',\n                    entry.devicePixelContentBoxSize[0].blockSize\n                );\n            } else {\n                canvas.setAttribute('width', width * fig.ratio);\n                canvas.setAttribute('height', height * fig.ratio);\n            }\n            /* This rescales the canvas back to display pixels, so that it\n             * appears correct on HiDPI screens. */\n            canvas.style.width = width + 'px';\n            canvas.style.height = height + 'px';\n\n            rubberband_canvas.setAttribute('width', width);\n            rubberband_canvas.setAttribute('height', height);\n\n            // And update the size in Python. We ignore the initial 0/0 size\n            // that occurs as the element is placed into the DOM, which should\n            // otherwise not happen due to the minimum size styling.\n            if (fig.ws.readyState == 1 && width != 0 && height != 0) {\n                fig.request_resize(width, height);\n            }\n        }\n    });\n    this.resizeObserverInstance.observe(canvas_div);\n\n    function on_mouse_event_closure(name) {\n        /* User Agent sniffing is bad, but WebKit is busted:\n         * https://bugs.webkit.org/show_bug.cgi?id=144526\n         * https://bugs.webkit.org/show_bug.cgi?id=181818\n         * The worst that happens here is that they get an extra browser\n         * selection when dragging, if this check fails to catch them.\n         */\n        var UA = navigator.userAgent;\n        var isWebKit = /AppleWebKit/.test(UA) && !/Chrome/.test(UA);\n        if(isWebKit) {\n            return function (event) {\n                /* This prevents the web browser from automatically changing to\n                 * the text insertion cursor when the button is pressed. We\n                 * want to control all of the cursor setting manually through\n                 * the 'cursor' event from matplotlib */\n                event.preventDefault()\n                return fig.mouse_event(event, name);\n            };\n        } else {\n            return function (event) {\n                return fig.mouse_event(event, name);\n            };\n        }\n    }\n\n    canvas_div.addEventListener(\n        'mousedown',\n        on_mouse_event_closure('button_press')\n    );\n    canvas_div.addEventListener(\n        'mouseup',\n        on_mouse_event_closure('button_release')\n    );\n    canvas_div.addEventListener(\n        'dblclick',\n        on_mouse_event_closure('dblclick')\n    );\n    // Throttle sequential mouse events to 1 every 20ms.\n    canvas_div.addEventListener(\n        'mousemove',\n        on_mouse_event_closure('motion_notify')\n    );\n\n    canvas_div.addEventListener(\n        'mouseenter',\n        on_mouse_event_closure('figure_enter')\n    );\n    canvas_div.addEventListener(\n        'mouseleave',\n        on_mouse_event_closure('figure_leave')\n    );\n\n    canvas_div.addEventListener('wheel', function (event) {\n        if (event.deltaY < 0) {\n            event.step = 1;\n        } else {\n            event.step = -1;\n        }\n        on_mouse_event_closure('scroll')(event);\n    });\n\n    canvas_div.appendChild(canvas);\n    canvas_div.appendChild(rubberband_canvas);\n\n    this.rubberband_context = rubberband_canvas.getContext('2d');\n    this.rubberband_context.strokeStyle = '#000000';\n\n    this._resize_canvas = function (width, height, forward) {\n        if (forward) {\n            canvas_div.style.width = width + 'px';\n            canvas_div.style.height = height + 'px';\n        }\n    };\n\n    // Disable right mouse context menu.\n    canvas_div.addEventListener('contextmenu', function (_e) {\n        event.preventDefault();\n        return false;\n    });\n\n    function set_focus() {\n        canvas.focus();\n        canvas_div.focus();\n    }\n\n    window.setTimeout(set_focus, 100);\n};\n\nmpl.figure.prototype._init_toolbar = function () {\n    var fig = this;\n\n    var toolbar = document.createElement('div');\n    toolbar.classList = 'mpl-toolbar';\n    this.root.appendChild(toolbar);\n\n    function on_click_closure(name) {\n        return function (_event) {\n            return fig.toolbar_button_onclick(name);\n        };\n    }\n\n    function on_mouseover_closure(tooltip) {\n        return function (event) {\n            if (!event.currentTarget.disabled) {\n                return fig.toolbar_button_onmouseover(tooltip);\n            }\n        };\n    }\n\n    fig.buttons = {};\n    var buttonGroup = document.createElement('div');\n    buttonGroup.classList = 'mpl-button-group';\n    for (var toolbar_ind in mpl.toolbar_items) {\n        var name = mpl.toolbar_items[toolbar_ind][0];\n        var tooltip = mpl.toolbar_items[toolbar_ind][1];\n        var image = mpl.toolbar_items[toolbar_ind][2];\n        var method_name = mpl.toolbar_items[toolbar_ind][3];\n\n        if (!name) {\n            /* Instead of a spacer, we start a new button group. */\n            if (buttonGroup.hasChildNodes()) {\n                toolbar.appendChild(buttonGroup);\n            }\n            buttonGroup = document.createElement('div');\n            buttonGroup.classList = 'mpl-button-group';\n            continue;\n        }\n\n        var button = (fig.buttons[name] = document.createElement('button'));\n        button.classList = 'mpl-widget';\n        button.setAttribute('role', 'button');\n        button.setAttribute('aria-disabled', 'false');\n        button.addEventListener('click', on_click_closure(method_name));\n        button.addEventListener('mouseover', on_mouseover_closure(tooltip));\n\n        var icon_img = document.createElement('img');\n        icon_img.src = '_images/' + image + '.png';\n        icon_img.srcset = '_images/' + image + '_large.png 2x';\n        icon_img.alt = tooltip;\n        button.appendChild(icon_img);\n\n        buttonGroup.appendChild(button);\n    }\n\n    if (buttonGroup.hasChildNodes()) {\n        toolbar.appendChild(buttonGroup);\n    }\n\n    var fmt_picker = document.createElement('select');\n    fmt_picker.classList = 'mpl-widget';\n    toolbar.appendChild(fmt_picker);\n    this.format_dropdown = fmt_picker;\n\n    for (var ind in mpl.extensions) {\n        var fmt = mpl.extensions[ind];\n        var option = document.createElement('option');\n        option.selected = fmt === mpl.default_extension;\n        option.innerHTML = fmt;\n        fmt_picker.appendChild(option);\n    }\n\n    var status_bar = document.createElement('span');\n    status_bar.classList = 'mpl-message';\n    toolbar.appendChild(status_bar);\n    this.message = status_bar;\n};\n\nmpl.figure.prototype.request_resize = function (x_pixels, y_pixels) {\n    // Request matplotlib to resize the figure. Matplotlib will then trigger a resize in the client,\n    // which will in turn request a refresh of the image.\n    this.send_message('resize', { width: x_pixels, height: y_pixels });\n};\n\nmpl.figure.prototype.send_message = function (type, properties) {\n    properties['type'] = type;\n    properties['figure_id'] = this.id;\n    this.ws.send(JSON.stringify(properties));\n};\n\nmpl.figure.prototype.send_draw_message = function () {\n    if (!this.waiting) {\n        this.waiting = true;\n        this.ws.send(JSON.stringify({ type: 'draw', figure_id: this.id }));\n    }\n};\n\nmpl.figure.prototype.handle_save = function (fig, _msg) {\n    var format_dropdown = fig.format_dropdown;\n    var format = format_dropdown.options[format_dropdown.selectedIndex].value;\n    fig.ondownload(fig, format);\n};\n\nmpl.figure.prototype.handle_resize = function (fig, msg) {\n    var size = msg['size'];\n    if (size[0] !== fig.canvas.width || size[1] !== fig.canvas.height) {\n        fig._resize_canvas(size[0], size[1], msg['forward']);\n        fig.send_message('refresh', {});\n    }\n};\n\nmpl.figure.prototype.handle_rubberband = function (fig, msg) {\n    var x0 = msg['x0'] / fig.ratio;\n    var y0 = (fig.canvas.height - msg['y0']) / fig.ratio;\n    var x1 = msg['x1'] / fig.ratio;\n    var y1 = (fig.canvas.height - msg['y1']) / fig.ratio;\n    x0 = Math.floor(x0) + 0.5;\n    y0 = Math.floor(y0) + 0.5;\n    x1 = Math.floor(x1) + 0.5;\n    y1 = Math.floor(y1) + 0.5;\n    var min_x = Math.min(x0, x1);\n    var min_y = Math.min(y0, y1);\n    var width = Math.abs(x1 - x0);\n    var height = Math.abs(y1 - y0);\n\n    fig.rubberband_context.clearRect(\n        0,\n        0,\n        fig.canvas.width / fig.ratio,\n        fig.canvas.height / fig.ratio\n    );\n\n    fig.rubberband_context.strokeRect(min_x, min_y, width, height);\n};\n\nmpl.figure.prototype.handle_figure_label = function (fig, msg) {\n    // Updates the figure title.\n    fig.header.textContent = msg['label'];\n};\n\nmpl.figure.prototype.handle_cursor = function (fig, msg) {\n    fig.canvas_div.style.cursor = msg['cursor'];\n};\n\nmpl.figure.prototype.handle_message = function (fig, msg) {\n    fig.message.textContent = msg['message'];\n};\n\nmpl.figure.prototype.handle_draw = function (fig, _msg) {\n    // Request the server to send over a new figure.\n    fig.send_draw_message();\n};\n\nmpl.figure.prototype.handle_image_mode = function (fig, msg) {\n    fig.image_mode = msg['mode'];\n};\n\nmpl.figure.prototype.handle_history_buttons = function (fig, msg) {\n    for (var key in msg) {\n        if (!(key in fig.buttons)) {\n            continue;\n        }\n        fig.buttons[key].disabled = !msg[key];\n        fig.buttons[key].setAttribute('aria-disabled', !msg[key]);\n    }\n};\n\nmpl.figure.prototype.handle_navigate_mode = function (fig, msg) {\n    if (msg['mode'] === 'PAN') {\n        fig.buttons['Pan'].classList.add('active');\n        fig.buttons['Zoom'].classList.remove('active');\n    } else if (msg['mode'] === 'ZOOM') {\n        fig.buttons['Pan'].classList.remove('active');\n        fig.buttons['Zoom'].classList.add('active');\n    } else {\n        fig.buttons['Pan'].classList.remove('active');\n        fig.buttons['Zoom'].classList.remove('active');\n    }\n};\n\nmpl.figure.prototype.updated_canvas_event = function () {\n    // Called whenever the canvas gets updated.\n    this.send_message('ack', {});\n};\n\n// A function to construct a web socket function for onmessage handling.\n// Called in the figure constructor.\nmpl.figure.prototype._make_on_message_function = function (fig) {\n    return function socket_on_message(evt) {\n        if (evt.data instanceof Blob) {\n            var img = evt.data;\n            if (img.type !== 'image/png') {\n                /* FIXME: We get \"Resource interpreted as Image but\n                 * transferred with MIME type text/plain:\" errors on\n                 * Chrome.  But how to set the MIME type?  It doesn't seem\n                 * to be part of the websocket stream */\n                img.type = 'image/png';\n            }\n\n            /* Free the memory for the previous frames */\n            if (fig.imageObj.src) {\n                (window.URL || window.webkitURL).revokeObjectURL(\n                    fig.imageObj.src\n                );\n            }\n\n            fig.imageObj.src = (window.URL || window.webkitURL).createObjectURL(\n                img\n            );\n            fig.updated_canvas_event();\n            fig.waiting = false;\n            return;\n        } else if (\n            typeof evt.data === 'string' &&\n            evt.data.slice(0, 21) === 'data:image/png;base64'\n        ) {\n            fig.imageObj.src = evt.data;\n            fig.updated_canvas_event();\n            fig.waiting = false;\n            return;\n        }\n\n        var msg = JSON.parse(evt.data);\n        var msg_type = msg['type'];\n\n        // Call the  \"handle_{type}\" callback, which takes\n        // the figure and JSON message as its only arguments.\n        try {\n            var callback = fig['handle_' + msg_type];\n        } catch (e) {\n            console.log(\n                \"No handler for the '\" + msg_type + \"' message type: \",\n                msg\n            );\n            return;\n        }\n\n        if (callback) {\n            try {\n                // console.log(\"Handling '\" + msg_type + \"' message: \", msg);\n                callback(fig, msg);\n            } catch (e) {\n                console.log(\n                    \"Exception inside the 'handler_\" + msg_type + \"' callback:\",\n                    e,\n                    e.stack,\n                    msg\n                );\n            }\n        }\n    };\n};\n\nfunction getModifiers(event) {\n    var mods = [];\n    if (event.ctrlKey) {\n        mods.push('ctrl');\n    }\n    if (event.altKey) {\n        mods.push('alt');\n    }\n    if (event.shiftKey) {\n        mods.push('shift');\n    }\n    if (event.metaKey) {\n        mods.push('meta');\n    }\n    return mods;\n}\n\n/*\n * return a copy of an object with only non-object keys\n * we need this to avoid circular references\n * https://stackoverflow.com/a/24161582/3208463\n */\nfunction simpleKeys(original) {\n    return Object.keys(original).reduce(function (obj, key) {\n        if (typeof original[key] !== 'object') {\n            obj[key] = original[key];\n        }\n        return obj;\n    }, {});\n}\n\nmpl.figure.prototype.mouse_event = function (event, name) {\n    if (name === 'button_press') {\n        this.canvas.focus();\n        this.canvas_div.focus();\n    }\n\n    // from https://stackoverflow.com/q/1114465\n    var boundingRect = this.canvas.getBoundingClientRect();\n    var x = (event.clientX - boundingRect.left) * this.ratio;\n    var y = (event.clientY - boundingRect.top) * this.ratio;\n\n    this.send_message(name, {\n        x: x,\n        y: y,\n        button: event.button,\n        step: event.step,\n        modifiers: getModifiers(event),\n        guiEvent: simpleKeys(event),\n    });\n\n    return false;\n};\n\nmpl.figure.prototype._key_event_extra = function (_event, _name) {\n    // Handle any extra behaviour associated with a key event\n};\n\nmpl.figure.prototype.key_event = function (event, name) {\n    // Prevent repeat events\n    if (name === 'key_press') {\n        if (event.key === this._key) {\n            return;\n        } else {\n            this._key = event.key;\n        }\n    }\n    if (name === 'key_release') {\n        this._key = null;\n    }\n\n    var value = '';\n    if (event.ctrlKey && event.key !== 'Control') {\n        value += 'ctrl+';\n    }\n    else if (event.altKey && event.key !== 'Alt') {\n        value += 'alt+';\n    }\n    else if (event.shiftKey && event.key !== 'Shift') {\n        value += 'shift+';\n    }\n\n    value += 'k' + event.key;\n\n    this._key_event_extra(event, name);\n\n    this.send_message(name, { key: value, guiEvent: simpleKeys(event) });\n    return false;\n};\n\nmpl.figure.prototype.toolbar_button_onclick = function (name) {\n    if (name === 'download') {\n        this.handle_save(this, null);\n    } else {\n        this.send_message('toolbar_button', { name: name });\n    }\n};\n\nmpl.figure.prototype.toolbar_button_onmouseover = function (tooltip) {\n    this.message.textContent = tooltip;\n};\n\n///////////////// REMAINING CONTENT GENERATED BY embed_js.py /////////////////\n// prettier-ignore\nvar _JSXTOOLS_RESIZE_OBSERVER=function(A){var t,i=new WeakMap,n=new WeakMap,a=new WeakMap,r=new WeakMap,o=new Set;function s(e){if(!(this instanceof s))throw new TypeError(\"Constructor requires 'new' operator\");i.set(this,e)}function h(){throw new TypeError(\"Function is not a constructor\")}function c(e,t,i,n){e=0 in arguments?Number(arguments[0]):0,t=1 in arguments?Number(arguments[1]):0,i=2 in arguments?Number(arguments[2]):0,n=3 in arguments?Number(arguments[3]):0,this.right=(this.x=this.left=e)+(this.width=i),this.bottom=(this.y=this.top=t)+(this.height=n),Object.freeze(this)}function d(){t=requestAnimationFrame(d);var s=new WeakMap,p=new Set;o.forEach((function(t){r.get(t).forEach((function(i){var r=t instanceof window.SVGElement,o=a.get(t),d=r?0:parseFloat(o.paddingTop),f=r?0:parseFloat(o.paddingRight),l=r?0:parseFloat(o.paddingBottom),u=r?0:parseFloat(o.paddingLeft),g=r?0:parseFloat(o.borderTopWidth),m=r?0:parseFloat(o.borderRightWidth),w=r?0:parseFloat(o.borderBottomWidth),b=u+f,F=d+l,v=(r?0:parseFloat(o.borderLeftWidth))+m,W=g+w,y=r?0:t.offsetHeight-W-t.clientHeight,E=r?0:t.offsetWidth-v-t.clientWidth,R=b+v,z=F+W,M=r?t.width:parseFloat(o.width)-R-E,O=r?t.height:parseFloat(o.height)-z-y;if(n.has(t)){var k=n.get(t);if(k[0]===M&&k[1]===O)return}n.set(t,[M,O]);var S=Object.create(h.prototype);S.target=t,S.contentRect=new c(u,d,M,O),s.has(i)||(s.set(i,[]),p.add(i)),s.get(i).push(S)}))})),p.forEach((function(e){i.get(e).call(e,s.get(e),e)}))}return s.prototype.observe=function(i){if(i instanceof window.Element){r.has(i)||(r.set(i,new Set),o.add(i),a.set(i,window.getComputedStyle(i)));var n=r.get(i);n.has(this)||n.add(this),cancelAnimationFrame(t),t=requestAnimationFrame(d)}},s.prototype.unobserve=function(i){if(i instanceof window.Element&&r.has(i)){var n=r.get(i);n.has(this)&&(n.delete(this),n.size||(r.delete(i),o.delete(i))),n.size||r.delete(i),o.size||cancelAnimationFrame(t)}},A.DOMRectReadOnly=c,A.ResizeObserver=s,A.ResizeObserverEntry=h,A}; // eslint-disable-line\nmpl.toolbar_items = [[\"Home\", \"Reset original view\", \"fa fa-home\", \"home\"], [\"Back\", \"Back to previous view\", \"fa fa-arrow-left\", \"back\"], [\"Forward\", \"Forward to next view\", \"fa fa-arrow-right\", \"forward\"], [\"\", \"\", \"\", \"\"], [\"Pan\", \"Left button pans, Right button zooms\\nx/y fixes axis, CTRL fixes aspect\", \"fa fa-arrows\", \"pan\"], [\"Zoom\", \"Zoom to rectangle\\nx/y fixes axis\", \"fa fa-square-o\", \"zoom\"], [\"\", \"\", \"\", \"\"], [\"Download\", \"Download plot\", \"fa fa-floppy-o\", \"download\"]];\n\nmpl.extensions = [\"eps\", \"jpeg\", \"pgf\", \"pdf\", \"png\", \"ps\", \"raw\", \"svg\", \"tif\", \"webp\"];\n\nmpl.default_extension = \"png\";/* global mpl */\n\nvar comm_websocket_adapter = function (comm) {\n    // Create a \"websocket\"-like object which calls the given IPython comm\n    // object with the appropriate methods. Currently this is a non binary\n    // socket, so there is still some room for performance tuning.\n    var ws = {};\n\n    ws.binaryType = comm.kernel.ws.binaryType;\n    ws.readyState = comm.kernel.ws.readyState;\n    function updateReadyState(_event) {\n        if (comm.kernel.ws) {\n            ws.readyState = comm.kernel.ws.readyState;\n        } else {\n            ws.readyState = 3; // Closed state.\n        }\n    }\n    comm.kernel.ws.addEventListener('open', updateReadyState);\n    comm.kernel.ws.addEventListener('close', updateReadyState);\n    comm.kernel.ws.addEventListener('error', updateReadyState);\n\n    ws.close = function () {\n        comm.close();\n    };\n    ws.send = function (m) {\n        //console.log('sending', m);\n        comm.send(m);\n    };\n    // Register the callback with on_msg.\n    comm.on_msg(function (msg) {\n        //console.log('receiving', msg['content']['data'], msg);\n        var data = msg['content']['data'];\n        if (data['blob'] !== undefined) {\n            data = {\n                data: new Blob(msg['buffers'], { type: data['blob'] }),\n            };\n        }\n        // Pass the mpl event to the overridden (by mpl) onmessage function.\n        ws.onmessage(data);\n    });\n    return ws;\n};\n\nmpl.mpl_figure_comm = function (comm, msg) {\n    // This is the function which gets called when the mpl process\n    // starts-up an IPython Comm through the \"matplotlib\" channel.\n\n    var id = msg.content.data.id;\n    // Get hold of the div created by the display call when the Comm\n    // socket was opened in Python.\n    var element = document.getElementById(id);\n    var ws_proxy = comm_websocket_adapter(comm);\n\n    function ondownload(figure, _format) {\n        window.open(figure.canvas.toDataURL());\n    }\n\n    var fig = new mpl.figure(id, ws_proxy, ondownload, element);\n\n    // Call onopen now - mpl needs it, as it is assuming we've passed it a real\n    // web socket which is closed, not our websocket->open comm proxy.\n    ws_proxy.onopen();\n\n    fig.parent_element = element;\n    fig.cell_info = mpl.find_output_cell(\"<div id='\" + id + \"'></div>\");\n    if (!fig.cell_info) {\n        console.error('Failed to find cell for figure', id, fig);\n        return;\n    }\n    fig.cell_info[0].output_area.element.on(\n        'cleared',\n        { fig: fig },\n        fig._remove_fig_handler\n    );\n};\n\nmpl.figure.prototype.handle_close = function (fig, msg) {\n    var width = fig.canvas.width / fig.ratio;\n    fig.cell_info[0].output_area.element.off(\n        'cleared',\n        fig._remove_fig_handler\n    );\n    fig.resizeObserverInstance.unobserve(fig.canvas_div);\n\n    // Update the output cell to use the data from the current canvas.\n    fig.push_to_output();\n    var dataURL = fig.canvas.toDataURL();\n    // Re-enable the keyboard manager in IPython - without this line, in FF,\n    // the notebook keyboard shortcuts fail.\n    IPython.keyboard_manager.enable();\n    fig.parent_element.innerHTML =\n        '<img src=\"' + dataURL + '\" width=\"' + width + '\">';\n    fig.close_ws(fig, msg);\n};\n\nmpl.figure.prototype.close_ws = function (fig, msg) {\n    fig.send_message('closing', msg);\n    // fig.ws.close()\n};\n\nmpl.figure.prototype.push_to_output = function (_remove_interactive) {\n    // Turn the data on the canvas into data in the output cell.\n    var width = this.canvas.width / this.ratio;\n    var dataURL = this.canvas.toDataURL();\n    this.cell_info[1]['text/html'] =\n        '<img src=\"' + dataURL + '\" width=\"' + width + '\">';\n};\n\nmpl.figure.prototype.updated_canvas_event = function () {\n    // Tell IPython that the notebook contents must change.\n    IPython.notebook.set_dirty(true);\n    this.send_message('ack', {});\n    var fig = this;\n    // Wait a second, then push the new image to the DOM so\n    // that it is saved nicely (might be nice to debounce this).\n    setTimeout(function () {\n        fig.push_to_output();\n    }, 1000);\n};\n\nmpl.figure.prototype._init_toolbar = function () {\n    var fig = this;\n\n    var toolbar = document.createElement('div');\n    toolbar.classList = 'btn-toolbar';\n    this.root.appendChild(toolbar);\n\n    function on_click_closure(name) {\n        return function (_event) {\n            return fig.toolbar_button_onclick(name);\n        };\n    }\n\n    function on_mouseover_closure(tooltip) {\n        return function (event) {\n            if (!event.currentTarget.disabled) {\n                return fig.toolbar_button_onmouseover(tooltip);\n            }\n        };\n    }\n\n    fig.buttons = {};\n    var buttonGroup = document.createElement('div');\n    buttonGroup.classList = 'btn-group';\n    var button;\n    for (var toolbar_ind in mpl.toolbar_items) {\n        var name = mpl.toolbar_items[toolbar_ind][0];\n        var tooltip = mpl.toolbar_items[toolbar_ind][1];\n        var image = mpl.toolbar_items[toolbar_ind][2];\n        var method_name = mpl.toolbar_items[toolbar_ind][3];\n\n        if (!name) {\n            /* Instead of a spacer, we start a new button group. */\n            if (buttonGroup.hasChildNodes()) {\n                toolbar.appendChild(buttonGroup);\n            }\n            buttonGroup = document.createElement('div');\n            buttonGroup.classList = 'btn-group';\n            continue;\n        }\n\n        button = fig.buttons[name] = document.createElement('button');\n        button.classList = 'btn btn-default';\n        button.href = '#';\n        button.title = name;\n        button.innerHTML = '<i class=\"fa ' + image + ' fa-lg\"></i>';\n        button.addEventListener('click', on_click_closure(method_name));\n        button.addEventListener('mouseover', on_mouseover_closure(tooltip));\n        buttonGroup.appendChild(button);\n    }\n\n    if (buttonGroup.hasChildNodes()) {\n        toolbar.appendChild(buttonGroup);\n    }\n\n    // Add the status bar.\n    var status_bar = document.createElement('span');\n    status_bar.classList = 'mpl-message pull-right';\n    toolbar.appendChild(status_bar);\n    this.message = status_bar;\n\n    // Add the close button to the window.\n    var buttongrp = document.createElement('div');\n    buttongrp.classList = 'btn-group inline pull-right';\n    button = document.createElement('button');\n    button.classList = 'btn btn-mini btn-primary';\n    button.href = '#';\n    button.title = 'Stop Interaction';\n    button.innerHTML = '<i class=\"fa fa-power-off icon-remove icon-large\"></i>';\n    button.addEventListener('click', function (_evt) {\n        fig.handle_close(fig, {});\n    });\n    button.addEventListener(\n        'mouseover',\n        on_mouseover_closure('Stop Interaction')\n    );\n    buttongrp.appendChild(button);\n    var titlebar = this.root.querySelector('.ui-dialog-titlebar');\n    titlebar.insertBefore(buttongrp, titlebar.firstChild);\n};\n\nmpl.figure.prototype._remove_fig_handler = function (event) {\n    var fig = event.data.fig;\n    if (event.target !== this) {\n        // Ignore bubbled events from children.\n        return;\n    }\n    fig.close_ws(fig, {});\n};\n\nmpl.figure.prototype._root_extra_style = function (el) {\n    el.style.boxSizing = 'content-box'; // override notebook setting of border-box.\n};\n\nmpl.figure.prototype._canvas_extra_style = function (el) {\n    // this is important to make the div 'focusable\n    el.setAttribute('tabindex', 0);\n    // reach out to IPython and tell the keyboard manager to turn it's self\n    // off when our div gets focus\n\n    // location in version 3\n    if (IPython.notebook.keyboard_manager) {\n        IPython.notebook.keyboard_manager.register_events(el);\n    } else {\n        // location in version 2\n        IPython.keyboard_manager.register_events(el);\n    }\n};\n\nmpl.figure.prototype._key_event_extra = function (event, _name) {\n    // Check for shift+enter\n    if (event.shiftKey && event.which === 13) {\n        this.canvas_div.blur();\n        // select the cell after this one\n        var index = IPython.notebook.find_cell_index(this.cell_info[0]);\n        IPython.notebook.select(index + 1);\n    }\n};\n\nmpl.figure.prototype.handle_save = function (fig, _msg) {\n    fig.ondownload(fig, null);\n};\n\nmpl.find_output_cell = function (html_output) {\n    // Return the cell and output element which can be found *uniquely* in the notebook.\n    // Note - this is a bit hacky, but it is done because the \"notebook_saving.Notebook\"\n    // IPython event is triggered only after the cells have been serialised, which for\n    // our purposes (turning an active figure into a static one), is too late.\n    var cells = IPython.notebook.get_cells();\n    var ncells = cells.length;\n    for (var i = 0; i < ncells; i++) {\n        var cell = cells[i];\n        if (cell.cell_type === 'code') {\n            for (var j = 0; j < cell.output_area.outputs.length; j++) {\n                var data = cell.output_area.outputs[j];\n                if (data.data) {\n                    // IPython >= 3 moved mimebundle to data attribute of output\n                    data = data.data;\n                }\n                if (data['text/html'] === html_output) {\n                    return [cell, data, j];\n                }\n            }\n        }\n    }\n};\n\n// Register the function which deals with the matplotlib target/channel.\n// The kernel may be null if the page has been refreshed.\nif (IPython.notebook.kernel !== null) {\n    IPython.notebook.kernel.comm_manager.register_target(\n        'matplotlib',\n        mpl.mpl_figure_comm\n    );\n}\n",
=======
>>>>>>> 1501affbfded41625c4ff7aa8400c01ec380af86
      "text/plain": [
       "(126, 469, 37, 49)"
      ]
     },
     "execution_count": 17,
     "metadata": {},
     "output_type": "execute_result"
    }
   ],
   "source": [
    "get_bounding_box(masks[9], 1)"
   ]
  },
  {
   "cell_type": "code",
   "execution_count": 18,
   "id": "32278e61-9103-4f80-bd20-987f09cee42a",
   "metadata": {},
   "outputs": [
    {
     "data": {
      "text/plain": [
       "(345, 303, 23, 64)"
      ]
     },
     "execution_count": 18,
     "metadata": {},
     "output_type": "execute_result"
    }
   ],
   "source": [
    "get_bounding_box(masks[1], 2)"
   ]
  },
  {
   "cell_type": "code",
   "execution_count": 19,
   "id": "675b9a03-ee83-4830-b530-be8fe4f6525c",
   "metadata": {},
   "outputs": [
    {
     "data": {
      "text/plain": [
       "(241, 2048, 475)"
      ]
     },
     "execution_count": 19,
     "metadata": {},
     "output_type": "execute_result"
    }
   ],
   "source": [
    "masks.shape"
   ]
  },
  {
   "cell_type": "code",
<<<<<<< HEAD
   "execution_count": null,
   "id": "cfb626bf-c434-4ea7-85e0-b27c329c372c",
=======
   "execution_count": 25,
   "id": "5a19d8b9-81e6-4ad4-8e42-f8ac2a62148a",
   "metadata": {},
   "outputs": [],
   "source": [
    "def track_cell(cell_id, frames=frames, masks=masks, padding=2):\n",
    "    data = {\"patches\" : [], 'boxes' : [], \"masks\" : []}\n",
    "    num_frames = frames.shape[0]\n",
    "    h_max, w_max = 0, 0\n",
    "    skip_frames = []\n",
    "    for i in range(num_frames):\n",
    "        box = get_bounding_box(masks[i], cell_id, padding)\n",
    "        if(box != -1): # valid box\n",
    "            x, y, w, h = box\n",
    "            if(h > h_max):\n",
    "                h_max = h\n",
    "            if(w > w_max):\n",
    "                w_max = w\n",
    "            data['boxes'].append((x, y, w, h))\n",
    "        else:\n",
    "            skip_frames.append(i)\n",
    "    print(f\"Skipped frames {skip_frames}\")\n",
    "    for i, box in enumerate(data['boxes']):\n",
    "        if i not in skip_frames: \n",
    "            x, y, w, h = box\n",
    "            patch = frames[i, y:y+h_max, x:x+w_max]\n",
    "            mask_patch = masks[i, y:y+h_max, x:x+w_max]\n",
    "            data['patches'].append(patch)\n",
    "            data['masks'].append(mask_patch)\n",
    "\n",
    "    return(data)"
   ]
  },
  {
   "cell_type": "code",
   "execution_count": 26,
   "id": "9cccdf1e-d05f-4086-9c30-66be9ff23f3c",
>>>>>>> 1501affbfded41625c4ff7aa8400c01ec380af86
   "metadata": {},
   "outputs": [
    {
     "name": "stdout",
     "output_type": "stream",
     "text": [
      "Skipped frames []\n"
     ]
    }
   ],
   "source": [
    "data = track_cell(5, frames[:100])"
   ]
  },
  {
   "cell_type": "code",
   "execution_count": 33,
   "id": "cea8756b-2da6-41af-b8bd-42ab0545c872",
   "metadata": {},
   "outputs": [
    {
     "data": {
      "text/plain": [
       "0    832111\n",
       "5    107595\n",
       "6     21377\n",
       "4      8030\n",
       "7      7611\n",
       "8      1217\n",
       "2       791\n",
       "3       712\n",
       "9       256\n",
       "Name: count, dtype: int64"
      ]
     },
     "execution_count": 33,
     "metadata": {},
     "output_type": "execute_result"
    }
   ],
   "source": [
    "pd.Series(np.array(data['masks']).flatten()).value_counts()"
   ]
  },
  {
   "cell_type": "code",
<<<<<<< HEAD
   "execution_count": null,
   "id": "9ad76068-e355-4b45-bfb7-154e44923fd6",
=======
   "execution_count": 1,
   "id": "2292ae63-b97e-4f23-af23-a8779652b11c",
>>>>>>> 1501affbfded41625c4ff7aa8400c01ec380af86
   "metadata": {},
   "outputs": [
    {
     "ename": "NameError",
     "evalue": "name 'data' is not defined",
     "output_type": "error",
     "traceback": [
      "\u001b[0;31m---------------------------------------------------------------------------\u001b[0m",
      "\u001b[0;31mNameError\u001b[0m                                 Traceback (most recent call last)",
      "Cell \u001b[0;32mIn[1], line 1\u001b[0m\n\u001b[0;32m----> 1\u001b[0m \u001b[43mdata\u001b[49m[\u001b[38;5;124m'\u001b[39m\u001b[38;5;124mboxes\u001b[39m\u001b[38;5;124m'\u001b[39m]\n",
      "\u001b[0;31mNameError\u001b[0m: name 'data' is not defined"
     ]
    }
   ],
   "source": [
    "data['boxes']"
   ]
  },
  {
   "cell_type": "code",
   "execution_count": null,
   "id": "27a37094-fc5f-4110-ae4c-8695ff3cb2d1",
   "metadata": {},
   "outputs": [],
   "source": []
  },
  {
   "cell_type": "code",
   "execution_count": 24,
   "id": "cdfac40e-9383-4d74-b0fa-0acc51085962",
   "metadata": {},
   "outputs": [
    {
     "data": {
      "text/plain": [
       "[(236, 581, 71, 63),\n",
       " (246, 579, 60, 66),\n",
       " (185, 957, 40, 31),\n",
       " (218, 731, 35, 40),\n",
       " (200, 760, 21, 15),\n",
       " (242, 574, 65, 71),\n",
       " (242, 574, 63, 68),\n",
       " (263, 653, 20, 18),\n",
       " (260, 647, 19, 16),\n",
       " (182, 1004, 52, 58),\n",
       " (255, 632, 22, 17),\n",
       " (245, 546, 19, 23),\n",
       " (179, 971, 84, 48),\n",
       " (175, 970, 82, 66),\n",
       " (270, 548, 29, 22),\n",
       " (352, 228, 15, 27),\n",
       " (126, 495, 42, 51),\n",
       " (87, 228, 42, 18),\n",
       " (108, 189, 26, 16),\n",
       " (114, 201, 40, 20),\n",
       " (345, 358, 22, 42),\n",
       " (110, 195, 45, 28),\n",
       " (134, 503, 46, 80),\n",
       " (86, 206, 41, 37),\n",
       " (117, 584, 34, 43),\n",
       " (108, 163, 31, 30),\n",
       " (324, 405, 33, 32),\n",
       " (328, 334, 39, 39),\n",
       " (87, 157, 43, 27),\n",
       " (325, 340, 42, 34),\n",
       " (308, 160, 34, 26),\n",
       " (314, 427, 45, 27),\n",
       " (93, 143, 54, 44),\n",
       " (285, 163, 37, 24),\n",
       " (300, 369, 19, 29),\n",
       " (304, 381, 19, 21),\n",
       " (120, 184, 40, 24),\n",
       " (313, 192, 25, 22),\n",
       " (167, 940, 28, 33),\n",
       " (109, 505, 26, 27),\n",
       " (269, 496, 73, 55),\n",
       " (267, 501, 50, 22),\n",
       " (315, 407, 52, 25),\n",
       " (97, 192, 55, 47),\n",
       " (250, 369, 31, 32),\n",
       " (300, 449, 31, 26),\n",
       " (86, 538, 74, 61),\n",
       " (147, 976, 71, 68),\n",
       " (244, 351, 48, 28),\n",
       " (208, 943, 40, 32),\n",
       " (243, 347, 48, 53),\n",
       " (257, 348, 31, 28),\n",
       " (136, 122, 67, 26),\n",
       " (237, 150, 45, 36),\n",
       " (86, 396, 24, 24),\n",
       " (121, 126, 71, 86),\n",
       " (86, 380, 24, 51),\n",
       " (92, 102, 24, 38),\n",
       " (274, 102, 39, 30),\n",
       " (86, 113, 53, 26),\n",
       " (270, 99, 50, 52),\n",
       " (173, 129, 22, 47),\n",
       " (86, 395, 21, 32),\n",
       " (216, 396, 49, 58),\n",
       " (216, 339, 62, 69),\n",
       " (266, 142, 30, 21),\n",
       " (260, 141, 39, 28),\n",
       " (108, 357, 39, 45),\n",
       " (86, 350, 56, 57),\n",
       " (86, 355, 40, 55),\n",
       " (86, 354, 41, 62),\n",
       " (86, 327, 24, 41),\n",
       " (213, 426, 52, 35),\n",
       " (248, 544, 76, 45),\n",
       " (86, 154, 20, 35),\n",
       " (102, 317, 31, 94),\n",
       " (86, 291, 28, 42),\n",
       " (86, 281, 23, 47),\n",
       " (106, 282, 27, 95),\n",
       " (108, 292, 28, 68),\n",
       " (238, 437, 48, 47),\n",
       " (110, 175, 26, 20),\n",
       " (109, 303, 26, 74),\n",
       " (87, 361, 48, 39),\n",
       " (192, 378, 64, 64),\n",
       " (240, 530, 101, 92),\n",
       " (87, 337, 45, 50),\n",
       " (198, 379, 92, 97),\n",
       " (86, 274, 46, 87),\n",
       " (91, 247, 55, 45),\n",
       " (277, 533, 5, 5),\n",
       " (103, 231, 30, 35),\n",
       " (126, 243, 26, 22),\n",
       " (122, 244, 38, 22),\n",
       " (106, 244, 37, 34),\n",
       " (105, 141, 56, 49),\n",
       " (86, 257, 64, 49),\n",
       " (153, 449, 51, 44),\n",
       " (187, 158, 44, 37),\n",
       " (284, 488, 29, 38)]"
      ]
     },
     "execution_count": 24,
     "metadata": {},
     "output_type": "execute_result"
    }
   ],
   "source": [
    "data['boxes']"
   ]
  },
  {
   "cell_type": "code",
   "execution_count": 34,
   "id": "723bde5e-be2e-49ba-a638-8d77b272aa58",
   "metadata": {},
   "outputs": [],
   "source": [
    "cell_5_frames = np.array(data['patches'])"
   ]
  },
  {
   "cell_type": "code",
   "execution_count": 35,
   "id": "c71dd328-779a-457a-916f-4c2d92355806",
   "metadata": {},
   "outputs": [],
   "source": [
    "np.save(\"cell_5_z50.npy\", cell_5_frames)"
   ]
  },
  {
   "cell_type": "markdown",
   "id": "CxBAU4QH01ZA",
   "metadata": {
    "id": "CxBAU4QH01ZA",
    "jp-MarkdownHeadingCollapsed": true
   },
   "source": [
    "## Cell Segmentation"
   ]
  },
  {
   "cell_type": "code",
   "execution_count": null,
   "id": "145bc641-ec05-49b5-a3a8-7c67b23396c4",
   "metadata": {},
   "outputs": [
    {
     "data": {
      "text/plain": [
       "<aicspylibczi.CziFile.CziFile at 0x7f0ca022b520>"
      ]
     },
     "execution_count": 37,
     "metadata": {},
     "output_type": "execute_result"
    }
   ],
   "source": [
    "video"
   ]
  },
  {
   "cell_type": "code",
   "execution_count": null,
   "id": "9aa5eb5f-2f06-4e14-a8bd-9a566667d75e",
   "metadata": {},
   "outputs": [
    {
     "data": {
      "text/plain": [
       "{'X': (0, 475),\n",
       " 'Y': (0, 2048),\n",
       " 'Z': (0, 114),\n",
       " 'C': (0, 2),\n",
       " 'T': (0, 241),\n",
       " 'S': (0, 1)}"
      ]
     },
     "execution_count": 38,
     "metadata": {},
     "output_type": "execute_result"
    }
   ],
   "source": [
    "dims = video.get_dims_shape()[0]\n",
    "dims"
   ]
  },
  {
   "cell_type": "markdown",
   "id": "a4989fe4-e43b-46af-b66f-6c206b6ab99d",
   "metadata": {},
   "source": [
    "Documentation for cell pose:\n",
    "https://cellpose.readthedocs.io/en/latest/outputs.html"
   ]
  },
  {
   "cell_type": "code",
   "execution_count": null,
   "id": "548220cd-7d1f-4578-8eff-d0ce2b21455e",
   "metadata": {},
   "outputs": [],
   "source": [
    "test_img = get_image(50, 100, channel=0)"
   ]
  },
  {
   "cell_type": "code",
   "execution_count": null,
   "id": "587a568b-755b-44a6-936b-f1f9e01112aa",
   "metadata": {},
   "outputs": [],
   "source": [
    "masks, flows, styles = models.CellposeModel(model_type='cyto3').eval(test_img,\n",
    "                            diameter=None, channels=[0,0])"
   ]
  },
  {
   "cell_type": "code",
   "execution_count": null,
   "id": "5311587e-8f77-4684-afae-9a22f3461384",
   "metadata": {},
   "outputs": [],
   "source": [
    "masks = np.load(\"pip3-06_processed_frame_masks_z50.npy\")"
   ]
  },
  {
   "cell_type": "code",
<<<<<<< HEAD
   "execution_count": null,
   "id": "b125ec9d-b4d4-4d9c-b51a-6f3a73d184d7",
   "metadata": {},
   "outputs": [
    {
     "data": {
      "text/plain": [
       "[20,\n",
       " 20,\n",
       " 18,\n",
       " 19,\n",
       " 21,\n",
       " 20,\n",
       " 17,\n",
       " 18,\n",
       " 16,\n",
       " 21,\n",
       " 23,\n",
       " 24,\n",
       " 18,\n",
       " 16,\n",
       " 26,\n",
       " 25,\n",
       " 24,\n",
       " 25,\n",
       " 26,\n",
       " 23,\n",
       " 19,\n",
       " 25,\n",
       " 21,\n",
       " 22,\n",
       " 21,\n",
       " 21,\n",
       " 23,\n",
       " 29,\n",
       " 31,\n",
       " 25,\n",
       " 29,\n",
       " 23,\n",
       " 26,\n",
       " 29,\n",
       " 26,\n",
       " 18,\n",
       " 25,\n",
       " 22,\n",
       " 21,\n",
       " 27,\n",
       " 22,\n",
       " 19,\n",
       " 23,\n",
       " 22,\n",
       " 21,\n",
       " 18,\n",
       " 15,\n",
       " 16,\n",
       " 21,\n",
       " 16,\n",
       " 20,\n",
       " 25,\n",
       " 30,\n",
       " 21,\n",
       " 18,\n",
       " 21,\n",
       " 19,\n",
       " 23,\n",
       " 26,\n",
       " 25,\n",
       " 21,\n",
       " 26,\n",
       " 22,\n",
       " 17,\n",
       " 21,\n",
       " 23,\n",
       " 22,\n",
       " 22,\n",
       " 26,\n",
       " 22,\n",
       " 22,\n",
       " 25,\n",
       " 22,\n",
       " 19,\n",
       " 23,\n",
       " 18,\n",
       " 29,\n",
       " 24,\n",
       " 22,\n",
       " 22,\n",
       " 25,\n",
       " 28,\n",
       " 27,\n",
       " 26,\n",
       " 18,\n",
       " 21,\n",
       " 22,\n",
       " 17,\n",
       " 16,\n",
       " 21,\n",
       " 22,\n",
       " 25,\n",
       " 19,\n",
       " 24,\n",
       " 18,\n",
       " 22,\n",
       " 16,\n",
       " 17,\n",
       " 23,\n",
       " 16,\n",
       " 17,\n",
       " 22,\n",
       " 16,\n",
       " 15,\n",
       " 19,\n",
       " 17,\n",
       " 18,\n",
       " 18,\n",
       " 21,\n",
       " 22,\n",
       " 23,\n",
       " 18,\n",
       " 18,\n",
       " 19,\n",
       " 19,\n",
       " 20,\n",
       " 16,\n",
       " 18,\n",
       " 15,\n",
       " 16,\n",
       " 17,\n",
       " 17,\n",
       " 13,\n",
       " 13,\n",
       " 9,\n",
       " 15,\n",
       " 13,\n",
       " 14,\n",
       " 16,\n",
       " 17,\n",
       " 21,\n",
       " 20,\n",
       " 23,\n",
       " 19,\n",
       " 14,\n",
       " 21,\n",
       " 20,\n",
       " 19,\n",
       " 18,\n",
       " 18,\n",
       " 16,\n",
       " 20,\n",
       " 20,\n",
       " 16,\n",
       " 21,\n",
       " 15,\n",
       " 20,\n",
       " 16,\n",
       " 13,\n",
       " 14,\n",
       " 17,\n",
       " 13,\n",
       " 17,\n",
       " 14,\n",
       " 13,\n",
       " 12,\n",
       " 11,\n",
       " 9,\n",
       " 14,\n",
       " 15,\n",
       " 21,\n",
       " 17,\n",
       " 16,\n",
       " 24,\n",
       " 20,\n",
       " 25,\n",
       " 20,\n",
       " 18,\n",
       " 20,\n",
       " 22,\n",
       " 24,\n",
       " 23,\n",
       " 20,\n",
       " 26,\n",
       " 15,\n",
       " 18,\n",
       " 14,\n",
       " 17,\n",
       " 16,\n",
       " 17,\n",
       " 17,\n",
       " 10,\n",
       " 19,\n",
       " 19,\n",
       " 17,\n",
       " 20,\n",
       " 22,\n",
       " 18,\n",
       " 18,\n",
       " 20,\n",
       " 18,\n",
       " 20,\n",
       " 19,\n",
       " 23,\n",
       " 22,\n",
       " 22,\n",
       " 19,\n",
       " 15,\n",
       " 15,\n",
       " 16,\n",
       " 16,\n",
       " 11,\n",
       " 14,\n",
       " 11,\n",
       " 13,\n",
       " 16,\n",
       " 12,\n",
       " 12,\n",
       " 18,\n",
       " 21,\n",
       " 23,\n",
       " 22,\n",
       " 17,\n",
       " 23,\n",
       " 22,\n",
       " 20,\n",
       " 14,\n",
       " 13,\n",
       " 18,\n",
       " 16,\n",
       " 16,\n",
       " 20,\n",
       " 21,\n",
       " 21,\n",
       " 16,\n",
       " 18,\n",
       " 19,\n",
       " 18,\n",
       " 18,\n",
       " 16,\n",
       " 15,\n",
       " 17,\n",
       " 14,\n",
       " 14,\n",
       " 16,\n",
       " 16,\n",
       " 13,\n",
       " 10,\n",
       " 10,\n",
       " 9,\n",
       " 11]"
      ]
     },
     "execution_count": 11,
     "metadata": {},
     "output_type": "execute_result"
    }
   ],
   "source": [
    "num_cells_per_frame = []\n",
    "for mask in masks:\n",
    "    num_cells_per_frame.append(len(np.unique(mask)))\n",
    "\n",
    "num_cells_per_frame"
   ]
  },
  {
   "cell_type": "code",
   "execution_count": null,
=======
   "execution_count": 82,
>>>>>>> 1501affbfded41625c4ff7aa8400c01ec380af86
   "id": "e83285ad-ac62-46bb-ac6b-b9ba7559161f",
   "metadata": {},
   "outputs": [
    {
     "data": {
      "text/plain": [
       "(2048, 475)"
      ]
     },
     "execution_count": 82,
     "metadata": {},
     "output_type": "execute_result"
    }
   ],
   "source": [
    "masks[0].shape"
   ]
  },
  {
   "cell_type": "markdown",
   "id": "2d30a45b-b308-4fbe-bcc5-453db74aecfd",
   "metadata": {
    "jp-MarkdownHeadingCollapsed": true
   },
   "source": [
    "## Experimenting with segmentation and bounding boxes"
   ]
  },
  {
   "cell_type": "code",
   "execution_count": null,
   "id": "4240857f-3076-402f-ae9d-a1854fe9e111",
   "metadata": {},
   "outputs": [],
   "source": [
    "num_cells_per_frame = []\n",
    "masks = []\n",
    "zplane = 50\n",
    "for frame in range(dims['T'][-1]):\n",
    "    img = get_image(frame, zplane)\n",
    "    mask, flows, styles = models.CellposeModel(model_type='cyto3').eval(img,\n",
    "                            diameter=None, channels=[0,0])\n",
    "    masks.append(mask)\n",
    "    num_cells = len(np.unique(mask))\n",
    "    num_cells_per_frame.append(num_cells)"
   ]
  },
  {
   "cell_type": "code",
   "execution_count": null,
   "id": "609705c6-24fd-4c21-9286-8f8351b4cfc3",
   "metadata": {},
   "outputs": [
    {
     "data": {
      "image/png": "iVBORw0KGgoAAAANSUhEUgAAAJYAAAGiCAYAAAAFnT/tAAAAOXRFWHRTb2Z0d2FyZQBNYXRwbG90bGliIHZlcnNpb24zLjguNCwgaHR0cHM6Ly9tYXRwbG90bGliLm9yZy8fJSN1AAAACXBIWXMAAA9hAAAPYQGoP6dpAAAdJ0lEQVR4nO3de1BU9/3/8deuuisouwSQy07EC069RDQJKvJLglopiDaJDWnrLWJD8NLFVEiU0Bpv6TdQ7eRiNGY6P4V0qsE446VBS0UUrBFvmC0BI79AVfSnYCIFBCvX8/uDHyeeiApk3+5CX4+ZnYFzPguH5OnucWXPW6coigIiO9M7+gCoZ2JYJIJhkQiGRSIYFolgWCSCYZEIhkUiGBaJYFgkwqnD2rx5MwYPHoy+ffsiODgYp06dcvQhUQc5bVg7d+5EQkICVq9ejbNnz2Ls2LGIiIjA9evXHX1o1AE6Z/1H6ODgYIwfPx6bNm0CALS0tGDgwIFYunQp3njjDQcfHT1Ib0cfQHsaGhqQn5+PpKQkdZter0dYWBjy8vLavU99fT3q6+vVz1taWlBZWQlPT0/odDrxY/5voSgKbt68CYvFAr3+3k94ThnWt99+i+bmZvj4+Gi2+/j44Pz58+3eJzk5GWvXrn0Yh0cALl++jEcfffSe+50yrK5ISkpCQkKC+nl1dTX8/f3xNKajN/o48Mh6liY04hgOwM3N7b7rnDIsLy8v9OrVCxUVFZrtFRUV8PX1bfc+RqMRRqPxru290Qe9dQzLbv7/GfmDTi+c8m+FBoMBQUFByM7OVre1tLQgOzsbISEhDjwy6iinfMQCgISEBERHR2PcuHGYMGEC3nvvPdTV1eFXv/qVow+NOsBpw/rlL3+Jb775BqtWrUJ5eTkef/xxZGZm3nVCT87JaV/H+qFqampgNpsxGc/zHMuOmpRG5GAfqqurYTKZ7rnOKc+xqPtjWCSCYZEIhkUiGBaJYFgkgmGRCIZFIhgWiWBYJIJhkQiGRSIYFolgWCSCYZEIhkUiGBaJYFgkgmGRCIZFIhgWiWBYJIJhkQiGRSIYFolgWCSCYZEIhkUiGBaJYFgkgmGRCIZFIhgWiWBYJMLuYSUnJ2P8+PFwc3ODt7c3Zs6cieLiYs2ayZMnQ6fTaW6LFy/WrCkrK8OMGTPg6uoKb29vLF++HE1NTfY+XBJi94vb5ubmwmq1Yvz48WhqasJvf/tbhIeH49y5c+jXr5+6LjY2FuvWrVM/d3V1VT9ubm7GjBkz4Ovri+PHj+PatWuYP38++vTpg7ffftveh0wC7B5WZmam5vO0tDR4e3sjPz8foaGh6nZXV9d7DgM4ePAgzp07h0OHDsHHxwePP/443nrrLSQmJmLNmjUwGAz2PmyyM/FzrOrqagCAh4eHZvv27dvh5eWF0aNHIykpCbdu3VL35eXlITAwUHPp7YiICNTU1KCoqKjd71NfX4+amhrNjRxH9DrvLS0tWLZsGZ566imMHj1a3T5nzhwMGjQIFosFBQUFSExMRHFxMXbv3g0AKC8vb3dAU9u+9nBIk3MRDctqtaKwsBDHjh3TbF+4cKH6cWBgIPz8/DB16lSUlpYiICCgS9/r+0OaampqMHDgwK4dOP1gYk+FcXFxyMjIwJEjR+47fgxoHXoJACUlJQAAX1/fdgc0te1rj9FohMlk0tzIcewelqIoiIuLw549e3D48GEMGTLkgfex2WwAAD8/PwBASEgIvvzyS82Y3qysLJhMJowaNcreh0wC7P5UaLVasWPHDuzbtw9ubm7qOZHZbIaLiwtKS0uxY8cOTJ8+HZ6enigoKEB8fDxCQ0MxZswYAEB4eDhGjRqFl156CevXr0d5eTlWrlwJq9Xa7ug4cj52n6Vzrzl2qampWLBgAS5fvox58+ahsLAQdXV1GDhwIH72s59h5cqVmqevS5cuYcmSJcjJyUG/fv0QHR2NlJQU9O7dsT8LnKUjo6OzdDikiTqFQ5rIoRgWiWBYJIJhkQiGRSIYFolgWCSCYZEIhkUiGBaJYFgkgmGRCIZFIhgWiWBYJIJhkQiGRSIYFolgWCSCYZEIhkUiGBaJYFgkgmGRCIZFIhgWiWBYJIJhkQiGRSIYFolgWCSCYZEIhkUiGBaJsHtYa9asuWsA04gRI9T9t2/fhtVqhaenJ/r374+oqKi7Lr3NAU3dn8gAgcceewyHDh367pvccUHa+Ph47N+/H7t27YLZbEZcXBxeeOEFfP755wA4oKmnEAmrd+/e7V7ov7q6Glu3bsWOHTvw4x//GEDr1ZRHjhyJEydOYOLEiRzQ1EOInGN9/fXXsFgsGDp0KObOnYuysjIAQH5+PhobGxEWFqauHTFiBPz9/ZGXlwegawOaAA5pcjZ2Dys4OBhpaWnIzMzEli1bcOHCBTzzzDO4efMmysvLYTAY4O7urrmPj4+POmigKwOagNYhTWazWb1xjo5j2f2pMDIyUv14zJgxCA4OxqBBg/Dpp5/CxcXF3t9OxSFNzkX85QZ3d3f86Ec/QklJCXx9fdHQ0ICqqirNmoqKCvWcrCsDmgAOaXI24mHV1taitLQUfn5+CAoKQp8+fZCdna3uLy4uRllZGUJCQgBwQFNPYfenwtdffx3PPvssBg0ahKtXr2L16tXo1asXZs+eDbPZjJiYGCQkJMDDwwMmkwlLly5FSEgIJk6cCIADmnoKu4d15coVzJ49Gzdu3MCAAQPw9NNP48SJExgwYAAA4N1334Ver0dUVBTq6+sRERGBDz/8UL1/r169kJGRgSVLliAkJEQd0HTnYHJyfhzSRJ3CIU3kUAyLRDAsEsGwSATDIhEMi0QwLBIh8vtY9MPo+/VD1fOBKJ/SDMvAG7h67RGMeusGmv510dGH1mEMy9nodDj/wUjYwt+FWd/62yDNgS34eUAE6pLHw5h5BugGr2nzqdDJKP9rLFInbVOjAoBeOj12D8vCmk1bcSUpBLpu8G+mDMsZ6HSoiwrG//loAhI+/gSTXVraXTbZpQXHlvwRZSuCHvIBdh7DcgK9zCZMW52LC8/9CdNc6++79pFerlgyaz96+Xg/pKPrGoblBJqra5D121C8Uzm0Q+vnm8/jP4/7Cx/VD8OwnIGioG/GKaRviEC90vjA5X3QC0ov3UM4sK5jWE7E63gFjt3u+8B1jWiGvqH98zBnwbCcSHPJBcQeeAXNyv2jOXb7EbgUV9x3jaMxLGeiKBj5Pxcx/fxzd8V1rakWt1oaAAB/KI1E0/+95ogj7DC+QOpkmsor0HueL0b8xoo5kUcxpf9XaIYOr/7vFWh0U9BkacDgvwBoueDoQ70v/mqyE9O7uUFvNgGKguZvb0Cpv/9LEQ9DR381mY9YTqzl5k203Lzp6MPoEp5jkQiGRSIYFolgWCSCYZEIhkUiGBaJYFgkgmGRCIZFIhgWiWBYJIJhkQiGRSLsHtbgwYPvGtKk0+lgtVoBAJMnT75r3+LFizVfg0Oauj+7/z7W6dOn0dzcrH5eWFiIn/zkJ/j5z3+ubouNjdVcrNbV1VX9mEOaega7h9V2deQ2KSkpCAgIwKRJk9Rtrq6u9xwGwCFNPYPoOVZDQwP+8pe/4OWXX4ZO99374LZv3w4vLy+MHj0aSUlJuHXrlrqPQ5p6BtFfTd67dy+qqqqwYMECdducOXMwaNAgWCwWFBQUIDExEcXFxdi9ezeAHzakae3atfb/IahLRMPaunUrIiMjYbFY1G0LFy5UPw4MDISfnx+mTp2K0tJSBAQEdPl7cUiTcxEL69KlSzh06JD6SHQvwcHBAICSkhIEBATA19cXp06d0qzp6JAmjkRxHmLnWKmpqfD29saMGTPuu85mswEA/Pz8AHBIU08h8ojV0tKC1NRUREdHa+ZBl5aWYseOHZg+fTo8PT1RUFCA+Ph4hIaGYsyYMQA4pKmnEAnr0KFDKCsrw8svv6zZbjAYcOjQIbz33nuoq6vDwIEDERUVhZUrV6prOKSpZ+A7oalTOKSJHIphkQiGRSIYFolgWCSCYZEIhkUiGBaJYFgkgmGRCIZFIhgWiWBYJIJhkQiGRSIYFolgWCSCYZEIhkUiGBaJYFgkgmGRCIZFIhgWiWBYJIJhkQiGRSIYFolgWCSCYZEIhkUiGBaJYFgkgmGRiE6HdfToUTz77LOwWCzQ6XTYu3evZr+iKFi1ahX8/Pzg4uKCsLAwfP3115o1lZWVmDt3LkwmE9zd3RETE4Pa2lrNmoKCAjzzzDPo27cvBg4ciPXr13f+pyOH6XRYdXV1GDt2LDZv3tzu/vXr12Pjxo346KOPcPLkSfTr1w8RERG4ffu2umbu3LkoKipCVlYWMjIycPToUc1ggZqaGoSHh2PQoEHIz8/Hhg0bsGbNGvzpT3/qwo9IjvCDLm6r0+mwZ88ezJw5E0Dro5XFYsFrr72G119/HQBQXV0NHx8fpKWlYdasWfjqq68watQonD59GuPGjQMAZGZmYvr06bhy5QosFgu2bNmC3/3udygvL1eHMr3xxhvYu3cvzp8/36Fj48VtZTjk4rYXLlxAeXk5wsLC1G1msxnBwcHIy8sD0DqEyd3dXY0KAMLCwqDX63Hy5El1TWhoqGbSV0REBIqLi/Hvf/+73e/NIU3Oxa5htQ1Ram/IUtu+8vJyeHt7a/b37t0bHh4emjWdHdSUnJwMs9ms3jhHx7F6zN8Kk5KSUF1drd4uX77s6EP6r2bXsNqGKLUNVWpTUVGh7vP19dXMyQGApqYmVFZWata09zXu/B7fZzQaYTKZNDdyHLuGNWTIEPj6+iI7O1vdVlNTg5MnTyIkJARA6xCmqqoq5Ofnq2sOHz6MlpYWdRJYSEgIjh49isbGRnVNVlYWhg8fjkceecSeh0xCOh1WbW0tbDabOrXrwoULsNlsKCsrg06nw7Jly/D73/8ef/3rX/Hll19i/vz5sFgs6t8cR44ciWnTpiE2NhanTp3C559/jri4OMyaNUudazhnzhwYDAbExMSgqKgIO3fuxPvvv6+ZR0jOrdNDms6cOYMpU6aon7f9z46OjkZaWhpWrFiBuro6LFy4EFVVVXj66aeRmZmJvn37qvfZvn074uLiMHXqVOj1ekRFRWHjxo3qfrPZjIMHD8JqtSIoKAheXl5YtWqV5rUucm4c0kSdwiFN5FAMi0QwLBLBsEgEwyIRDItEMCwSwbBIBMMiEQyLRDAsEsGwSATDIhEMi0QwLBLBsEgEwyIRDItEMCwSwbBIBMMiEQyLRDAsEsGwSATDIhEMi0QwLBLBsEgEwyIRDItEMCwSwbBIBMMiEQyLRDAsEmHX6V+NjY1ITExEYGAg+vXrB4vFgvnz5+Pq1auarzF48GDodDrNLSUlRbOG07+6N7tO/7p16xbOnj2LN998E2fPnsXu3btRXFyM55577q6169atw7Vr19Tb0qVL1X2c/tX9dfpy3JGRkYiMjGx3n9lsRlZWlmbbpk2bMGHCBJSVlcHf31/d7ubmds8pE9u3b0dDQwO2bdsGg8GAxx57DDabDe+88849L8ldX1+P+vp69XMOaXIs8XOs6upq6HQ6uLu7a7anpKTA09MTTzzxBDZs2ICmpiZ1X1emf3FIk3MRDev27dtITEzE7NmzNdcEf/XVV5Geno4jR45g0aJFePvtt7FixQp1f1emf3FIk3Pp9FNhRzU2NuIXv/gFFEXBli1bNPvuHF0yZswYGAwGLFq0CMnJyTAajV36fkajscv3JfsTecRqi+rSpUvIysp64CSu4OBgNDU14eLFiwC6Nv2LnIvdw2qL6uuvv8ahQ4fg6en5wPvYbDbo9Xp1QCanf3V/nX4qrK2tRUlJifp52/QvDw8P+Pn54cUXX8TZs2eRkZGB5uZm9ZzIw8MDBoMBeXl5OHnyJKZMmQI3Nzfk5eUhPj4e8+bNU6OZM2cO1q5di5iYGCQmJqKwsBDvv/8+3n33XTv92CSt00OacnJyNNO/2kRHR2PNmjUYMmRIu/c7cuQIJk+ejLNnz+LXv/41zp8/j/r6egwZMgQvvfQSEhISNOdIBQUFsFqtOH36NLy8vLB06VIkJiZ2+Dg5pElGR4c0cfoXdQqnf5FDMSwSwbBIBMMiEQyLRDAsEsGwSATDIhEMi0QwLBLBsEgEwyIRDItEMCwSwbBIBMMiEQyLRDAsEsGwSATDIhEMi0QwLBLBsEgEwyIRDItEMCwSwbBIBMMiEQyLRDAsEsGwSATDIhEMi0QwLBJh1yFNALBgwYK7BjBNmzZNs6ayshJz586FyWSCu7s7YmJiUFtbq1nDIU3dm12HNLWZNm2aZgDTJ598otk/d+5cFBUVISsrCxkZGTh69KhmRg6HNHV/dh3S1MZoNN7zQv9fffUVMjMzcfr0aYwbNw4A8MEHH2D69On44x//CIvFwiFNPYDIOVZOTg68vb0xfPhwLFmyBDdu3FD35eXlwd3dXY0KAMLCwqDX63Hy5El1DYc0dW92D2vatGn485//jOzsbPzhD39Abm4uIiMj0dzcDKB1yFLbBIo2vXv3hoeHhzpsgEOauj+7D2maNWuW+nFgYCDGjBmDgIAA5OTkYOrUqfb+dioOaXIu4i83DB06FF5eXuqYFF9fX1y/fl2zpqmpCZWVlep5GYc0dX/iYV25cgU3btyAn58fgNYBTFVVVcjPz1fXHD58GC0tLQgODlbXcEhT99bpsGpra2Gz2WCz2QB8N6SprKwMtbW1WL58OU6cOIGLFy8iOzsbzz//PIYNG4aIiAgAwMiRIzFt2jTExsbi1KlT+PzzzxEXF4dZs2bBYrEAaB3SZDAYEBMTg6KiIuzcuRPvv/++Zs4hOTe7DmnasmULZs6ciS+++AJVVVWwWCwIDw/HW2+9pTkZr6ysRFxcHD777DPo9XpERUVh48aN6N+/v7qGQ5qcE4c0MSwRHNJEDsWwSATDIhEMi0QwLBLBsEgEwyIRDItEMCwSwbBIBMMiEQyLRDAsEsGwSATDIhEMi0QwLBLBsEgEwyIRDItEMCwSwbBIBMMiEQyLRDAsEsGwSATDIhEMi0QwLBLBsEgEwyIRDItEMCwSwbBIhN2HNH1/QFPbbcOGDeqawYMH37U/JSVF83U4pKl7s/uQpjuHM127dg3btm2DTqdDVFSUZt26des065YuXaru45Cm7s/uQ5q+f4H/ffv2YcqUKRg6dKhmu5ub2z2HAXRlSBM5F9FzrIqKCuzfvx8xMTF37UtJSYGnpyeeeOIJbNiwAU1NTeq+rgxpqq+vR01NjeZGjmP3WTp3+vjjj+Hm5oYXXnhBs/3VV1/Fk08+CQ8PDxw/fhxJSUm4du0a3nnnHQCtg5iGDBmiuc+dQ5ram06RnJyMtWvXCv0k1FmiYW3btg1z585F3759NdvvnDAxZswYGAwGLFq0CMnJyV0etJSUlKT5ujU1NRwt50BiYf3jH/9AcXExdu7c+cC1wcHBaGpqwsWLFzF8+PAuDWni9C/nInaOtXXrVgQFBWHs2LEPXGuz2aDX69U5hhzS1P3ZdUhTm5qaGuzatQuvvPLKXffPy8vDe++9h3/+85/417/+he3btyM+Ph7z5s1To+GQpu6v00+FZ86c0QxpavufHR0djbS0NABAeno6FEXB7Nmz77q/0WhEeno61qxZg/r6egwZMgTx8fGaaMxmMw4ePAir1YqgoCB4eXlh1apVfKmhG+GQJuoUDmkih2JYJIJhkQiGRSIYFolgWCSCYZEIhkUiGBaJYFgkgmGRCIZFIhgWiWBYJIJhkQiGRSIYFolgWCSCYZEIhkUiGBaJYFgkgmGRCIZFIhgWiWBYJIJhkQiGRSIYFolgWCSCYZEIhkUiGBaJYFgkolNhJScnY/z48XBzc4O3tzdmzpyJ4uJizZrbt2/DarXC09MT/fv3R1RU1F2X1i4rK8OMGTPg6uoKb29vLF++XDOZAgBycnLw5JNPwmg0YtiwYer1Tal76FRYubm5sFqtOHHiBLKystDY2Ijw8HDU1dWpa+Lj4/HZZ59h165dyM3NxdWrVzWTKZqbmzFjxgw0NDTg+PHj+Pjjj5GWloZVq1apay5cuIAZM2ZgypQpsNlsWLZsGV555RX8/e9/t8OPTA/DD7q47TfffANvb2/k5uYiNDQU1dXVGDBgAHbs2IEXX3wRAHD+/HmMHDkSeXl5mDhxIv72t7/hpz/9Ka5evaqOMfnoo4+QmJiIb775BgaDAYmJidi/fz8KCwvV7zVr1ixUVVUhMzOzQ8fGi9vKeCgXt62urgYAeHh4AADy8/PR2NiIsLAwdc2IESPg7++PvLw8AK3XeQ8MDFSjAloHMNXU1KCoqEhdc+fXaFvT9jXawyFNzqXLYbW0tGDZsmV46qmnMHr0aACtA5QMBgPc3d01a318fFBeXq6uuTOqtv1t++63pqamBv/5z3/aPZ7k5GSYzWb1xjk6jtXlsKxWKwoLC5Genm7P4+mypKQkVFdXq7fLly87+pD+q3VpSFNcXBwyMjJw9OhRPProo+p2X19fNDQ0oKqqSvOoVVFRoQ5X8vX1xalTpzRf7/sDmO41pMlkMsHFxaXdY+KQJufSqUcsRVEQFxeHPXv24PDhw3fNFAwKCkKfPn2QnZ2tbisuLkZZWRlCQkIAtA5g+vLLL3H9+nV1TVZWFkwmE0aNGqWuufNrtK1p+xrk/Dr1iGW1WrFjxw7s27cPbm5u6jmR2WyGi4sLzGYzYmJikJCQAA8PD5hMJixduhQhISGYOHEiACA8PByjRo3CSy+9hPXr16O8vBwrV66E1WpVH3EWL16MTZs2YcWKFXj55Zdx+PBhfPrpp9i/f7+df3yS0qmXG3Q6XbvbU1NTsWDBAgCtL5C+9tpr+OSTT1BfX4+IiAh8+OGHmjmDly5dwpIlS5CTk4N+/fohOjoaKSkp6N37u85zcnIQHx+Pc+fO4dFHH8Wbb76pfo+O4MsNMjr6cgOHNFGndDQs0dG9jtT256UJjUCP/KPjGE1oHU76oMejHhvWjRs3AADHcMDBR9Iz3bx5E2az+Z77e2xYbf8aUFZWdt//AM6kbUD65cuX7/s040iKouDmzZuwWCz3Xddjw9LrW19JMZvNTvs/6V5MJpNTH3NH/qDy97FIBMMiET02LKPRiNWrV3erf+bpjsd8Lz32dSxyrB77iEWOxbBIBMMiEQyLRDAsEtEjw9q8eTMGDx6Mvn37Ijg4+K7fWH2YOvJezMmTJ0On02luixcv1qzpyHsxnYrSw6SnpysGg0HZtm2bUlRUpMTGxiru7u5KRUWFQ44nIiJCSU1NVQoLCxWbzaZMnz5d8ff3V2pra9U1kyZNUmJjY5Vr166pt+rqanV/U1OTMnr0aCUsLEz54osvlAMHDiheXl5KUlKSI36kDulxYU2YMEGxWq3q583NzYrFYlGSk5MdeFTfuX79ugJAyc3NVbdNmjRJ+c1vfnPP+xw4cEDR6/VKeXm5um3Lli2KyWRS6uvrJQ+3y3rUU2FDQwPy8/M170nU6/UICwu773sSH6bvvxezzfbt2+Hl5YXRo0cjKSkJt27dUvd15L2YzqZH/XbDt99+i+bm5nbfk3j+/HkHHdV32nsvJgDMmTMHgwYNgsViQUFBARITE1FcXIzdu3cD6Nh7MZ1NjwrL2bW9F/PYsWOa7QsXLlQ/DgwMhJ+fH6ZOnYrS0lIEBAQ87MO0ix71VOjl5YVevXq1+57EO9/M4Qht78U8cuSI5r2Y7QkODgYAlJSUALj3+yzb9jmjHhWWwWBAUFCQ5j2JLS0tyM7Odth7EpUHvBezPTabDQDg5+cHoGPvxXQ6jv7bg72lp6crRqNRSUtLU86dO6csXLhQcXd31/yN6mFasmSJYjablZycHM3LCbdu3VIURVFKSkqUdevWKWfOnFEuXLig7Nu3Txk6dKgSGhqqfo22lxvCw8MVm82mZGZmKgMGDODLDQ/bBx98oPj7+ysGg0GZMGGCcuLECYcdC1rfI3TXLTU1VVEURSkrK1NCQ0MVDw8PxWg0KsOGDVOWL1+ueR1LURTl4sWLSmRkpOLi4qJ4eXkpr732mtLY2OiAn6hj+PtYJKJHnWOR82BYJIJhkQiGRSIYFolgWCSCYZEIhkUiGBaJYFgkgmGRiP8H0kDP7EPEt0EAAAAASUVORK5CYII=",
      "text/plain": [
       "<Figure size 640x480 with 1 Axes>"
      ]
     },
     "metadata": {},
     "output_type": "display_data"
    }
   ],
   "source": [
    "mask = masks[0]\n",
    "\n",
    "imshow(mask==5)\n",
    "plt.show()"
   ]
  },
  {
   "cell_type": "markdown",
   "id": "26517579-b640-491d-b9b1-8ad338a2f740",
   "metadata": {},
   "source": [
    "### Bounding Boxes"
   ]
  },
  {
   "cell_type": "code",
   "execution_count": null,
   "id": "cd179fb4-f965-4783-8bc4-a08221145043",
   "metadata": {},
   "outputs": [],
   "source": [
    "binary = np.uint8((mask == 5) * 255)"
   ]
  },
  {
   "cell_type": "code",
   "execution_count": null,
   "id": "50757af0-28dd-4765-9355-de22e361968b",
   "metadata": {},
   "outputs": [
    {
     "data": {
      "text/plain": [
       "array([[268, 584],\n",
       "       [264, 584],\n",
       "       [263, 585],\n",
       "       [262, 585],\n",
       "       [261, 586],\n",
       "       [260, 586],\n",
       "       [259, 587],\n",
       "       [258, 587],\n",
       "       [257, 588]], dtype=int32)"
      ]
     },
     "execution_count": 58,
     "metadata": {},
     "output_type": "execute_result"
    }
   ],
   "source": [
    "contours, _ = cv2.findContours(binary, cv2.RETR_EXTERNAL, cv2.CHAIN_APPROX_SIMPLE)\n",
    "contours[0][1:10,0]"
   ]
  },
  {
   "cell_type": "code",
   "execution_count": null,
   "id": "8bf43d3e-770d-46c0-8b27-4cd23a2031c8",
   "metadata": {},
   "outputs": [],
   "source": [
    "blank = np.zeros_like(binary)\n",
    "for coord in contours[0]:\n",
    "    x, y = coord[0, 0], coord[0,1]\n",
    "    blank[y, x] = 1"
   ]
  },
  {
   "cell_type": "code",
   "execution_count": null,
   "id": "a5c5ecdb-392d-42f9-87fd-51e7b65cec7a",
   "metadata": {},
   "outputs": [
    {
     "data": {
      "text/plain": [
       "(238, 583, 67, 59)"
      ]
     },
     "execution_count": 53,
     "metadata": {},
     "output_type": "execute_result"
    }
   ],
   "source": [
    "x, y, w, h = cv2.boundingRect(contours[0])\n",
    "x, y, w, h"
   ]
  },
  {
   "cell_type": "code",
   "execution_count": null,
   "id": "e90d2742-c286-461f-8de7-b6849e4221b6",
   "metadata": {},
   "outputs": [],
   "source": [
    "def draw_bounding_box(mask, cellID, padding=3, thickness=3):\n",
    "    binary_array = (mask == cellID)\n",
    "    # Convert binary array to binary image\n",
    "    binary_image = np.uint8(binary_array * 255)\n",
    "    \n",
    "    # Find contours\n",
    "    contours, _ = cv2.findContours(binary_image, cv2.RETR_EXTERNAL, cv2.CHAIN_APPROX_SIMPLE)\n",
    "    \n",
    "    # Get the bounding rectangle\n",
    "    x, y, w, h = cv2.boundingRect(contours[0])\n",
    "    \n",
    "    # Apply padding\n",
    "    x -= padding\n",
    "    y -= padding\n",
    "    w += 2 * padding\n",
    "    h += 2 * padding\n",
    "    \n",
    "    # Draw bounding box\n",
    "    bounding_box_image = cv2.rectangle(np.zeros_like(mask), (x, y), (x + w, y + h), cellID, thickness)\n",
    "    \n",
    "    return bounding_box_image, (x, y, w, h)"
   ]
  },
  {
   "cell_type": "code",
   "execution_count": null,
   "id": "e33d0a94-5ab7-4ce3-bd4d-2f2c8ca1998b",
   "metadata": {},
   "outputs": [],
   "source": [
    "box, (x, y, w, h) = draw_bounding_box(mask, 5, padding=10)"
   ]
  },
  {
   "cell_type": "code",
   "execution_count": null,
   "id": "7f1f9576-f729-4290-9ab5-97cddc960a04",
   "metadata": {},
   "outputs": [
    {
     "data": {
      "text/plain": [
       "(228, 573, 87, 79)"
      ]
     },
     "execution_count": 98,
     "metadata": {},
     "output_type": "execute_result"
    }
   ],
   "source": [
    "x, y, w, h"
   ]
  },
  {
   "cell_type": "code",
   "execution_count": null,
   "id": "e5d29507-94df-4e27-928b-a17ca3b02151",
   "metadata": {},
   "outputs": [
    {
     "data": {
      "text/plain": [
       "<matplotlib.image.AxesImage at 0x7f216d4e8160>"
      ]
     },
     "execution_count": 105,
     "metadata": {},
     "output_type": "execute_result"
    },
    {
     "data": {
      "image/png": "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",
      "text/plain": [
       "<Figure size 640x480 with 1 Axes>"
      ]
     },
     "metadata": {},
     "output_type": "display_data"
    }
   ],
   "source": [
    "imshow((box+mask)[y:y+h, x:w+x])"
   ]
  },
  {
   "cell_type": "code",
   "execution_count": null,
   "id": "6f4107d0-7ca7-4f5c-8ca8-c169c33257bb",
   "metadata": {},
   "outputs": [],
   "source": [
    "#np.save(\"pip3-06_processed_frame_masks_z50.npy\", masks)"
   ]
  },
  {
   "cell_type": "code",
   "execution_count": null,
   "id": "e27254d5-7a22-47e7-bc1d-1314957f160b",
   "metadata": {
    "scrolled": true
   },
   "outputs": [
    {
     "name": "stdout",
     "output_type": "stream",
     "text": [
      "[('S', 1), ('T', 1), ('C', 2), ('Z', 1), ('Y', 2048), ('X', 475)]\n"
     ]
    }
   ],
   "source": [
    "frame50 = get_image(50)[0]"
   ]
  },
  {
   "cell_type": "code",
   "execution_count": null,
   "id": "264fefed-a43c-4fee-947c-a0735ce23355",
   "metadata": {},
   "outputs": [
    {
     "data": {
      "text/plain": [
       "62"
      ]
     },
     "execution_count": 104,
     "metadata": {},
     "output_type": "execute_result"
    }
   ],
   "source": [
    "np.sum(frame50[0] > 1000)"
   ]
  },
  {
   "cell_type": "code",
   "execution_count": null,
   "id": "a6045ab1-d7b0-49e9-9436-5734af174292",
   "metadata": {},
   "outputs": [],
   "source": [
    "pixel_vals = pd.Series(frame50[0].flatten()).value_counts()"
   ]
  },
  {
   "cell_type": "code",
   "execution_count": null,
   "id": "72125848-154a-4fe3-a5ce-406a8e1c50a6",
   "metadata": {},
   "outputs": [
    {
     "data": {
      "text/plain": [
       "9558"
      ]
     },
     "execution_count": 126,
     "metadata": {},
     "output_type": "execute_result"
    }
   ],
   "source": [
    "pixel_vals[pixel_vals.index > 313].sum()"
   ]
  },
  {
   "cell_type": "code",
   "execution_count": null,
   "id": "e833a1c8-2758-45b3-b316-32e6d6d8f012",
   "metadata": {},
   "outputs": [],
   "source": [
    "I = scale_img(frame50[0])"
   ]
  },
  {
   "cell_type": "code",
   "execution_count": null,
   "id": "06819c8c-b3d7-4276-8dd7-b23810347421",
   "metadata": {},
   "outputs": [
    {
     "data": {
      "text/plain": [
       "<matplotlib.image.AxesImage at 0x7f0b58d14700>"
      ]
     },
     "execution_count": 140,
     "metadata": {},
     "output_type": "execute_result"
    },
    {
     "data": {
      "image/png": "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",
      "text/plain": [
       "<Figure size 640x480 with 1 Axes>"
      ]
     },
     "metadata": {},
     "output_type": "display_data"
    }
   ],
   "source": [
    "plt.imshow(frame50[0])"
   ]
  },
  {
   "cell_type": "code",
   "execution_count": null,
   "id": "b7dc1f20-7723-4860-91c7-967b61dfcb51",
   "metadata": {},
   "outputs": [
    {
     "data": {
      "text/plain": [
       "<matplotlib.image.AxesImage at 0x7f0b58c8c0d0>"
      ]
     },
     "execution_count": 141,
     "metadata": {},
     "output_type": "execute_result"
    },
    {
     "data": {
      "image/png": "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",
      "text/plain": [
       "<Figure size 640x480 with 1 Axes>"
      ]
     },
     "metadata": {},
     "output_type": "display_data"
    }
   ],
   "source": [
    "plt.imshow(I*255)"
   ]
  },
  {
   "cell_type": "markdown",
   "id": "4f63a107-bdb9-492a-bab0-5dbb6b1951d2",
   "metadata": {
    "id": "4f63a107-bdb9-492a-bab0-5dbb6b1951d2"
   },
   "source": [
    "## Dataloader"
   ]
  },
  {
   "cell_type": "code",
   "execution_count": null,
   "id": "62790683-a55f-4289-9299-71df7c7ad548",
   "metadata": {},
   "outputs": [],
   "source": [
    "class CziVideo:\n",
    "    def __init__(self, fpath):\n",
    "        self.file = fpath\n",
    "        self.video = CziFile(fpath)\n",
    "        self.dims = self.video.get_dims_shape()[0]\n",
    "\n",
    "        self.num_frames = self.dims['T'][-1]\n",
    "        self.num_zslices = self.dims['Z'][-1]\n",
    "        print(f\"Video with {self.num_frames} frames, {self.num_zslices} z slices\")\n",
    "\n",
    "        self.num_cells_per_frame = {}\n",
    "        self.cell_masks = {}\n",
    "\n",
    "    def get_plane(z_plane, scale=True):\n",
    "        plane, shp = self.video.read_image(S=0, Z=z_plane, C=self.channel)\n",
    "        if(scale):\n",
    "            plane = self.scale_img(plane)\n",
    "\n",
    "        return(plane.squeeze())\n",
    "    \n",
    "    def get_image(self, z_plane, timestep, channel=0, scale=True):\n",
    "        timestep = timestep % self.num_frames\n",
    "        z_plane = z_plane % self.num_zslices\n",
    "        img, shp = self.video.read_image(S=0, Z=z_plane, T=timestep, C=channel)\n",
    "        img = img.squeeze()\n",
    "        if(scale):\n",
    "            img = self.scale_img(img)\n",
    "        return(img) # returns (channels, Y, X)\n",
    "\n",
    "    def scale_img(self, img):\n",
    "        lower_bound = np.percentile(img, 1)\n",
    "        upper_bound = np.percentile(img, 99.9)\n",
    "        I = (img - lower_bound) / (upper_bound - lower_bound)\n",
    "        I = np.clip(I, 0, 1)\n",
    "        return(I)\n",
    "\n",
    "    def load_segmentation_masks(self, zplane=50, verbose=False):\n",
    "        print(f\"Loading segmentation masks for zplane {zplane}\")\n",
    "        num_cells = []\n",
    "        cell_masks = []\n",
    "        flows = []\n",
    "        styles = []\n",
    "        for frame in range(self.dims['T'][-1]):\n",
    "            if(verbose):\n",
    "                print(f\"Computing for timestep {frame}\")\n",
    "            img = self.get_image(zplane, frame)\n",
    "            mask, flow, style = models.CellposeModel(model_type='cyto3').eval(img,\n",
    "                                    diameter=None, channels=[0,0])\n",
    "            cell_masks.append(mask)\n",
    "            flows.append(flow)\n",
    "            styles.append(style)\n",
    "            N = len(np.unique(masks))\n",
    "            num_cells.append(N)\n",
    "\n",
    "        self.num_cells_per_frame[zplane] = num_cells\n",
    "        self.cell_masks[zplane] = {\n",
    "            \"masks\" : np.array(cell_masks),\n",
    "            \"flows\" : flows,\n",
    "            \"styles\" : styles,\n",
    "        }\n",
    "\n",
    "    def calculate_bounding_boxes(self, zplane=50, verbose=False):\n",
    "        print(self.cell_masks.keys(), zplane in self.cell_masks.keys())\n",
    "        masks = self.cell_masks[zplane]['masks']\n",
    "        bounding_boxes = {}\n",
    "        for frame, num_cells_in_frame in enumerate(self.num_cells_per_frame[50]):\n",
    "            mask = masks[frame]\n",
    "            bounding_boxes[frame] = []\n",
    "            for cell_id in range(num_cells_in_frame):\n",
    "                if verbose:\n",
    "                    print(f'Fetching cell {cell_id} from frame {frame}')\n",
    "                binary = np.uint8((mask==cell_id) * 255)\n",
    "                contours, _ = cv2.findContours(binary_image, cv2.RETR_EXTERNAL, cv2.CHAIN_APPROX_SIMPLE)\n",
    "                if(len(contours) == 0):\n",
    "                    if(verbose):\n",
    "                        print(\"contour not found\")\n",
    "                    \n",
    "                else:\n",
    "                    x, y, w, h = cv2.boundingRect(contours[0])\n",
    "                    x -= padding\n",
    "                    y -= padding\n",
    "                    w += 2 * padding\n",
    "                    h += 2 * padding\n",
    "                    bounding_boxes[frame].append((x, y, w, h))\n",
    "        self.cell_masks[zplane]['boxes'] = bounding_boxes\n",
    "        return(bounding_boxes)\n",
    "            \n",
    "\n",
    "\n",
    "    def find_bounding_box(self, mask, cellID, padding=3):\n",
    "        binary_array = (mask == cellID)\n",
    "        # Convert binary array to binary image\n",
    "        binary_image = np.uint8(binary_array * 255)\n",
    "        \n",
    "        # Find contours\n",
    "        \n",
    "        contours, _ = cv2.findContours(binary_image, cv2.RETR_EXTERNAL, cv2.CHAIN_APPROX_SIMPLE)\n",
    "        print(f\"Contours size {len(contours)}\")\n",
    "        # Get the bounding rectangle\n",
    "        x, y, w, h = cv2.boundingRect(contours[0])\n",
    "        \n",
    "        # Apply padding\n",
    "        x -= padding\n",
    "        y -= padding\n",
    "        w += 2 * padding\n",
    "        h += 2 * padding\n",
    "        return(x, y, w, h)\n",
    "\n",
    "    def draw_bounding_box(self, image, rec, value, thickness=3):\n",
    "        # value is what pixel val want to put there\n",
    "        x, y, w, h = rec\n",
    "        # Draw bounding box over image\n",
    "        bounding_box_image = cv2.rectangle(image, (x, y), (x + w, y + h), value, thickness)\n",
    "        \n",
    "        return bounding_box_image, (x, y, w, h)\n",
    "\n",
    "\n",
    "    def get_cell_mask(self, zplane, frame, cell_num):\n",
    "        if(len(self.cell_masks) > 0 and zplane in self.cell_masks.keys()):\n",
    "            masks = self.cell_masks[zplane][\"masks\"]\n",
    "            if(cell_num < self.num_cells_per_frame[zplane][frame]):\n",
    "                print(f\"Fetching mask for cell {cell_num} out of {self.num_cells_per_frame[zplane][frame]} cells in frame\")\n",
    "                return(masks[frame] == cell_num)\n",
    "            else:\n",
    "                print(f\"Requested cell id {cell_num} out of range. This frame has only {self.num_cells_per_frame[zplane][frame]} cells\")\n",
    "                return(-1)\n",
    "        else:\n",
    "            print(\"This zplane has not loaded masks yet. Try running load_segmentation_masks(zplane) first!\")\n",
    "            return(-1)\n",
    "\n"
   ]
  },
  {
   "cell_type": "code",
   "execution_count": null,
   "id": "ee3fc4f9-9f67-4251-8e07-6e77c086c2e1",
   "metadata": {},
   "outputs": [
    {
     "name": "stdout",
     "output_type": "stream",
     "text": [
      "Video with 241 frames, 114 z slices\n"
     ]
    }
   ],
   "source": [
    "czi = CziVideo(fname)\n",
    "czi.cell_masks[50] = {\"masks\" : masks}\n",
    "czi.num_cells_per_frame[50] = num_cells_per_frame"
   ]
  },
  {
   "cell_type": "code",
   "execution_count": null,
   "id": "166a654d-376e-471d-80fe-612e67f72112",
   "metadata": {},
   "outputs": [
    {
     "data": {
      "text/plain": [
       "(241, 2048, 475)"
      ]
     },
     "execution_count": 70,
     "metadata": {},
     "output_type": "execute_result"
    }
   ],
   "source": [
    "czi.cell_masks[50]['masks'].shape"
   ]
  },
  {
   "cell_type": "code",
   "execution_count": null,
   "id": "6ffbc4d8-9210-4300-b5c3-d2abf40f6719",
   "metadata": {},
   "outputs": [
    {
     "name": "stdout",
     "output_type": "stream",
     "text": [
      "dict_keys([50]) True\n",
      "Fetching cell 0 from frame 0\n",
      "Contours size 12\n",
      "Fetching cell 1 from frame 0\n",
      "Contours size 1\n",
      "Fetching cell 2 from frame 0\n",
      "Contours size 0\n"
     ]
    },
    {
     "ename": "IndexError",
     "evalue": "tuple index out of range",
     "output_type": "error",
     "traceback": [
      "\u001b[0;31m---------------------------------------------------------------------------\u001b[0m",
      "\u001b[0;31mIndexError\u001b[0m                                Traceback (most recent call last)",
      "Cell \u001b[0;32mIn[71], line 1\u001b[0m\n\u001b[0;32m----> 1\u001b[0m boxes \u001b[38;5;241m=\u001b[39m \u001b[43mczi\u001b[49m\u001b[38;5;241;43m.\u001b[39;49m\u001b[43mcalculate_bounding_boxes\u001b[49m\u001b[43m(\u001b[49m\u001b[38;5;241;43m50\u001b[39;49m\u001b[43m,\u001b[49m\u001b[43m \u001b[49m\u001b[43mverbose\u001b[49m\u001b[38;5;241;43m=\u001b[39;49m\u001b[38;5;28;43;01mTrue\u001b[39;49;00m\u001b[43m)\u001b[49m\n",
      "Cell \u001b[0;32mIn[68], line 73\u001b[0m, in \u001b[0;36mCziVideo.calculate_bounding_boxes\u001b[0;34m(self, zplane, verbose)\u001b[0m\n\u001b[1;32m     71\u001b[0m         \u001b[38;5;28;01mif\u001b[39;00m verbose:\n\u001b[1;32m     72\u001b[0m             \u001b[38;5;28mprint\u001b[39m(\u001b[38;5;124mf\u001b[39m\u001b[38;5;124m'\u001b[39m\u001b[38;5;124mFetching cell \u001b[39m\u001b[38;5;132;01m{\u001b[39;00mcell_id\u001b[38;5;132;01m}\u001b[39;00m\u001b[38;5;124m from frame \u001b[39m\u001b[38;5;132;01m{\u001b[39;00mframe\u001b[38;5;132;01m}\u001b[39;00m\u001b[38;5;124m'\u001b[39m)\n\u001b[0;32m---> 73\u001b[0m         rec \u001b[38;5;241m=\u001b[39m \u001b[38;5;28;43mself\u001b[39;49m\u001b[38;5;241;43m.\u001b[39;49m\u001b[43mfind_bounding_box\u001b[49m\u001b[43m(\u001b[49m\u001b[43mcell_mask\u001b[49m\u001b[43m,\u001b[49m\u001b[43m \u001b[49m\u001b[43mcell_id\u001b[49m\u001b[43m,\u001b[49m\u001b[43m \u001b[49m\u001b[43mpadding\u001b[49m\u001b[38;5;241;43m=\u001b[39;49m\u001b[38;5;241;43m0\u001b[39;49m\u001b[43m)\u001b[49m\n\u001b[1;32m     74\u001b[0m         bounding_boxes[frame]\u001b[38;5;241m.\u001b[39mappend(rec)\n\u001b[1;32m     75\u001b[0m \u001b[38;5;28mself\u001b[39m\u001b[38;5;241m.\u001b[39mcell_masks[zplane][\u001b[38;5;124m'\u001b[39m\u001b[38;5;124mboxes\u001b[39m\u001b[38;5;124m'\u001b[39m] \u001b[38;5;241m=\u001b[39m bounding_boxes\n",
      "Cell \u001b[0;32mIn[68], line 90\u001b[0m, in \u001b[0;36mCziVideo.find_bounding_box\u001b[0;34m(self, mask, cellID, padding)\u001b[0m\n\u001b[1;32m     88\u001b[0m \u001b[38;5;28mprint\u001b[39m(\u001b[38;5;124mf\u001b[39m\u001b[38;5;124m\"\u001b[39m\u001b[38;5;124mContours size \u001b[39m\u001b[38;5;132;01m{\u001b[39;00m\u001b[38;5;28mlen\u001b[39m(contours)\u001b[38;5;132;01m}\u001b[39;00m\u001b[38;5;124m\"\u001b[39m)\n\u001b[1;32m     89\u001b[0m \u001b[38;5;66;03m# Get the bounding rectangle\u001b[39;00m\n\u001b[0;32m---> 90\u001b[0m x, y, w, h \u001b[38;5;241m=\u001b[39m cv2\u001b[38;5;241m.\u001b[39mboundingRect(\u001b[43mcontours\u001b[49m\u001b[43m[\u001b[49m\u001b[38;5;241;43m0\u001b[39;49m\u001b[43m]\u001b[49m)\n\u001b[1;32m     92\u001b[0m \u001b[38;5;66;03m# Apply padding\u001b[39;00m\n\u001b[1;32m     93\u001b[0m x \u001b[38;5;241m-\u001b[39m\u001b[38;5;241m=\u001b[39m padding\n",
      "\u001b[0;31mIndexError\u001b[0m: tuple index out of range"
     ]
    }
   ],
   "source": [
    "boxes = czi.calculate_bounding_boxes(50, verbose=True)"
   ]
  },
  {
   "cell_type": "code",
   "execution_count": null,
   "id": "bccff70f-05ab-44d6-91e8-da2dfca6e9e2",
   "metadata": {},
   "outputs": [
    {
     "name": "stdout",
     "output_type": "stream",
     "text": [
      "Fetching mask for cell 10 out of 19 cells in frame\n"
     ]
    },
    {
     "data": {
      "text/plain": [
       "<matplotlib.image.AxesImage at 0x7faa20d3fa60>"
      ]
     },
     "execution_count": 41,
     "metadata": {},
     "output_type": "execute_result"
    },
    {
     "data": {
      "image/png": "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",
      "text/plain": [
       "<Figure size 640x480 with 1 Axes>"
      ]
     },
     "metadata": {},
     "output_type": "display_data"
    }
   ],
   "source": [
    "plt.imshow(czi.get_cell_mask(50, 20, 10))"
   ]
  },
  {
   "cell_type": "code",
   "execution_count": null,
   "id": "82d8a7d1-3021-4ed1-8bd1-ef75240658a1",
   "metadata": {},
   "outputs": [
    {
     "data": {
      "text/plain": [
       "1.0"
      ]
     },
     "execution_count": 40,
     "metadata": {},
     "output_type": "execute_result"
    }
   ],
   "source": [
    "czi.get_image(50, 20, True).max()"
   ]
  },
  {
   "cell_type": "code",
   "execution_count": null,
   "id": "65dc993f-8091-4c4b-b973-7a30f1e7586d",
   "metadata": {},
   "outputs": [
    {
     "data": {
      "text/plain": [
       "<matplotlib.image.AxesImage at 0x7faa20df0490>"
      ]
     },
     "execution_count": 34,
     "metadata": {},
     "output_type": "execute_result"
    },
    {
     "data": {
      "image/png": "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",
      "text/plain": [
       "<Figure size 640x480 with 1 Axes>"
      ]
     },
     "metadata": {},
     "output_type": "display_data"
    }
   ],
   "source": [
    "plt.imshow()"
   ]
  },
  {
   "cell_type": "code",
   "execution_count": null,
   "id": "9147d306-5689-40d2-be96-6e11e6ffb0c4",
   "metadata": {},
   "outputs": [],
   "source": []
  },
  {
   "cell_type": "code",
   "execution_count": null,
   "id": "7739a12e-3105-4c83-ae9f-cd31491b894a",
   "metadata": {
    "id": "7739a12e-3105-4c83-ae9f-cd31491b894a"
   },
   "outputs": [
    {
     "ename": "NameError",
     "evalue": "name 'Dataset' is not defined",
     "output_type": "error",
     "traceback": [
      "\u001b[0;31m---------------------------------------------------------------------------\u001b[0m",
      "\u001b[0;31mNameError\u001b[0m                                 Traceback (most recent call last)",
      "Cell \u001b[0;32mIn[16], line 1\u001b[0m\n\u001b[0;32m----> 1\u001b[0m \u001b[38;5;28;01mclass\u001b[39;00m \u001b[38;5;21;01mCziVideoDataset\u001b[39;00m(\u001b[43mDataset\u001b[49m):\n\u001b[1;32m      2\u001b[0m     \u001b[38;5;28;01mdef\u001b[39;00m \u001b[38;5;21m__init__\u001b[39m(\u001b[38;5;28mself\u001b[39m, fpath, frame_split\u001b[38;5;241m=\u001b[39m[\u001b[38;5;241m16\u001b[39m,\u001b[38;5;241m16\u001b[39m], channel\u001b[38;5;241m=\u001b[39m\u001b[38;5;241m-\u001b[39m\u001b[38;5;241m1\u001b[39m):\n\u001b[1;32m      4\u001b[0m         \u001b[38;5;28mself\u001b[39m\u001b[38;5;241m.\u001b[39mvideo \u001b[38;5;241m=\u001b[39m CziVideo(fpath)\n",
      "\u001b[0;31mNameError\u001b[0m: name 'Dataset' is not defined"
     ]
    }
   ],
   "source": [
    "import torch\n",
    "from torch import nn\n",
    "from torch.utils.data import Dataset, DataLoader\n",
    "\n",
    "class CziVideoDataset(Dataset):\n",
    "    def __init__(self, fpath, frame_split=[16,16], channel=-1):\n",
    "        \n",
    "        self.video = CziVideo(fpath)\n",
    "        \n",
    "        self.patches_per_frame = frame_split[0] * frame_split[1]\n",
    "        self.grid_size = frame_split\n",
    "        #self.frames = data[:,channel, :, :].astype(np.float32)\n",
    "        #self.frame_tensors = torch.tensor(self.frames, dtype=torch.float32).clone().detach()\n",
    "\n",
    "        self.num_cells_per_frame = {}\n",
    "        self.cell_masks = {}    \n",
    "\n",
    "    def __len__(self):\n",
    "        # THIS MIGHT NOT BE TRUE\n",
    "        # reasoning is that if 10 frames, trigram model, first frame possible is 8. (8,9), 10\n",
    "        return((len(self.frames) - self.n + 1) * self.patches_per_frame)\n",
    "\n",
    "    def __getitem__(self, idx):\n",
    "        # indexes at max max-n frames\n",
    "        first_frame = idx//self.patches_per_frame\n",
    "        patch_index = idx%self.patches_per_frame\n",
    "        print(f\"first frame at {first_frame}, patch {patch_index}\")\n",
    "        if(self.n>0):\n",
    "            Xs = []\n",
    "            for i in range(self.n-1):\n",
    "                patch = self.get_patch(first_frame+i, patch_index)\n",
    "                print(patch.shape)\n",
    "                Xs.append(patch)\n",
    "            X = torch.cat(Xs, dim=0)\n",
    "            print(X.shape)\n",
    "            y = self.get_patch(first_frame + self.n - 1, patch_index)\n",
    "            return(torch.flatten(X), torch.flatten(y))\n",
    "        else:\n",
    "            raise NotImplementedError\n",
    "\n",
    "    def get_patch(self, frame_index, patch):\n",
    "        arr = self.frame_tensors[frame_index]\n",
    "        assert patch < self.patches_per_frame, \"Patch index out of range\"\n",
    "        height, width = arr.shape\n",
    "        #print(height, width)\n",
    "        row_size, col_size = int(height / self.grid_size[0]), int(width/self.grid_size[1])\n",
    "        patch_row, patch_col = int(patch/self.grid_size[1]), patch%self.grid_size[1] # [0 1 2; 3 4 5; 6 7 8]\n",
    "        #print(f\"Row {patch_row}, ({row_size}px), Col {patch_col}, ({col_size}px)\")\n",
    "        return(arr[row_size*patch_row:row_size*(patch_row+1), col_size*patch_col:col_size*(patch_col+1)])\n",
    "\n",
    "    def reshape_flattened(self, flattened_patch):\n",
    "        # turn input flattened vector back into frames for viewing (heightxwidthxnum_frames)\n",
    "        frame_height, frame_width = self.frames[0].shape\n",
    "        patch_height, patch_width = frame_height // self.grid_size[0], frame_width // self.grid_size[1]\n",
    "        return(flattened_patch.reshape([patch_height, patch_width, -1]))\n",
    "\n"
   ]
  },
  {
   "cell_type": "code",
   "execution_count": null,
   "id": "e1ad77a2-2c01-43da-9f01-8799bfeb3e19",
   "metadata": {},
   "outputs": [
    {
     "data": {
      "text/plain": [
       "'../dicty_factin_pip3-06_processed.czi'"
      ]
     },
     "execution_count": 157,
     "metadata": {},
     "output_type": "execute_result"
    }
   ],
   "source": [
    "fname"
   ]
  },
  {
   "cell_type": "code",
   "execution_count": null,
   "id": "5a702806-f3b1-4ab1-9544-735c4a788568",
   "metadata": {
    "id": "5a702806-f3b1-4ab1-9544-735c4a788568",
    "outputId": "8fd941f2-d159-4cfb-e44f-bb6fe05d2bd6"
   },
   "outputs": [
    {
     "name": "stdout",
     "output_type": "stream",
     "text": [
      "Video with 241 frames, 114 z slices\n"
     ]
    }
   ],
   "source": [
    "ds = CziVideoDataset(fname, frame_split=[16, 4], channel=0)"
   ]
  },
  {
   "cell_type": "code",
   "execution_count": null,
   "id": "615a85c4-dd5a-4945-8890-9e74ef166c36",
   "metadata": {},
   "outputs": [
    {
     "name": "stdout",
     "output_type": "stream",
     "text": [
      "Fetching mask for cell 2 out of 29 cells in frame\n"
     ]
    },
    {
     "data": {
      "image/png": "iVBORw0KGgoAAAANSUhEUgAAAGkAAAGFCAYAAAD+c913AAAAOXRFWHRTb2Z0d2FyZQBNYXRwbG90bGliIHZlcnNpb24zLjguNCwgaHR0cHM6Ly9tYXRwbG90bGliLm9yZy8fJSN1AAAACXBIWXMAAA9hAAAPYQGoP6dpAAAs3klEQVR4nO19S48sSZbWd8w8Ih+3bj26qDtd3fRrmOG5AAmEYIWEQELsWc4/QEiwY4EQG34Cf2L+wCAQO1g0QixaMwIh0U13T8109etW3XszIzPc7bCwh5tbmLmbe0S4WdzMT8rMCHdzc0/7/Dzs2DEzYmbGM6qGKP0Az5jGM0kXgGeSLgDPJF0Ankm6ADyTdAF4JukC8EzSBaDJLfiPxT9bfhci4MWt/jv7WgCC0F5LtN9psZEK9++22NzscdO0YABvf3uLm18piEcFMAMM6F8L7udgr7d9fdJ1v7vTf0+E/6T+cLJMNknnQUZDMgDFkA8K3S832BNw9QioZos3t1sQA9e/ZYi90mVHCfIbfopACv6WC8wUJilsqETjMUDMaO4YolOA0t+3bwW6LWmClL0+Vm/GPbKetQxRBUgaa6SRxlMMueu8OgBSCk2HXnom2/AY9Xf85UtRgKSF/6lTY/Beaga6VOFTtahXVyGNV6l3N9Eao6dDgz+z7oPzhcTHQ0GSOPjr45iGyXUIwuc4xb3Pg4Ik+Y2xRI+cSvdMkXbKey1DRerO+c/BsRTmSkzuM4TPMibx66ASkqa8vWPe7jnEx+5N/c/T8e7mwDoBsdbJbbGw3Nh1oQoOXpKn591x8NknI6dTmqrrVKDgczmHohLHIfW2x2wDEt+nELN5U2WD8k9X3aVUjH9uyk3Pab25LRwPT5VAJY6DxZgDccrXOCVVc9XsOqhAkmDaxIsSTAUNZiNs/AWxw4JYX5Io9kPDJ7GkHSVAPsMTFZGA/PQbEJvN0pudFeuR5NqJNCn+T0z7WPLs5wFGnAC25/IiGvLFLb74Fz/AP/n3P4L6tx8Cv/+98f+hAArYJE+lMfpGDUc7nVeeCtskWoxCqRkbAATe/J3v4D/8rT/C371+wL/7i/8dv/fPfwz5zVeJZy/D0ook2V57zL2OITU+NBVrC+sNjduQ5PvPCBuS7tAffPwTfPEHt4AQhyq5ENYhyam2zPKua8RezkKy8sj3lNcxJEt+8jH+4T/4n8PriPCv/up/Bv7y9/rnFsZmEhUha12bBPQNb8GRn/D4JGIXI/h8eGz3e5/hn37wU4AILAgsCdwIfOeGcPeta3AjwI2AagRYECAz/9cTYz0X3B9ZDT7GC6fe2Ni5sbJhmf76r78rcS22YElobyTIFP+XP/5H+PT/fon2WoAYYAGQAqhjyAKStGI/aU6nZyoIGgl+Jq9LxwMfPmVAEPYfSDx+CGzeAtQB7766xcvtT6A+04qGBINbAWoJL34rgS46Zn82rEjSWIjHHl8S2c4NHR3eR3z4CCZAbQjYdlAg/Jsv/h5e/fARf/vjn+KGGETAV6rBn7z5HI93ZfpR60oSEcC27xM6BFNusx+GyBlNDdXb4bW3f3yFf/3J38cXf/4h1JXCyx9e4+X/eY3v7X+IjzYCD9zhz9oX+PHbT9HdbSD2qXudF+uQNMgqhfaWFEZCP2Nqa2psyXcUwj7T8NoP/+P/Bv+XBq9e/Qrff/Ul/nz3Eb51/RqfN2/wwISfty/x/958A3zfgFpAtKnnPS/KxO5Sow8D0sZszZikBeUPfAwauPVMDLrp8M3ma7z64A1++vgN/Mnud/D28QqPjw3QknMoSmFlkmhIRGhOouov19bYulOSxs7Vpg5G3eof3jX4H19/F4IY+06i20mIPUHYWwv9wzJx6zNjPZIIYKn/Q2LuG5N5IuJNh19jZYUhSfmq1cQFiV0Ql8C60ZWuSLQKN78A2ust9jdAdwWIvXa5maDJGQjo+9qZJQIkYf9Sors2HUN3Zy+IOte5Gw3r0eE5Rm8LJTSxMP2fPWtyTNoyS++68L4rYzVJYhfR1j17+yYTs/kMaJWEtFSNdY3YSgtpaRrc3PxS5rvqXwz7XKJlreIaOAFkE76DAFgw0L3PAVYiqEaAOkBJoNsKKEm9ihIYvv1TDlxQt4PjJhEn9CPvkZig2HPvwVltSdq5ANCTvDLWkSQhsH9JUI1WIywYckfYvgHEnrSdsOCIKDn1Rr1UEPqgrbvG2DqK1ONLoedBkoKWFGX51gU5fH25mLZbT5JYQP+jShOjNsD+BUFtBFgIrXZy7JIlR5igaDiqG3XhEQ/W+nYKxr/o+mcgtscIZFRkiRGL1aLgbFWaAsC6Y9gTReCGeqJS6sqc6rUig8DmOmtIOPDwRuDXZa6Tj1q6SPXPasmjDqeciZmNdaPgZLonpEljCbRbhmoIzT1BPuiZfBTai7Dvasmwr7UIzk+N3jqQ8TQJZO4r9gryQbt29jmdM5ND/BmwiiSR7W/IvkNo//ntzR5/5dt/io++/zUePiYoKeJP5aTEfun/UKcCjy7Um7GG1c4DKQapfr4tKYbcKYhHLe02xKhtKTBN/Omx3qCfZ9dBfRxsIzu8kjv8zevf4Aff/gXaWwKLA9Hw6jBiJbzOsEWy/UbcRWag87w9BkSnIB9Y/+yM6otFolbCSuqOhmoDxgnrgHdvbvDfuu/g+y9+AwDotoPL4o4AIz4NM6ryDk7E4auyjiDRQSnd8SbTAabB5On1sG5YSDDIdAhZalUiWgC/2OIn9E2wADYPMKorN2YHDEJAo2Uj4hDz+KA7rgIK3BFERzpQoSLlV8BKJNlOhn4rrVTZrgx1gHzU/73oTBTCXNYjDDeE3zmjTKqcX9aeYqAD5H0H8aCjJMQA1Po92vUkSRnt5UWSmbRkkTHY1GlDPu7n+g18SiORkDLWL43WAFPPdh6sQhKbTqwjyHplitDc6XAMKe5d78l2iBGUQ9jYNSM3dfbqPSYJXYft14xuSy66TAqQj4DYK0+CgGmGYqrLC7ZFEZIRk8YJe1cQq6k7+aAgHxDtmA4ImnxRKfI5jPeNNercBo8FcNfFajkO1AXOwMB2xxyFg0pwmsYvLxlzsWJYyCPCf/FzIzij6sg/HyMhpdYug6x1Ig4xhyD2fRFyHIgpMgrpsUysOKuCox9PUt/ia+omx6KiObNjYjUVfUhFF8auyfHsRi5fERWRdEqPLMc5WNDihQRv3Sh49smUZOS0UspxuFysLEmJcZ1oLC1Ezti6LRc7FlOhM8gr6AhWoO4Gw54R5DbkVLklYSQM341CUzJXJmnKwMdiabkNs0TFPfeThhhtj7GTS+3JkQSEEuSymdYndvVElPiBmL0I3eOUZJ07zENm7IsAIUDv9cTmA4QkTPV7ch0HYFz6MiTTv40AWOj8wMeXApDrN9mqw+cLTyI9vJC6di6ZXvnBpToXUG0F9jd2mOV9lqQs05IqFJJyjKTkenmkpagRaK91xu1B6vFKqMAFB6YH7cKyY5gTTB0pa+xQe03otig2gQwoTpJPzhxXe2rYe+zYSMeZvA8COvW5gUnl0pL0XueCx5EiZ47bnWuTMtQcex8YUJLcLD/RmjyNAhGmStRdiCX9phO0HplfZByGDXnpxae5xRJURlKOQ5CTbHICCI+gwq1UGUmnHK5Y/ggsCEoaj04ay/l0HYdTIUcFTugqp+qA7krg4ROCetmBGx7MQC/hONSxUO4B5oZ6clSg7V9Nu93dFeGvffvneCke8KN338K7uys9GbrQxOZKIg5HFR5BTnQiftmWWnxAEn/p5pf4Cf0FbEWLXbcB5PqL3l2wupvKiVjuiokOeKuuAQAvxCM+3tzh8+1rvNzsFtd5DCoJC00N+s21OQsl0STni5bxs7tPwGA0IPz68QX++Ktv4c9efwx068+qqGRDEdupnYrd+YSFamysA5sbldCHqWPs3l1hxx02RPj8+it8evsOty8ewE9L3S2JFIRkULro5EhtQtpYT8e8/jXjv/7yd/GWGd9t7vHXr3+Fv3H7RZGhigu2SR4Go6j2c6gmZ6hApScYXH9J+OGXv4sdd2AGvmw/BLXrLu0JVOGCT+VuT8D3rN0KKQgEJwzIRtxx91XH7fSiIIzmrcDPPvkEP//6Y4g3Ejf7N9n/2alQ2bbaYUQ8kyxX3JQfXZ4tNhIcuZ2xTc0O+NnrT7D9jUCzKxNhrWxb7dwBuYn6BBmCeL4n7kXCqdOT3Jo3miDRPkmScjEiUWHOSkwQF+f26xVStl9DEzQ5n/c8qJSkGZECzxYx6RW/GHblrxhDCZuUQscQyjgLJQaTUC1JC+J2CiCzaCr5Wy0ctOuITUqBg78ro0By5Kn/Ux7aH0axN/5cKNBPWpJsMhIaYvTn/NW9Zofv6iX2QjqzcxJVAo8uW6tNRSjKoYIAa+xEGHObGLzj4McvNxnYTaHQMGwElUrSWD5Djk+dKwX1EDGGCkhamH41u87LRQUkHYuxYYiERF0YhwWmYwYNN+ku56R5pUih4ceo/5GTrHLcSO+xWH9DkQH4MP3moMiY15VSiwkV6sxZqo6phJYnGXGgw4/+LprRIGksap5zG1NWYGLvpvpQV1hI6u0SVKO3zxGt0oupJ6PZC42L3UPJIUX2jHGtM6KOlC6zSr5qJNprcrtRshSQO9UvUDs7ghDcNLlnbY6aK0dW+c6sMeYsBdqrXtWxgFl5X4ybmuQNaHhNLPW0vJBkoby6M1v17G9Fv2eRJYqBbktmrwhgdoTADmMMDhipGIzmTj5kRpnzoXw/KTANbo8IY9xVA71VQW47hVJnJiYPjoXlJusu62GUJwmATqOC2+DQbXToVra3JM1ITvE2GSHmfj8LP1nFFc6psBwKqLt48oneTCp6yusqTbzRhgQ7pV/vQ9E7C2Q3ngjvkfWc5VCApMN/nMC99Ni2CfuPVgpSNsQ5HITuSmD3Owx6FNh+DZflwyRAUGDvGehgU+L0c5ZCeccB8EZTabiRs4nGDPZ5TXVCPXK7K93AxHbvCwH5oHO4u2vpsoAo260vK1XlSTJEiJa1y212LLPQwQJvaDyjvuae9c5hBL05FQNqK9A1QPsCepu6DmBFRpLGwg/l1V41joPd/SvcVIqBTBuiQYoh9x3kg86bs7aOCRAKaO60x9htxVCtJnnwHqYQ6iAJABS7LXAsCFoK3N59maPobp8/11HW5DPBrcnQXVHcNY8i88ZnQnl1BwDGlJPSe70Cw+A3y3n9JPbWX3Aeoiehuu8FyI3eUNEtLF9p0LXsenf2BbXrJkhtk/xp+SyBbtChTRA26EeZnTPtkWC4iSUgP37E7pVRexierw3l1rsLPqtGoL0FuluGfEd68ysL0as8GmtJ0qpusFe5FRKzNSkxQHdAp7YgswRArRJkUT4KbqSIJXRDiT62phr024fayEEG7AomLoJh1wai3i5t3zCgTI53jotfEGUkyQ98Cu0eq42WHvpKOC+PrFOltL0a1JWC9QW8LtAgzGSrEARptgUadJArIwgo5jiQU03qSi/45zcuALd/HrHeQq4fCxppRe9apn5onoV5R3wurFQF19aI9dUdwew5qzep37/Qe6L7DWzV26CLElNJB6opGIawXl0YcmIjmdZxGe3Mlse6kuR5ct2VQHcFtDcmQq20VSdFoL1ZusxsZS33HDgM5IkcDoY79G7QBGW9RGX7W7190lLmsVcxT+urO9bBVPnQgVqdz3D72R0EMR7aBruHDeROQDzqHTPFXg33+rO2zP5VGOgx4r5T7OecwBSzKm5Kc9aE1XdsBqDf7I4hWoXNW8b9foMfXP8KG9lBvhOgfW+LBvuge5FuJj8KQYP7UMduk3ptn8wpG4EgHAxj1IxCjgM7FSR3CvjTDX70+nuQO2Cz58Mts8P4mrUrdgKzPWgIFa0CC+leQepsea3ylDS2b07gtiAKqLvhF+oYzR1D3ntxNNMhtW6368QqE3mwoR7QUNLsDRQg9x0Ua3XqvDxzqVWjg83uow9ax5hS2didU3/GMXD2hvtwjh+DM9LDvnpTYWUGHSBYgZRAtzHxP3h2LnvT4fFDa6COAKtzsnwvq7fwzrMjaDVJfrngjfd7sFYiAVBrVKEjKCh/WEFwjIqpxQJDFRNGwJ32yigcXubaMvF6E6G9knj4RKA1neXBvurJUdnYsERZtVeHJE1h0IdJNG7sGAHdBwosFOjLRtshBtKZrHWi0MTmnJG7ieK+uoo1uGLInULztf4XXT7fBZFjUYEkjXhR7PU+YxGBiQanVuHqt0B33+jOszKMRu1QxAbNudkZUUHenX8cOHACXKKIOTCzrWiv0LR2rCJZKniu1KhiGaIqyLsbaxgsjN8Ecb7Ry2PeXKxMOeehnkQUh1O8rTFDlqo3x0aW9e4qJGlug4y5eqnx+stChSTNRcpWXKAbl0ChzmxtiPWSIygkjJVJ0liwM+easetz43QjTDydsNDY65gy9rnX+Krv/bBHQFWSFAvO5TZuihBOHJ/7XEdWcSQq2KDex1hjp8LWMVWW05ozAoD2+NNQd6nGs1KT05eZQ0BmZGPy+Z50PylssKlefy4s4SnJmFtfWdSzbM3ispTwN5ZGEeoZNreoyHFYgEFEx/tyVBvXRRBQNUlT4xDmFxlyLEd0CqLqQsUkTbSyWUmFG48gO1FsNPJ9ObbI4nLDQmbXsEGKqjUnmYO/J32eM2Jlx+HEDWIziWKRodEBPltgis3AiXgandlZr3hWdW6apm3PYImBcczpXM+p97SopJ+0/HI3uWywP3lOvZfjWVxQPymBzFGG+ffPCe6ug4q9uwyEe1PYD/5nxD7n4MSq+QhUTlJmpqv7G2YTvR/DFZWRtCCafZaM1Lrc8soch1O+7cc0dLkcuxgKk5QaSpga7g4NUSq1NWfMKGW36lGP65BE1M/emy6MaaMdvuljo7FT0loPGSmsJ0lzFnFyyEkeiZEQnptSXfW42zGsO7GZUkSNjciOYUziKKNM7n3KYtVVurgxau+gTc7VSLlD7fU4CTGsHrtjuxT0AHMa6Zjk/fgzjedClMdqJDGZ9VWjqzUeO4w+Jg1zchrqIcbHOrE7s4i63poaZ9AwOfkKOYmXdUYo1pEk1ksA+Otxz3MgZt8Q0wklVs3F3pi67NR6NsmuQAJguTd3Skzl3/lqsixhKy5KyOiXLFsj7BJTb/5953Suy2Ll/ZNyO5fZFSYQU2Nj9iaTiEJ8rSNJVs2t4ixMnT+ipd//4fOYFJ1C31+ua52LwtvFhR3JJY2ZIxnH6KnyjkNlg35zOp4WSxtwrPHrGrKoYB2HpWVyGtjW5feZcvLt6hrOqECSlnp8qYaOqdCQoMtCRWnGvtu8RIXNzQzyX466ow6F1F3qjU6Fjbws1UHKll8w1g8K7+Pfe05MrywKqbvcQKYef+LGbAosYuVzRl1z7VfqecpKVQVLqUVA5pdZhL1fHNds72ai6nYfwDhi52KSlXyAyPcyRNVHkqeF9OK25FbFHywxTdCr8ocN575OEXQ5qI8kry0PFhGMOWpMbn8lYga60GYd+RAVoD6SgrZxa3/3B4Z/Q6eQPBbZvyhlayYcmApQfpOrEF5WER8yFq+PMdxf6UALniHYuiIKx+4yILxdLG0lsfG4g0BDLCtpyUOV7ytVtAarX4TNIu2mtEvID67zZ/WF0nMyr7m8tFUau4NzsXt7ZFRgkK5sV99n654rYHx7g9xnqcd5qM9xSEHoHTS5ISdUomVA6VSx9kaguVeglt1Wc8NN081FfuMfkBkb2l9ruD+NCkgaCYB6ndpuK/u90Ul73iz1Rr7tLeH61T32P7tBo5RufF8C7R8CQKQ9RjDQeY0/UKfh8HtZu1SYpJEIwKBTK6C25LYmBbSQKAkQEbprgIjdTsx6JzKKjlq4LbpNUgxZ9TjpEZYjqsL5SQaeIKgN9Xks3gtud3dmwRDEaG8BtRH9DmWxW9j9/Qi955jalOTgYcqggvGkMZht4UySv9121G42b99+agl3+w1w3aG78pwLXzpsWbDeWYGh922KTuUs73b7qNMFBzwb4h0z5LhNggngRqu3/UOjpS78j8LxPwaE3RnLbTASczBi359MgHWGC27/so58K7NXeXOn/2qVZYjbm91dwj1qY/XZ3cuyXXW/gvVRgXeXAAFWXOwOl92t/sD3HtGs96S13Dc7IL1NtjVmS1xqK8Lro16SANiWZ9IS0rwRehc4s1cVhREHQG9deoBYf2j2Y6DffWZdVOI4JBrNeGB2dqDYA9SaTqx1INwadxiqtNG6ZzS26VvFZyiug0oSUdL/vfPkbEmPCDsY6MowelIPBv88T8RNZhuqzShsRN6tULk+U5WtC27gRRrY7HDp2ph1pEGPzHqkGSdCSaDb0NANd/c2P855mHgeGz2yXQBZRpRWtkmZrreJu7F5h4TdL9GqOKldbdcp9dpabQC11Yw1u87bh9ZD6NWluDJeoutLFVJ39TkOtjFs1CBQd5Yk4NCOO4mDJor3sR2dvfvkPk+HYgQBVTgOidbyQ0BWcx2Eg4bHnMlpjVseG1+aPc7kx6HmXHc6VEBS5BU1UQBivTe6cxA8L47MjyXKZRR1xgP0d2ZONm5Gq/vR8feepAMuRv7jgAx/Ehp1GJDGxlmwtkwYF73PeZjbsgndGA0frYMV58wiIGoiAm5skpKEbku68Y1UEQjdFZx6Y9OpJdX/5G38G3uGgsYngQocBz/QFm8gbgBYCWGAdgxA6FgeDYkhZcnkmbG5elFgXfBUhJmCQ7qs6BSaO2EIYk0EgOZeQbUEJXU/SiiAOoZoFahjLJ+nG3lG0yUohQokKQLbTkqP/8idcgkpTKSlRDGEomHgQGEoQacgyD8FFJHO+jqzFvbtVSYLiG0NtndKw4RId12iX3Sq5yNanahKJCnyBse0Yhg4PaaTmrpvhaiEpITDIEUfp2P0faaTvclzCSrjjFRCkhcltf1GKdBda5LI2BoWpDupnXeN32aDNr8MKclBBUMVLljnfTWz+wQ5ybFD5YiNH0WrDgk6UgLI/VodFeQ4HNoiFoTuSuj4HANk4kEMAEpAqk4nNtIcJ+FypaqC2F0EZEI+5rOSfVQBBLCnFtd6HqeKCwz61Tc/yRY3wdOByVHHuNcz4frYRooFAUKA3uuR2ZmNG/WuJemxpMmnXsAkBT/2IAHcCHQ3Eo8fCkCsr3wq8e6GIMUQLUOJPv/bZq8KqwfDcN+o05ABz8F0H0h7mftbge7aHn6fJWkO2A434FAoYpH0Y1VgTIJE78Do1OUj73EEKiFpJOcgGFtSEn0H1y8z5wX3yx9cR+48N4T2pi+vmiKCVEM/CRgNCUXG7ljSMg8vJHOg2sxJSxARuq0Y5ldsFbhZ30IUSOnKb1n2P5DHl4i2dPrQwXdLCOnpL5IGBNpdALot3KAiE0CPAtR12c9/KtQVBQ8FijHMCLKN6CWd6AOR61NRCTOVhliHmdRWgAVBPnR6HCp4HpsyRoYbjqYxnxf1eHeB0YYJKJDyjDYB6NBPxbQNNpjVd9jQ/V9PnUET1F6Rnj7TCgilQJ5+lY/QLn8YfV8Z9ZAE9FaZ0Q/eMfVbZ3Pf1jqz1cx9HWhR34j4lfPgNJvcie4KxpMzf62LrwCxZwgzT5dj9a+EukhK9XvEsMxol8j2n9i7jvuCbI2b3eDkZQspGOrtBqQESLGLbIiWIXdAd01Osp/wUAX6kVjboMbl9uFy64B+OB39yK0/V5Z8ybHE+bczDsGm6aCY0H4A4I4gd+jVqNIqjxSgGiuCT5kkH2yygloGSdfqPewIutCfHVEDyTn8zF4nx2bAdkrg9z/4ErvbDX78689wpQjEpO/N7IgSj+ZaFUsuPy8q6cwaWDVlPlPHOj3Lju+ZPHCWZpa5neaC3kaNwa2eYuyR2gDtY4Ovult8u/kan3/yGu21R6axTTApYtSpZ0lyYP2LOkA8KDDMSigSJq8OaK+BjSJQ+GYPdpfx69PQjgZB7hm4J7QgfPH6Y3whPoK4F9jembw9l9Bi35AVI/ABKiBprIOrF1MjZWJ5MEPpHaO9ob4PY0mx/Uzf+Yg0LCkFsRcAEdpbXUa+FZA7nUPurh3oyuD7iqhsRZT4KbUhiJa1VJHOc9i+EZ6rbq5xIR09pOucBx7WqRc6hJlfSxB7gnwAmgfV26JIOOqJSFJIykSfgwF0QHPX9f0h8yPvO3259cSYQFLvdsYEEMisLMAHDe3nT4i9/ml2dvEoxvLkyvOgrrBQDGb6S/8d8c9goNNE2WR9ClvZfBWtcs7B1WuT7KI8giohx6ICm5SBWKNZofTP2YxXwX2nNRbX8wikvSehQw+jGrIug6QUouQZiYqoORB06AcUsTsBQTbEUAFR9a4ttLRqIN24Nt53EMlmd354uA6iCnRmpwjKbJGxajwH4+AaHikzd4R3JVSg7mZ6fGNjRv73WDWxji65Xy7259z6SuxSBWGhGa9uqmhMAlL2yhchFzHnYR2pAcNCqECSMuAPP4TjOv7bTugbHGH5qRtgqApHiq2N+kkK327/i337rcdm4nID6QDgFu4Il6pxXh25P87rs+eeXsRhAVLSQ70NseuoMnvzam2Djo4seKLDFOQ42J4v9R3cpyVJS/9jHrrJJtdBNXroAUwQnR3iAKhTfTgpJkWUqJtN5c5OGZ36NCQp1v2fgLU5sUuIoDYC7Q3cukLKNDAxIB+knhTd8TAQe+CaG+9O+Mkt8x7znKhgftLyapQk7G9hVB/c2quDVY+FgNwx5L7Tm2L5tgro7RVwOGvDRsydFJVhbWUXfEmAdeQvwa3YRQnb0211IgkLMegTOVGxts2v23xg9CO/QYFVUXBtoQXXBx6XHgDszx8srSYBboDuyiSSkLk+9A4P7tVLFyYXkTo/Cs5Pmvlfc/CFtWMgH8arY2jyVGPyxwedLk9aQoFh7YBQpxKL766Hwgn7qX9+pFGC2JvYM6iFW1ptUJT644MsWFfAJJgodRjDe+4nAeP6b0I3MgDSWUSi0+prkGVqnAa3En+qoS0RYQ6+TZ54umGh2TGbNBhuv6TBlrMMNwHNrbafsv9RIiphx6BggPUE7qxRV82DWQcvGlTtHQwq7QEsRP1hoRQ8d1k8Kkgp0d7oJdXCMqIF5KOaCBHViwsjKa4iqWO9vDTJfqlPaNMiOr02ntirSxQiABdHUkRFmog37RkbxVBS9Ls3Wze6wjStObgwkkbAADqGiE2XzCZmzJkpx+6FkxQ0KieOj14Pr+xUt+B9DwudBWPj6SmEvdb6UZikmEt8Kjc5CE0kMasDVQSF1V00urnSfc5xzXlQibo79Vub6NUCGEY8Dkb/Tvwcp0ElJA0j04eYS2JOftdU3lY96q4QSalGW+IIjNWZchJ8qUp5bfVIVUFJSiUcTJXPRYx0K62hyquHkBgqSUTJaai552Ph77BM3eRYFMhxCMe4c6891kbUY2PmovxSaoPkkDHMfetTUjOHrDqIraAzG/t8ynpDzCG7DnVYeL27MXvhX/O0UX/e3VHXvB8EV9CZPadKWdq/Gju+PsqQlM3LqRpqiY2qwx4Bq2awBrMU/CzR9EWZlU85IJet/srYJEK/SXyYPXpMvYPPdQ47LME6JPlS48+6O8n4W4qAKc/xcohbh6RwWTLAe+Ejx/Irnlk+x+WvD+uvLeQI86PPS/MHyuUdrIl11Z0LAdnvfizPO36AHO/sFNH0OglfR5JCdWcnbaXG5g4E5JSxvTkTBeoYxii7lBpBb0FgVylm1lMmDzyzYxrqmOvLEwSU6Mz6I+XGNpGZx6oXvvXKDS6IIUc95aZ31Yv1A6xu6RiYNGAtRjSY9kiZ6u7YN70OSZnCitMxfRIQtff94kx8gvaL5fOdop71USbvLuwzHaQKGxV3lIc9NVSea6vKS1t9ueB+ZMIn07bpyV7sOXHBskSV2cLU9pcE+v0lIk4dEetNfwG4aXyxzKyz4slKEgES6LYSrd1RxW4iJQFq9Rrd6OCtTkyDy3X8z5OyRSgvJTlYkSQvmiAA1Uh0W7O1AcNN4VcNwFuApYB80FuZ2kVv3TJnbvdmE2bKUoO+voyJY50dWaCEJBGBpUB35UmQFx2yy8+w1MvNqE6vvCX2qo+cM3Cw5ncUsYY+RWRiXawfcRDQO65427C5PfqAwVoMIEBt9A9tBURrdgdrGezWUx0To7Go95Sk1CNJ6wVYDdiOypq7s5mIbFfVSrULC71G0P6WoPzdLBe349SFdRAErDmeFMBfc0FvpGhIYvQrmcD7bmEkkYW/X9JUg57CDSzXqV09dkdgt/IVqf4H6P+G/dxw2r/aAuxW3cq76ymevBTWsUlBX0h0veTY5WVkh95r80my3h+Zv1LbKLEnUEtuzVWH8lGck2Ndx4EA1Wgm5APr7bElQVl57tCvtqX31dFCZ7cXNcTyhqG2BN4TWEX2pXjPsG4/CXCb+IpWAXs4CfNXb3Q7XxJBNAJqo7e4Vg3AkiE2HboPCdRJbNrY3hMWqT4RUJNjMIVVw0J2Mw/X5wG7jX5j/R6C3fCQoKSE2gIffXiHm2aPh67B690HaO7mjLReDjE+1l05kowNUsBgMyke+VEMahU2dx2ae0AKhVfNV2iEMnvA8qEdO/mDl8W6AVaG2c1y5j/OAO0Vrn4DvNu9xP+SLyEeGdtOQfjbinJwUZZrXn+HdjWSWPQ2JziDrIYwo7ibN36sbizAGovT5d63DnIsViOp3wOCvQaONcRIA9nrRgUx5izEvk/ZsnqIWi/i0PHQDo3mLRxjB/xMlxgZqRfj1M9xOqweu8u8YMFNQvd6Th3nSnQ5DYrF7iKFvJ/Y8SmMSchYP6p+rBi7S9mSYGwiej5XRY3VPXY+p+4nFGCNI1RVOdIz5Tofg9TLUgYFt0HwT8SM+9JGOeUbX4c6rESSxjA3nBBLPQrrm7qfX1d5FFjHIUSsQZd4amEdlDhuj3HwPbyuHhSYM5siauz7XPgkhGTl9p3qwQWou1yESSenIOLJ2qRTvLVzGi9VNuc56pCwC5WkKXsTlk3Zn8vAhZIEpAOgY8fGHJTUPcqjAu9uSRlgXJrs8dCLO1VMb11UuEpXLNN0TK2lXPic7MnYvca+l0EF6m5J+MeSELrZ/jVTwdWce01J6zqoYAvTJdIVC5zmBkXnRORT918XK0rSuf7RMWnyy/gDgccEb9dHmZl+Pnwn7aRaJUXe2MPUifXSjEFx7UTe2537knN4IMQYQbll6yFyvWwhOfyn3XIAdkISe0QNLrQXYIak5WYBzSGzHFaTJG76lC5uqN9rz86oAGuiogED7j/7f2NtPErkkdJSiMvVSFIbobNRTSMqSYCkvt3dBokw6lETSP4uv9EgA0c/niUlq5Anvg5JQifcU0vBPrDcp+B5k8L0VBcCCQYzOfKI2Zs4ZqRP0aGksf/l8rEKSUSk5xQBwCMOsocIxiQFassSwoIGqtEKCTNposKFOU6eMncGqZyBVUhiY25Uo3dPpg5GMowZCv5/177muJUs5wT6U10ovOBYdlI5F+WwkiQB3ACq0Q3Q3GvJcFrJSgyhnx9L/Xe2DS9Iz8ogwJLBsNJkrrPOh60oytmYZNSnJleJODDDzENiPZ1yq1UYSLvm7EmMD19iyPxys9TRe4JMZqKz+YEAhkuHhqiPiDGs1E9iyD3ArX4nlAS6DwDREqgDqEV6tp5/3DkdnloT6MmBqcep08COXSgKrIjSf1QbgLfaTuGB3PpCgC9V1meHG3lg+1kS1Mb8NFrCiAnNO4bcmwU5/H7WAGWdgTlYaaFc6EYO76b6Zuqu0C8XYJcOYABMxnHg3guU0H2vRnuNdpEOvS4R61npChBu3aGYQ3EZBAEFZvo5j031362DoCTckgCOMPNZtAR2nV1ANYTuytRlDjcPAD/qG6gtgXhs0vPC/6EA1ptEZuwEnOFHv7iGWWfItYFxzSGgJdCWN1Ww0GsTEaNXkZZ887fbAqQEqGWQFdlTeOcFsM54klK6f2T7mlaVWQeMrWrrL3EetF27gdA7AZ7jZr29wbpEZKXxgr0FD6vNT5IPSntyiXYbdGj98A55BISkqr6s13XS51toKYpOer4srDYyS51eAm2wZp21OQf9Iwwb3JRl26+SXmErgR5htg4aTP9cgjqYLbBEAHTfxh7mXorcQlC9f9DbJ2iClIS3cqSpxH42atQuzzZYc+gAOS54HR7gqksEsCSzoCB5wxLeeeMsMAHCRRN0SMnZJec9GK8Q3jHov+IRkI/KSFJKmgJ30148OmBYBquu0tXslB5TAg8aVZfpIwfckCNCCOjOqlkEKuZcuO9Krywp9wrUjhHkey2DGsb+CZQiarVdX8Sui7z2fhntjRERuCPXhsqYTW78ct5nzwsUHfTCunY5giRCMuqOPqy4NY9piFh0moZltU0i6EV10YeDSBNhr3cKi4HmniEelRl3ynEYcoipg7z1Y3djYTQG/AUMXW5KZw770XLb5yJAPjDkY2dUZK5Kivn8Y2XKoZ5tELyAKkO49hEtG2nxxpwUm7CRVm0D9TZqgy4T9ZDkgZj7FSEB0ONQffXrFAHuxKgAxTy5y0FhkiINx+g9wAECV3mWozXH1R7B+x5gjSPxX6dUFo2dj1XiBfOi951J1nsdYF0MPvw62lAxlzG8IOVWZty/kCRVRlLIQqoDGfaEp8qHZcJ66kYhkjj47IUdBudjZIydi9U/FuaZ0p/BtX4/YEUUnDMb010xMqYQszdzJSqz4Z+GTfJd4VjsbAlSUnZM3amXZSrcdB5UttjG0oYN1eWxdichZU9DkoC4sQ9tQ6qxQ1sTSmTMTi0deqjHqShgk3IMuX/MIlSPMZs2dn6sbAz1RCcqCguF0jMV9BwjPBYGOkHEoRAqWGxjzOMbc7Njdmes/NRz1IsC6m5qMC63AaeIW3J9nahAkkLEIg5TI6mxek9hc+ogsgIXPOd7KaNfh1osFHGYCuWE38/dWJkS8zQCrGOe25zMnbmYCjc9h4UmEJOgyTGJmfBVpu/C12FzplBBPykVbTgnltyrHKEVSBIwDLouuTbneChNY2NVMeku50SUX6Vr+uTCipfavSXu/HlRwV4VsZOpt3np+NPI0MPks5RHJerOx1REwi+XO3A3Z4Cvjr6Rj4Ikjb3FMfs0x0VfOqo7UcfT6CdZTI2mcuRnqq6pzu9cNRap4+n0k2IDeykpiZ1LhYjmqrH6bE8KBfpJcxprrD8zJ54Xq6c+25NCBZ1Zi1ReQqw/M7czmiL5MoiqhKSx/LdzBVovh7hKSPIxNXaU25BT+RRj96wLlW0oEqq2JW92jiqMZRpNXVMOFYzMjvV/csrnSMXleHIxVBhxmIuct3+phNRB7so2KaK+luYunhXHROVPj3JRcAIGMxTCYMPoGqpLELNVlow5ccD1sR5JjJ4UQ5Bdh7VvE+qnYtr1vv1zriIsIG8soWVMnCMv0sog5gLTBJ4xC++B4/D+45mkC8AzSReAZ5IuAM8kXQCeSboAPJN0AXgm6QLwTNIF4P8D5U+STuu1fIoAAAAASUVORK5CYII=",
      "text/plain": [
       "<Figure size 640x480 with 1 Axes>"
      ]
     },
     "metadata": {},
     "output_type": "display_data"
    }
   ],
   "source": [
    "img = ds.get_image(50, 20)\n",
    "plt.figure()\n",
    "plt.imshow(img)\n",
    "plt.imshow(ds.get_cell_mask(50, 30, 2), alpha=0.7)\n",
    "plt.axis('off')\n",
    "\n",
    "plt.show()"
   ]
  },
  {
   "cell_type": "code",
   "execution_count": null,
   "id": "391d3b96-0fd5-467b-8d2d-a07baaa6f577",
   "metadata": {},
   "outputs": [
    {
     "data": {
      "text/plain": [
       "<matplotlib.image.AxesImage at 0x7f0b599d3790>"
      ]
     },
     "execution_count": 193,
     "metadata": {},
     "output_type": "execute_result"
    },
    {
     "data": {
      "image/png": "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",
      "text/plain": [
       "<Figure size 640x480 with 1 Axes>"
      ]
     },
     "metadata": {},
     "output_type": "display_data"
    }
   ],
   "source": [
    "plt.imshow(img)"
   ]
  },
  {
   "cell_type": "code",
   "execution_count": null,
   "id": "84cee86d-40e7-4c61-bcb2-2e897e5f662a",
   "metadata": {},
   "outputs": [
    {
     "name": "stdout",
     "output_type": "stream",
     "text": [
      "Fetching mask for cell 2 out of 19 cells in frame\n"
     ]
    },
    {
     "data": {
      "image/png": "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",
      "text/plain": [
       "<Figure size 640x480 with 1 Axes>"
      ]
     },
     "metadata": {},
     "output_type": "display_data"
    }
   ],
   "source": [
    "img = ds.get_image(50, 20)\n",
    "plt.figure()\n",
    "plt.imshow(img)\n",
    "plt.imshow(ds.get_cell_mask(50, 20, 2), alpha=0.7)\n",
    "plt.axis('off')\n",
    "\n",
    "plt.show()"
   ]
  },
  {
   "cell_type": "code",
   "execution_count": null,
   "id": "a03d46b8-3a82-4d77-b20a-65ce7f7fb9b7",
   "metadata": {},
   "outputs": [
    {
     "data": {
      "text/plain": [
       "29"
      ]
     },
     "execution_count": 178,
     "metadata": {},
     "output_type": "execute_result"
    }
   ],
   "source": [
    "num_cells_per_frame[30]"
   ]
  },
  {
   "cell_type": "code",
   "execution_count": null,
   "id": "09d59e2e-ee13-47fe-88d0-6f00fb3635ba",
   "metadata": {
    "id": "09d59e2e-ee13-47fe-88d0-6f00fb3635ba",
    "outputId": "a55a567a-a6f5-4a2b-f22b-21c18e7fb870"
   },
   "outputs": [
    {
     "name": "stdout",
     "output_type": "stream",
     "text": [
      "first frame at 0, patch 4\n",
      "torch.Size([128, 281])\n",
      "torch.Size([128, 281])\n",
      "torch.Size([256, 281])\n"
     ]
    }
   ],
   "source": [
    "X, y = getitem(ds, 4)"
   ]
  },
  {
   "cell_type": "code",
   "execution_count": null,
   "id": "7f6d7f25-43ff-47a4-acb8-962d2de543ad",
   "metadata": {
    "id": "7f6d7f25-43ff-47a4-acb8-962d2de543ad",
    "outputId": "22d9234b-b704-4934-d8d4-c9d9df9520ef"
   },
   "outputs": [
    {
     "data": {
      "text/plain": [
       "14144"
      ]
     },
     "execution_count": 76,
     "metadata": {},
     "output_type": "execute_result"
    }
   ],
   "source": [
    "len(ds)"
   ]
  },
  {
   "cell_type": "code",
   "execution_count": null,
   "id": "a4d7576d-89e5-461e-9468-edc227caf8d8",
   "metadata": {
    "id": "a4d7576d-89e5-461e-9468-edc227caf8d8",
    "outputId": "622feaf6-8400-45a3-8ab4-671bb5cc181e"
   },
   "outputs": [
    {
     "data": {
      "text/plain": [
       "torch.Size([128, 281, 2])"
      ]
     },
     "execution_count": 59,
     "metadata": {},
     "output_type": "execute_result"
    }
   ],
   "source": [
    "X.reshape([128, 281, -1]).shape"
   ]
  },
  {
   "cell_type": "code",
   "execution_count": null,
   "id": "263c9ac1-7dac-4f4c-9978-5546cefdfc26",
   "metadata": {
    "id": "263c9ac1-7dac-4f4c-9978-5546cefdfc26"
   },
   "outputs": [],
   "source": [
    "dataloader = DataLoader(ds, batch_size=16, shuffle=True)"
   ]
  },
  {
   "cell_type": "code",
   "execution_count": null,
   "id": "240f3443-c26e-4856-ac54-804e8985708f",
   "metadata": {
    "id": "240f3443-c26e-4856-ac54-804e8985708f",
    "outputId": "7d6efab8-e94a-41f9-cad2-7b86bc150920"
   },
   "outputs": [
    {
     "name": "stdout",
     "output_type": "stream",
     "text": [
      "frame 0, patch 10\n"
     ]
    },
    {
     "data": {
      "text/plain": [
       "torch.Size([35968])"
      ]
     },
     "execution_count": 56,
     "metadata": {},
     "output_type": "execute_result"
    }
   ],
   "source": [
    "ds[10].shape"
   ]
  },
  {
   "cell_type": "markdown",
   "id": "55a4ca9f-fdb0-426e-9a28-ed067c7aaacd",
   "metadata": {
    "id": "55a4ca9f-fdb0-426e-9a28-ed067c7aaacd"
   },
   "source": [
    "### Saving Videos"
   ]
  },
  {
   "cell_type": "code",
   "execution_count": null,
   "id": "ca6fbbc4-b032-4786-9c54-5d7be9d2cde0",
   "metadata": {
    "id": "ca6fbbc4-b032-4786-9c54-5d7be9d2cde0"
   },
   "outputs": [],
   "source": [
    "def save_as_video(self, output_path):\n",
    "    s = time.time()\n",
    "    # Define the video codec and frames per second (fps)\n",
    "    height, width = self.frames[0].shape\n",
    "    fourcc = cv2.VideoWriter_fourcc(*'MP4V')\n",
    "    fps = 30\n",
    "    # Create a VideoWriter object\n",
    "    video_writer = cv2.VideoWriter(output_path, fourcc, fps, (width, height), isColor=False)\n",
    "    for frame in self.frames:\n",
    "        video_writer.write(frame)\n",
    "    video_writer.release()\n",
    "\n",
    "    print(f\"Video saved to: {output_path} in {time.time() - s} seconds\")\n",
    "\n",
    "def save2(self, fname):\n",
    "    fps = 30\n",
    "    # Write frames to the video file\n",
    "    with imageio.get_writer(fname, fps=fps) as writer:\n",
    "        for frame in self.frames:\n",
    "            writer.append_data(frame)\n",
    "    print(f\"Video saved to: {fname} in {time.time() - s} seconds\")"
   ]
  },
  {
   "cell_type": "code",
   "execution_count": null,
   "id": "5a710396-5302-436a-85e6-e549ca24ac62",
   "metadata": {
    "id": "5a710396-5302-436a-85e6-e549ca24ac62"
   },
   "outputs": [],
   "source": [
    "fpath = \"test.mp4\"\n",
    "fps = 30\n",
    "with imageio.get_writer(fpath) as writer:\n",
    "    writer.fps = fps  # Set the frame rate\n",
    "    for frame in ds.frames[:10]:\n",
    "        writer.append_data(frame)\n"
   ]
  },
  {
   "cell_type": "code",
   "execution_count": null,
   "id": "2bcdcd9a-06d1-4695-828f-3ff3c2b5570b",
   "metadata": {
    "id": "2bcdcd9a-06d1-4695-828f-3ff3c2b5570b"
   },
   "outputs": [],
   "source": []
<<<<<<< HEAD
  },
  {
   "cell_type": "markdown",
   "id": "wY3_EF7wzeEa",
   "metadata": {
    "id": "wY3_EF7wzeEa"
   },
   "source": [
    "## Computing Optical Flow"
   ]
  },
  {
   "cell_type": "code",
   "execution_count": null,
   "id": "sZ_wffDXzjBG",
   "metadata": {
    "executionInfo": {
     "elapsed": 245,
     "status": "ok",
     "timestamp": 1712699250760,
     "user": {
      "displayName": "",
      "userId": ""
     },
     "user_tz": 240
    },
    "id": "sZ_wffDXzjBG"
   },
   "outputs": [],
   "source": [
    "## Importing the necessary modules\n",
    "import numpy as np\n",
    "import os\n",
    "import skimage.io as io\n",
    "from natsort import natsorted\n",
    "from tqdm import tqdm\n",
    "import scipy as sp\n",
    "import time\n",
    "import scipy.io as sio\n",
    "#import hdf5storage\n",
    "from multiprocessing import TimeoutError\n",
    "from multiprocessing.pool import ThreadPool as Pool\n",
    "from functools import partial\n",
    "import matplotlib.pyplot as plt\n",
    "from aicspylibczi import CziFile\n",
    "import warnings\n",
    "warnings.filterwarnings(\"ignore\")"
   ]
  },
  {
   "cell_type": "code",
   "execution_count": null,
   "id": "bCqtj5sIzgJ5",
   "metadata": {
    "id": "bCqtj5sIzgJ5"
   },
   "outputs": [],
   "source": [
    "## Load Data\n",
    "\n",
    "# Folder address where the raw 3D movie is\n",
    "data_folder = 'E:\\\\Spandan\\\\3D_Lattice_Lightsheet\\\\Shen 1-30-23\\\\dicty_factin_pip3-06_processed'\n",
    "czi_path = data_folder +'\\\\dicty_factin_pip3-06_processed.czi'\n",
    "\n",
    "input_img = CziFile(czi_path)\n",
    "shape = input_img.size; dims = input_img.dims;  # Check shape of the data\n",
    "print(shape), print(dims)\n",
    "\n",
    "num_timepoints, num_stacks, height, width = shape[1], shape[3], shape[4], shape[5]"
   ]
  },
  {
   "cell_type": "code",
   "execution_count": null,
   "id": "0lTzVRZazlQn",
   "metadata": {
    "id": "0lTzVRZazlQn"
   },
   "outputs": [],
   "source": [
    "def smoothing(k, img):\n",
    "\n",
    "    def pre_processing(frm_id, image, ch_id):\n",
    "        img_temp = image.read_image(T=frm_id, C=ch_id)\n",
    "        imge = np.squeeze(img_temp[0])\n",
    "        return imge\n",
    "\n",
    "    current_frame = pre_processing(k, img, channel)\n",
    "\n",
    "    if k == start_frame or k == end_frame - jump:\n",
    "        result = current_frame\n",
    "    else:\n",
    "        previous_frame = pre_processing(k - jump, img, channel)\n",
    "        next_frame = pre_processing(k + jump, img, channel)\n",
    "\n",
    "        if k == start_frame + jump or k == end_frame - 2*jump:\n",
    "            result = np.average([previous_frame, current_frame, next_frame], weights=kernel1, axis=0)\n",
    "\n",
    "        else:\n",
    "            frame_minus_2_jump = pre_processing(k - 2 * jump, img, channel)\n",
    "            frame_plus_2_jump = pre_processing(k + 2 * jump, img, channel)\n",
    "            result = np.average([frame_minus_2_jump, previous_frame, current_frame, next_frame, frame_plus_2_jump], weights=kernel2, axis=0)\n",
    "\n",
    "    result = result.astype(np.float32)\n",
    "    np.save(os.path.join(data_folder, 'smoothed_frames', f'{k}'), result)\n",
    "\n",
    "# Example usage:\n",
    "jump = 1\n",
    "start_frame = 0\n",
    "end_frame = num_timepoints\n",
    "channel = 0\n",
    "# Create a local folder for storing smoothed frames\n",
    "os.makedirs(os.path.join(data_folder, 'smoothed_frames'), exist_ok=True)"
   ]
  },
  {
   "cell_type": "code",
   "execution_count": null,
   "id": "Tm9hP8ISzp1y",
   "metadata": {
    "id": "Tm9hP8ISzp1y"
   },
   "outputs": [],
   "source": [
    "kernel1 = np.array([0.225,0.55,0.225]);\n",
    "kernel2 = np.array([0.036,0.249,0.431,0.249,0.036])\n",
    "\n",
    "numProcessors = 16   # maybe change it to 8 (but that's it!)\n",
    "pool = Pool(processes=numProcessors)\n",
    "\n",
    "print('Post-processing in parallel with '+str(numProcessors)+' processors')\n",
    "\n",
    "#store start time\n",
    "stopwatchStart = time.time()\n",
    "[temp] =zip(*pool.map(partial(smoothing, img = input_img), range(num_timepoints-1)))\n",
    "\n",
    "print('Wall time = '+str(np.round(time.time() - stopwatchStart,2))+' s')\n",
    "\n",
    "print('Parallel post processing complete, switching to serial')\n",
    "pool.close()"
   ]
  },
  {
   "cell_type": "code",
   "execution_count": null,
   "id": "MA9RLg78zp4D",
   "metadata": {
    "id": "MA9RLg78zp4D"
   },
   "outputs": [],
   "source": [
    "# Lucas-Kanade method for Optical Flow\n",
    "# INPUTS:\n",
    "\n",
    "#k: Timeframe index, input_image: temporally smoothed movie\n",
    "#sig: Spread of the Gaussian weights around a pixel, #thresh: Threshold for reliability score\n",
    "\n",
    "# OUTPUTS (stored in a data file):\n",
    "#vx: x-velocity, vy: y-velocity, vz: z-velocity\n",
    "#reliabMat: reliability score for velocities calculated at a pixel (higher the better)\n",
    "\n",
    "def LKxOptFlow(k,sig,thresh):\n",
    "\n",
    "    def reliability_from_cubic_roots(a,b,c,d,e,f):\n",
    "        trA = a + b + c;\n",
    "        q = trA/3;\n",
    "        x = (a + b - 2*c)**2/9 + (a -2*b + c)**2/9 + (b - 2*a + c)**2/9 + 2*(d**2 + e**2 + f**2);\n",
    "        p = np.sqrt(x/6)\n",
    "        detB = ((a-q)*(b-q)*(c-q) + 2*d*e*f - (a-q)*f**2 - (b-q)*e**2 - (c-q)*d**2)/(p**3)\n",
    "        detB[detB > 2] = 2;\n",
    "        detB[detB < -2] = -2;\n",
    "\n",
    "        theta = np.arccos(detB/2)/3\n",
    "\n",
    "        # define roots\n",
    "        r1 = 2*np.cos(theta);\n",
    "        r2 = 2*np.cos(theta + 2*np.pi/3);\n",
    "        r3 = 2*np.cos(theta + 4*np.pi/3);\n",
    "\n",
    "        # define eigs\n",
    "        b1 = r1*p + q;\n",
    "        b2 = r2*p + q;\n",
    "        b3 = r3*p + q;\n",
    "\n",
    "        # define reliability\n",
    "        rel = np.stack((b1,b2,b3), axis=3)\n",
    "        rel = np.min(rel, axis=3)\n",
    "        return rel\n",
    "\n",
    "\n",
    "    current_frame = np.load(smooth_address+'\\\\{}.npy'.format(k))             # Load temporally smoothed frame-1\n",
    "    next_frame = np.load(smooth_address+'\\\\{}.npy'.format(k+1))         # Load temporally smoothed frame-2\n",
    "\n",
    "    # Calculating the spatial and temporal gradients assuming the input frame is of the shape (ZYX)\n",
    "\n",
    "    dy = np.gradient(current_frame,axis=1,edge_order=1)\n",
    "    dx = np.gradient(current_frame,axis=2,edge_order=1)\n",
    "    dz = np.gradient(current_frame,axis=0,edge_order=1)\n",
    "    dt = next_frame - current_frame\n",
    "\n",
    "    dz = dz.astype(np.float32); dy = dy.astype(np.float32); dx = dx.astype(np.float32); dt = dt.astype(np.float32);\n",
    "\n",
    "    wdx2 = sp.ndimage.gaussian_filter(dx**2, sig, mode='nearest')\n",
    "    wdy2 = sp.ndimage.gaussian_filter(dy**2, sig, mode='nearest')\n",
    "    wdz2 = sp.ndimage.gaussian_filter(dz**2, sig, mode='nearest')\n",
    "\n",
    "    wdxy = sp.ndimage.gaussian_filter(dx*dy, sig, mode='nearest')\n",
    "    wdxz = sp.ndimage.gaussian_filter(dx*dz, sig, mode='nearest')\n",
    "    wdyz = sp.ndimage.gaussian_filter(dy*dz, sig, mode='nearest')\n",
    "\n",
    "    wdtx = sp.ndimage.gaussian_filter(dx*dt, sig, mode='nearest')\n",
    "    wdty = sp.ndimage.gaussian_filter(dy*dt, sig, mode='nearest')\n",
    "    wdtz = sp.ndimage.gaussian_filter(dz*dt, sig, mode='nearest')\n",
    "\n",
    "    # Calculate Flow\n",
    "    eps = 1e-6\n",
    "    determinant = wdx2*wdy2*wdz2 + 2*wdxy*wdyz*wdxz - wdx2*(wdyz**2) - wdy2*(wdxz**2) - wdz2*(wdxy**2)\n",
    "\n",
    "    vx = -((determinant + eps)**(-1))* ( \\\n",
    "              wdtx*(wdy2*wdz2 - wdyz**2) \\\n",
    "            + wdty*(wdxz*wdyz - wdxy*wdz2) \\\n",
    "            + wdtz*(wdxy*wdyz - wdxz*wdy2) );\n",
    "    vy = -((determinant + eps)**(-1))* ( \\\n",
    "              wdtx*(wdxz*wdyz - wdxy*wdz2) \\\n",
    "            + wdty*(wdx2*wdz2 - wdxz**2) \\\n",
    "            + wdtz*(wdxy*wdxz - wdx2*wdyz) );\n",
    "    vz = -((determinant + eps)**(-1))* ( \\\n",
    "              wdtx*(wdxy*wdyz - wdxz*wdy2) \\\n",
    "            + wdty*(wdxy*wdxz - wdx2*wdyz) \\\n",
    "            + wdtz*(wdx2*wdy2 - wdxy**2) );\n",
    "    reliabMat = reliability_from_cubic_roots(wdx2,wdy2,wdz2,wdxy,wdxz,wdyz)\n",
    "\n",
    "    vx = vx*(reliabMat > thresh);\n",
    "    vy = vy*(reliabMat > thresh);\n",
    "    vz = vz*(reliabMat > thresh);\n",
    "\n",
    "#     np.savez(save_path+'/{}.npz'.format(k),vx = vx,vy = vy,rel=reliabMat)   # to save as numpy data files\n",
    "    sio.savemat(save_path+'\\\\{}.mat'.format(k),{'vx':vx,'vy':vy,'vz':vz,'rel':reliabMat},do_compression=False) # to save as .MAT files\n",
    "    return [0]"
   ]
  },
  {
   "cell_type": "code",
   "execution_count": null,
   "id": "sUpixRYa0C9r",
   "metadata": {
    "id": "sUpixRYa0C9r"
   },
   "outputs": [],
   "source": [
    "# Example usage:\n",
    "\n",
    "data_folder = 'E:\\\\Spandan\\\\3D_Lattice_Lightsheet\\\\Shen 1-30-23\\\\dicty_factin_pip3-06_processed'   # Root address where all the images are stored\n",
    "smooth_address = data_folder+'\\\\smoothed_frames'\n",
    "save_path = data_folder+'\\\\Op_flow_threaded'                 # Create a local folder for storing OF results\n",
    "os.makedirs(save_path,exist_ok=True)\n",
    "\n",
    "file_list = natsorted(os.listdir(smooth_address))    # sort the image files numerically by frame-index\n",
    "n_frames = len(file_list);"
   ]
  },
  {
   "cell_type": "code",
   "execution_count": null,
   "id": "njENyrDb0DAU",
   "metadata": {
    "id": "njENyrDb0DAU"
   },
   "outputs": [],
   "source": [
    "numProcessors = 16   # maybe change it to 8 (but that's it)\n",
    "pool = Pool(processes=numProcessors)\n",
    "\n",
    "print('Post-processing in parallel with '+str(numProcessors)+' processors')\n",
    "\n",
    "#store start time\n",
    "stopwatchStart = time.time()\n",
    "[temp] =zip(*pool.map(partial(LKxOptFlow, sig = 2, thresh = 0.1), range(n_frames-1)))\n",
    "\n",
    "print('Wall time = '+str(np.round(time.time() - stopwatchStart,2))+' s')\n",
    "\n",
    "print('Parallel post processing complete, switching to serial')\n",
    "pool.close()"
   ]
  },
  {
   "cell_type": "code",
   "execution_count": null,
   "id": "YRjLRqHd0DCv",
   "metadata": {
    "id": "YRjLRqHd0DCv"
   },
   "outputs": [],
   "source": []
  },
  {
   "cell_type": "code",
   "execution_count": null,
   "id": "yaate398zlWC",
   "metadata": {
    "id": "yaate398zlWC"
   },
   "outputs": [],
   "source": []
  },
  {
   "cell_type": "code",
   "execution_count": null,
   "id": "XVIWwyO8zlY4",
   "metadata": {
    "id": "XVIWwyO8zlY4"
   },
   "outputs": [],
   "source": []
=======
>>>>>>> 1501affbfded41625c4ff7aa8400c01ec380af86
  }
 ],
 "metadata": {
  "colab": {
   "name": "VideoProcessing.ipynb",
   "provenance": []
  },
  "kernelspec": {
   "display_name": "cvenv",
   "language": "python",
   "name": "python3"
  },
  "language_info": {
   "codemirror_mode": {
    "name": "ipython",
    "version": 3
   },
   "file_extension": ".py",
   "mimetype": "text/x-python",
   "name": "python",
   "nbconvert_exporter": "python",
   "pygments_lexer": "ipython3",
   "version": "3.9.19"
  }
 },
 "nbformat": 4,
 "nbformat_minor": 5
}
